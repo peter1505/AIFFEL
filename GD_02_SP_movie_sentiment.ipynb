{
 "cells": [
  {
   "cell_type": "markdown",
   "id": "contrary-beauty",
   "metadata": {},
   "source": [
    "#  네이버 영화리뷰 감정 분석 문제에 SentencePiece 적용해 보기\n",
    "\n",
    "## Step 1. SentencePiece 설치하기\n",
    "SentencePiece는 SentencePiece는 Google에서 제공하는 오픈소스 기반 Sentence Tokenizer/Detokenizer 로서, BPE와 unigram 2가지 subword 토크나이징 모델 중 하나를 선택해서 사용할 수 있도록 패키징한 것입니다. 아래 링크의 페이지에서 상세한 내용을 파악할 수 있습니다.\n",
    "\n",
    "google/sentencepiece (https://github.com/google/sentencepiece)\n",
    "위 페이지의 서두에서도 언급하고 있듯, SentencePiece는 딥러닝 자연어처리 모델의 앞부분에 사용할 목적으로 최적화되어 있는데, 최근 pretrained model들이 거의 대부분 SentencePiece를 tokenizer로 채용하면서 사실상 표준의 역할을 하고 있습니다. 앞으로의 실습 과정에서 자주 만나게 될 것이므로 꼭 친숙해지시기를 당부드립니다.\n",
    "\n",
    "다음과 같이 설치를 진행합니다. SentencePiece는 python에서 쓰라고 만들어진 라이브러리는 아니지만 편리한 파이썬 wrapper를 아래와 같이 제공하고 있습니다.\n",
    "\n"
   ]
  },
  {
   "cell_type": "code",
   "execution_count": 1,
   "id": "referenced-hacker",
   "metadata": {
    "scrolled": true
   },
   "outputs": [
    {
     "name": "stdout",
     "output_type": "stream",
     "text": [
      "Requirement already satisfied: sentencepiece in /opt/conda/lib/python3.7/site-packages (0.1.95)\n",
      "\u001b[33mWARNING: You are using pip version 20.3.3; however, version 21.3.1 is available.\n",
      "You should consider upgrading via the '/opt/conda/bin/python3.7 -m pip install --upgrade pip' command.\u001b[0m\n"
     ]
    }
   ],
   "source": [
    "!pip install sentencepiece"
   ]
  },
  {
   "cell_type": "code",
   "execution_count": 2,
   "id": "demanding-mercury",
   "metadata": {},
   "outputs": [],
   "source": [
    "import os\n",
    "\n",
    "import matplotlib.pyplot as plt\n",
    "import tensorflow as tf\n",
    "import numpy as np\n",
    "\n",
    "%matplotlib inline"
   ]
  },
  {
   "cell_type": "code",
   "execution_count": 3,
   "id": "efficient-pavilion",
   "metadata": {},
   "outputs": [
    {
     "name": "stdout",
     "output_type": "stream",
     "text": [
      "Data Size: 94123\n",
      "Example:\n",
      ">> 개인용 컴퓨터 사용의 상당 부분은 \"이것보다 뛰어날 수 있느냐?\"\n",
      ">> 북한의 핵무기 계획을 포기하도록 하려는 압력이 거세지고 있는 가운데, 일본과 북한의 외교관들이 외교 관계를 정상화하려는 회담을 재개했다.\n",
      ">> \"경호 로보트가 침입자나 화재를 탐지하기 위해서 개인적으로, 그리고 전문적으로 사용되고 있습니다.\"\n",
      ">> 수자원부 당국은 논란이 되고 있고, 막대한 비용이 드는 이 사업에 대해 내년에 건설을 시작할 계획이다.\n",
      ">> 또한 근력 운동은 활발하게 걷는 것이나 최소한 20분 동안 뛰는 것과 같은 유산소 활동에서 얻는 운동 효과를 심장과 폐에 주지 않기 때문에, 연구학자들은 근력 운동이 심장에 큰 영향을 미치는지 여부에 대해 논쟁을 해왔다.\n"
     ]
    }
   ],
   "source": [
    "import os\n",
    "path_to_file = os.getenv('HOME')+'/aiffel/GD_02_sp_tokenizer/data/korean-english-park.train.ko'\n",
    "\n",
    "with open(path_to_file, \"r\") as f:\n",
    "    raw = f.read().splitlines()\n",
    "\n",
    "print(\"Data Size:\", len(raw))\n",
    "\n",
    "print(\"Example:\")\n",
    "for sen in raw[0:100][::20]: print(\">>\", sen)"
   ]
  },
  {
   "cell_type": "code",
   "execution_count": 4,
   "id": "floppy-scientist",
   "metadata": {},
   "outputs": [
    {
     "name": "stdout",
     "output_type": "stream",
     "text": [
      "문장의 최단 길이: 1\n",
      "문장의 최장 길이: 377\n",
      "문장의 평균 길이: 60\n"
     ]
    },
    {
     "data": {
      "image/png": "[encoded data removed]",
      "text/plain": [
       "<Figure size 432x288 with 1 Axes>"
      ]
     },
     "metadata": {
      "needs_background": "light"
     },
     "output_type": "display_data"
    }
   ],
   "source": [
    "min_len = 999\n",
    "max_len = 0\n",
    "sum_len = 0\n",
    "\n",
    "for sen in raw:\n",
    "    length = len(sen)\n",
    "    if min_len > length: min_len = length\n",
    "    if max_len < length: max_len = length\n",
    "    sum_len += length\n",
    "\n",
    "print(\"문장의 최단 길이:\", min_len)\n",
    "print(\"문장의 최장 길이:\", max_len)\n",
    "print(\"문장의 평균 길이:\", sum_len // len(raw))\n",
    "\n",
    "sentence_length = np.zeros((max_len), dtype=np.int)\n",
    "\n",
    "for sen in raw:\n",
    "    sentence_length[len(sen)-1] += 1\n",
    "\n",
    "plt.bar(range(max_len), sentence_length, width=1.0)\n",
    "plt.title(\"Sentence Length Distribution\")\n",
    "plt.show()"
   ]
  },
  {
   "cell_type": "code",
   "execution_count": 5,
   "id": "veterinary-electric",
   "metadata": {},
   "outputs": [
    {
     "name": "stdout",
     "output_type": "stream",
     "text": [
      "’\n"
     ]
    }
   ],
   "source": [
    "def check_sentence_with_length(raw, length):\n",
    "    count = 0\n",
    "    \n",
    "    for sen in raw:\n",
    "        if len(sen) == length:\n",
    "            print(sen)\n",
    "            count += 1\n",
    "            if count > 100: return\n",
    "\n",
    "check_sentence_with_length(raw, 1)"
   ]
  },
  {
   "cell_type": "code",
   "execution_count": 6,
   "id": "optimum-planet",
   "metadata": {},
   "outputs": [
    {
     "name": "stdout",
     "output_type": "stream",
     "text": [
      "Outlier Index: 11\n",
      "Outlier Index: 19\n",
      "Outlier Index: 21\n"
     ]
    }
   ],
   "source": [
    "for idx, _sum in enumerate(sentence_length):\n",
    "    # 문장의 수가 1500을 초과하는 문장 길이를 추출합니다.\n",
    "    if _sum > 1500:\n",
    "        print(\"Outlier Index:\", idx+1)"
   ]
  },
  {
   "cell_type": "code",
   "execution_count": 7,
   "id": "existing-glory",
   "metadata": {},
   "outputs": [
    {
     "name": "stdout",
     "output_type": "stream",
     "text": [
      "라고 조던이 말했다.\n",
      "- 모르고 있습니다.\n",
      "- 네, 보이는군요.\n",
      "디즈니사만이 아니다.\n",
      "큰 파티는 아니지요.\n",
      "의자는 비어 있었다.\n",
      "이 일은 계속됩니다.\n",
      "나는 크게 실망했다.\n",
      "그 이유는 간단하다.\n",
      "이력서와 자기 소개서\n",
      "시대가 변하고 있다.\n",
      "는 돌발질문을 했다.\n",
      "9. 몇 분간의 명상\n",
      "하와이, 빅 아일랜드\n",
      "키스를 잘 하는 방법\n",
      "키스를 잘 하는 방법\n",
      "스피어스가 뚱뚱한가?\n",
      "산 위를 나는 느낌.\n",
      "세 시간쯤 걸었을까?\n",
      "(아직 읽고있습니까?\n",
      "처음에는 장난이었다.\n",
      "우리는 운이 좋았다.\n",
      "아기가 숨을 멈출 때\n",
      "건물 전체 무너져내려\n",
      "그녀의 아름다운 눈.\n",
      "대답은 다음과 같다.\n",
      "\"사과할 것이 없다.\n",
      "폭탄테러가 공포 유발\n",
      "그는 \"잘 모르겠다.\n",
      "그는 \"잘 모르겠다.\n",
      "그는 \"잘 모르겠다.\n",
      "그는 \"잘 모르겠다.\n",
      "그는 \"잘 모르겠다.\n",
      "그는 \"잘 모르겠다.\n",
      "그는 \"잘 모르겠다.\n",
      "그는 \"잘 모르겠다.\n",
      "그는 \"잘 모르겠다.\n",
      "케냐 야생동물 고아원\n",
      "경유 1200원대로…\n",
      "더 내려야 하는 이유\n",
      "케냐 야생동물 고아원\n",
      "경유 1200원대로…\n",
      "더 내려야 하는 이유\n",
      "케냐 야생동물 고아원\n",
      "경유 1200원대로…\n",
      "더 내려야 하는 이유\n",
      "케냐 야생동물 고아원\n",
      "경유 1200원대로…\n",
      "더 내려야 하는 이유\n",
      "케냐 야생동물 고아원\n",
      "경유 1200원대로…\n",
      "더 내려야 하는 이유\n",
      "케냐 야생동물 고아원\n",
      "경유 1200원대로…\n",
      "더 내려야 하는 이유\n",
      "케냐 야생동물 고아원\n",
      "경유 1200원대로…\n",
      "더 내려야 하는 이유\n",
      "케냐 야생동물 고아원\n",
      "경유 1200원대로…\n",
      "더 내려야 하는 이유\n",
      "케냐 야생동물 고아원\n",
      "경유 1200원대로…\n",
      "더 내려야 하는 이유\n",
      "케냐 야생동물 고아원\n",
      "경유 1200원대로…\n",
      "더 내려야 하는 이유\n",
      "케냐 야생동물 고아원\n",
      "경유 1200원대로…\n",
      "더 내려야 하는 이유\n",
      "케냐 야생동물 고아원\n",
      "경유 1200원대로…\n",
      "더 내려야 하는 이유\n",
      "케냐 야생동물 고아원\n",
      "경유 1200원대로…\n",
      "더 내려야 하는 이유\n",
      "케냐 야생동물 고아원\n",
      "경유 1200원대로…\n",
      "더 내려야 하는 이유\n",
      "케냐 야생동물 고아원\n",
      "경유 1200원대로…\n",
      "더 내려야 하는 이유\n",
      "케냐 야생동물 고아원\n",
      "경유 1200원대로…\n",
      "더 내려야 하는 이유\n",
      "케냐 야생동물 고아원\n",
      "경유 1200원대로…\n",
      "더 내려야 하는 이유\n",
      "케냐 야생동물 고아원\n",
      "경유 1200원대로…\n",
      "더 내려야 하는 이유\n",
      "케냐 야생동물 고아원\n",
      "경유 1200원대로…\n",
      "더 내려야 하는 이유\n",
      "케냐 야생동물 고아원\n",
      "경유 1200원대로…\n",
      "더 내려야 하는 이유\n",
      "조금은 새침한 샬롯？\n",
      "조금은 새침한 샬롯？\n",
      "케냐 야생동물 고아원\n",
      "경유 1200원대로…\n"
     ]
    }
   ],
   "source": [
    "check_sentence_with_length(raw, 11)"
   ]
  },
  {
   "cell_type": "code",
   "execution_count": 8,
   "id": "failing-mediterranean",
   "metadata": {},
   "outputs": [
    {
     "name": "stdout",
     "output_type": "stream",
     "text": [
      "Data Size: 77591\n",
      "문장의 최단 길이: 1\n",
      "문장의 최장 길이: 377\n",
      "문장의 평균 길이: 64\n"
     ]
    },
    {
     "data": {
      "image/png": "[encoded data removed]",
      "text/plain": [
       "<Figure size 432x288 with 1 Axes>"
      ]
     },
     "metadata": {
      "needs_background": "light"
     },
     "output_type": "display_data"
    }
   ],
   "source": [
    "min_len = 999\n",
    "max_len = 0\n",
    "sum_len = 0\n",
    "\n",
    "cleaned_corpus = list(set(raw))  # set를 사용해서 중복을 제거합니다.\n",
    "print(\"Data Size:\", len(cleaned_corpus))\n",
    "\n",
    "for sen in cleaned_corpus:\n",
    "    length = len(sen)\n",
    "    if min_len > length: min_len = length\n",
    "    if max_len < length: max_len = length\n",
    "    sum_len += length\n",
    "\n",
    "print(\"문장의 최단 길이:\", min_len)\n",
    "print(\"문장의 최장 길이:\", max_len)\n",
    "print(\"문장의 평균 길이:\", sum_len // len(cleaned_corpus))\n",
    "\n",
    "sentence_length = np.zeros((max_len), dtype=np.int)\n",
    "\n",
    "for sen in cleaned_corpus:   # 중복이 제거된 코퍼스 기준\n",
    "    sentence_length[len(sen)-1] += 1\n",
    "\n",
    "plt.bar(range(max_len), sentence_length, width=1.0)\n",
    "plt.title(\"Sentence Length Distribution\")\n",
    "plt.show()"
   ]
  },
  {
   "cell_type": "code",
   "execution_count": 9,
   "id": "social-brother",
   "metadata": {},
   "outputs": [
    {
     "data": {
      "image/png": "[encoded data removed]",
      "text/plain": [
       "<Figure size 432x288 with 1 Axes>"
      ]
     },
     "metadata": {
      "needs_background": "light"
     },
     "output_type": "display_data"
    }
   ],
   "source": [
    "max_len = 150\n",
    "min_len = 10\n",
    "\n",
    "# 길이 조건에 맞는 문장만 선택합니다.\n",
    "filtered_corpus = [s for s in cleaned_corpus if (len(s) < max_len) & (len(s) >= min_len)]\n",
    "\n",
    "# 분포도를 다시 그려봅니다.\n",
    "sentence_length = np.zeros((max_len), dtype=np.int)\n",
    "\n",
    "for sen in filtered_corpus:\n",
    "    sentence_length[len(sen)-1] += 1\n",
    "\n",
    "plt.bar(range(max_len), sentence_length, width=1.0)\n",
    "plt.title(\"Sentence Length Distribution\")\n",
    "plt.show()"
   ]
  },
  {
   "cell_type": "markdown",
   "id": "initial-minister",
   "metadata": {},
   "source": [
    "## Step 2. SentencePiece 모델 학습¶\n",
    "앞서 배운 tokenize() 함수를 기억하나요? 다시 한번 상기시켜드릴게요!"
   ]
  },
  {
   "cell_type": "code",
   "execution_count": 10,
   "id": "reliable-reputation",
   "metadata": {},
   "outputs": [],
   "source": [
    "def tokenize(corpus):  # corpus: Tokenized Sentence's List\n",
    "    tokenizer = tf.keras.preprocessing.text.Tokenizer(filters='')\n",
    "    tokenizer.fit_on_texts(corpus)\n",
    "\n",
    "    tensor = tokenizer.texts_to_sequences(corpus)\n",
    "\n",
    "    tensor = tf.keras.preprocessing.sequence.pad_sequences(tensor, padding='post')\n",
    "\n",
    "    return tensor, tokenizer"
   ]
  },
  {
   "cell_type": "code",
   "execution_count": 12,
   "id": "printable-control",
   "metadata": {},
   "outputs": [
    {
     "name": "stdout",
     "output_type": "stream",
     "text": [
      "-rw-r--r-- 1 root root 376898 Dec 21 07:15 korean_spm.model\r\n",
      "-rw-r--r-- 1 root root 146388 Dec 21 07:15 korean_spm.vocab\r\n"
     ]
    }
   ],
   "source": [
    "import sentencepiece as spm\n",
    "import os\n",
    "\n",
    "\n",
    "temp_file = os.getenv('HOME')+'/aiffel/GD_02_sp_tokenizer/data/korean-english-park.train.ko.temp'\n",
    "\n",
    "vocab_size = 8000\n",
    "\n",
    "with open(temp_file, 'w') as f:\n",
    "    for row in filtered_corpus:   # 이전 스텝에서 정제했던 corpus를 활용합니다.\n",
    "        f.write(str(row) + '\\n')\n",
    "\n",
    "# spm.SentencePieceTrainer.Train(\n",
    "#     '--input={} --model_prefix=korean_spm --vocab_size={}'.format(temp_file, vocab_size)    \n",
    "# )\n",
    "# #위 Train에서  --model_type = 'unigram'이 디폴트 적용되어 있습니다. --model_type = 'bpe' 로 옵션을 주어 변경할 수 있습니다.\n",
    "\n",
    "\n",
    "# # 왜인지 오류가 나서 학습이 되지 않음 \n",
    "\n",
    "\n",
    "vocab_size_8k = 8000\n",
    "vocab_size_16k = 16000\n",
    "\n",
    "\n",
    "\n",
    "\n",
    "# vocab size=8000, model_type=unigram\n",
    "spm.SentencePieceTrainer.Train(\n",
    "    '--input={} --model_prefix=kor_spm_unigram_8k --vocab_size={}'.format(temp_file, vocab_size_8k)    \n",
    ")\n",
    "\n",
    "\n",
    "# vocab size=16000, model_type=unigram\n",
    "spm.SentencePieceTrainer.Train(\n",
    "    '--input={} --model_prefix=kor_spm_uingram_4k --vocab_size={}'.format(temp_file, vocab_size_8k/2)    \n",
    ")\n",
    "\n",
    "# vocab size=8000, model_type=bpe\n",
    "spm.SentencePieceTrainer.Train(\n",
    "    '--input={} --model_prefix=kor_spm_bpe_8k --model_type=bpe --vocab_size={}'.format(temp_file, vocab_size_8k)    \n",
    ")\n",
    "\n",
    "# vocab size = 16000, model_type=bpe\n",
    "spm.SentencePieceTrainer.Train(\n",
    "    '--input={} --model_prefix=kor_spm_bpe_16k --model_type=bpe --vocab_size={}'.format(temp_file, vocab_size_8k*2)    \n",
    ")\n",
    "\n",
    "#위 Train에서  --model_type = 'unigram'이 디폴트 적용되어 있습니다. --model_type = 'bpe' 로 옵션을 주어 변경할 수 있습니다.\n",
    "\n",
    "!ls -l korean_spm*\n",
    "\n"
   ]
  },
  {
   "cell_type": "code",
   "execution_count": 13,
   "id": "confirmed-stress",
   "metadata": {},
   "outputs": [
    {
     "name": "stdout",
     "output_type": "stream",
     "text": [
      "[1244, 11, 306, 7, 3599, 11, 286, 38, 3]\n",
      "['▁아버지', '가', '방', '에', '들어', '가', '신', '다', '.']\n",
      "아버지가방에들어가신다.\n"
     ]
    }
   ],
   "source": [
    "s = spm.SentencePieceProcessor()\n",
    "s.Load('korean_spm.model')\n",
    "\n",
    "# SentencePiece를 활용한 sentence -> encoding\n",
    "tokensIDs = s.EncodeAsIds('아버지가방에들어가신다.')\n",
    "print(tokensIDs)\n",
    "\n",
    "# SentencePiece를 활용한 sentence -> encoded pieces\n",
    "print(s.SampleEncodeAsPieces('아버지가방에들어가신다.',1, 0.0))\n",
    "\n",
    "# SentencePiece를 활용한 encoding -> sentence 복원\n",
    "print(s.DecodeIds(tokensIDs))"
   ]
  },
  {
   "cell_type": "markdown",
   "id": "graphic-gathering",
   "metadata": {},
   "source": [
    "## Step 3. Tokenizer 함수 작성\n",
    "우리는 위에서 훈련시킨 SentencePiece를 활용하여 위 함수와 유사한 기능을 하는 sp_tokenize() 함수를 정의할 겁니다. 하지만 SentencePiece가 동작하는 방식이 단순 토큰화와는 달라 완전히 동일하게는 정의하기 어렵습니다. 그러니 아래 조건을 만족하는 함수를 정의하도록 하습니다.\n",
    "\n",
    "1) 매개변수로 토큰화된 문장의 list를 전달하는 대신 온전한 문장의 list 를 전달합니다.\n",
    "\n",
    "2) 생성된 vocab 파일을 읽어와 { : } 형태를 가지는 word_index 사전과 { : } 형태를 가지는 index_word 사전을 생성하고 함께 반환합니다.\n",
    "\n",
    "3) 리턴값인 tensor 는 앞의 함수와 동일하게 토큰화한 후 Encoding된 문장입니다. 바로 학습에 사용할 수 있게 Padding은 당연히 해야겠죠?"
   ]
  },
  {
   "cell_type": "code",
   "execution_count": 14,
   "id": "intended-poker",
   "metadata": {},
   "outputs": [],
   "source": [
    "def sp_tokenize(s, corpus):\n",
    "\n",
    "    tensor = []\n",
    "\n",
    "    for sen in corpus:\n",
    "        tensor.append(s.EncodeAsIds(sen))\n",
    "\n",
    "    with open(\"./korean_spm.vocab\", 'r') as f:\n",
    "        vocab = f.readlines()\n",
    "\n",
    "    word_index = {}\n",
    "    index_word = {}\n",
    "\n",
    "    for idx, line in enumerate(vocab):\n",
    "        word = line.split(\"\\t\")[0]\n",
    "\n",
    "        word_index.update({idx:word})\n",
    "        index_word.update({word:idx})\n",
    "\n",
    "    tensor = tf.keras.preprocessing.sequence.pad_sequences(tensor, padding='post')\n",
    "\n",
    "    return tensor, word_index, index_word"
   ]
  },
  {
   "cell_type": "code",
   "execution_count": 15,
   "id": "consistent-pacific",
   "metadata": {},
   "outputs": [
    {
     "name": "stdout",
     "output_type": "stream",
     "text": [
      "[[1949  630 7718    4 7979  756   47    7 1657 2677 1024 1795    4  399\n",
      "     3    0    0    0]\n",
      " [ 781    4    0    4   56  640    5 2166 5102   94 5662    5    4 7867\n",
      "  1983    3    3    3]]\n"
     ]
    }
   ],
   "source": [
    "#sp_tokenize(s, corpus) 사용예제\n",
    "\n",
    "my_corpus = ['나는 새싹 캠퍼스에 출근해서 일을 했습니다.', '하지만 ㅠㅠ 월급을 받지 못해서 밥을 굶었습니다...']\n",
    "tensor, word_index, index_word = sp_tokenize(s, my_corpus)\n",
    "print(tensor)"
   ]
  },
  {
   "cell_type": "markdown",
   "id": "dramatic-guard",
   "metadata": {},
   "source": [
    "\n",
    "## Step 4. 네이버 영화리뷰 감정 분석 문제에 SentencePiece 적용해 보기\n",
    "\n",
    "아마 여러분들은 네이버 영화리뷰 감정 분석 태스크(https://github.com/e9t/nsmc/)를 한 번쯤은 다루어 보았을 것입니다. 한국어로 된 corpus를 다루어야 하므로 주로 KoNLPy에서 제공하는 형태소 분석기를 사용하여 텍스트를 전처리해서 RNN 모델을 분류기로 사용했을 것입니다.\n",
    "\n",
    "만약 이 문제에서 tokenizer를 SentencePiece로 바꾸어 다시 풀어본다면 더 성능이 좋아질까요? 비교해 보는 것도 흥미로울 것입니다.\n",
    "\n",
    "네이버 영화리뷰 감정 분석 코퍼스에 SentencePiece를 적용시킨 모델 학습하기\n",
    "학습된 모델로 sp_tokenize() 메소드 구현하기\n",
    "구현된 토크나이저를 적용하여 네이버 영화리뷰 감정 분석 모델을 재학습하기\n",
    "KoNLPy 형태소 분석기를 사용한 모델과 성능 비교하기\n",
    "(보너스) SentencePiece 모델의 model_type, vocab_size 등을 변경해 가면서 성능 개선 여부 확인하기\n",
    "Word Vector는 활용할 필요가 없습니다. 활용이 가능하지도 않을 것입니다. 머지않아 SentencePiece와 BERT 등의 pretrained 모델을 함께 활용하는 태스크를 다루게 될 것입니다.\n",
    "\n",
    "### Reference \n",
    "\n",
    "1) https://github.com/miinkang/AI_Project_AIFFEL/blob/main/%5BGD-02%5DSentencePiece.ipynb\n",
    "\n",
    "2) https://piaojian.tistory.com/35"
   ]
  },
  {
   "cell_type": "markdown",
   "id": "miniature-fetish",
   "metadata": {},
   "source": [
    "## 1) 데이터 준비와 확인"
   ]
  },
  {
   "cell_type": "code",
   "execution_count": 68,
   "id": "sunrise-bridge",
   "metadata": {},
   "outputs": [
    {
     "data": {
      "text/plain": [
       "0                              아 더빙.. 진짜 짜증나네요 목소리\n",
       "1                흠...포스터보고 초딩영화줄....오버연기조차 가볍지 않구나\n",
       "2                                너무재밓었다그래서보는것을추천한다\n",
       "3                    교도소 이야기구먼 ..솔직히 재미는 없다..평점 조정\n",
       "5    막 걸음마 뗀 3세부터 초등학교 1학년생인 8살용영화.ㅋㅋㅋ...별반개도 아까움.\n",
       "Name: document, dtype: object"
      ]
     },
     "execution_count": 68,
     "metadata": {},
     "output_type": "execute_result"
    }
   ],
   "source": [
    "import pandas as pd\n",
    "import urllib.request\n",
    "%matplotlib inline\n",
    "import matplotlib.pyplot as plt\n",
    "import re\n",
    "from konlpy.tag import Okt\n",
    "from tensorflow import keras\n",
    "from tensorflow.keras.preprocessing.text import Tokenizer\n",
    "import numpy as np\n",
    "from tensorflow.keras.preprocessing.sequence import pad_sequences\n",
    "from collections import Counter\n",
    "\n",
    "# 데이터를 읽어봅시다. \n",
    "train_data_org = pd.read_table('~/aiffel/GD_02_sp_tokenizer/data/nsmc/ratings_train.txt')\n",
    "test_data = pd.read_table('~/aiffel/GD_02_sp_tokenizer/data/nsmc/ratings_test.txt')\n",
    "\n",
    "train_data.head()"
   ]
  },
  {
   "cell_type": "markdown",
   "id": "conservative-powder",
   "metadata": {},
   "source": [
    "## 2) 데이터로더 구성\n",
    "실습 때 다루었던 IMDB 데이터셋은 텍스트를 가공하여 imdb.data_loader() 메소드를 호출하면 숫자 인덱스로 변환된 텍스트와 word_to_index 딕셔너리까지 친절하게 제공합니다. 그러나 이번에 다루게 될 nsmc 데이터셋은 전혀 가공되지 않은 텍스트 파일로 이루어져 있습니다. 이것을 읽어서 imdb.data_loader()와 동일하게 동작하는 자신만의 data_loader를 만들어 보는 것으로 시작합니다. data_loader 안에서는 다음을 수행해야 합니다.\n",
    "\n",
    "데이터의 중복 제거\n",
    "NaN 결측치 제거\n",
    "한국어 토크나이저로 토큰화\n",
    "불용어(Stopwords) 제거\n",
    "사전word_to_index 구성\n",
    "텍스트 스트링을 사전 인덱스 스트링으로 변환\n",
    "X_train, y_train, X_test, y_test, word_to_index 리턴"
   ]
  },
  {
   "cell_type": "code",
   "execution_count": 69,
   "id": "unusual-ribbon",
   "metadata": {
    "scrolled": false
   },
   "outputs": [
    {
     "name": "stdout",
     "output_type": "stream",
     "text": [
      "Requirement already satisfied: pip in /opt/conda/lib/python3.7/site-packages (20.3.3)\n",
      "Collecting pip\n",
      "  Downloading pip-21.3.1-py3-none-any.whl (1.7 MB)\n",
      "\u001b[K     |████████████████████████████████| 1.7 MB 4.4 MB/s eta 0:00:01\n",
      "\u001b[?25hInstalling collected packages: pip\n",
      "  Attempting uninstall: pip\n",
      "    Found existing installation: pip 20.3.3\n",
      "    Uninstalling pip-20.3.3:\n",
      "      Successfully uninstalled pip-20.3.3\n",
      "Successfully installed pip-21.3.1\n",
      "Collecting gensim==3.8.3\n",
      "  Downloading gensim-3.8.3-cp37-cp37m-manylinux1_x86_64.whl (24.2 MB)\n",
      "     |████████████████████████████████| 24.2 MB 4.4 MB/s            \n",
      "\u001b[?25hRequirement already satisfied: numpy>=1.11.3 in /opt/conda/lib/python3.7/site-packages (from gensim==3.8.3) (1.19.5)\n",
      "Requirement already satisfied: six>=1.5.0 in /opt/conda/lib/python3.7/site-packages (from gensim==3.8.3) (1.15.0)\n",
      "Requirement already satisfied: scipy>=0.18.1 in /opt/conda/lib/python3.7/site-packages (from gensim==3.8.3) (1.4.1)\n",
      "Requirement already satisfied: smart-open>=1.8.1 in /opt/conda/lib/python3.7/site-packages (from gensim==3.8.3) (4.1.2)\n",
      "Installing collected packages: gensim\n",
      "  Attempting uninstall: gensim\n",
      "    Found existing installation: gensim 4.0.1\n",
      "    Uninstalling gensim-4.0.1:\n",
      "      Successfully uninstalled gensim-4.0.1\n",
      "Successfully installed gensim-3.8.3\n",
      "\u001b[33mWARNING: Running pip as the 'root' user can result in broken permissions and conflicting behaviour with the system package manager. It is recommended to use a virtual environment instead: https://pip.pypa.io/warnings/venv\u001b[0m\n",
      "Requirement already satisfied: konlpy in /opt/conda/lib/python3.7/site-packages (0.5.2)\n",
      "Requirement already satisfied: JPype1>=0.7.0 in /opt/conda/lib/python3.7/site-packages (from konlpy) (1.2.1)\n",
      "Requirement already satisfied: numpy>=1.6 in /opt/conda/lib/python3.7/site-packages (from konlpy) (1.19.5)\n",
      "Requirement already satisfied: colorama in /opt/conda/lib/python3.7/site-packages (from konlpy) (0.4.4)\n",
      "Requirement already satisfied: tweepy>=3.7.0 in /opt/conda/lib/python3.7/site-packages (from konlpy) (3.10.0)\n",
      "Requirement already satisfied: lxml>=4.1.0 in /opt/conda/lib/python3.7/site-packages (from konlpy) (4.6.2)\n",
      "Requirement already satisfied: beautifulsoup4==4.6.0 in /opt/conda/lib/python3.7/site-packages (from konlpy) (4.6.0)\n",
      "Requirement already satisfied: typing-extensions in /opt/conda/lib/python3.7/site-packages (from JPype1>=0.7.0->konlpy) (3.7.4.3)\n",
      "Requirement already satisfied: six>=1.10.0 in /opt/conda/lib/python3.7/site-packages (from tweepy>=3.7.0->konlpy) (1.15.0)\n",
      "Requirement already satisfied: requests-oauthlib>=0.7.0 in /opt/conda/lib/python3.7/site-packages (from tweepy>=3.7.0->konlpy) (1.3.0)\n",
      "Requirement already satisfied: requests[socks]>=2.11.1 in /opt/conda/lib/python3.7/site-packages (from tweepy>=3.7.0->konlpy) (2.25.1)\n",
      "Requirement already satisfied: oauthlib>=3.0.0 in /opt/conda/lib/python3.7/site-packages (from requests-oauthlib>=0.7.0->tweepy>=3.7.0->konlpy) (3.1.0)\n",
      "Requirement already satisfied: idna<3,>=2.5 in /opt/conda/lib/python3.7/site-packages (from requests[socks]>=2.11.1->tweepy>=3.7.0->konlpy) (2.10)\n",
      "Requirement already satisfied: chardet<5,>=3.0.2 in /opt/conda/lib/python3.7/site-packages (from requests[socks]>=2.11.1->tweepy>=3.7.0->konlpy) (3.0.4)\n",
      "Requirement already satisfied: urllib3<1.27,>=1.21.1 in /opt/conda/lib/python3.7/site-packages (from requests[socks]>=2.11.1->tweepy>=3.7.0->konlpy) (1.26.2)\n",
      "Requirement already satisfied: certifi>=2017.4.17 in /opt/conda/lib/python3.7/site-packages (from requests[socks]>=2.11.1->tweepy>=3.7.0->konlpy) (2020.12.5)\n",
      "Requirement already satisfied: PySocks!=1.5.7,>=1.5.6 in /opt/conda/lib/python3.7/site-packages (from requests[socks]>=2.11.1->tweepy>=3.7.0->konlpy) (1.7.1)\n",
      "\u001b[33mWARNING: Running pip as the 'root' user can result in broken permissions and conflicting behaviour with the system package manager. It is recommended to use a virtual environment instead: https://pip.pypa.io/warnings/venv\u001b[0m\n",
      "Reading package lists... Done\n",
      "Building dependency tree       \n",
      "Reading state information... Done\n",
      "curl is already the newest version (7.58.0-2ubuntu3.13).\n",
      "git is already the newest version (1:2.17.1-1ubuntu0.8).\n",
      "0 upgraded, 0 newly installed, 0 to remove and 26 not upgraded.\n",
      "mecab-ko is already installed\n",
      "mecab-ko-dic is already installed\n",
      "mecab-python is already installed\n",
      "Done.\n"
     ]
    }
   ],
   "source": [
    "!pip install --upgrade pip\n",
    "!pip install --upgrade gensim==3.8.3\n",
    "!pip install konlpy\n",
    "!sudo apt-get install curl git\n",
    "!bash <(curl -s https://raw.githubusercontent.com/konlpy/konlpy/master/scripts/mecab.sh)"
   ]
  },
  {
   "cell_type": "code",
   "execution_count": 70,
   "id": "recorded-tiffany",
   "metadata": {
    "scrolled": true
   },
   "outputs": [],
   "source": [
    "## LMS Exploration 06 Movie Sentiment Analysis codes\n",
    "\n",
    "\n",
    "# from konlpy.tag import Mecab\n",
    "# tokenizer = Mecab()\n",
    "# stopwords = ['의','가','이','은','들','는','좀','잘','걍','과','도','를','으로','자','에','와','한','하다']\n",
    "\n",
    "# def load_data(train_data, test_data, num_words=10000):\n",
    "#     train_data.drop_duplicates(subset=['document'], inplace=True)\n",
    "#     train_data = train_data.dropna(how = 'any') \n",
    "#     test_data.drop_duplicates(subset=['document'], inplace=True)\n",
    "#     test_data = test_data.dropna(how = 'any') \n",
    "    \n",
    "#     X_train = []\n",
    "#     for sentence in train_data['document']:\n",
    "#         temp_X = tokenizer.morphs(sentence) # 토큰화\n",
    "#         temp_X = [word for word in temp_X if not word in stopwords] # 불용어 제거\n",
    "#         X_train.append(temp_X)\n",
    "\n",
    "#     X_test = []\n",
    "#     for sentence in test_data['document']:\n",
    "#         temp_X = tokenizer.morphs(sentence) # 토큰화\n",
    "#         temp_X = [word for word in temp_X if not word in stopwords] # 불용어 제거\n",
    "#         X_test.append(temp_X)\n",
    "    \n",
    "#     words = np.concatenate(X_train).tolist()\n",
    "#     counter = Counter(words)\n",
    "#     counter = counter.most_common(10000-4)\n",
    "#     vocab = ['', '', '', ''] + [key for key, _ in counter]\n",
    "#     word_to_index = {word:index for index, word in enumerate(vocab)}\n",
    "        \n",
    "#     def wordlist_to_indexlist(wordlist):\n",
    "#         return [word_to_index[word] if word in word_to_index else word_to_index[''] for word in wordlist]\n",
    "    \n",
    "    \n",
    "#     X_train = list(map(wordlist_to_indexlist, X_train))\n",
    "#     X_test = list(map(wordlist_to_indexlist, X_test))\n",
    "        \n",
    "#     return X_train, np.array(list(train_data['label'])), X_test, np.array(list(test_data['label'])), word_to_index\n",
    "    \n",
    "# X_train, y_train, X_test, y_test, word_to_index = load_data(train_data, test_data) "
   ]
  },
  {
   "cell_type": "code",
   "execution_count": 73,
   "id": "professional-dispatch",
   "metadata": {
    "scrolled": true
   },
   "outputs": [
    {
     "name": "stdout",
     "output_type": "stream",
     "text": [
      "Unique training data :  146182\n",
      "Unique target data :  2\n"
     ]
    }
   ],
   "source": [
    "print(\"Unique training data : \", train_data_org['document'].nunique())\n",
    "print(\"Unique target data : \", train_data_org['label'].nunique())"
   ]
  },
  {
   "cell_type": "code",
   "execution_count": 82,
   "id": "instrumental-report",
   "metadata": {},
   "outputs": [],
   "source": [
    "# delete the duplicate data\n",
    "train_data_org.drop_duplicates(subset=['document'], inplace=True)\n",
    "# use the drop_duplicate method"
   ]
  },
  {
   "cell_type": "code",
   "execution_count": 86,
   "id": "periodic-pound",
   "metadata": {},
   "outputs": [
    {
     "name": "stdout",
     "output_type": "stream",
     "text": [
      "number of total sample :  146183\n"
     ]
    }
   ],
   "source": [
    "# check the number of the trainig data again\n",
    "print('number of total sample : ',len(train_data_org))"
   ]
  },
  {
   "cell_type": "code",
   "execution_count": 88,
   "id": "introductory-validity",
   "metadata": {},
   "outputs": [
    {
     "name": "stdout",
     "output_type": "stream",
     "text": [
      "True\n"
     ]
    }
   ],
   "source": [
    "# check the null value in the document (label)\n",
    "print(train_data_org_.isnull().values.any())"
   ]
  },
  {
   "cell_type": "code",
   "execution_count": 89,
   "id": "naked-sponsorship",
   "metadata": {},
   "outputs": [
    {
     "data": {
      "text/html": [
       "<div>\n",
       "<style scoped>\n",
       "    .dataframe tbody tr th:only-of-type {\n",
       "        vertical-align: middle;\n",
       "    }\n",
       "\n",
       "    .dataframe tbody tr th {\n",
       "        vertical-align: top;\n",
       "    }\n",
       "\n",
       "    .dataframe thead th {\n",
       "        text-align: right;\n",
       "    }\n",
       "</style>\n",
       "<table border=\"1\" class=\"dataframe\">\n",
       "  <thead>\n",
       "    <tr style=\"text-align: right;\">\n",
       "      <th></th>\n",
       "      <th>id</th>\n",
       "      <th>document</th>\n",
       "      <th>label</th>\n",
       "    </tr>\n",
       "  </thead>\n",
       "  <tbody>\n",
       "    <tr>\n",
       "      <th>25857</th>\n",
       "      <td>2172111</td>\n",
       "      <td>NaN</td>\n",
       "      <td>1</td>\n",
       "    </tr>\n",
       "  </tbody>\n",
       "</table>\n",
       "</div>"
      ],
      "text/plain": [
       "            id document  label\n",
       "25857  2172111      NaN      1"
      ]
     },
     "execution_count": 89,
     "metadata": {},
     "output_type": "execute_result"
    }
   ],
   "source": [
    "# check the location of the null data\n",
    "train_data_org.loc[train_data_org.document.isnull()]"
   ]
  },
  {
   "cell_type": "code",
   "execution_count": 90,
   "id": "dietary-butter",
   "metadata": {},
   "outputs": [
    {
     "name": "stdout",
     "output_type": "stream",
     "text": [
      "False\n"
     ]
    }
   ],
   "source": [
    "# remove the NULL data\n",
    "train_data_none = train_data_org.dropna(how = 'any')\n",
    "print(train_data_none.isnull().values.any())\n",
    "\n"
   ]
  },
  {
   "cell_type": "code",
   "execution_count": 122,
   "id": "renewable-watershed",
   "metadata": {
    "scrolled": true
   },
   "outputs": [
    {
     "name": "stdout",
     "output_type": "stream",
     "text": [
      "문장의 최단 길이: 1\n",
      "문장의 최장 길이: 146\n",
      "문장의 평균 길이: 35\n"
     ]
    },
    {
     "data": {
      "image/png": "[encoded data removed]",
      "text/plain": [
       "<Figure size 432x288 with 1 Axes>"
      ]
     },
     "metadata": {
      "needs_background": "light"
     },
     "output_type": "display_data"
    }
   ],
   "source": [
    "# data preprocessing\n",
    "document = train_data_none['document']\n",
    "naver_review = document\n",
    "\n",
    "\n",
    "min_len = 999\n",
    "max_len = 0\n",
    "sum_len = 0\n",
    "\n",
    "for sen in document:\n",
    "    length = len(sen)\n",
    "    if min_len > length: \n",
    "        min_len = length\n",
    "        \n",
    "    if max_len < length: \n",
    "        max_len = length\n",
    "    \n",
    "    sum_len += length\n",
    "\n",
    "print(\"문장의 최단 길이:\", min_len)\n",
    "print(\"문장의 최장 길이:\", max_len)\n",
    "print(\"문장의 평균 길이:\", sum_len // len(document))\n",
    "\n",
    "sentence_length = np.zeros((max_len), dtype=np.int)\n",
    "\n",
    "for sen in document:\n",
    "    sentence_length[len(sen)-1] += 1\n",
    "\n",
    "plt.bar(range(max_len), sentence_length, width=1.0)\n",
    "plt.title(\"Sentence Length Distribution\")\n",
    "plt.show()"
   ]
  },
  {
   "cell_type": "markdown",
   "id": "supposed-twins",
   "metadata": {},
   "source": [
    "최장 길이 140에 가까운 데이터가 꽤 많습니다. 어떤 문장인지 확인해봅니다."
   ]
  },
  {
   "cell_type": "code",
   "execution_count": 123,
   "id": "domestic-astrology",
   "metadata": {},
   "outputs": [
    {
     "name": "stdout",
     "output_type": "stream",
     "text": [
      "후세와 사랑하게된 결정적 계기 그시간이 표현되지 않았으며 시람의 생명을 빼앗아야만하는이유등을 시노가 출현하는 연극으 로 더 알려주었으면 하는 생각이든다. 또한 시노가 얼마나 본능을절제히면서 시랑을 하려고 노력하는지를 더 보여줬다면 좋았을뻔했다\n",
      "창업을 꿈꾸는가! 좋은 아이템이 있어 사업을 하려하는가!! 그렇다면 기를 쓰고 이 영활 보기바란다!! 그 멀고 험한 여정에 스승이 될것이요 지침서가 될것이다... 혹은 단념에 도움이 될지도... 참 오랜만에 박장대소하며 본 독립영활세~~~ ★\n",
      "오랜만에 보는 서부극.소재도 독특하고 음악역시 특이하게 가스펠을 편곡해서 썼는데, 색다르네. 배역도 좋았고,개인적으로 제프 브리짓스의 가래낀 목소리싫어하는데,헤일리스테인벨트 보는 맛에 참을 수 있었네. 오랜만에 보는 코엔형제작품, 강추합니다.\n",
      "내가 영화보면서 처음 눈물 흘리고 본게 스파이더맨3다.나는 어메이징, 스파이더맨 다 좋다. 하지만 내가제일 감명 깊게 본건 스파이더맨 시리즈이면서스파이더맨3다. 할 말이 필요없다. 지금까지도계속 챙겨보고 있다. 이것만 100번은 넘게본거 같다\n",
      "처음엔 정신이 피폐해진것같아 불쾌했다. 막연히 걱정하지만 넘겨버릴법한 범죄상황을 실감나고 섬세하게 묘사한 감독이 대단하다... 박진감은 넘치지만 억지상황이 난무해 문단속의 중요성을 잊게 한 불사여인의 비현실 영화 '숨바꼭질'이 문득 생각난다.\n",
      "한동안 댓글 안 썼었는데.. 댓글이 너무해서 씁니다. 1점까진 아닌데 평점이 너무 높아 1점 드리고요.. 한 3,4 점짜리 영화인듯.. 좋은 가족영화라고 해서 개를 훔치는 완벽한 방법 같은 영화로 상상하고 봤는데 정말 뭐라 말이 안나오네요..\n",
      "보면 볼수록 화가나는 영화;;현실성이 하나도 없음. 진짜 감독의 판타지가 무슨;; 대사도 하나같이 오글거리는거 투성이고...배우들도 연기 하나같이 이상하고..대학입시라는 많은사람들의 꿈과 희망을 이렇게 추악하게 표현하다니 ㅎㅎ 아기분더럽다진심\n",
      "써머커플 보는 맛에 끝까지 보긴 봤지만 정말 우리나라 막장 아침드라마보다 더 쓰레기같은 내용이었다. 캐릭터 성격에 일관성이 없고 걸핏하면 깨졌다 합쳤다 장난하냐? 이혼-재혼을 통한 관계도 막장부터 시작해서 등장인물들은 무슨 조울증이라도 걸린듯\n",
      "세영이의자매 였다하나 소매치기에 뺑소니 눈감아주려하는 민들레.세영이나민들레나다를께뭐있나 주인공이라봐주어야하나 민들레를동점심불쌍함으로봐주어하나운좋게주위사람잘만나거기에서딱부러지는성격인가했더니성격이착한척움흉한건가갑자기이야기상아버지죽임것도개운치않은데\n",
      "OO놈들 괜찮구만 괜히 OO이네 잔인한장면 나와도 미국에선 15살이봐도 아무렇지도 않으니 괜찮다고생각하잔아 OO들이 액션만 생각하고 그속에 장면들 감동을 처못느끼네 장동건의 어색한연기 좀있지만 그래도 잘끝냇구만 OO것들이 영화욕하고 OO들이야\n",
      "최초이건 아니건 중요하지 않다. 그들의 아름다운 도전과... 상업성에 반하지 않는 자세가 더 중요하다 생각한다...망상녀 당신이 증거가 없다고 하는 저들의 도전을 나는 믿는다. 아무나 오를 수 있는 산이라면 저들의 도전은 없었을 것이니까...\n",
      "sf영화이면 그 소재 자체만으로도 일단 흥미롭고 좀 엉성하게 만들었다 해도 매니아층들이 좋아할 영화가 될껀데 정말 개 쓰레기 망작 영화 차라리 우주공간에 똥싸서 둥둥 떠다니는 똥이 더러워 도망치는 스릴러물 쳐찍어서 영화만들면 이것보다 재밌을듯\n",
      "다른 드라마 온통 짜집기 해서 걸레 만들었네. 아이 바꿔치기( MBC 짝패) 마무리(SBS 샐러리맨 초한지 김서형 정신병원) . 작가가 스토리 전개능력이 없어서 초기 설정한 인물들의 캐릭터가 죄다 망가진 잡탕찌개수준, 즉 일만 벌리고 수습못함\n",
      "매력이었던 대규모해상전과 큰배들이 펼치는 박진감넘치는 전투장면들은 나오지도않고 터너같은 매력적인 캐릭터들이 빠져 영화의 매력이 사라졌다 아무리 잭스패로우라도해도 영화전체를 캐리하기는 불가능 새로나온 캐릭터들은 너무 진부한 해적캐릭터들 실망이다\n",
      "정말 이런 영화 만들지 마세요... 감동을 주든, 재미를 주든, 교훈을 주든, 감정을 주든... 영화의 목적이 전혀 없는 그냥 싸이코 영화로 봤습니다. 이글 보고 감독님이 상처 받을 수도 있을까도 생각하는데 감독님 상처 좀 받아야 합니다...\n",
      "내가 좋아하는 배우인 송하윤이 주연이라 보게 됐는데 드라마가 상큼하고 재밌어서 매주 챙겨봄. 중간중간 연기 함정들이 있긴한데; 송하윤이랑 엄마역할 하시는분이 캐리하는중ㅋㅋㅋ 할머니랑 대화하는씬에서 오글거리는 CG만 어떻게 하면 더 좋을것같다.\n",
      "내인생최고의 영화엿습니다...록키그 자체가나온다는것 다시도전한다는 의지 희망이없는 갈수록 계단이높아지는 ,,나날이흘러도 도전할수잇는기회가 잇다면 이렇게도전하는구나라고생각햇습니다쨋든 볼론은 1점준새ㅡ끼들아 눈 ㅡ깔에 소시지박혓는지궁금하군요ㅕ..\n",
      "케이블tv 에서 우연히 잠깐보고 재미있어 1000원이나 주고 다운받아 보는 중인데, 무한도전이나 개그콘서트도 수준낮다 무시하고 안보는 저이지만 이건 대놓고 코메디인데도 대사들이 인간 본성을 솔직히 드러내 화통하고 재미있습니다. 꼭 한번 보세요\n",
      "100원도 손해보려 하지 않는 졸렬한 인간들과 달리, 전 인류를 위해 자신을 대속물로 희생한 숭고한 사랑은 그 무엇과도 비교될 수 없다. 인류가 예수 그리스도 앞에 무릎을 꿇어야 하는 이유는 누구도 할 수 없는 위대한 희생을 치뤘기 때문이다.\n",
      "재미는 있지만 이 드라마 보기전에 관련자료및 역사책 한번 쫙 훑어보고나서 드라마를 보는것을 추천한다. 볼땐 보더라도 진실된 사실은 알아야되지 않겠는가?? 당장 네이버 인물에 기황후만 검색해도 진실들이 나오니 기황후 검색해서 보는것을 추천한다.\n",
      "왜 토요명화에서 보지 못했는지 이제야 알았다. 멍청한 감독의 연출력은 3탄까지의 명작을 그저그렇지도 못한 3류 SF로 만들어 놨다. 크리스토퍼 리브외 주인공들 때문이 아니라면 평점은 1점. 10년전의 1탄 보다 엉성한 합성과 편집은 가관이다.\n",
      "\"이런 리뷰 잘 안 쓰는데몇 자 적어볼게요 아무리 재미없는 영화도 전 웬만하면 \"\"중간까진 보자\"\" 생각하고 그냥 보는데근데 ㅋㅋㅋㅋ이 영화는 재미없을 게 뻔해서 5분도 안보고껐습니다 홍지영씨는 이걸 영화라고 만들었나요? 노답이네요 노답노답\"\n",
      "오랜만에 영화보고 울었다.자이언트가 어디서 무슨목적으로 지구에 왔는진 중요하지 않다. 자이언트는 올바른 길을 선택했고 슈퍼맨이 되었다. 결국 상황이 어떻든 내가 옳은 판단을 하면 되는거다. 이렇다 변명따위 필요없이 나는 내가 선택한대로 된다.\n",
      "고사2보다 나으나이 영화의 문제점은 무섭다기보다 잔인한것이고 사실 그리 잔인한것도 아니라 차라리 잔인하게 만들거면 19세 이용가 급으로 만들었어야 했다. 스토리도 진부하고 더 깊게 파고들었어야했다. 이영화에서 칭찬받을만한 유일한 요소는 브금.\n",
      "몇 몇 메이저 회사의 거대 자본에 의해 움직인는 음악계 자칭 전문가들은 언제 꺼질지 모르는 호기라며 정답이 도출되지 않는 영역이라며 별을 반쪽냈지만 그것이 현실이란 이유대며 자신이 회피했던 이 현실을 오히려 똑바로 직시하지 못하는거건 아닐까?\n",
      "별 반개도 아까 영화... 미니어처 장남감을 모래위에 얹어놓고 유성우가 떨어지는 화면과 탈출정이 이륙하는 장면에서는 80년대 우뢰매 수준의 화면을 접할 수 있고...시나리오는 뭐 안봐도 뻔한 이야기...케이블에서도 안볼 영화를 본게 후회...\n",
      "정말 재미있어요!!! 정말로정말로!!레나정은 딸을 빼앗기고 서인철박사가 집사?한테 주고키웠더니 나중엔 알게되서 레나정이 엄마가되고 TNC그룹 장남이 레나정과 결혼하고 장남의 동생인 박재준과 레나저의 딸과 결혼하고? 복잡하지만 재미있어요!!~~\n",
      "영화를 장난으로 만드네 개연성도 없고 줄거리도 끈어지는 느낌이고 갑자기 장어들고 온놈이랑 갑자기 눈맞아섹스를 하질안나 식품처 여직원을 무슨 조폭 중간보스 급으로 투잡을 하질 안나 쩝?마지막엔 동포에게 장어집 차려주는 씬은 압권이다 어이가 없다\n",
      "시기심많은여자어쩌고한인간 내아내가결혼햇다 보고나서는 손예진이니까가능한거라고 위안하며욕햇겠지ㅋ 영화가 꼭교훈적일필요는 없고 뭐영화제작은배워본적없어서모르겟지만 감독이 나랑사상적으로 진짜안맞는 사람인건확실ㅋ 내아내결혼햇다는 깊은뜻이라도잇지 이건뭐ㅋ\n",
      "이병우 작곡가의 곡들이 담긴 영화를 볼 때마다 느끼지만,이렇게 공포영화 음악을 아름답고 절묘하게 만드는 작곡가는 잘 없는 것 같다.한국 공포영화의 특징은 배경과 어우러지는 음악적 요소인데,이 작곡가가 어떻게 보면 그 처음이라고 볼 수 있겠다.\n",
      "기대를 안하고 봐서 그런가...아무런 정보도 없이 킬링 타임용으로 볼라다가 심취해서 보게됨...기독교 영화도 아니며 환타지 영화도 아닌데...메세지는 분명했고 영화가 끝난 순간 대런 애로노프스키 크레딧이 뜬 순간 소름 돋음....역시나....\n",
      "보는내내 그냥 좋았다.하지만 결말은 무엇을 말하고 싶었던건지 모르겠다.감독판이 따로 있는건지...과거는 어케하고 갑자기 현실에서 결말을 맺어버린건지...보는내내 잔잔한 미소를 머금게해서 그런지 결말을 이해못하는 나로선 더욱 반감이 가는영화다.\n",
      "첫장면 노래 나올때부터 벙쪘음.. 너무 촌스러워서 ㅠㅠ 여주는 연기를 못하고, 남주는 화보찍는듯 계속 모델포스 , 언니가 주인공이었으면 나았을걸.. 감정이입도 안되고 노래도 재미없고 맘마미아같이 노래가 세련된게 아니라 다 트로트삘 쿵짝뽕짝..\n",
      "이건 B급도 아니라 C급이다. 스토리가 아예 존재하지 않고 애시당초 괴물들한테 그렇게 많은 사람이 희생당했는데 경찰이 냅뒀다는게 말이됨? 단순히 괴수가 나와서 사람죽이는.. 아무런 이유와 스토리없는 영화인데 이걸 9점10점주는 사람은 뭐냐..\n",
      "기승전좀비? 평이 좋아 봤는데 실망.. 페이크다큐 좋아하시는 분들만 추천. 전 미스테리/호러 장르는 좋아하는데 페이크다큐식 연출은 좀 별로.. 이 영화는 차라리 19금으로 더 충격적으로 가든가.. 미국 대딩들의 허세 가득한 대화가 질령나네요.\n",
      "인간의 죄악을 다룬 영화라고나 할까? 사람은 마음속 깊이 추악한 자기만의 욕심을 가지고 있다.이 욕심을 주된 소재로 비인간적인 캐릭터를 세워 전개해 나간다. 영화를 본 후 기분이 개운치만은 않다.세상의 약자, 불쌍한 사람을 너무나도 학대한다.\n",
      "6점대는 아닌거 같다..곽경택영화는 항상 부담스럽긴 한데.. 겉멋 보다는 툭툭 던지는 욕설 섞인 구수한 사투리의 강한남성영화인거 같다. 출현 배우의 능력을 최대한 끌어내는 감독. 취향은 아니지만 영상 음악 나무랄데 없고 항상 대작스멜이 난다.\n",
      "난 중국영화를 좋아하지만 천녀유혼은 5번밖에 안봤다. 어릴때라 영화에 대해 무지해서 명절때 누나가 보는걸 따라봤다. 하지만 20대가 되고나서 그시절 왜 장국영, 왕조현이 넘사벽인지 이영화를 보고 느꼈다. 왕조현 장국영은 아시아최고라 생각한다.\n",
      "최근 보기드문 가족영화인 것 같아요!!보수적인 나도 애들의 천진스러운 생각과 가족에 대한 애듯한 사랑의 표현들에 나도 모르게 눈가에 눈물이 주르르 흐르더라고요! 다셋 ,여섯번정도..,저는 시사회에 두번 봤는데 , 두번째는 아들하고 함께봤어요!\n",
      "영어 잘 못 하는 분들이나 Skype 이용 안 해본 사람한테는 재미 없을 겁니다. 하지만, 연출, 플롯, 영상 등 작품성으로 보면 아주 훌륭한 작품입니다. SNS를 이용하는 모두가 꼭 반드시 봐야 된다고 생각합니다. 친구들한테도 추천해주세요.\n",
      "아주 개만도 못한 인간찌질이들이 악플다네ㅋㅋ 난 잼있게봤는데...영화는 말그대로 그냥 재미있으면 그만인거지..ㅋㅋㅋㅋ 이영화 악플달고 ㅈㄹ 하는 개 만도 못한 인간 찌질이 막장 인생들아.....ㅋㅋ 그냥 목 메러가라 OO 버려라 그냥 ㅋㅋㅋㅋ\n",
      "브로드웨이에서 직접 보고 영화로 또 봤지만 역시 최고의 감동! 말이필요없네요!! 연출도 훌륭했고 영화는 또 영화만의 매력이 있고 황홀한 음악과 화려한 볼거리로 가득했던 The Phantom of the opera!! Phantastic!!!!\n",
      "참나... 혼자 고고한척 지달떨고 부모님 개무시하는거 아님?... 아무리 드라마지만 현실적으로 친정부모님 넘 불쌍하게 나오자나 누가 요즘 그러고 살아? 여자들을 넘 매도하네요 작가님!!!! 이지아 부모님하고 매칭 안되게 고고한척도 웃끼고만 ㅋ\n",
      "리사랑메튜가 계속계속 어긋나서 보는내내 답답했음. 나한테엄청난 답답함을 준 영화. 아무리사랑한다고해도..알렉스때문에 보다가 짜증까지났음. 레베카랑 루크? 두사람안타까움. 영상효과좋고 전달하고자하는것도 알거같은데그냥 내입장!에선 시간낭비한영화.\n",
      "\"처음쓰는거라 뭐 부터 말을 해야할지 잘모르겠지만몇자 적어봅니다 태어나서 이런거 적는건처음인거같네요! 28년 살면서 눈물 펑펑흘린드라마 처음이네요.최고의 명대사☆이~애비 오늘은 늦지않았다 은중아\"\"드라마는 감독이 없나요?이름좀 알고싶은데..\"\n",
      "내가 영화를 보는 대부분의 이유는 재미를 위해서다. 이 영화를 까는 사람을 까는 사람들은 좋은 영화다 사회를 비판한다면서 옹호하는데 좋은 영화고 뭐고 일단 재미도 없고 허무하고 게다가 절망적이기 까지 하다. 적어도 나에겐 재미없었으므로 1점.\n",
      "영화를 왜 만들었는지 모르겠다책을 읽으며 상상했던것보다 작품묘사도 훨씬 못했고전개가 너무 두서없이 막 진행된다는 느낌....책이 재미있어서 영화를 찾아서 본건데 진짜실망밝은 분위기속에 주인공의 감정만 슬픈걸 상상했는데영화는 계속 우중충....\n",
      "제임슨 스타뎀 빠돌이로서 매영화 보지만 이영화에서 제임슨스타뎀은 어떠한 액션도 보여주지않았다. 끝부분 잠깐 30초만 보여주고 끝났다. 젠장. 이게 뭔가. 애초에 이연걸만 주목시켜주는 영화구만. 익스펜더블에서는 제임슨 스타뎀이 주목대상이었는데.\n",
      "분위기 진짜 이상하네 다들 별 다섯개 와 개쩜...나 이거 왕십리cgv에서 봤는데 관객들 다 한숨쉬고 진짜 노잼이더만 감독 연출 화면전환 전부 페이드 아웃 무슨 80년대 방화 보는듯 촌스럽고 구리구리하디다 뭐 다들 재밌어 죽겠다시니까 할말없네\n",
      "이 영화를 단순히 스시에 대한 다큐라고 보지 않으셨으면 합니다ㅋ 일부 전문가들은 이 영화의 전개 등이 뻔하다고 생각 하지만. 이는 감독의 의도를 생각하지 못한 짧은 생각인것 같습니다. 자신의 삶을 이 영화를 거울 삼아 되돌아 보셨으면 합니다.\n",
      "주제는 좋았고 구성은 괜찮다고 생각했다. 물론 처음에만.영화가 진행될수록 아침드라마같은 인물 관계와 작위적인 연출, 철학or과학에게 종교의 옳음을 입증하기보다는 그냥 크리스찬에게는 축복을 무신론자로 위장한 반신론자에게는 심판을 주는 느낌이다!\n",
      "여자는 남자 선택을 잘해야 한다. 솔직함이나 매너를 앞세우는 남자가 전부라 생각하면 남자의 검은 속이 보이지가 않거든. 우리나라 여자들은 남자 볼 줄을 모르는것 같아 욕 먹는거야. 영화 내용이 김정은이 친구를 잘못 만나서 고생하는 것 같네요.\n",
      "언제인가 여성작가의 소설을 읽다가 도저히 감정이입이 되지 않는 심리묘사나 감정기복등을 접하였다. 답답함에 스트레스가 생길 지경이어서 더이상 읽지 못했고 그 후로도 가끔 유사한 스트레스를 받는 경우는 십중팔구 여성의 작품이다. 이번에도 그랬다.\n",
      "\"주인공과 비슷한 경험을 했던 나로써 눈물까지 흘리며 본 영화네요. \"\"타임머신을 타고 처음만났던 때로 돌아가고 싶다. 그치만 친구로 지내려했던 상황을 바꾸려는게 아니다\"\" 는 말 공감이 많이 됬어요. 시작이 어찌됬건 행복했던 시간이니까요.\"\n",
      "북한이 남한보다 잘살았던 60년대..까딱하면 자유 대한민국이 무너질수 있는 시절이었다,북한보다 잘살기 위해, 체제경쟁에서 이기기 위해,자유 대한민국을 지키기위해 부유한 나라를 만들기 위해 박정희 전 대통령은 엄한 담임선생님 역활을 했던 것이다\n",
      "연출이 왜이런지.. ng없이 그냥 항상 ok싸인 내서 찍으신듯?? 배우분들 연기가 어쩜 그리도 어색하고 오글거리는지... 디테일도 없고 대사 하면서 눈 깜빡 거리는건 기본이고... 그걸 ok싸인 내신 감독님도 참... 결론 - 시간,돈아깝네요\n",
      "당시 학교에서처음봤였을것이다.수업용이라40분밖에못봤지만 뒷부분이궁금해 비디오방가서 돈주고봤던영화.일단 발상이 너무좋았다. 내가3명에게좋은일을해주면 그3명도 또다른3명에게를 반복되어 수많은사람들이행복할수있다 비록 비디오방이지만 돈이아깝지않았다.\n",
      "진짜 .. 미친 작품인 거 같다 ;; 다른 디즈니 작품들과는 다른 색깔을 가졌는데 ;; 그점때문에 인기가 많지는 않은듯한데 ;; 굉장히 ..매력이 넘치는 작품 ;;; 타 작품에 비해 예술적인 느낌이 더 많다..정말 잘만들었고 콰지모도 매력있다\n",
      "개인적으로는 에밀리 브론떼의 폭풍의 언덕, 유진 오닐의 밤의로의 기로 같은 작품을 떠올리게 하는 김기덕 감독 식 시나리오의 작품. 이번 작품 또한 오래 오래 생각할 부분이 많을 것 같다. 각본도, 연기도 정말 좋다. 긴장을 놓지 못하고 봤다.\n",
      "평한 애들이 제정신이 아님 ㅋㅋㅋ평할 가치도 없는 영화를..무슨ㅋㅋ억지웃음유발,진부한 스토리,연기마져 제대로 된사람이 없드만..평내용 읽어보면 대부분 미성년어린애들같은데ㅋㅋㅋ보는 안목수준이 그정도니,머 기대하고본거아니지만 해도해도 넘 하잖아.\n",
      "오스카는 흔히 볼수있는 아들이자 장난끼 많은 오빠 그리고 항상 미안해하는 남편. 감정이 앞서서 문제를 만들수도 있지만 언제나 마음은 내 가족, 내 사랑인 그 한사람. 정말 거지같은 상황속에서도 사랑이라는 한 단어로 살아남으려는 자를 짖밟았다.\n",
      "교훈도 얻었다. 그런데 시로노 미키의 6학년 담임은 인간 됨됨이가 안된거 같다... 선생이라는 사람이 얘들 놀리기나 하고... 성에 사는 아름다운 공주님은 누굴까라고 한 뒤 미키 얼굴 보고 표정 썩을 때 정말 쓰레기 같다고 느꼈다. 어른이..\n",
      "내가 영화감독이라면 이런 영화를 찍고 싶을 정도로 잘만들어진 영화다. 연기력과 OST가 상당히 몰입되고 군더더기 없는 깔끔한 연출에 진정성 있는 영화라고 생각한다. 액션씬은 없지만 지루하지 않고 벌써 끝났나 싶을정도로 몰입해서 봤다. 강추함.\n",
      "절대로 나오지 말았어야할 삼류 일본식 영화또 한국은 이 영화를 마치 레옹2인양 홍보를 했고레옹의 크나큰 오명을 칠했다레옹과 와사비는 전혀관계가 없고장르노를 일본놈들이 게임에 등장시키거나 자국 마케팅으로ㄴ돈을 엄청나게 투자해서 이런 불상사가 순\n",
      "ㅋㅋㅋ대단한다.. b급영화도 볼만한건 볼만한데 이건뭐 등급을주기도뭐한 z급보다 못한영화다. 도대체 어디서 공포고,스릴러를느끼고 마지막에 이런결말?ㅋㅋㅋㅋ 마지막에 정체라도 가르쳐주던가..개구리인간? 외계생명체?ㅋㅋㅋㅋ 진짜 0점이없는게 아쉽다\n",
      "참 할 말없게 만드네~~~ 몇십억대 집부터 이번에 캠핑카 까지~~ 한번 장볼때마다 몇십만원씩 쓰고 만든 음식은 먹는건지 다버리는지~ 참 나같은 소시민이 보기는 참불편하네~ 그래 다른건 다 참을수 있다 근데~ 제발 먹는것 가지고 장난은 말자~~\n",
      "연출력이 상당히 돋보이는 작품이다. 할배가 할매를 질식사 시킬 줄은 꿈에도 예측 못했다. 정말로충격적인 장면이었다. 할매가 나중에 어떻게 인생이 마감 할까? 내가 짐작하는바가 있었는데 갑자기 자기손으로할매를 보내다니...씁씁하기 그지 없었다.\n",
      "이럴거면 차라리 공개심사를 하라고.... 니네가 예술평가단이라고 내세운애들은 시청자눈에는 매수된 사기꾼으로밖에 안보이거든?그리고 시청률때문에 한사람씩 떨어뜨려야겟어?그리고 블루아이 입조심좀 하지?도발이 지나친거 같은데 자제좀해라 보기 불편하다\n",
      "독재를찬양하고 남여차별을앞세워 자식 투표권을막는 자식학대한 함익병은 당장 하차해라 애둘낳은여자부터권리를행사할수있다는 OO병같은 생각은 어디서 부터나온건지 병원도여성환자가 대부분일텐데 반드시 문닫아야됨 여성비하하면서 돈은 여자들 상대로 버는군?\n",
      "마지막까지 로맨틱한 사랑을 꿈꾸는 젊은 청춘들..허나 나같은 청춘의 마지막 기로에서도 아직까지 영원불멸 로맨틱을 꿈꾼다.. 이 영화는 점점 현실이 되어가서 실망을 안겨줄것 같다가도 그러나 영원불멸한 사랑은 꼭 존재한다는것을 가르쳐주었다 : )\n",
      "와...1편도 개 발암이였는데 2편도 여주인공때매 진짜 못볼정도다 연기가 무슨 눈크게뜨는거랑 불쌍한척 표정짓는거말고는 하는게 없음..진짜 보는내내답답 그렇다고이쁜것도아니고 진짜 개노답.얘가 인기가 많나?진짜캐스팅미스. 제니퍼로렌스랑 너무비교됨\n",
      "역시 그분 작품이죠? 기계처럼 딱딱한 대사처리며, 호들갑떨때 두번씩 말하는거며 전작과 다르지않는듯한 가족구성원이나...딱 누구 작품이라고 말 안해도 알겠네요. 수애씨를 따다다하는 대사처리로 만들어놓더니 이젠 엄지원씨군요. 고루하고 식상합니다.\n",
      "내내 기억하게 될 영화다. 역시 박신양, 이미연이다. 박신양의 난처할 때의 꺼방한 행동, 말투 가 재밌고 때론 무서우리만치 명철한 모습도 멋있다. 재판정에서 변호사역으로 이렇게 안정감 있고 설득력있게 연기하는 분이 또 있을까. 최고 명배우다!\n",
      "원숭이도 나무에서 떨어진다.감독님 울지마 OO...세익스피어 인 러브의 감독의 영화라기엔,너무 떨어지는 졸작.극장에서 대참패도 당연,홈 비디오용으로나 딱인 영화.이러다 감독 밥줄 끊기지나 않을까,걱정해줬더니만,보란듯이,죽을 쑤더라.한동안...\n",
      "주식회사와 협동조합의 극명한 차이는 그것이 과연 이익의 극대화에 도움이 되냐고 하는 점에 달려있다. 주식회사는 대주주의 천재성에 나머지 주주들이 편승할 수 있기에 의사결정의 폭발성이 보장된다. 하지만 협동조합은 1인 1표의 의사결정권을 나눈다\n",
      "심리공포 즐기는 분들 기억에 남을 수작입니다.개인적으로 컨저링보다 낫습니다.혹 선혈낭자나 깜놀 이런 공포 즐기는 분들은 재미없을 수도 있어요. 결말이 영화 미스트느낌인데..이 영화엔 그 결말이가장 적당했다고 봅니다.평점올리러 글 쓴건 첨이네요\n",
      "배우들 연기도 진짜 잘하고, 영화도 재밌어요..^^특히 영화초반부즘에 납치단들이 어떤 납치당한 여자랑 남자랑 서로 모르는사이인데 강제로 성관계 시키면서 촬영하는장면 보고 딱하고 안됐다싶으면서도 아 괜히 그 장면보면서 솔직히 좀 하앍 하앍...\n",
      "이에모토가 스토커고 이에모토가 범인이하는 버전의 영화 가 있다는데 정말 궁금하네여 그버전에서는 이에모토가 미키짱 집에 몰래 들어가 스토커질하는데 미키짱에게 들커서 창고에 들어 가 있다 불을 질러 미키가 죽고 마지막에 ''아프잖아 미키짱'하고끝\n",
      "평점 왜이리 높죠? 정말 말도 안되게 에너지 부글부글한 이상한 영화.... 광기 넘치는 에너지만 그득할뿐 허무하고 짜증나는 사이코 영화라고 말하고 싶음 .... -_- 영화관에서 집중해서 본다면 자칫잘못하면 악랄한 분위기에 압도될듯 머리아프고\n",
      "영화가 너무 억지스럽고 작위적이고 짜맞춘 느낌이 강함.. 게다가 김명민 졸답답에 똑같은 패턴 비슷한 장면이 너무 많아요. 감독님 이거보면 참고하고 담부턴 제대로된 영화만들어주시길.. 솔직히 영화시간 생각하면 오히려 돈받고 봐줘야하는 영화인듯.\n",
      "맨 마지막... 강렬했다. 특히 마지막 장면. 어째 슌지는 꼭 자살해서 죽을것 같더라니 ㅠㅠ 우리는 모두 각시탈이고 이 나라의 영웅이다. 우리나라 정말 만세다!! 이번 드라마로 많은 걸 생각한듯.. 교훈과 아쉬움과 뭉클함을 남기고 끝났구나ㅠㅠ\n",
      "이 영화를 몇 번이고 보면 볼수록, 하나의 문장이 머릿속에서 떠나질 않았다. 한국은 관객을 위한 영화가 없다. 제발 우리나라 영화가 같잖은 억지눈물샘만 자극하는 돈만 보는 거지같은 거 그만하고 이 영화의 반 정도만 되는 영화를 만들길 바란다.\n",
      "게스트는 4명인데 방송은 1명이 다했나봐요?편집이 이상한건가요...좀 실망이네요. 김준호 김대희님 얼마나 웃긴 말들 하셨겠어요?에피소드도 많고 근데 방송은 전부 클라라양..위주로..저도 클라라양 싱글즈때부터 좋아했는데 편파적 이라 생각드네요.\n",
      "상당히 오래만든 만화임에도 잘만들었고 철학적 잔인함 여러성적 표현 이것은 다분한 우리 인생을 묘사하고 있다 베르세르크야 말로 우리 무뎌진 머리를 환상속에 빠져들게 만든다 판타지의 최고봉 애니를 적당하게 봐왔지만 이보다 나은 애니는 첮기 힘들다\n",
      "얼마전 매드맥스를 봤는데 여배우가 궁금해서 찾아보니 샤를리즈 테론이었더군요. 하지만 이름만 알고있던 여배우였던지라 그동안 어떤 영화를 찍었나 찾아봤는데 몬스터...기회가 없어서 못봤던 영화여서 오늘 봤는데 정말 이 배우 망가져도 매력있습니다.\n",
      "노출에 관한 얘기만 가득하네...ㅋㅋㅋ. 그만큼 시나리오가 좀 빈약하네요. 줄러리 흐름도 그렇고 마지막도 매끄럽지 못하고...서스펜스도 아니고, 애로도 아닌...어정쩡한...스토리 이끌어가는 시점도 불분명하고..기자의 역할도 모호 하고....\n",
      "아진짜 별하나주기 아깝네 임효성 머에여?왜나와요? 김보성씨는어디로가고요?나이 저럿케 처먹고 장모님한테반말하고 젊은이들 교육제대로시키네요 함서방처럼 오래됀것도아니고 임효성 안나왔으면 좋겠네요 도덕도 모르는거같으니ㅡㅡ임효성 나오면 채널돌리고싶네요\n",
      "엔딩크레딧에 눈을 감고 엔딩곡을 끝까지 듣게 하네요.마지막4중주 처럼 주인공들의 인생도 25년동안 쉬지않고연주되어 불협화음을 일으켰지만 그래도 어떻게든 끝까지연주되어집니다. 음악 마지막4중주가 이 영화이며, 이 영화가 마지막4중주라는 곡입니다\n",
      "2013 cia군사력 평가에서 미국이1위 한국8위 북한이29위다. 그런데 이영화는 북한이 마치 미국이랑 마짱뜰수있는 나라로 나온다 북한을 쳐 미화해주는 OOO기 빨갱이 영화다....근데 양키놈들도 남남 북녀는 아는지 북한여장교는 절쌕쒸하다..\n",
      "?9주동안 내내 출생의비밀을 보면서 일주일의 스트레스가 확 풀렸는데 내일이 마지막이라니...... 특히 제가좋아하는 정이현(성유리)누나를 못보게되다니...... 하지만 그동안 저에게 즐거움을 주신 출생의비밀 여러분들께 깊은 감사를드립니다.^^\n",
      "마고가 루와 그의 가족과 있을때 중간중간 보여줬던 묘한 표정들 .. 외로워보이기도 하고 체념하는듯해보이기도 했는데 결국 마고가 루를 떠났던건 채워지지않는 외로움이 있어서가 아닐까 싶어요. 하지만 새로운 사랑도 이 외로움을 채워주지못한것같아요.\n",
      "윤재문보다 인구아재의 딸과 마누라가 더 얄밉더라 고기만두사왔는데 휙 지나치는장면, 그동안 깡패짓으로번돈 잘써놓고선 한번도 떳떳한적없었다고말하는 마눌년 송강호가 울먹이면서 당신은 이러면안되지 라고할땐 울컥했다범죄영화가아니라 가장영화 아버지영화다\n",
      "백설공주 재해석, 스토리도 컨셉도 소재도 좋은데 캐릭터들이 정 안가고 그만큼 몰입도 감정이입도 안되서 지루함. 특히 여주인공이 맨날 똑같은 표정. 기쁨슬픔분노가 다 그게 그거. 오히려 분노일색인 악역 여왕의 감정표현이 더 다채로우니 이건뭐..\n",
      "연기 못하는 여자들 때거지로 모아놨네~어쩜들 주인공들이 다들 하나같이 연길 못하는지~요즘 스토리는 재밋는데 연기가 안받쳐주니 보는게 불편하네~특히 요즘은 은현수 연기 보는게 역겨울정도~보리보리에서 나이 어린 연민정한테 연기들즘 배우고들 오지~\n",
      "노잼첫번째로 스토리의 디테일함과 개연성이 떨어짐두번째로 여주 배우 미션임파서블에서 처음봐서 이미지가 박혀있어서 그런지 이 영화에서의 연기가 아름답지가 않고 좀 여장부같았음세번째로 긴박성 제로 처음에 질질 끌다가 후반에 급 처리한 느낌결론:별로\n",
      "어릴적 EBS에서 종종 봤었는데 다시 보려니 볼 방법이 없다. 명작인데. 중광스님의 호연은 정말 볼만하다. 이두용감독 작품이라는 것도 의미가 있다. 전후 상황을 조금이라도 알면 더 재미있을 작품. 한국영화 좋아하는 사람에게는 무조건 추천한다.\n",
      "독창적이고 종교적 색채(?)가 짙은 영화이지만、맨 프롬 어스와 같이 많은 것을 생각하게 해주는 영화입니다。종교에 대한 생각 자체가 신이 아닌 믿음으로 정의 된다면 상당히 얻어 갈 수 있는 교훈적인 영화이지요~참、좋은 시간이었습니다。강력추천！！\n",
      "미국의 세대주의자들이 주장했던 잘못된 종말론이 영화에 들어있군요... 한마디로 신학적으로나 내용면으로나 정말 쓰레기영화입니다. 과거 한국교회에서 얼마나 잘못된 종말론을 가졌는지 그 병폐를 보여주는 쓰레기 영화임... 진리에서 벗어난 영화...\n",
      "이 영화좋다고 하는 것들은 가식이다 정말영화적으로 좋은진 모르겠고 네이버에서 추천하길래 한번 봤는데 앞에는 재미있고 흥미있었지만 뒷부분에 저 괴생명체가 남주 유혹하는 그 표정이랑 그짓하는거 일부러 건너띄기 했지만 잠깐이라도 봤는데 토할것 같다\n",
      "가족들이 답답하다는 사람들 봐라. 미국은 진짜 트루 법치국가기때문에 그런거다. 사람들이 항상 법을생각하고 이성적으로 판단하니깐 저런판단을 하는거다. 감성에만 호소하려는 한국사람은 저런 정서를 이해하기 힘들겠지. 영화는 최고였다. 특히 연기력.\n",
      "아.. 한숨만나옴..아낙수나문의 부활 뭐 이런걸 기대했는데.뭐임?심지어만화도스토리가있건만.이건.피라미드 탐험만하다가 끝.출연진들 왜이럼? 앞짱구여자 빌빌거리다 피 몇방울내주고.점술사는종일찡찡거리다끝남. 졸업작품찍은줄앎. 작품이라는단어도아까움.\n"
     ]
    }
   ],
   "source": [
    "def check_sentence_with_length(raw, length):\n",
    "    count = 0\n",
    "    \n",
    "    for sen in raw:\n",
    "        if len(sen) == length:\n",
    "            print(sen)\n",
    "            count += 1\n",
    "            if count > 100: return \n",
    "\n",
    "check_sentence_with_length(document, 135)"
   ]
  },
  {
   "cell_type": "code",
   "execution_count": 124,
   "id": "expressed-least",
   "metadata": {},
   "outputs": [
    {
     "name": "stdout",
     "output_type": "stream",
     "text": [
      "아\n",
      "잼\n",
      "1\n",
      "4\n",
      "굿\n",
      "짱\n",
      "휴\n",
      ".\n",
      "음\n",
      "?\n",
      "ㅎ\n",
      "ㅋ\n",
      "즐\n",
      "♥\n",
      "굳\n",
      "네\n",
      "ㅇ\n",
      "k\n",
      "ㅠ\n",
      "쒯\n",
      "♬\n",
      "토\n",
      "O\n",
      "똥\n",
      "z\n",
      "헐\n",
      "삼\n",
      "꽝\n",
      "!\n",
      "풉\n",
      "ㅅ\n",
      "왜\n",
      "ㄴ\n",
      "쉣\n",
      "봐\n",
      "뿌\n",
      "ㅜ\n",
      "♡\n",
      "ㅁ\n",
      "0\n",
      "ㅉ\n",
      "d\n",
      "흥\n",
      "乃\n",
      "찜\n",
      "귯\n",
      "린\n",
      "시\n",
      "ㅗ\n",
      "a\n",
      "c\n",
      "흠\n",
      "웅\n",
      "ㅣ\n",
      "오\n",
      "9\n",
      "쩜\n",
      "애\n",
      "헝\n",
      "쨩\n",
      "f\n",
      "움\n",
      "ㄳ\n",
      "업\n",
      "헉\n",
      "군\n",
      "b\n",
      ";\n",
      "g\n",
      "올\n",
      "걍\n",
      "허\n",
      "-\n",
      "쀍\n",
      "로\n",
      "ㄹ\n",
      "ㅂ\n",
      "갑\n",
      "즛\n",
      "킥\n",
      "함\n",
      "진\n",
      "ㅡ\n",
      "잠\n",
      "곧\n",
      "ㅍ\n",
      "h\n",
      "·\n",
      "캬\n",
      "ㅆ\n",
      ",\n",
      "풋\n",
      "ㄱ\n",
      "파\n",
      "ㄷ\n",
      "웩\n",
      "꺅\n",
      "욜\n",
      "ㅄ\n",
      "2\n",
      "핡\n"
     ]
    }
   ],
   "source": [
    "check_sentence_with_length(document, 1)"
   ]
  },
  {
   "cell_type": "code",
   "execution_count": 125,
   "id": "developmental-nursery",
   "metadata": {},
   "outputs": [
    {
     "name": "stdout",
     "output_type": "stream",
     "text": [
      "카밀라벨 발연기\n",
      "내용이 이상해;\n",
      "너무 좋은 영화\n",
      "가발 쓰고 싶다\n",
      "0점은 없나??\n",
      "말랑말랑 ...\n",
      "그냥. 최고다.\n",
      "감동적인 영화다\n",
      "평점 조절...\n",
      "재미없음 -_-\n",
      "전율을 느꼈다.\n",
      "재미잇음매우~~\n",
      "좋네..괜찮고.\n",
      "ㅋㅋㅋ 재미없음\n",
      "파괴된 관객들.\n",
      "나수윤의 발견!\n",
      "너무 배배꼬았다\n",
      "정말 재미있어요\n",
      "그래서 2편은?\n",
      "이건그냥 야동임\n",
      "나에게는 수면제\n",
      "같이울게햇으니까\n",
      "레알 쩐다 ㅇㅇ\n",
      "별반개도 아깝다\n",
      "사랑해요 공효진\n",
      "좋은 로맨스물.\n",
      "개 쌈마이 영화\n",
      "재밌다. 그뿐.\n",
      "빛 좋은 개살구\n",
      "쵝오의 드라마~\n",
      "테러방지법...\n",
      "진정 한심하다.\n",
      "꼭보소 두번보소\n",
      "여지없는 푸념.\n",
      "아 양민수(2)\n",
      "까브리머싯씀ㅎㅎ\n",
      "개연성 개나줘.\n",
      "그냥병맛ㅋㅋㅋㅋ\n",
      "흠 좀 그렇던데\n",
      "기대 이하다..\n",
      "최고의 액션배우\n",
      "명작...ㅎㅎ;\n",
      "추억의 명작만화\n",
      "진리와 평등이제\n",
      "공포영화 맞니?\n",
      "개구쟁이 스머프\n",
      "닥치고 내돈내놔\n",
      "감독의 내공부족\n",
      "이거 꾀 재밌다\n",
      "양요섭 표절논란\n",
      "별로 같은뎅..\n",
      "멋지다 조문탁!\n",
      "인내력 테스트.\n",
      "이건 뭘 까요?\n",
      "저평가된 007\n",
      "어덜트 비디오용\n",
      "박찬욱편의 승리\n",
      "화끈한 액션영화\n",
      "디카프리오, 끝\n",
      "심형래니까 1점\n",
      "쫌 아니다...\n",
      "시간잘때웠습니당\n",
      "희극 또는 비극\n",
      "진부한 재난영화\n",
      "So What?\n",
      "멸망 ㅈㄹ 한다\n",
      "하나의 예술작품\n",
      "완전 재밋습니다\n",
      "zzzzzzzz\n",
      "아프네요 가슴이\n",
      "오자룡은기어갔냐\n",
      "김리나가 이쁘다\n",
      "동영상 안 나와\n",
      "아름다우네요,,\n",
      "안보여요 ///\n",
      "이거 너무 좋아\n",
      "그닥 재미없던데\n",
      "이것도 영화냐?\n",
      "한국영화 참아라\n",
      "흑 부럽다.ㅋㅋ\n",
      "너무 뻔한 전개\n",
      "얘네들 뭐냐;;\n",
      "형식미의 절정.\n",
      "인상적인 영화.\n",
      "전설까지야...\n",
      "휴그랜트만의영화\n",
      "2도 볼만함..\n",
      "헛웃음만 나와.\n",
      "보지마요....\n",
      "사토시가나오니까\n",
      "제목 그대로 ~\n",
      "재밌을것 같아요\n",
      "스토리가 좋네요\n",
      "평점 왜케 낮어\n",
      "영화이해가 안됨\n",
      "ㅡ.,ㅡ; 뭐얌\n",
      "재밌겠당..~~\n",
      "난졸라재밋게봣음\n",
      "0점은 없는건지\n",
      "으헝 재미없겠디\n",
      "충무로의 OOO\n"
     ]
    }
   ],
   "source": [
    "check_sentence_with_length(document, 8)"
   ]
  },
  {
   "cell_type": "markdown",
   "id": "portable-thanksgiving",
   "metadata": {},
   "source": [
    "### 최적의 max_len을 찾는 함수"
   ]
  },
  {
   "cell_type": "code",
   "execution_count": 126,
   "id": "native-hawaiian",
   "metadata": {},
   "outputs": [],
   "source": [
    "def below_threshold_len(max_len, nested_list):\n",
    "    cnt = 0\n",
    "    for s in nested_list:\n",
    "        if(len(s) <= max_len):\n",
    "            cnt = cnt + 1\n",
    "    print('전체 샘플 중 길이가 %s 이하인 샘플의 비율: %s'%(max_len, (cnt / len(nested_list))*100))"
   ]
  },
  {
   "cell_type": "code",
   "execution_count": 127,
   "id": "optimum-standard",
   "metadata": {},
   "outputs": [
    {
     "name": "stdout",
     "output_type": "stream",
     "text": [
      "전체 샘플 중 길이가 36 이하인 샘플의 비율: 66.12920879451643\n",
      "전체 샘플 중 길이가 140 이하인 샘플의 비율: 99.96237566868697\n",
      "전체 샘플 중 길이가 70 이하인 샘플의 비율: 88.73869559863732\n",
      "전체 샘플 중 길이가 50 이하인 샘플의 비율: 82.08808197999754\n",
      "전체 샘플 중 길이가 60 이하인 샘플의 비율: 85.92850008893024\n"
     ]
    }
   ],
   "source": [
    "below_threshold_len(36, document)  # 평균\n",
    "below_threshold_len(140, document)  # 최장 \n",
    "below_threshold_len(70, document)  # 중앙값\n",
    "below_threshold_len(50, document)  \n",
    "below_threshold_len(60, document)  "
   ]
  },
  {
   "cell_type": "code",
   "execution_count": 132,
   "id": "expanded-perception",
   "metadata": {},
   "outputs": [
    {
     "data": {
      "image/png": "[encoded data removed]",
      "text/plain": [
       "<Figure size 432x288 with 1 Axes>"
      ]
     },
     "metadata": {
      "needs_background": "light"
     },
     "output_type": "display_data"
    }
   ],
   "source": [
    "max_len = 55   \n",
    "min_len = 0\n",
    "\n",
    "# 길이 조건에 맞는 문장만 선택합니다.\n",
    "\n",
    "filtered_corpus = [s for s in naver_review if (len(s) < max_len)]\n",
    "\n",
    "\n",
    "# 데이터프레임 조건부 슬라이싱 \n",
    "# str.len() 두 함수에 대해 알 수 있었다. \n",
    "train_data = naver_review[naver_review.str.len() < max_len]   \n",
    "\n",
    "\n",
    "\n",
    "sentence_length = np.zeros((max_len), dtype=np.int)\n",
    "\n",
    "naver_review.head()\n",
    "\n",
    "for sen in train_data:   # 중복이 제거된 코퍼스 기준\n",
    "    sentence_length[len(sen)-1] += 1\n",
    "\n",
    "plt.bar(range(max_len), sentence_length, width=1.0)\n",
    "plt.title(\"Sentence Length Distribution\")\n",
    "plt.show()"
   ]
  },
  {
   "cell_type": "code",
   "execution_count": 133,
   "id": "western-lodge",
   "metadata": {
    "scrolled": true
   },
   "outputs": [
    {
     "data": {
      "image/png": "[encoded data removed]",
      "text/plain": [
       "<Figure size 864x360 with 1 Axes>"
      ]
     },
     "metadata": {
      "needs_background": "light"
     },
     "output_type": "display_data"
    }
   ],
   "source": [
    "plt.figure(figsize=(12,5))\n",
    "plt.boxplot([sentence_length], showmeans=True)\n",
    "plt.show()"
   ]
  },
  {
   "cell_type": "markdown",
   "id": "portuguese-guide",
   "metadata": {},
   "source": [
    "## 전처리 하다가 몇개 데이터 날려먹어서 LSTM 모델 돌릴 때 사이즈가 안 맞아서 다시 EDA 처음부터 시작!"
   ]
  },
  {
   "cell_type": "code",
   "execution_count": 148,
   "id": "viral-pearl",
   "metadata": {},
   "outputs": [
    {
     "data": {
      "text/html": [
       "<div>\n",
       "<style scoped>\n",
       "    .dataframe tbody tr th:only-of-type {\n",
       "        vertical-align: middle;\n",
       "    }\n",
       "\n",
       "    .dataframe tbody tr th {\n",
       "        vertical-align: top;\n",
       "    }\n",
       "\n",
       "    .dataframe thead th {\n",
       "        text-align: right;\n",
       "    }\n",
       "</style>\n",
       "<table border=\"1\" class=\"dataframe\">\n",
       "  <thead>\n",
       "    <tr style=\"text-align: right;\">\n",
       "      <th></th>\n",
       "      <th>id</th>\n",
       "      <th>document</th>\n",
       "      <th>label</th>\n",
       "    </tr>\n",
       "  </thead>\n",
       "  <tbody>\n",
       "    <tr>\n",
       "      <th>0</th>\n",
       "      <td>9976970</td>\n",
       "      <td>아 더빙.. 진짜 짜증나네요 목소리</td>\n",
       "      <td>0</td>\n",
       "    </tr>\n",
       "    <tr>\n",
       "      <th>1</th>\n",
       "      <td>3819312</td>\n",
       "      <td>흠...포스터보고 초딩영화줄....오버연기조차 가볍지 않구나</td>\n",
       "      <td>1</td>\n",
       "    </tr>\n",
       "    <tr>\n",
       "      <th>2</th>\n",
       "      <td>10265843</td>\n",
       "      <td>너무재밓었다그래서보는것을추천한다</td>\n",
       "      <td>0</td>\n",
       "    </tr>\n",
       "    <tr>\n",
       "      <th>3</th>\n",
       "      <td>9045019</td>\n",
       "      <td>교도소 이야기구먼 ..솔직히 재미는 없다..평점 조정</td>\n",
       "      <td>0</td>\n",
       "    </tr>\n",
       "    <tr>\n",
       "      <th>4</th>\n",
       "      <td>6483659</td>\n",
       "      <td>사이몬페그의 익살스런 연기가 돋보였던 영화!스파이더맨에서 늙어보이기만 했던 커스틴 ...</td>\n",
       "      <td>1</td>\n",
       "    </tr>\n",
       "  </tbody>\n",
       "</table>\n",
       "</div>"
      ],
      "text/plain": [
       "         id                                           document  label\n",
       "0   9976970                                아 더빙.. 진짜 짜증나네요 목소리      0\n",
       "1   3819312                  흠...포스터보고 초딩영화줄....오버연기조차 가볍지 않구나      1\n",
       "2  10265843                                  너무재밓었다그래서보는것을추천한다      0\n",
       "3   9045019                      교도소 이야기구먼 ..솔직히 재미는 없다..평점 조정      0\n",
       "4   6483659  사이몬페그의 익살스런 연기가 돋보였던 영화!스파이더맨에서 늙어보이기만 했던 커스틴 ...      1"
      ]
     },
     "metadata": {},
     "output_type": "display_data"
    },
    {
     "data": {
      "text/html": [
       "<div>\n",
       "<style scoped>\n",
       "    .dataframe tbody tr th:only-of-type {\n",
       "        vertical-align: middle;\n",
       "    }\n",
       "\n",
       "    .dataframe tbody tr th {\n",
       "        vertical-align: top;\n",
       "    }\n",
       "\n",
       "    .dataframe thead th {\n",
       "        text-align: right;\n",
       "    }\n",
       "</style>\n",
       "<table border=\"1\" class=\"dataframe\">\n",
       "  <thead>\n",
       "    <tr style=\"text-align: right;\">\n",
       "      <th></th>\n",
       "      <th>id</th>\n",
       "      <th>document</th>\n",
       "      <th>label</th>\n",
       "    </tr>\n",
       "  </thead>\n",
       "  <tbody>\n",
       "    <tr>\n",
       "      <th>0</th>\n",
       "      <td>6270596</td>\n",
       "      <td>굳 ㅋ</td>\n",
       "      <td>1</td>\n",
       "    </tr>\n",
       "    <tr>\n",
       "      <th>1</th>\n",
       "      <td>9274899</td>\n",
       "      <td>GDNTOPCLASSINTHECLUB</td>\n",
       "      <td>0</td>\n",
       "    </tr>\n",
       "    <tr>\n",
       "      <th>2</th>\n",
       "      <td>8544678</td>\n",
       "      <td>뭐야 이 평점들은.... 나쁘진 않지만 10점 짜리는 더더욱 아니잖아</td>\n",
       "      <td>0</td>\n",
       "    </tr>\n",
       "    <tr>\n",
       "      <th>3</th>\n",
       "      <td>6825595</td>\n",
       "      <td>지루하지는 않은데 완전 막장임... 돈주고 보기에는....</td>\n",
       "      <td>0</td>\n",
       "    </tr>\n",
       "    <tr>\n",
       "      <th>4</th>\n",
       "      <td>6723715</td>\n",
       "      <td>3D만 아니었어도 별 다섯 개 줬을텐데.. 왜 3D로 나와서 제 심기를 불편하게 하죠??</td>\n",
       "      <td>0</td>\n",
       "    </tr>\n",
       "  </tbody>\n",
       "</table>\n",
       "</div>"
      ],
      "text/plain": [
       "        id                                           document  label\n",
       "0  6270596                                                굳 ㅋ      1\n",
       "1  9274899                               GDNTOPCLASSINTHECLUB      0\n",
       "2  8544678             뭐야 이 평점들은.... 나쁘진 않지만 10점 짜리는 더더욱 아니잖아      0\n",
       "3  6825595                   지루하지는 않은데 완전 막장임... 돈주고 보기에는....      0\n",
       "4  6723715  3D만 아니었어도 별 다섯 개 줬을텐데.. 왜 3D로 나와서 제 심기를 불편하게 하죠??      0"
      ]
     },
     "metadata": {},
     "output_type": "display_data"
    }
   ],
   "source": [
    "train_data = pd.read_table(\"data/nsmc/\"+\"ratings_train.txt\")\n",
    "test_data = pd.read_table(\"data/nsmc/\"+\"ratings_test.txt\")\n",
    "\n",
    "display(train_data.head())\n",
    "display(test_data.head())"
   ]
  },
  {
   "cell_type": "code",
   "execution_count": 149,
   "id": "bigger-alloy",
   "metadata": {
    "scrolled": true
   },
   "outputs": [
    {
     "name": "stdout",
     "output_type": "stream",
     "text": [
      "학습데이터 유니크 : 146182\n",
      "타겟데이터 유니크 :  2\n"
     ]
    }
   ],
   "source": [
    "print(\"학습데이터 유니크 :\",train_data['document'].nunique()) #  약 4,000개의 중복 샘플이 존재\n",
    "print(\"타겟데이터 유니크 : \",train_data['label'].nunique())"
   ]
  },
  {
   "cell_type": "code",
   "execution_count": 151,
   "id": "assured-calculation",
   "metadata": {},
   "outputs": [],
   "source": [
    "# 중복데이터 제거\n",
    "train_data.drop_duplicates(subset=['document'], inplace=True) # drop_duplicates 활용"
   ]
  },
  {
   "cell_type": "code",
   "execution_count": 153,
   "id": "eligible-brunswick",
   "metadata": {
    "scrolled": false
   },
   "outputs": [
    {
     "name": "stdout",
     "output_type": "stream",
     "text": [
      "총 샘플의 수 : 146183\n"
     ]
    }
   ],
   "source": [
    "# 학습데이터 개수 다시 확인\n",
    "print('총 샘플의 수 :',len(train_data))"
   ]
  },
  {
   "cell_type": "code",
   "execution_count": 154,
   "id": "powerful-pepper",
   "metadata": {},
   "outputs": [
    {
     "name": "stdout",
     "output_type": "stream",
     "text": [
      "True\n"
     ]
    }
   ],
   "source": [
    "# document에 null 값이 있는지 확인\n",
    "print(train_data.isnull().values.any())"
   ]
  },
  {
   "cell_type": "code",
   "execution_count": 155,
   "id": "complete-affair",
   "metadata": {},
   "outputs": [
    {
     "data": {
      "text/html": [
       "<div>\n",
       "<style scoped>\n",
       "    .dataframe tbody tr th:only-of-type {\n",
       "        vertical-align: middle;\n",
       "    }\n",
       "\n",
       "    .dataframe tbody tr th {\n",
       "        vertical-align: top;\n",
       "    }\n",
       "\n",
       "    .dataframe thead th {\n",
       "        text-align: right;\n",
       "    }\n",
       "</style>\n",
       "<table border=\"1\" class=\"dataframe\">\n",
       "  <thead>\n",
       "    <tr style=\"text-align: right;\">\n",
       "      <th></th>\n",
       "      <th>id</th>\n",
       "      <th>document</th>\n",
       "      <th>label</th>\n",
       "    </tr>\n",
       "  </thead>\n",
       "  <tbody>\n",
       "    <tr>\n",
       "      <th>25857</th>\n",
       "      <td>2172111</td>\n",
       "      <td>NaN</td>\n",
       "      <td>1</td>\n",
       "    </tr>\n",
       "  </tbody>\n",
       "</table>\n",
       "</div>"
      ],
      "text/plain": [
       "            id document  label\n",
       "25857  2172111      NaN      1"
      ]
     },
     "execution_count": 155,
     "metadata": {},
     "output_type": "execute_result"
    }
   ],
   "source": [
    "# 어느 위치에 누락값이 있는지 확인\n",
    "train_data.loc[train_data.document.isnull()]"
   ]
  },
  {
   "cell_type": "code",
   "execution_count": 156,
   "id": "through-syndication",
   "metadata": {},
   "outputs": [
    {
     "name": "stdout",
     "output_type": "stream",
     "text": [
      "False\n"
     ]
    }
   ],
   "source": [
    "# Null값 제거\n",
    "train_data = train_data.dropna(how = 'any') # Null 값이 존재하는 행 제거\n",
    "print(train_data.isnull().values.any()) # Null 값이 존재하는지 확인"
   ]
  },
  {
   "cell_type": "code",
   "execution_count": 157,
   "id": "afraid-savage",
   "metadata": {},
   "outputs": [
    {
     "name": "stderr",
     "output_type": "stream",
     "text": [
      "/opt/conda/lib/python3.7/site-packages/ipykernel_launcher.py:2: FutureWarning: The default value of regex will change from True to False in a future version.\n",
      "  \n"
     ]
    },
    {
     "data": {
      "text/html": [
       "<div>\n",
       "<style scoped>\n",
       "    .dataframe tbody tr th:only-of-type {\n",
       "        vertical-align: middle;\n",
       "    }\n",
       "\n",
       "    .dataframe tbody tr th {\n",
       "        vertical-align: top;\n",
       "    }\n",
       "\n",
       "    .dataframe thead th {\n",
       "        text-align: right;\n",
       "    }\n",
       "</style>\n",
       "<table border=\"1\" class=\"dataframe\">\n",
       "  <thead>\n",
       "    <tr style=\"text-align: right;\">\n",
       "      <th></th>\n",
       "      <th>id</th>\n",
       "      <th>document</th>\n",
       "      <th>label</th>\n",
       "    </tr>\n",
       "  </thead>\n",
       "  <tbody>\n",
       "    <tr>\n",
       "      <th>0</th>\n",
       "      <td>9976970</td>\n",
       "      <td>아 더빙 진짜 짜증나네요 목소리</td>\n",
       "      <td>0</td>\n",
       "    </tr>\n",
       "    <tr>\n",
       "      <th>1</th>\n",
       "      <td>3819312</td>\n",
       "      <td>흠포스터보고 초딩영화줄오버연기조차 가볍지 않구나</td>\n",
       "      <td>1</td>\n",
       "    </tr>\n",
       "    <tr>\n",
       "      <th>2</th>\n",
       "      <td>10265843</td>\n",
       "      <td>너무재밓었다그래서보는것을추천한다</td>\n",
       "      <td>0</td>\n",
       "    </tr>\n",
       "    <tr>\n",
       "      <th>3</th>\n",
       "      <td>9045019</td>\n",
       "      <td>교도소 이야기구먼 솔직히 재미는 없다평점 조정</td>\n",
       "      <td>0</td>\n",
       "    </tr>\n",
       "    <tr>\n",
       "      <th>4</th>\n",
       "      <td>6483659</td>\n",
       "      <td>사이몬페그의 익살스런 연기가 돋보였던 영화스파이더맨에서 늙어보이기만 했던 커스틴 던...</td>\n",
       "      <td>1</td>\n",
       "    </tr>\n",
       "  </tbody>\n",
       "</table>\n",
       "</div>"
      ],
      "text/plain": [
       "         id                                           document  label\n",
       "0   9976970                                  아 더빙 진짜 짜증나네요 목소리      0\n",
       "1   3819312                         흠포스터보고 초딩영화줄오버연기조차 가볍지 않구나      1\n",
       "2  10265843                                  너무재밓었다그래서보는것을추천한다      0\n",
       "3   9045019                          교도소 이야기구먼 솔직히 재미는 없다평점 조정      0\n",
       "4   6483659  사이몬페그의 익살스런 연기가 돋보였던 영화스파이더맨에서 늙어보이기만 했던 커스틴 던...      1"
      ]
     },
     "execution_count": 157,
     "metadata": {},
     "output_type": "execute_result"
    }
   ],
   "source": [
    "# 데이터 전처리\n",
    "train_data['document'] = train_data['document'].str.replace(\"[^ㄱ-ㅎㅏ-ㅣ가-힣 ]\",\"\") # 한글과 공백을 제외하고 모두 제거\n",
    "train_data[:5]"
   ]
  },
  {
   "cell_type": "code",
   "execution_count": 158,
   "id": "senior-secret",
   "metadata": {},
   "outputs": [
    {
     "name": "stdout",
     "output_type": "stream",
     "text": [
      "id            0\n",
      "document    789\n",
      "label         0\n",
      "dtype: int64\n"
     ]
    },
    {
     "name": "stderr",
     "output_type": "stream",
     "text": [
      "/opt/conda/lib/python3.7/site-packages/ipykernel_launcher.py:2: FutureWarning: The default value of regex will change from True to False in a future version.\n",
      "  \n"
     ]
    }
   ],
   "source": [
    "# 바뀐 데이터 내부에 null값이 있는지 다시 확인\n",
    "train_data['document'] = train_data['document'].str.replace('^ +', \"\") # white space 데이터를 empty value로 변경\n",
    "train_data['document'].replace('', np.nan, inplace=True)\n",
    "print(train_data.isnull().sum())"
   ]
  },
  {
   "cell_type": "code",
   "execution_count": 159,
   "id": "genuine-arkansas",
   "metadata": {},
   "outputs": [
    {
     "name": "stdout",
     "output_type": "stream",
     "text": [
      "145393\n"
     ]
    }
   ],
   "source": [
    "# null 데이터 삭제\n",
    "train_data = train_data.dropna(how = 'any')\n",
    "print(len(train_data))"
   ]
  },
  {
   "cell_type": "code",
   "execution_count": 160,
   "id": "wound-journey",
   "metadata": {},
   "outputs": [
    {
     "name": "stdout",
     "output_type": "stream",
     "text": [
      "전처리 후 테스트용 샘플의 개수 : 48852\n"
     ]
    },
    {
     "name": "stderr",
     "output_type": "stream",
     "text": [
      "/opt/conda/lib/python3.7/site-packages/ipykernel_launcher.py:3: FutureWarning: The default value of regex will change from True to False in a future version.\n",
      "  This is separate from the ipykernel package so we can avoid doing imports until\n",
      "/opt/conda/lib/python3.7/site-packages/ipykernel_launcher.py:4: FutureWarning: The default value of regex will change from True to False in a future version.\n",
      "  after removing the cwd from sys.path.\n"
     ]
    }
   ],
   "source": [
    "# 테스트데이터에도 동일한 과정 진행\n",
    "test_data.drop_duplicates(subset = ['document'], inplace=True) # document 열에서 중복인 내용이 있다면 중복 제거\n",
    "test_data['document'] = test_data['document'].str.replace(\"[^ㄱ-ㅎㅏ-ㅣ가-힣 ]\",\"\") # 정규 표현식 수행\n",
    "test_data['document'] = test_data['document'].str.replace('^ +', \"\") # 공백은 empty 값으로 변경\n",
    "test_data['document'].replace('', np.nan, inplace=True) # 공백은 Null 값으로 변경\n",
    "test_data = test_data.dropna(how='any') # Null 값 제거\n",
    "print('전처리 후 테스트용 샘플의 개수 :',len(test_data))"
   ]
  },
  {
   "cell_type": "code",
   "execution_count": 161,
   "id": "minimal-allocation",
   "metadata": {},
   "outputs": [
    {
     "name": "stdout",
     "output_type": "stream",
     "text": [
      "<class 'pandas.core.frame.DataFrame'>\n",
      "Int64Index: 145393 entries, 0 to 149999\n",
      "Data columns (total 3 columns):\n",
      " #   Column    Non-Null Count   Dtype \n",
      "---  ------    --------------   ----- \n",
      " 0   id        145393 non-null  int64 \n",
      " 1   document  145393 non-null  object\n",
      " 2   label     145393 non-null  int64 \n",
      "dtypes: int64(2), object(1)\n",
      "memory usage: 4.4+ MB\n",
      "==================================================\n",
      "<class 'pandas.core.frame.DataFrame'>\n",
      "Int64Index: 48852 entries, 0 to 49999\n",
      "Data columns (total 3 columns):\n",
      " #   Column    Non-Null Count  Dtype \n",
      "---  ------    --------------  ----- \n",
      " 0   id        48852 non-null  int64 \n",
      " 1   document  48852 non-null  object\n",
      " 2   label     48852 non-null  int64 \n",
      "dtypes: int64(2), object(1)\n",
      "memory usage: 1.5+ MB\n"
     ]
    }
   ],
   "source": [
    "# 데이터 확인\n",
    "train_data.info()\n",
    "print(\"=\"*50)\n",
    "test_data.info() "
   ]
  },
  {
   "cell_type": "code",
   "execution_count": 162,
   "id": "narrative-merchandise",
   "metadata": {
    "scrolled": true
   },
   "outputs": [
    {
     "data": {
      "text/html": [
       "<div>\n",
       "<style scoped>\n",
       "    .dataframe tbody tr th:only-of-type {\n",
       "        vertical-align: middle;\n",
       "    }\n",
       "\n",
       "    .dataframe tbody tr th {\n",
       "        vertical-align: top;\n",
       "    }\n",
       "\n",
       "    .dataframe thead th {\n",
       "        text-align: right;\n",
       "    }\n",
       "</style>\n",
       "<table border=\"1\" class=\"dataframe\">\n",
       "  <thead>\n",
       "    <tr style=\"text-align: right;\">\n",
       "      <th></th>\n",
       "      <th>id</th>\n",
       "      <th>document</th>\n",
       "      <th>label</th>\n",
       "    </tr>\n",
       "  </thead>\n",
       "  <tbody>\n",
       "    <tr>\n",
       "      <th>0</th>\n",
       "      <td>9976970</td>\n",
       "      <td>아 더빙 진짜 짜증나네요 목소리</td>\n",
       "      <td>0</td>\n",
       "    </tr>\n",
       "    <tr>\n",
       "      <th>1</th>\n",
       "      <td>3819312</td>\n",
       "      <td>흠포스터보고 초딩영화줄오버연기조차 가볍지 않구나</td>\n",
       "      <td>1</td>\n",
       "    </tr>\n",
       "    <tr>\n",
       "      <th>2</th>\n",
       "      <td>10265843</td>\n",
       "      <td>너무재밓었다그래서보는것을추천한다</td>\n",
       "      <td>0</td>\n",
       "    </tr>\n",
       "    <tr>\n",
       "      <th>3</th>\n",
       "      <td>9045019</td>\n",
       "      <td>교도소 이야기구먼 솔직히 재미는 없다평점 조정</td>\n",
       "      <td>0</td>\n",
       "    </tr>\n",
       "    <tr>\n",
       "      <th>4</th>\n",
       "      <td>6483659</td>\n",
       "      <td>사이몬페그의 익살스런 연기가 돋보였던 영화스파이더맨에서 늙어보이기만 했던 커스틴 던...</td>\n",
       "      <td>1</td>\n",
       "    </tr>\n",
       "  </tbody>\n",
       "</table>\n",
       "</div>"
      ],
      "text/plain": [
       "         id                                           document  label\n",
       "0   9976970                                  아 더빙 진짜 짜증나네요 목소리      0\n",
       "1   3819312                         흠포스터보고 초딩영화줄오버연기조차 가볍지 않구나      1\n",
       "2  10265843                                  너무재밓었다그래서보는것을추천한다      0\n",
       "3   9045019                          교도소 이야기구먼 솔직히 재미는 없다평점 조정      0\n",
       "4   6483659  사이몬페그의 익살스런 연기가 돋보였던 영화스파이더맨에서 늙어보이기만 했던 커스틴 던...      1"
      ]
     },
     "metadata": {},
     "output_type": "display_data"
    },
    {
     "data": {
      "text/html": [
       "<div>\n",
       "<style scoped>\n",
       "    .dataframe tbody tr th:only-of-type {\n",
       "        vertical-align: middle;\n",
       "    }\n",
       "\n",
       "    .dataframe tbody tr th {\n",
       "        vertical-align: top;\n",
       "    }\n",
       "\n",
       "    .dataframe thead th {\n",
       "        text-align: right;\n",
       "    }\n",
       "</style>\n",
       "<table border=\"1\" class=\"dataframe\">\n",
       "  <thead>\n",
       "    <tr style=\"text-align: right;\">\n",
       "      <th></th>\n",
       "      <th>id</th>\n",
       "      <th>document</th>\n",
       "      <th>label</th>\n",
       "    </tr>\n",
       "  </thead>\n",
       "  <tbody>\n",
       "    <tr>\n",
       "      <th>0</th>\n",
       "      <td>6270596</td>\n",
       "      <td>굳 ㅋ</td>\n",
       "      <td>1</td>\n",
       "    </tr>\n",
       "    <tr>\n",
       "      <th>2</th>\n",
       "      <td>8544678</td>\n",
       "      <td>뭐야 이 평점들은 나쁘진 않지만 점 짜리는 더더욱 아니잖아</td>\n",
       "      <td>0</td>\n",
       "    </tr>\n",
       "    <tr>\n",
       "      <th>3</th>\n",
       "      <td>6825595</td>\n",
       "      <td>지루하지는 않은데 완전 막장임 돈주고 보기에는</td>\n",
       "      <td>0</td>\n",
       "    </tr>\n",
       "    <tr>\n",
       "      <th>4</th>\n",
       "      <td>6723715</td>\n",
       "      <td>만 아니었어도 별 다섯 개 줬을텐데 왜 로 나와서 제 심기를 불편하게 하죠</td>\n",
       "      <td>0</td>\n",
       "    </tr>\n",
       "    <tr>\n",
       "      <th>5</th>\n",
       "      <td>7898805</td>\n",
       "      <td>음악이 주가 된 최고의 음악영화</td>\n",
       "      <td>1</td>\n",
       "    </tr>\n",
       "  </tbody>\n",
       "</table>\n",
       "</div>"
      ],
      "text/plain": [
       "        id                                   document  label\n",
       "0  6270596                                        굳 ㅋ      1\n",
       "2  8544678           뭐야 이 평점들은 나쁘진 않지만 점 짜리는 더더욱 아니잖아      0\n",
       "3  6825595                  지루하지는 않은데 완전 막장임 돈주고 보기에는      0\n",
       "4  6723715  만 아니었어도 별 다섯 개 줬을텐데 왜 로 나와서 제 심기를 불편하게 하죠      0\n",
       "5  7898805                          음악이 주가 된 최고의 음악영화      1"
      ]
     },
     "metadata": {},
     "output_type": "display_data"
    },
    {
     "name": "stdout",
     "output_type": "stream",
     "text": [
      "훈련데이터 :  145393\n",
      "테스트데이터 :  48852\n"
     ]
    }
   ],
   "source": [
    "# 데이터 확인\n",
    "display(train_data.head())\n",
    "display(test_data.head())\n",
    "\n",
    "print(\"훈련데이터 : \",len(train_data))\n",
    "print(\"테스트데이터 : \",len(test_data))"
   ]
  },
  {
   "cell_type": "code",
   "execution_count": 163,
   "id": "level-growth",
   "metadata": {},
   "outputs": [
    {
     "name": "stdout",
     "output_type": "stream",
     "text": [
      "문장의 최단 길이: 1\n",
      "문장의 최장 길이: 140\n",
      "문장의 평균 길이: 33\n",
      "sentence_length :  [0 0 0 0 0 0 0 0 0 0 0 0 0 0 0 0 0 0 0 0 0 0 0 0 0 0 0 0 0 0 0 0 0 0 0 0 0\n",
      " 0 0 0 0 0 0 0 0 0 0 0 0 0 0 0 0 0 0 0 0 0 0 0 0 0 0 0 0 0 0 0 0 0 0 0 0 0\n",
      " 0 0 0 0 0 0 0 0 0 0 0 0 0 0 0 0 0 0 0 0 0 0 0 0 0 0 0 0 0 0 0 0 0 0 0 0 0\n",
      " 0 0 0 0 0 0 0 0 0 0 0 0 0 0 0 0 0 0 0 0 0 0 0 0 0 0 0 0 0]\n",
      "============================================================\n"
     ]
    },
    {
     "data": {
      "image/png": "[encoded data removed]",
      "text/plain": [
       "<Figure size 432x288 with 1 Axes>"
      ]
     },
     "metadata": {
      "needs_background": "light"
     },
     "output_type": "display_data"
    }
   ],
   "source": [
    "# 데이터 길이 분포 확인하기\n",
    "import matplotlib.pyplot as plt\n",
    "\n",
    "min_len = 999\n",
    "max_len = 0\n",
    "sum_len = 0\n",
    "\n",
    "for sen in train_data['document']:\n",
    "    length = len(sen)\n",
    "    \n",
    "    # 문장 최소 길이 찾기\n",
    "    if min_len > length: \n",
    "        min_len = length\n",
    "    \n",
    "    # 문장 최대 길이 찾기\n",
    "    if max_len < length: \n",
    "        max_len = length\n",
    "        \n",
    "    # 전체 문장을 합치면 길이가 얼마나 될까요?\n",
    "    sum_len += length\n",
    "\n",
    "print(\"문장의 최단 길이:\", min_len)\n",
    "print(\"문장의 최장 길이:\", max_len)\n",
    "print(\"문장의 평균 길이:\", sum_len // len(train_data))\n",
    "\n",
    "# 전체 길이만큼 0벡터 ==> 길이에 따른 문장의 수를 저장하기 위해 먼저 0으로 이루어진 리스트를 만든다!!\n",
    "sentence_length = np.zeros((max_len), dtype=np.int)\n",
    "print(\"sentence_length : \",sentence_length)\n",
    "\n",
    "print(\"=\"*60)\n",
    "\n",
    "# raw는 위에서 다운로드한 데이터셋!! 전체 길이와 상관없음\n",
    "for sen in train_data['document']:\n",
    "    sentence_length[len(sen)-1] += 1 # 0으로 이루어진 벡터에 문장 count를 더한 뒤 넣는다.\n",
    "\n",
    "plt.bar(range(max_len), sentence_length, width=1.0) # 너비는 1.0씩 늘어나도록 설정\n",
    "plt.title(\"Sentence Length Distribution\")\n",
    "plt.show()"
   ]
  },
  {
   "cell_type": "code",
   "execution_count": 164,
   "id": "matched-serve",
   "metadata": {},
   "outputs": [],
   "source": [
    "# 길이 45이하로 한정해 데이터를 만듭니다. ==> 너무 짧은 리뷰는 의미가 없음\n",
    "\n",
    "# 이렇게 하면 document 내용만 list로 전달됨 ==> 나는 데이터프레임을 원한다!!\n",
    "train_list = [s for s in train_data['document'] if (len(s) <= 45)]\n",
    "test_list = [s for s in test_data['document'] if (len(s) <= 45)]\n",
    "\n",
    "train_list = list(set(train_list))\n",
    "test_list = list(set(test_list))\n",
    "\n",
    "train_df = pd.DataFrame(train_list)\n",
    "test_df = pd.DataFrame(test_list)"
   ]
  },
  {
   "cell_type": "code",
   "execution_count": 165,
   "id": "forced-guyana",
   "metadata": {},
   "outputs": [],
   "source": [
    "# 길이 40이하인 데이터를 기존 데이터와 병합합니다.\n",
    "\n",
    "new_train_df = pd.merge(train_data, train_df, how='inner', left_on='document', right_on=0)\n",
    "new_test_df = pd.merge(test_data, test_df, how='inner', left_on='document', right_on=0)\n",
    "\n",
    "train_data = new_train_df[['id', 'document', 'label']]\n",
    "test_data = new_test_df[['id', 'document', 'label']]"
   ]
  },
  {
   "cell_type": "code",
   "execution_count": 166,
   "id": "aboriginal-greek",
   "metadata": {},
   "outputs": [
    {
     "data": {
      "text/html": [
       "<div>\n",
       "<style scoped>\n",
       "    .dataframe tbody tr th:only-of-type {\n",
       "        vertical-align: middle;\n",
       "    }\n",
       "\n",
       "    .dataframe tbody tr th {\n",
       "        vertical-align: top;\n",
       "    }\n",
       "\n",
       "    .dataframe thead th {\n",
       "        text-align: right;\n",
       "    }\n",
       "</style>\n",
       "<table border=\"1\" class=\"dataframe\">\n",
       "  <thead>\n",
       "    <tr style=\"text-align: right;\">\n",
       "      <th></th>\n",
       "      <th>id</th>\n",
       "      <th>document</th>\n",
       "      <th>label</th>\n",
       "    </tr>\n",
       "  </thead>\n",
       "  <tbody>\n",
       "    <tr>\n",
       "      <th>0</th>\n",
       "      <td>9976970</td>\n",
       "      <td>아 더빙 진짜 짜증나네요 목소리</td>\n",
       "      <td>0</td>\n",
       "    </tr>\n",
       "    <tr>\n",
       "      <th>1</th>\n",
       "      <td>3819312</td>\n",
       "      <td>흠포스터보고 초딩영화줄오버연기조차 가볍지 않구나</td>\n",
       "      <td>1</td>\n",
       "    </tr>\n",
       "    <tr>\n",
       "      <th>2</th>\n",
       "      <td>10265843</td>\n",
       "      <td>너무재밓었다그래서보는것을추천한다</td>\n",
       "      <td>0</td>\n",
       "    </tr>\n",
       "    <tr>\n",
       "      <th>3</th>\n",
       "      <td>9045019</td>\n",
       "      <td>교도소 이야기구먼 솔직히 재미는 없다평점 조정</td>\n",
       "      <td>0</td>\n",
       "    </tr>\n",
       "    <tr>\n",
       "      <th>4</th>\n",
       "      <td>5403919</td>\n",
       "      <td>막 걸음마 뗀 세부터 초등학교 학년생인 살용영화ㅋㅋㅋ별반개도 아까움</td>\n",
       "      <td>0</td>\n",
       "    </tr>\n",
       "  </tbody>\n",
       "</table>\n",
       "</div>"
      ],
      "text/plain": [
       "         id                               document  label\n",
       "0   9976970                      아 더빙 진짜 짜증나네요 목소리      0\n",
       "1   3819312             흠포스터보고 초딩영화줄오버연기조차 가볍지 않구나      1\n",
       "2  10265843                      너무재밓었다그래서보는것을추천한다      0\n",
       "3   9045019              교도소 이야기구먼 솔직히 재미는 없다평점 조정      0\n",
       "4   5403919  막 걸음마 뗀 세부터 초등학교 학년생인 살용영화ㅋㅋㅋ별반개도 아까움      0"
      ]
     },
     "metadata": {},
     "output_type": "display_data"
    },
    {
     "data": {
      "text/html": [
       "<div>\n",
       "<style scoped>\n",
       "    .dataframe tbody tr th:only-of-type {\n",
       "        vertical-align: middle;\n",
       "    }\n",
       "\n",
       "    .dataframe tbody tr th {\n",
       "        vertical-align: top;\n",
       "    }\n",
       "\n",
       "    .dataframe thead th {\n",
       "        text-align: right;\n",
       "    }\n",
       "</style>\n",
       "<table border=\"1\" class=\"dataframe\">\n",
       "  <thead>\n",
       "    <tr style=\"text-align: right;\">\n",
       "      <th></th>\n",
       "      <th>id</th>\n",
       "      <th>document</th>\n",
       "      <th>label</th>\n",
       "    </tr>\n",
       "  </thead>\n",
       "  <tbody>\n",
       "    <tr>\n",
       "      <th>0</th>\n",
       "      <td>6270596</td>\n",
       "      <td>굳 ㅋ</td>\n",
       "      <td>1</td>\n",
       "    </tr>\n",
       "    <tr>\n",
       "      <th>1</th>\n",
       "      <td>8544678</td>\n",
       "      <td>뭐야 이 평점들은 나쁘진 않지만 점 짜리는 더더욱 아니잖아</td>\n",
       "      <td>0</td>\n",
       "    </tr>\n",
       "    <tr>\n",
       "      <th>2</th>\n",
       "      <td>6825595</td>\n",
       "      <td>지루하지는 않은데 완전 막장임 돈주고 보기에는</td>\n",
       "      <td>0</td>\n",
       "    </tr>\n",
       "    <tr>\n",
       "      <th>3</th>\n",
       "      <td>6723715</td>\n",
       "      <td>만 아니었어도 별 다섯 개 줬을텐데 왜 로 나와서 제 심기를 불편하게 하죠</td>\n",
       "      <td>0</td>\n",
       "    </tr>\n",
       "    <tr>\n",
       "      <th>4</th>\n",
       "      <td>7898805</td>\n",
       "      <td>음악이 주가 된 최고의 음악영화</td>\n",
       "      <td>1</td>\n",
       "    </tr>\n",
       "  </tbody>\n",
       "</table>\n",
       "</div>"
      ],
      "text/plain": [
       "        id                                   document  label\n",
       "0  6270596                                        굳 ㅋ      1\n",
       "1  8544678           뭐야 이 평점들은 나쁘진 않지만 점 짜리는 더더욱 아니잖아      0\n",
       "2  6825595                  지루하지는 않은데 완전 막장임 돈주고 보기에는      0\n",
       "3  6723715  만 아니었어도 별 다섯 개 줬을텐데 왜 로 나와서 제 심기를 불편하게 하죠      0\n",
       "4  7898805                          음악이 주가 된 최고의 음악영화      1"
      ]
     },
     "metadata": {},
     "output_type": "display_data"
    },
    {
     "name": "stdout",
     "output_type": "stream",
     "text": [
      "훈련데이터 :  118437\n",
      "테스트데이터 :  39821\n"
     ]
    }
   ],
   "source": [
    "display(train_data.head())\n",
    "display(test_data.head())\n",
    "\n",
    "print(\"훈련데이터 : \",len(train_data))\n",
    "print(\"테스트데이터 : \",len(test_data))"
   ]
  },
  {
   "cell_type": "markdown",
   "id": "textile-intent",
   "metadata": {},
   "source": [
    "## Sentence Piece subwords 점검"
   ]
  },
  {
   "cell_type": "code",
   "execution_count": 33,
   "id": "collaborative-antibody",
   "metadata": {},
   "outputs": [
    {
     "name": "stdout",
     "output_type": "stream",
     "text": [
      "-rw-r--r-- 1 root root 376906 Dec 21 07:16 kor_spm_unigram_8k.model\n",
      "-rw-r--r-- 1 root root 146388 Dec 21 07:16 kor_spm_unigram_8k.vocab\n",
      "ls: cannot access 'kor_spm_unigram_4k*': No such file or directory\n",
      "-rw-r--r-- 1 root root 371924 Dec 21 07:16 kor_spm_bpe_8k.model\n",
      "-rw-r--r-- 1 root root 117142 Dec 21 07:16 kor_spm_bpe_8k.vocab\n",
      "-rw-r--r-- 1 root root 525347 Dec 21 07:17 kor_spm_bpe_16k.model\n",
      "-rw-r--r-- 1 root root 260561 Dec 21 07:17 kor_spm_bpe_16k.vocab\n"
     ]
    }
   ],
   "source": [
    "!ls -l kor_spm_unigram_8k*\n",
    "!ls -l kor_spm_unigram_4k*\n",
    "!ls -l kor_spm_bpe_8k*\n",
    "!ls -l kor_spm_bpe_16k*\n",
    "\n",
    "#왜인지 unigram_4k 가 없다."
   ]
  },
  {
   "cell_type": "code",
   "execution_count": 41,
   "id": "happy-assets",
   "metadata": {},
   "outputs": [
    {
     "data": {
      "text/html": [
       "<div>\n",
       "<style scoped>\n",
       "    .dataframe tbody tr th:only-of-type {\n",
       "        vertical-align: middle;\n",
       "    }\n",
       "\n",
       "    .dataframe tbody tr th {\n",
       "        vertical-align: top;\n",
       "    }\n",
       "\n",
       "    .dataframe thead th {\n",
       "        text-align: right;\n",
       "    }\n",
       "</style>\n",
       "<table border=\"1\" class=\"dataframe\">\n",
       "  <thead>\n",
       "    <tr style=\"text-align: right;\">\n",
       "      <th></th>\n",
       "      <th>0</th>\n",
       "      <th>1</th>\n",
       "    </tr>\n",
       "  </thead>\n",
       "  <tbody>\n",
       "    <tr>\n",
       "      <th>0</th>\n",
       "      <td>&lt;unk&gt;</td>\n",
       "      <td>0.00000</td>\n",
       "    </tr>\n",
       "    <tr>\n",
       "      <th>1</th>\n",
       "      <td>&lt;s&gt;</td>\n",
       "      <td>0.00000</td>\n",
       "    </tr>\n",
       "    <tr>\n",
       "      <th>2</th>\n",
       "      <td>&lt;/s&gt;</td>\n",
       "      <td>0.00000</td>\n",
       "    </tr>\n",
       "    <tr>\n",
       "      <th>3</th>\n",
       "      <td>.</td>\n",
       "      <td>-3.40925</td>\n",
       "    </tr>\n",
       "    <tr>\n",
       "      <th>4</th>\n",
       "      <td>▁</td>\n",
       "      <td>-3.43895</td>\n",
       "    </tr>\n",
       "    <tr>\n",
       "      <th>5</th>\n",
       "      <td>을</td>\n",
       "      <td>-3.85174</td>\n",
       "    </tr>\n",
       "    <tr>\n",
       "      <th>6</th>\n",
       "      <td>의</td>\n",
       "      <td>-3.93619</td>\n",
       "    </tr>\n",
       "    <tr>\n",
       "      <th>7</th>\n",
       "      <td>에</td>\n",
       "      <td>-4.21533</td>\n",
       "    </tr>\n",
       "    <tr>\n",
       "      <th>8</th>\n",
       "      <td>이</td>\n",
       "      <td>-4.30459</td>\n",
       "    </tr>\n",
       "    <tr>\n",
       "      <th>9</th>\n",
       "      <td>를</td>\n",
       "      <td>-4.32250</td>\n",
       "    </tr>\n",
       "  </tbody>\n",
       "</table>\n",
       "</div>"
      ],
      "text/plain": [
       "       0        1\n",
       "0  <unk>  0.00000\n",
       "1    <s>  0.00000\n",
       "2   </s>  0.00000\n",
       "3      . -3.40925\n",
       "4      ▁ -3.43895\n",
       "5      을 -3.85174\n",
       "6      의 -3.93619\n",
       "7      에 -4.21533\n",
       "8      이 -4.30459\n",
       "9      를 -4.32250"
      ]
     },
     "execution_count": 41,
     "metadata": {},
     "output_type": "execute_result"
    }
   ],
   "source": [
    "import csv\n",
    "\n",
    "vocab_list_uni_8k = pd.read_csv('kor_spm_unigram_8k.vocab', sep='\\t', header=None, quoting=csv.QUOTE_NONE)\n",
    "vocab_list_uni_8k[:10]"
   ]
  },
  {
   "cell_type": "code",
   "execution_count": 44,
   "id": "sorted-literature",
   "metadata": {},
   "outputs": [
    {
     "name": "stdout",
     "output_type": "stream",
     "text": [
      "subword의 개수 : 8000\n"
     ]
    },
    {
     "data": {
      "text/html": [
       "<div>\n",
       "<style scoped>\n",
       "    .dataframe tbody tr th:only-of-type {\n",
       "        vertical-align: middle;\n",
       "    }\n",
       "\n",
       "    .dataframe tbody tr th {\n",
       "        vertical-align: top;\n",
       "    }\n",
       "\n",
       "    .dataframe thead th {\n",
       "        text-align: right;\n",
       "    }\n",
       "</style>\n",
       "<table border=\"1\" class=\"dataframe\">\n",
       "  <thead>\n",
       "    <tr style=\"text-align: right;\">\n",
       "      <th></th>\n",
       "      <th>0</th>\n",
       "      <th>1</th>\n",
       "    </tr>\n",
       "  </thead>\n",
       "  <tbody>\n",
       "    <tr>\n",
       "      <th>706</th>\n",
       "      <td>▁개발</td>\n",
       "      <td>-8.45646</td>\n",
       "    </tr>\n",
       "    <tr>\n",
       "      <th>2999</th>\n",
       "      <td>▁때문</td>\n",
       "      <td>-9.83338</td>\n",
       "    </tr>\n",
       "    <tr>\n",
       "      <th>6182</th>\n",
       "      <td>▁윔블던</td>\n",
       "      <td>-10.77990</td>\n",
       "    </tr>\n",
       "    <tr>\n",
       "      <th>79</th>\n",
       "      <td>명이</td>\n",
       "      <td>-6.78468</td>\n",
       "    </tr>\n",
       "    <tr>\n",
       "      <th>7480</th>\n",
       "      <td>▁모로코</td>\n",
       "      <td>-11.27710</td>\n",
       "    </tr>\n",
       "    <tr>\n",
       "      <th>6857</th>\n",
       "      <td>▁국민투표</td>\n",
       "      <td>-10.98540</td>\n",
       "    </tr>\n",
       "    <tr>\n",
       "      <th>7920</th>\n",
       "      <td>뀌</td>\n",
       "      <td>-15.22950</td>\n",
       "    </tr>\n",
       "    <tr>\n",
       "      <th>5673</th>\n",
       "      <td>▁홍수로</td>\n",
       "      <td>-10.61980</td>\n",
       "    </tr>\n",
       "    <tr>\n",
       "      <th>3283</th>\n",
       "      <td>버그</td>\n",
       "      <td>-9.91541</td>\n",
       "    </tr>\n",
       "    <tr>\n",
       "      <th>7675</th>\n",
       "      <td>섯</td>\n",
       "      <td>-11.91960</td>\n",
       "    </tr>\n",
       "  </tbody>\n",
       "</table>\n",
       "</div>"
      ],
      "text/plain": [
       "          0         1\n",
       "706     ▁개발  -8.45646\n",
       "2999    ▁때문  -9.83338\n",
       "6182   ▁윔블던 -10.77990\n",
       "79       명이  -6.78468\n",
       "7480   ▁모로코 -11.27710\n",
       "6857  ▁국민투표 -10.98540\n",
       "7920      뀌 -15.22950\n",
       "5673   ▁홍수로 -10.61980\n",
       "3283     버그  -9.91541\n",
       "7675      섯 -11.91960"
      ]
     },
     "execution_count": 44,
     "metadata": {},
     "output_type": "execute_result"
    }
   ],
   "source": [
    "print('subword의 개수 :', len(vocab_list_uni_8k))\n",
    "vocab_list_uni_8k.sample(10)"
   ]
  },
  {
   "cell_type": "code",
   "execution_count": 43,
   "id": "arbitrary-laugh",
   "metadata": {
    "scrolled": true
   },
   "outputs": [
    {
     "data": {
      "text/html": [
       "<div>\n",
       "<style scoped>\n",
       "    .dataframe tbody tr th:only-of-type {\n",
       "        vertical-align: middle;\n",
       "    }\n",
       "\n",
       "    .dataframe tbody tr th {\n",
       "        vertical-align: top;\n",
       "    }\n",
       "\n",
       "    .dataframe thead th {\n",
       "        text-align: right;\n",
       "    }\n",
       "</style>\n",
       "<table border=\"1\" class=\"dataframe\">\n",
       "  <thead>\n",
       "    <tr style=\"text-align: right;\">\n",
       "      <th></th>\n",
       "      <th>0</th>\n",
       "      <th>1</th>\n",
       "    </tr>\n",
       "  </thead>\n",
       "  <tbody>\n",
       "    <tr>\n",
       "      <th>0</th>\n",
       "      <td>&lt;unk&gt;</td>\n",
       "      <td>0</td>\n",
       "    </tr>\n",
       "    <tr>\n",
       "      <th>1</th>\n",
       "      <td>&lt;s&gt;</td>\n",
       "      <td>0</td>\n",
       "    </tr>\n",
       "    <tr>\n",
       "      <th>2</th>\n",
       "      <td>&lt;/s&gt;</td>\n",
       "      <td>0</td>\n",
       "    </tr>\n",
       "    <tr>\n",
       "      <th>3</th>\n",
       "      <td>▁이</td>\n",
       "      <td>0</td>\n",
       "    </tr>\n",
       "    <tr>\n",
       "      <th>4</th>\n",
       "      <td>했다</td>\n",
       "      <td>-1</td>\n",
       "    </tr>\n",
       "    <tr>\n",
       "      <th>5</th>\n",
       "      <td>▁있</td>\n",
       "      <td>-2</td>\n",
       "    </tr>\n",
       "    <tr>\n",
       "      <th>6</th>\n",
       "      <td>에서</td>\n",
       "      <td>-3</td>\n",
       "    </tr>\n",
       "    <tr>\n",
       "      <th>7</th>\n",
       "      <td>▁대</td>\n",
       "      <td>-4</td>\n",
       "    </tr>\n",
       "    <tr>\n",
       "      <th>8</th>\n",
       "      <td>▁사</td>\n",
       "      <td>-5</td>\n",
       "    </tr>\n",
       "    <tr>\n",
       "      <th>9</th>\n",
       "      <td>▁지</td>\n",
       "      <td>-6</td>\n",
       "    </tr>\n",
       "  </tbody>\n",
       "</table>\n",
       "</div>"
      ],
      "text/plain": [
       "       0  1\n",
       "0  <unk>  0\n",
       "1    <s>  0\n",
       "2   </s>  0\n",
       "3     ▁이  0\n",
       "4     했다 -1\n",
       "5     ▁있 -2\n",
       "6     에서 -3\n",
       "7     ▁대 -4\n",
       "8     ▁사 -5\n",
       "9     ▁지 -6"
      ]
     },
     "execution_count": 43,
     "metadata": {},
     "output_type": "execute_result"
    }
   ],
   "source": [
    "vocab_list_bpe_8k = pd.read_csv('kor_spm_bpe_8k.vocab', sep='\\t', header=None, quoting=csv.QUOTE_NONE)\n",
    "vocab_list_bpe_8k[:10]"
   ]
  },
  {
   "cell_type": "code",
   "execution_count": 45,
   "id": "weighted-cigarette",
   "metadata": {},
   "outputs": [
    {
     "name": "stdout",
     "output_type": "stream",
     "text": [
      "subword의 개수 : 8000\n"
     ]
    },
    {
     "data": {
      "text/html": [
       "<div>\n",
       "<style scoped>\n",
       "    .dataframe tbody tr th:only-of-type {\n",
       "        vertical-align: middle;\n",
       "    }\n",
       "\n",
       "    .dataframe tbody tr th {\n",
       "        vertical-align: top;\n",
       "    }\n",
       "\n",
       "    .dataframe thead th {\n",
       "        text-align: right;\n",
       "    }\n",
       "</style>\n",
       "<table border=\"1\" class=\"dataframe\">\n",
       "  <thead>\n",
       "    <tr style=\"text-align: right;\">\n",
       "      <th></th>\n",
       "      <th>0</th>\n",
       "      <th>1</th>\n",
       "    </tr>\n",
       "  </thead>\n",
       "  <tbody>\n",
       "    <tr>\n",
       "      <th>4544</th>\n",
       "      <td>기업</td>\n",
       "      <td>-4541</td>\n",
       "    </tr>\n",
       "    <tr>\n",
       "      <th>4818</th>\n",
       "      <td>음에도</td>\n",
       "      <td>-4815</td>\n",
       "    </tr>\n",
       "    <tr>\n",
       "      <th>7610</th>\n",
       "      <td>짧</td>\n",
       "      <td>-7607</td>\n",
       "    </tr>\n",
       "    <tr>\n",
       "      <th>6096</th>\n",
       "      <td>▁폭파</td>\n",
       "      <td>-6093</td>\n",
       "    </tr>\n",
       "    <tr>\n",
       "      <th>3508</th>\n",
       "      <td>://</td>\n",
       "      <td>-3505</td>\n",
       "    </tr>\n",
       "    <tr>\n",
       "      <th>1289</th>\n",
       "      <td>▁않는다</td>\n",
       "      <td>-1286</td>\n",
       "    </tr>\n",
       "    <tr>\n",
       "      <th>243</th>\n",
       "      <td>er</td>\n",
       "      <td>-240</td>\n",
       "    </tr>\n",
       "    <tr>\n",
       "      <th>469</th>\n",
       "      <td>▁레</td>\n",
       "      <td>-466</td>\n",
       "    </tr>\n",
       "    <tr>\n",
       "      <th>7009</th>\n",
       "      <td>락</td>\n",
       "      <td>-7006</td>\n",
       "    </tr>\n",
       "    <tr>\n",
       "      <th>4418</th>\n",
       "      <td>▁네덜란드</td>\n",
       "      <td>-4415</td>\n",
       "    </tr>\n",
       "  </tbody>\n",
       "</table>\n",
       "</div>"
      ],
      "text/plain": [
       "          0     1\n",
       "4544     기업 -4541\n",
       "4818    음에도 -4815\n",
       "7610      짧 -7607\n",
       "6096    ▁폭파 -6093\n",
       "3508    :// -3505\n",
       "1289   ▁않는다 -1286\n",
       "243      er  -240\n",
       "469      ▁레  -466\n",
       "7009      락 -7006\n",
       "4418  ▁네덜란드 -4415"
      ]
     },
     "execution_count": 45,
     "metadata": {},
     "output_type": "execute_result"
    }
   ],
   "source": [
    "print('subword의 개수 :', len(vocab_list_bpe_8k))\n",
    "vocab_list_bpe_8k.sample(10)"
   ]
  },
  {
   "cell_type": "code",
   "execution_count": 46,
   "id": "asian-grass",
   "metadata": {},
   "outputs": [
    {
     "data": {
      "text/html": [
       "<div>\n",
       "<style scoped>\n",
       "    .dataframe tbody tr th:only-of-type {\n",
       "        vertical-align: middle;\n",
       "    }\n",
       "\n",
       "    .dataframe tbody tr th {\n",
       "        vertical-align: top;\n",
       "    }\n",
       "\n",
       "    .dataframe thead th {\n",
       "        text-align: right;\n",
       "    }\n",
       "</style>\n",
       "<table border=\"1\" class=\"dataframe\">\n",
       "  <thead>\n",
       "    <tr style=\"text-align: right;\">\n",
       "      <th></th>\n",
       "      <th>0</th>\n",
       "      <th>1</th>\n",
       "    </tr>\n",
       "  </thead>\n",
       "  <tbody>\n",
       "    <tr>\n",
       "      <th>0</th>\n",
       "      <td>&lt;unk&gt;</td>\n",
       "      <td>0</td>\n",
       "    </tr>\n",
       "    <tr>\n",
       "      <th>1</th>\n",
       "      <td>&lt;s&gt;</td>\n",
       "      <td>0</td>\n",
       "    </tr>\n",
       "    <tr>\n",
       "      <th>2</th>\n",
       "      <td>&lt;/s&gt;</td>\n",
       "      <td>0</td>\n",
       "    </tr>\n",
       "    <tr>\n",
       "      <th>3</th>\n",
       "      <td>▁이</td>\n",
       "      <td>0</td>\n",
       "    </tr>\n",
       "    <tr>\n",
       "      <th>4</th>\n",
       "      <td>했다</td>\n",
       "      <td>-1</td>\n",
       "    </tr>\n",
       "    <tr>\n",
       "      <th>5</th>\n",
       "      <td>▁있</td>\n",
       "      <td>-2</td>\n",
       "    </tr>\n",
       "    <tr>\n",
       "      <th>6</th>\n",
       "      <td>에서</td>\n",
       "      <td>-3</td>\n",
       "    </tr>\n",
       "    <tr>\n",
       "      <th>7</th>\n",
       "      <td>▁대</td>\n",
       "      <td>-4</td>\n",
       "    </tr>\n",
       "    <tr>\n",
       "      <th>8</th>\n",
       "      <td>▁사</td>\n",
       "      <td>-5</td>\n",
       "    </tr>\n",
       "    <tr>\n",
       "      <th>9</th>\n",
       "      <td>▁지</td>\n",
       "      <td>-6</td>\n",
       "    </tr>\n",
       "  </tbody>\n",
       "</table>\n",
       "</div>"
      ],
      "text/plain": [
       "       0  1\n",
       "0  <unk>  0\n",
       "1    <s>  0\n",
       "2   </s>  0\n",
       "3     ▁이  0\n",
       "4     했다 -1\n",
       "5     ▁있 -2\n",
       "6     에서 -3\n",
       "7     ▁대 -4\n",
       "8     ▁사 -5\n",
       "9     ▁지 -6"
      ]
     },
     "execution_count": 46,
     "metadata": {},
     "output_type": "execute_result"
    }
   ],
   "source": [
    "vocab_list_bpe_16k = pd.read_csv('kor_spm_bpe_16k.vocab', sep='\\t', header=None, quoting=csv.QUOTE_NONE)\n",
    "vocab_list_bpe_16k[:10]"
   ]
  },
  {
   "cell_type": "code",
   "execution_count": 47,
   "id": "lonely-president",
   "metadata": {
    "scrolled": false
   },
   "outputs": [
    {
     "name": "stdout",
     "output_type": "stream",
     "text": [
      "subword의 개수 : 16000\n"
     ]
    },
    {
     "data": {
      "text/html": [
       "<div>\n",
       "<style scoped>\n",
       "    .dataframe tbody tr th:only-of-type {\n",
       "        vertical-align: middle;\n",
       "    }\n",
       "\n",
       "    .dataframe tbody tr th {\n",
       "        vertical-align: top;\n",
       "    }\n",
       "\n",
       "    .dataframe thead th {\n",
       "        text-align: right;\n",
       "    }\n",
       "</style>\n",
       "<table border=\"1\" class=\"dataframe\">\n",
       "  <thead>\n",
       "    <tr style=\"text-align: right;\">\n",
       "      <th></th>\n",
       "      <th>0</th>\n",
       "      <th>1</th>\n",
       "    </tr>\n",
       "  </thead>\n",
       "  <tbody>\n",
       "    <tr>\n",
       "      <th>9736</th>\n",
       "      <td>ele</td>\n",
       "      <td>-9733</td>\n",
       "    </tr>\n",
       "    <tr>\n",
       "      <th>1512</th>\n",
       "      <td>▁높은</td>\n",
       "      <td>-1509</td>\n",
       "    </tr>\n",
       "    <tr>\n",
       "      <th>7201</th>\n",
       "      <td>▁연금</td>\n",
       "      <td>-7198</td>\n",
       "    </tr>\n",
       "    <tr>\n",
       "      <th>13248</th>\n",
       "      <td>▁팔루</td>\n",
       "      <td>-13245</td>\n",
       "    </tr>\n",
       "    <tr>\n",
       "      <th>4716</th>\n",
       "      <td>년간의</td>\n",
       "      <td>-4713</td>\n",
       "    </tr>\n",
       "    <tr>\n",
       "      <th>3701</th>\n",
       "      <td>▁케네</td>\n",
       "      <td>-3698</td>\n",
       "    </tr>\n",
       "    <tr>\n",
       "      <th>2585</th>\n",
       "      <td>▁보고서는</td>\n",
       "      <td>-2582</td>\n",
       "    </tr>\n",
       "    <tr>\n",
       "      <th>12572</th>\n",
       "      <td>▁YORK</td>\n",
       "      <td>-12569</td>\n",
       "    </tr>\n",
       "    <tr>\n",
       "      <th>9884</th>\n",
       "      <td>▁연구에서</td>\n",
       "      <td>-9881</td>\n",
       "    </tr>\n",
       "    <tr>\n",
       "      <th>10882</th>\n",
       "      <td>▁판단을</td>\n",
       "      <td>-10879</td>\n",
       "    </tr>\n",
       "  </tbody>\n",
       "</table>\n",
       "</div>"
      ],
      "text/plain": [
       "           0      1\n",
       "9736     ele  -9733\n",
       "1512     ▁높은  -1509\n",
       "7201     ▁연금  -7198\n",
       "13248    ▁팔루 -13245\n",
       "4716     년간의  -4713\n",
       "3701     ▁케네  -3698\n",
       "2585   ▁보고서는  -2582\n",
       "12572  ▁YORK -12569\n",
       "9884   ▁연구에서  -9881\n",
       "10882   ▁판단을 -10879"
      ]
     },
     "execution_count": 47,
     "metadata": {},
     "output_type": "execute_result"
    }
   ],
   "source": [
    "print('subword의 개수 :', len(vocab_list_bpe_16k))\n",
    "vocab_list_bpe_16k.sample(10)"
   ]
  },
  {
   "cell_type": "markdown",
   "id": "considered-trustee",
   "metadata": {},
   "source": [
    "## SentencePiece 성능 비교평가\n",
    " - vocab size = 8k, 16k\n",
    " - model type = unigram, bpe\n",
    " - kor_spm_unigram_8k\n",
    " - kor_spm_unigram_16k\n",
    " - kor_spm_bpe_8k\n",
    " - kor_spm_bpe_16k"
   ]
  },
  {
   "cell_type": "code",
   "execution_count": 48,
   "id": "tribal-washington",
   "metadata": {},
   "outputs": [],
   "source": [
    "def test_performance(model):\n",
    "    s = spm.SentencePieceProcessor()\n",
    "    s.Load(model)\n",
    "\n",
    "    # SentencePiece를 활용한 sentence -> encoding\n",
    "    tokensIDs = s.EncodeAsIds('아버지가방에들어가신다.')\n",
    "    print(tokensIDs)\n",
    "\n",
    "    # SentencePiece를 활용한 sentence -> encoded pieces\n",
    "    print(s.SampleEncodeAsPieces('아버지가방에들어가신다.',1, 0.0))\n",
    "\n",
    "    # SentencePiece를 활용한 encoding -> sentence 복원\n",
    "    print(s.DecodeIds(tokensIDs))"
   ]
  },
  {
   "cell_type": "code",
   "execution_count": 49,
   "id": "immediate-testimony",
   "metadata": {
    "scrolled": true
   },
   "outputs": [
    {
     "name": "stdout",
     "output_type": "stream",
     "text": [
      "kor_spm_unigram_8k\n",
      "[1244, 11, 306, 7, 3599, 11, 286, 38, 3]\n",
      "['▁아버지', '가', '방', '에', '들어', '가', '신', '다', '.']\n",
      "아버지가방에들어가신다.\n",
      "kor_spm_bpe_8k\n",
      "[1520, 1154, 6614, 6710, 2644, 6782, 6685, 6687]\n",
      "['▁아버', '지가', '방에', '들', '어가', '신', '다', '.']\n",
      "아버지가방에들어가신다.\n",
      "kor_spm_bpe_16k\n",
      "[7651, 6614, 14710, 2644, 14782, 14685, 14687]\n",
      "['▁아버지가', '방에', '들', '어가', '신', '다', '.']\n",
      "아버지가방에들어가신다.\n"
     ]
    }
   ],
   "source": [
    "print('kor_spm_unigram_8k')\n",
    "test_performance(model='kor_spm_unigram_8k.model')\n",
    "\n",
    "# # unigram은 오류가 나서 학습이 되지 않았다. \n",
    "# print('kor_spm_unigram_4k')\n",
    "# test_performance(model='kor_spm_unigram_4k.model')\n",
    "\n",
    "print('kor_spm_bpe_8k')\n",
    "test_performance(model='kor_spm_bpe_8k.model')\n",
    "\n",
    "print('kor_spm_bpe_16k')\n",
    "test_performance(model='kor_spm_bpe_16k.model')"
   ]
  },
  {
   "cell_type": "markdown",
   "id": "distinct-fighter",
   "metadata": {},
   "source": [
    "## 3. SPM을 받을 수 있는 Tokenizer 함수 작성\n",
    "#### 훈련시킨 SentencePiece를 활용해 tokenizer역할을 하는 함수를 정의합니다.\n",
    "\n",
    "함수의 조건\n",
    "1) 매개변수로 토큰화된 문장의 list를 전달하는 대신 온전한 문장의 list 를 전달합니다.\n",
    "\n",
    "\n",
    "2) 생성된 vocab 파일을 읽어와 { \\ : \\ } 형태를 가지는 word_index 사전과 { \\ : \\} 형태를 가지는 index_word 사전을 생성하고 함께 반환합니다.\n",
    "\n",
    "\n",
    "3) 리턴값인 tensor는 앞의 함수와 동일하게 토큰화한 후 Encoding된 문장입니다. 바로 학습에 사용할 수 있게 Padding은 당연히 해야겠죠?"
   ]
  },
  {
   "cell_type": "code",
   "execution_count": 50,
   "id": "liable-phase",
   "metadata": {},
   "outputs": [],
   "source": [
    "def sp_tokenize(s, corpus, spm):\n",
    "\n",
    "    tensor = []\n",
    "\n",
    "    for sen in corpus:\n",
    "        tensor.append(s.EncodeAsIds(sen))\n",
    "\n",
    "    with open(\"./{}.vocab\".format(spm), 'r') as f: \n",
    "        vocab = f.readlines()\n",
    "\n",
    "    word_index = {}\n",
    "    index_word = {}\n",
    "\n",
    "    for idx, line in enumerate(vocab):\n",
    "        word = line.split(\"\\t\")[0]\n",
    "\n",
    "        word_index.update({idx:word})\n",
    "        index_word.update({word:idx})\n",
    "\n",
    "    tensor = tf.keras.preprocessing.sequence.pad_sequences(tensor, padding='pre', maxlen=max_len)\n",
    "\n",
    "    return tensor, word_index, index_word"
   ]
  },
  {
   "cell_type": "code",
   "execution_count": 56,
   "id": "eligible-moses",
   "metadata": {
    "scrolled": false
   },
   "outputs": [
    {
     "name": "stdout",
     "output_type": "stream",
     "text": [
      "[[   0    0    0    0    0    0    0    0    0    0    0    0    0    0\n",
      "     0    0    0    0    0    0    0    0    0    0    0    0    0    0\n",
      "     0    0    0    0    0    0    0 1949  630 7718    4 7979  756   47\n",
      "     7 1657 2677 1024 1795    4  399    3]\n",
      " [   0    0    0    0    0    0    0    0    0    0    0    0    0    0\n",
      "     0    0    0    0    0    0    0    0    0    0    0    0    0    0\n",
      "     0    0    0    0  781    4    0    4   56  640    5 2166 5102   94\n",
      "  5662    5    4 7867 1983    3    3    3]]\n"
     ]
    }
   ],
   "source": [
    "# sp_tokenize(s, corpus) 사용 예제\n",
    "\n",
    "s = spm.SentencePieceProcessor()\n",
    "# s.Load('kor_spm_bpe_16k.model')  # lstm 학습시 오류\n",
    "\n",
    "s.Load('kor_spm_unigram_8k.model') \n",
    "\n",
    "my_corpus = ['나는 새싹 캠퍼스에 출근해서 일을 했습니다.', '하지만 ㅠㅠ 월급을 받지 못해서 밥을 굶었습니다...']\n",
    "tensor, word_index, index_word = sp_tokenize(s, my_corpus, 'kor_spm_unigram_8k')           \n",
    "print(tensor)\n",
    "# print(word_index)\n",
    "# print(index_word)"
   ]
  },
  {
   "cell_type": "code",
   "execution_count": 173,
   "id": "offshore-timing",
   "metadata": {},
   "outputs": [],
   "source": [
    "model_uni_8k='kor_spm_unigram_8k'\n",
    "model_uni_4k='kor_spm_unigram_4k'\n",
    "model_bpe_8k='kor_spm_bpe_8k'\n",
    "model_bpe_16k='kor_spm_bpe_16k'"
   ]
  },
  {
   "cell_type": "markdown",
   "id": "american-smart",
   "metadata": {},
   "source": [
    "## 훈련데이터 / 테스트 데이터 나누기"
   ]
  },
  {
   "cell_type": "code",
   "execution_count": 198,
   "id": "addressed-bloom",
   "metadata": {},
   "outputs": [],
   "source": [
    "# document와 label을 나눠봅시다.\n",
    "\n",
    "x_train,x_train_word_index,x_train_index_word = sp_tokenize(s, train_data['document'], model_uni_8k)\n",
    "x_test,x_test_word_index, x_test_index_word = sp_tokenize(s, test_data['document'], model_uni_8k)"
   ]
  },
  {
   "cell_type": "code",
   "execution_count": 199,
   "id": "mineral-magnitude",
   "metadata": {},
   "outputs": [],
   "source": [
    "# 현재 list 상태 ==> ndarray로 바꿔주기\n",
    "y_train = np.array(list(train_data['label']))\n",
    "y_test = np.array(list(test_data['label']))"
   ]
  },
  {
   "cell_type": "code",
   "execution_count": 200,
   "id": "light-texas",
   "metadata": {},
   "outputs": [
    {
     "name": "stdout",
     "output_type": "stream",
     "text": [
      "[[   0    0    0    0    0    0    0    0    0    0    0    0    0    0\n",
      "     0    0    0    0    0    0    0    0    0    0    0    0    0    0\n",
      "     0    0    0    0    0    0    0    0    0    0    0    0    0    0\n",
      "     0    0    0    0    0    0    0    0    0    0    0    0    0    0\n",
      "     0    0    0    0    0    0    0    0    0    0    0    0    0    0\n",
      "     0    0    0    0    0    0    0    0    0    0    0    0    0    0\n",
      "     0    0    0    0    0    0    0    0    0    0    0    0    0    0\n",
      "     0    0    0    0    0    0    0    0    0    0    0    0    0    0\n",
      "     0    0    0    0    0    0    0    0    0    0    0    0    0    0\n",
      "     0    0  142  106 2615  909 4849    4 4849  757   69  555  520 2648]\n",
      " [   0    0    0    0    0    0    0    0    0    0    0    0    0    0\n",
      "     0    0    0    0    0    0    0    0    0    0    0    0    0    0\n",
      "     0    0    0    0    0    0    0    0    0    0    0    0    0    0\n",
      "     0    0    0    0    0    0    0    0    0    0    0    0    0    0\n",
      "     0    0    0    0    0    0    0    0    0    0    0    0    0    0\n",
      "     0    0    0    0    0    0    0    0    0    0    0    0    0    0\n",
      "     0    0    0    0    0    0    0    0    0    0    0    0    0    0\n",
      "     0    0    0    0    0    0    0    0    0    0    0    0    0    0\n",
      "     0    0    0    0    0    0    4 7662  474 1750  154   14  447 3174\n",
      "  2765 1788  176  412  383   41 4183    4   11 7568   29 1313  231   69]\n",
      " [   0    0    0    0    0    0    0    0    0    0    0    0    0    0\n",
      "     0    0    0    0    0    0    0    0    0    0    0    0    0    0\n",
      "     0    0    0    0    0    0    0    0    0    0    0    0    0    0\n",
      "     0    0    0    0    0    0    0    0    0    0    0    0    0    0\n",
      "     0    0    0    0    0    0    0    0    0    0    0    0    0    0\n",
      "     0    0    0    0    0    0    0    0    0    0    0    0    0    0\n",
      "     0    0    0    0    0    0    0    0    0    0    0    0    0    0\n",
      "     0    0    0    0    0    0    0    0    0    0    0    0    0    0\n",
      "     0    0    0    0    0    0    0    0    0    0    0    0    0    0\n",
      "  1330  446    0  268  257  590   94  154   10 1955    5 1012  703  260]]\n",
      "[[   0    0    0    0    0    0    0    0    0    0    0    0    0    0\n",
      "     0    0    0    0    0    0    0    0    0    0    0    0    0    0\n",
      "     0    0    0    0    0    0    0    0    0    0    0    0    0    0\n",
      "     0    0    0    0    0    0    0    0    0    0    0    0    0    0\n",
      "     0    0    0    0    0    0    0    0    0    0    0    0    0    0\n",
      "     0    0    0    0    0    0    0    0    0    0    0    0    0    0\n",
      "     0    0    0    0    0    0    0    0    0    0    0    0    0    0\n",
      "     0    0    0    0    0    0    0    0    0    0    0    0    0    0\n",
      "     0    0    0    0    0    0    0    0    0    0    0    0    0    0\n",
      "     0    0    0    0    0    0    0    0    0    0    4 7888    4    0]\n",
      " [   0    0    0    0    0    0    0    0    0    0    0    0    0    0\n",
      "     0    0    0    0    0    0    0    0    0    0    0    0    0    0\n",
      "     0    0    0    0    0    0    0    0    0    0    0    0    0    0\n",
      "     0    0    0    0    0    0    0    0    0    0    0    0    0    0\n",
      "     0    0    0    0    0    0    0    0    0    0    0    0    0    0\n",
      "     0    0    0    0    0    0    0    0    0    0    0    0    0    0\n",
      "     0    0    0    0    0    0    0    0    0    0    0    0    0    0\n",
      "     0    0    0    0    0    0    0    0    0    0    0    0    0    0\n",
      "     0    0    0    0    0    0    0    4 7826  169   25 1092  347  108\n",
      "   196 5570  167 4281  644    4 3359   10  106  378 7638 2502    0   98]\n",
      " [   0    0    0    0    0    0    0    0    0    0    0    0    0    0\n",
      "     0    0    0    0    0    0    0    0    0    0    0    0    0    0\n",
      "     0    0    0    0    0    0    0    0    0    0    0    0    0    0\n",
      "     0    0    0    0    0    0    0    0    0    0    0    0    0    0\n",
      "     0    0    0    0    0    0    0    0    0    0    0    0    0    0\n",
      "     0    0    0    0    0    0    0    0    0    0    0    0    0    0\n",
      "     0    0    0    0    0    0    0    0    0    0    0    0    0    0\n",
      "     0    0    0    0    0    0    0    0    0    0    0    0    0    0\n",
      "     0    0    0    0    0    0    0    0    0    0    0    0    0  194\n",
      "   418  102   10  535  429 2088  974  165  516 1039   74   14 3549  182]]\n"
     ]
    }
   ],
   "source": [
    "print(x_train[:3])\n",
    "print(x_test[:3])"
   ]
  },
  {
   "cell_type": "code",
   "execution_count": 177,
   "id": "mysterious-latest",
   "metadata": {},
   "outputs": [
    {
     "name": "stdout",
     "output_type": "stream",
     "text": [
      "[0 1 0]\n",
      "[1 0 0]\n"
     ]
    }
   ],
   "source": [
    "print(y_train[:3])\n",
    "print(y_test[:3])"
   ]
  },
  {
   "cell_type": "code",
   "execution_count": 201,
   "id": "tired-container",
   "metadata": {},
   "outputs": [
    {
     "name": "stdout",
     "output_type": "stream",
     "text": [
      "학습데이터 : 118437\n",
      "타겟데이터 : 118437\n"
     ]
    }
   ],
   "source": [
    "print(\"학습데이터 :\",len(x_train))\n",
    "print(\"타겟데이터 :\",len(y_train))"
   ]
  },
  {
   "cell_type": "code",
   "execution_count": 179,
   "id": "informative-patrick",
   "metadata": {},
   "outputs": [],
   "source": [
    "from sklearn.model_selection import train_test_split\n",
    "train_input, val_input, train_target, val_target = train_test_split(X_train, y_train, test_size=0.2, random_state=42)"
   ]
  },
  {
   "cell_type": "code",
   "execution_count": 180,
   "id": "hundred-vegetarian",
   "metadata": {
    "scrolled": false
   },
   "outputs": [
    {
     "name": "stdout",
     "output_type": "stream",
     "text": [
      "[[   0    0    0    0    0    0    0    0    0    0    0    0    0    0\n",
      "     0    0    0    0    0    0    0    0    0    0    0    0    0    0\n",
      "     0    0    0    0    0    0    0    0    0    0    0    0    0    0\n",
      "     0    0    0    0    0    0    0    0    0    0    0    0    0    0\n",
      "     0    0    0    0    0    0    0    0    0    0    0    0    0    0\n",
      "     0    0    0    0    0    0    0    0    0    0    0    0    0    0\n",
      "     0    0    0    0    0    0    0    0    0    0    0    0    0    0\n",
      "     0    0    0    0    0    0    0    0    0    0    0    0    0    0\n",
      "     0    0    0    0    0    0 2009   24  812    7 1001 2295  379  113\n",
      "   199  265   10 2760    8   14  218 1526    6 3582  128  222  620  521]\n",
      " [   0    0    0    0    0    0    0    0    0    0    0    0    0    0\n",
      "     0    0    0    0    0    0    0    0    0    0    0    0    0    0\n",
      "     0    0    0    0    0    0    0    0    0    0    0    0    0    0\n",
      "     0    0    0    0    0    0    0    0    0    0    0    0    0    0\n",
      "     0    0    0    0    0    0    0    0    0    0    0    0    0    0\n",
      "     0    0    0    0    0    0    0    0    0    0    0    0    0    0\n",
      "     0    0    0    0    0    0    0    0    0    0    0    0    0    0\n",
      "     0    0    0    0    0    0    0    0    0    0    0    0    0    0\n",
      "     0    0    0    0    0    0    0    0    0    0    0    0    0    0\n",
      "  1574  114  180  299  136   10 5637 1642    8  116  299  136 7997   38]\n",
      " [   0    0    0    0    0    0    0    0    0    0    0    0    0    0\n",
      "     0    0    0    0    0    0    0    0    0    0    0    0    0    0\n",
      "     0    0    0    0    0    0    0    0    0    0    0    0    0    0\n",
      "     0    0    0    0    0    0    0    0    0    0    0    0    0    0\n",
      "     0    0    0    0    0    0    0    0    0    0    0    0    0    0\n",
      "     0    0    0    0    0    0    0    0    0    0    0    0    0    0\n",
      "     0    0    0    0    0    0    0    0    0    0    0    0    0    0\n",
      "     0    0    0    0    0    0    0    0    0    0    0    0    0    0\n",
      "     0    0    0    0    0    0    0    0    0    0    0  142 2898 1236\n",
      "    16  555  520    4    0 1924   91  138 1435 1133 2765  838  227  520]]\n",
      "[[   0    0    0    0    0    0    0    0    0    0    0    0    0    0\n",
      "     0    0    0    0    0    0    0    0    0    0    0    0    0    0\n",
      "     0    0    0    0    0    0    0    0    0    0    0    0    0    0\n",
      "     0    0    0    0    0    0    0    0    0    0    0    0    0    0\n",
      "     0    0    0    0    0    0    0    0    0    0    0    0    0    0\n",
      "     0    0    0    0    0    0    0    0    0    0    0    0    0    0\n",
      "     0    0    0    0    0    0    0    0    0    0    0    0    0    0\n",
      "     0    0    0    0    0    0    0    0    0    0    0    0    0    0\n",
      "     0    0    0    0   59 7533    6 4450  152  167  223 1300    9    4\n",
      "  5439 3941  303  230    4 1351 7026 1473    4 1417 1797   31 1564 2539]\n",
      " [   0    0    0    0    0    0    0    0    0    0    0    0    0    0\n",
      "     0    0    0    0    0    0    0    0    0    0    0    0    0    0\n",
      "     0    0    0    0    0    0    0    0    0    0    0    0    0    0\n",
      "     0    0    0    0    0    0    0    0    0    0    0    0    0    0\n",
      "     0    0    0    0    0    0    0    0    0    0    0    0    0    0\n",
      "     0    0    0    0    0    0    0    0    0    0    0    0    0    0\n",
      "     0    0    0    0    0    0    0    0    0    0    0    0    0    0\n",
      "     0    0    0    0    0    0    0    0    0    0    0    0    0    0\n",
      "     0    0    0    0    0    0    0    0    0    0    0    0    0    0\n",
      "     0    0    0    0    0    4    0   97  128  119 1330  299    0   73]\n",
      " [   0    0    0    0    0    0    0    0    0    0    0    0    0    0\n",
      "     0    0    0    0    0    0    0    0    0    0    0    0    0    0\n",
      "     0    0    0    0    0    0    0    0    0    0    0    0    0    0\n",
      "     0    0    0    0    0    0    0    0    0    0    0    0    0    0\n",
      "     0    0    0    0    0    0    0    0    0    0    0    0    0    0\n",
      "     0    0    0    0    0    0    0    0    0    0    0    0    0    0\n",
      "     0    0    0    0    0    0    0    0    0    0    0    0    0    0\n",
      "     0    0    0    0    0    0    0    0    0    0    0    0    0    0\n",
      "     0    0    0    0    0    0    0    0    0    0    0  836 1648  116\n",
      "  6011    4  503  143  590  129   78    9 6200   42   82   59    4    0]]\n"
     ]
    }
   ],
   "source": [
    "print(train_input[:3])\n",
    "print(val_input[:3])"
   ]
  },
  {
   "cell_type": "markdown",
   "id": "adequate-fraction",
   "metadata": {},
   "source": [
    "## 4. lstm으로 감정분석 모델 학습\n",
    "SentencePiece 토크나이저가 적용된 모델을 학습 후 수렴하는 것을 확인합니다.\n",
    "\n",
    "\n",
    "SentencePiece 토크나이저 성능 평가"
   ]
  },
  {
   "cell_type": "code",
   "execution_count": 61,
   "id": "pretty-pennsylvania",
   "metadata": {},
   "outputs": [],
   "source": [
    "tensor, word_index, index_word = sp_tokenize(s, naver_review, 'kor_spm_unigram_8k')"
   ]
  },
  {
   "cell_type": "code",
   "execution_count": 185,
   "id": "technological-adelaide",
   "metadata": {
    "scrolled": true
   },
   "outputs": [
    {
     "name": "stdout",
     "output_type": "stream",
     "text": [
      "Model: \"sequential\"\n",
      "_________________________________________________________________\n",
      "Layer (type)                 Output Shape              Param #   \n",
      "=================================================================\n",
      "embedding (Embedding)        (None, None, 32)          256000    \n",
      "_________________________________________________________________\n",
      "lstm (LSTM)                  (None, 128)               82432     \n",
      "_________________________________________________________________\n",
      "dense (Dense)                (None, 1)                 129       \n",
      "=================================================================\n",
      "Total params: 338,561\n",
      "Trainable params: 338,561\n",
      "Non-trainable params: 0\n",
      "_________________________________________________________________\n"
     ]
    }
   ],
   "source": [
    "from tensorflow.keras.initializers import Constant\n",
    "\n",
    "vocab_size = vocab_size\n",
    "word_vector_dim = 32  \n",
    "\n",
    "model_LSTM = keras.Sequential()\n",
    "model_LSTM.add(keras.layers.Embedding(vocab_size, \n",
    "                                 word_vector_dim,\n",
    "                                    ))\n",
    "            \n",
    "model_LSTM.add(keras.layers.LSTM(128))\n",
    "# model_LSTM.add(keras.layers.Dense(128, activation='relu'))  \n",
    "model_LSTM.add(keras.layers.Dense(1, activation='sigmoid'))  # 최종 출력은 긍정/부정을 나타내는 1dim 입니다.\n",
    "\n",
    "model_LSTM.summary()"
   ]
  },
  {
   "cell_type": "markdown",
   "id": "mineral-portrait",
   "metadata": {},
   "source": [
    "#### Earlystopping & Model Checkpoint"
   ]
  },
  {
   "cell_type": "code",
   "execution_count": 195,
   "id": "innovative-commissioner",
   "metadata": {},
   "outputs": [],
   "source": [
    "from tensorflow.keras.models import load_model\n",
    "from tensorflow.keras.callbacks import EarlyStopping, ModelCheckpoint\n",
    "\n",
    "\n",
    "es = keras.callbacks.EarlyStopping(monitor='val_loss', mode='min', verbose=1, patience=4)\n",
    "\n",
    "mc = ModelCheckpoint('best_model.h5', monitor='val_acc', mode='max', verbose=1, save_best_only=True)"
   ]
  },
  {
   "cell_type": "code",
   "execution_count": 196,
   "id": "heard-wallpaper",
   "metadata": {
    "scrolled": false
   },
   "outputs": [
    {
     "name": "stdout",
     "output_type": "stream",
     "text": [
      "Epoch 1/20\n",
      "1481/1481 [==============================] - 47s 31ms/step - loss: 0.3122 - accuracy: 0.8636 - val_loss: 0.3889 - val_accuracy: 0.8271\n",
      "WARNING:tensorflow:Can save best model only with val_acc available, skipping.\n",
      "Epoch 2/20\n",
      "1481/1481 [==============================] - 45s 30ms/step - loss: 0.2881 - accuracy: 0.8771 - val_loss: 0.3847 - val_accuracy: 0.8275\n",
      "WARNING:tensorflow:Can save best model only with val_acc available, skipping.\n",
      "Epoch 3/20\n",
      "1481/1481 [==============================] - 45s 30ms/step - loss: 0.2667 - accuracy: 0.8899 - val_loss: 0.3970 - val_accuracy: 0.8224\n",
      "WARNING:tensorflow:Can save best model only with val_acc available, skipping.\n",
      "Epoch 4/20\n",
      "1481/1481 [==============================] - 45s 30ms/step - loss: 0.2493 - accuracy: 0.8969 - val_loss: 0.4151 - val_accuracy: 0.8232\n",
      "WARNING:tensorflow:Can save best model only with val_acc available, skipping.\n",
      "Epoch 5/20\n",
      "1481/1481 [==============================] - 46s 31ms/step - loss: 0.2334 - accuracy: 0.9057 - val_loss: 0.4281 - val_accuracy: 0.8230\n",
      "WARNING:tensorflow:Can save best model only with val_acc available, skipping.\n",
      "Epoch 6/20\n",
      "1481/1481 [==============================] - 45s 31ms/step - loss: 0.2155 - accuracy: 0.9138 - val_loss: 0.4784 - val_accuracy: 0.8189\n",
      "WARNING:tensorflow:Can save best model only with val_acc available, skipping.\n",
      "Epoch 00006: early stopping\n"
     ]
    }
   ],
   "source": [
    "model_LSTM.compile(optimizer='adam', loss='binary_crossentropy', metrics=['accuracy'])\n",
    "\n",
    "batch_size=64\n",
    "\n",
    "history_LSTM = model_LSTM.fit(train_input,\n",
    "                              train_target,\n",
    "                              epochs=20,\n",
    "                              batch_size=batch_size,\n",
    "                              validation_data=(val_input, val_target),\n",
    "                              callbacks=[es, mc],\n",
    "                              verbose=1\n",
    "                             )"
   ]
  },
  {
   "cell_type": "code",
   "execution_count": 202,
   "id": "acceptable-discovery",
   "metadata": {
    "scrolled": true
   },
   "outputs": [
    {
     "name": "stdout",
     "output_type": "stream",
     "text": [
      "1245/1245 - 10s - loss: 0.4736 - accuracy: 0.8194\n",
      "[0.47356146574020386, 0.8193917870521545]\n"
     ]
    }
   ],
   "source": [
    "results = model_LSTM.evaluate(x_test,  y_test, verbose=2)\n",
    "print(results)"
   ]
  },
  {
   "cell_type": "code",
   "execution_count": 203,
   "id": "together-butterfly",
   "metadata": {},
   "outputs": [],
   "source": [
    "def visualize_train(train_history, param):\n",
    "    # summarize history for accuracy\n",
    "    plt.plot(train_history.history['accuracy'])\n",
    "    plt.plot(train_history.history['val_accuracy'])\n",
    "    plt.title('{}_accuracy'.format(param))\n",
    "    plt.ylabel('accuracy')\n",
    "    plt.xlabel('epoch')\n",
    "    plt.legend(['train', 'val'], loc='upper left')\n",
    "    plt.show()\n",
    "    # summarize history for loss\n",
    "    plt.plot(train_history.history['loss'])\n",
    "    plt.plot(train_history.history['val_loss'])\n",
    "    plt.title('{}_loss'.format(param))\n",
    "    plt.ylabel('loss')\n",
    "    plt.xlabel('epoch')\n",
    "    plt.legend(['train', 'val'], loc='upper left')\n",
    "    plt.show()"
   ]
  },
  {
   "cell_type": "code",
   "execution_count": 206,
   "id": "competitive-breach",
   "metadata": {},
   "outputs": [
    {
     "data": {
      "image/png": "[encoded data removed]",
      "text/plain": [
       "<Figure size 432x288 with 1 Axes>"
      ]
     },
     "metadata": {
      "needs_background": "light"
     },
     "output_type": "display_data"
    },
    {
     "data": {
      "image/png": "[encoded data removed]",
      "text/plain": [
       "<Figure size 432x288 with 1 Axes>"
      ]
     },
     "metadata": {
      "needs_background": "light"
     },
     "output_type": "display_data"
    }
   ],
   "source": [
    "visualize_train(history_LSTM, param='unigram_8k_dim_8')"
   ]
  },
  {
   "cell_type": "markdown",
   "id": "genuine-replacement",
   "metadata": {},
   "source": [
    "## 5. 모델 성능 비교 평가\n",
    "\n",
    "비교 대상\n",
    " - LSTM의 input x_data를 토크나이징한 SentencePiece 모델\n",
    " - LSTM모델의 Word_vector_dimension"
   ]
  },
  {
   "cell_type": "code",
   "execution_count": 213,
   "id": "narrative-twins",
   "metadata": {},
   "outputs": [],
   "source": [
    "def performance_test_spm(spm_model, vocab_size, word_vector_dim):\n",
    "    s = spm.SentencePieceProcessor()\n",
    "    s.Load(\"{}.model\".format(spm_model)) \n",
    "    \n",
    "    # document와 label을 나눠봅시다.\n",
    "    x_train,x_train_word_index,x_train_index_word = sp_tokenize(s, train_data['document'], model_uni_8k)\n",
    "    x_test,x_test_word_index, x_test_index_word = sp_tokenize(s, test_data['document'], model_uni_8k)\n",
    "\n",
    "    # 현재 list 상태 ==> ndarray로 바꿔주기\n",
    "    y_train = np.array(list(train_data['label']))\n",
    "    y_test = np.array(list(test_data['label']))\n",
    "\n",
    "\n",
    "    train_input, val_input, train_target, val_target = train_test_split(x_train, y_train, test_size=0.2, random_state=42)\n",
    "\n",
    "\n",
    "    model_LSTM = keras.Sequential()\n",
    "    model_LSTM.add(keras.layers.Embedding(vocab_size, \n",
    "                                     word_vector_dim,\n",
    "                                        ))\n",
    "\n",
    "    model_LSTM.add(keras.layers.LSTM(128))\n",
    "    model_LSTM.add(keras.layers.Dense(1, activation='sigmoid'))  # 최종 출력은 긍정/부정을 나타내는 1dim 입니다.\n",
    "\n",
    "    model_LSTM.summary()\n",
    "    \n",
    "    model_LSTM.compile(optimizer='adam',\n",
    "              loss='binary_crossentropy',\n",
    "              metrics=['accuracy'])\n",
    "              \n",
    "    epochs=10\n",
    "    batch_size=64\n",
    "    \n",
    "    es = keras.callbacks.EarlyStopping(monitor='val_loss', mode='min', verbose=1, patience=4)\n",
    "    mc = ModelCheckpoint('best_model.h5', monitor='val_acc', mode='max', verbose=1, save_best_only=True)\n",
    "    \n",
    "    \n",
    "    history_LSTM = model_LSTM.fit(train_input,\n",
    "                              train_target,\n",
    "                              epochs=20,\n",
    "                              batch_size=batch_size,\n",
    "                              validation_data=(val_input, val_target),\n",
    "                              callbacks=[es, mc],\n",
    "                              verbose=1\n",
    "                             )\n",
    "    \n",
    "    results = model_LSTM.evaluate(x_test,  y_test, verbose=2)\n",
    "    print(results)\n",
    "    \n",
    "    return history_LSTM\n",
    "\n",
    "\n",
    "## 모델에서 변수들의 이름이 섞여서 (train_target 과 x_train 등) 애를 많이 먹었다. 결국 이를 고쳐준 나의 승리!"
   ]
  },
  {
   "cell_type": "code",
   "execution_count": 212,
   "id": "mounted-exercise",
   "metadata": {},
   "outputs": [
    {
     "name": "stdout",
     "output_type": "stream",
     "text": [
      "Model: \"sequential_1\"\n",
      "_________________________________________________________________\n",
      "Layer (type)                 Output Shape              Param #   \n",
      "=================================================================\n",
      "embedding_1 (Embedding)      (None, None, 8)           64000     \n",
      "_________________________________________________________________\n",
      "lstm_1 (LSTM)                (None, 128)               70144     \n",
      "_________________________________________________________________\n",
      "dense_1 (Dense)              (None, 1)                 129       \n",
      "=================================================================\n",
      "Total params: 134,273\n",
      "Trainable params: 134,273\n",
      "Non-trainable params: 0\n",
      "_________________________________________________________________\n",
      "Epoch 1/20\n",
      "1481/1481 [==============================] - 47s 31ms/step - loss: 0.5265 - accuracy: 0.7294 - val_loss: 0.4251 - val_accuracy: 0.8067\n",
      "WARNING:tensorflow:Can save best model only with val_acc available, skipping.\n",
      "Epoch 2/20\n",
      "1481/1481 [==============================] - 44s 30ms/step - loss: 0.4247 - accuracy: 0.8108 - val_loss: 0.4166 - val_accuracy: 0.8103\n",
      "WARNING:tensorflow:Can save best model only with val_acc available, skipping.\n",
      "Epoch 3/20\n",
      "1481/1481 [==============================] - 43s 29ms/step - loss: 0.3836 - accuracy: 0.8294 - val_loss: 0.4106 - val_accuracy: 0.8126\n",
      "WARNING:tensorflow:Can save best model only with val_acc available, skipping.\n",
      "Epoch 4/20\n",
      "1481/1481 [==============================] - 43s 29ms/step - loss: 0.3679 - accuracy: 0.8372 - val_loss: 0.4149 - val_accuracy: 0.8148\n",
      "WARNING:tensorflow:Can save best model only with val_acc available, skipping.\n",
      "Epoch 5/20\n",
      "1481/1481 [==============================] - 43s 29ms/step - loss: 0.3525 - accuracy: 0.8437 - val_loss: 0.3985 - val_accuracy: 0.8199\n",
      "WARNING:tensorflow:Can save best model only with val_acc available, skipping.\n",
      "Epoch 6/20\n",
      "1481/1481 [==============================] - 43s 29ms/step - loss: 0.3320 - accuracy: 0.8547 - val_loss: 0.3914 - val_accuracy: 0.8216\n",
      "WARNING:tensorflow:Can save best model only with val_acc available, skipping.\n",
      "Epoch 7/20\n",
      "1481/1481 [==============================] - 43s 29ms/step - loss: 0.3195 - accuracy: 0.8600 - val_loss: 0.3928 - val_accuracy: 0.8240\n",
      "WARNING:tensorflow:Can save best model only with val_acc available, skipping.\n",
      "Epoch 8/20\n",
      "1481/1481 [==============================] - 43s 29ms/step - loss: 0.3001 - accuracy: 0.8715 - val_loss: 0.4093 - val_accuracy: 0.8230\n",
      "WARNING:tensorflow:Can save best model only with val_acc available, skipping.\n",
      "Epoch 9/20\n",
      "1481/1481 [==============================] - 43s 29ms/step - loss: 0.2855 - accuracy: 0.8769 - val_loss: 0.4205 - val_accuracy: 0.8191\n",
      "WARNING:tensorflow:Can save best model only with val_acc available, skipping.\n",
      "Epoch 10/20\n",
      "1481/1481 [==============================] - 43s 29ms/step - loss: 0.2720 - accuracy: 0.8840 - val_loss: 0.4233 - val_accuracy: 0.8180\n",
      "WARNING:tensorflow:Can save best model only with val_acc available, skipping.\n",
      "Epoch 00010: early stopping\n",
      "1245/1245 - 10s - loss: 0.4242 - accuracy: 0.8188\n",
      "[0.42419102787971497, 0.8188393115997314]\n",
      "Model: \"sequential_2\"\n",
      "_________________________________________________________________\n",
      "Layer (type)                 Output Shape              Param #   \n",
      "=================================================================\n",
      "embedding_2 (Embedding)      (None, None, 64)          512000    \n",
      "_________________________________________________________________\n",
      "lstm_2 (LSTM)                (None, 128)               98816     \n",
      "_________________________________________________________________\n",
      "dense_2 (Dense)              (None, 1)                 129       \n",
      "=================================================================\n",
      "Total params: 610,945\n",
      "Trainable params: 610,945\n",
      "Non-trainable params: 0\n",
      "_________________________________________________________________\n",
      "Epoch 1/20\n",
      "1481/1481 [==============================] - 51s 33ms/step - loss: 0.5205 - accuracy: 0.7337 - val_loss: 0.4152 - val_accuracy: 0.8080\n",
      "WARNING:tensorflow:Can save best model only with val_acc available, skipping.\n",
      "Epoch 2/20\n",
      "1481/1481 [==============================] - 48s 33ms/step - loss: 0.3846 - accuracy: 0.8265 - val_loss: 0.3978 - val_accuracy: 0.8178\n",
      "WARNING:tensorflow:Can save best model only with val_acc available, skipping.\n",
      "Epoch 3/20\n",
      "1481/1481 [==============================] - 48s 32ms/step - loss: 0.3448 - accuracy: 0.8459 - val_loss: 0.3898 - val_accuracy: 0.8242\n",
      "WARNING:tensorflow:Can save best model only with val_acc available, skipping.\n",
      "Epoch 4/20\n",
      "1481/1481 [==============================] - 48s 32ms/step - loss: 0.3122 - accuracy: 0.8636 - val_loss: 0.3922 - val_accuracy: 0.8248\n",
      "WARNING:tensorflow:Can save best model only with val_acc available, skipping.\n",
      "Epoch 5/20\n",
      "1481/1481 [==============================] - 48s 32ms/step - loss: 0.2833 - accuracy: 0.8806 - val_loss: 0.3988 - val_accuracy: 0.8248\n",
      "WARNING:tensorflow:Can save best model only with val_acc available, skipping.\n",
      "Epoch 6/20\n",
      "1481/1481 [==============================] - 48s 32ms/step - loss: 0.2675 - accuracy: 0.8894 - val_loss: 0.4162 - val_accuracy: 0.8211\n",
      "WARNING:tensorflow:Can save best model only with val_acc available, skipping.\n",
      "Epoch 7/20\n",
      "1481/1481 [==============================] - 48s 32ms/step - loss: 0.2435 - accuracy: 0.8995 - val_loss: 0.4408 - val_accuracy: 0.8211\n",
      "WARNING:tensorflow:Can save best model only with val_acc available, skipping.\n",
      "Epoch 00007: early stopping\n",
      "1245/1245 - 10s - loss: 0.4325 - accuracy: 0.8247\n",
      "[0.43249306082725525, 0.8247156143188477]\n"
     ]
    }
   ],
   "source": [
    "history_unigram_8k_dim_8 = performance_test_spm('kor_spm_unigram_8k', vocab_size, word_vector_dim=8)\n",
    "history_unigram_8k_dim_64 = performance_test_spm('kor_spm_unigram_8k', vocab_size, word_vector_dim=64)"
   ]
  },
  {
   "cell_type": "code",
   "execution_count": 216,
   "id": "sufficient-extra",
   "metadata": {
    "scrolled": true
   },
   "outputs": [
    {
     "data": {
      "image/png": "[encoded data removed]",
      "text/plain": [
       "<Figure size 432x288 with 1 Axes>"
      ]
     },
     "metadata": {
      "needs_background": "light"
     },
     "output_type": "display_data"
    },
    {
     "data": {
      "image/png": "[encoded data removed]",
      "text/plain": [
       "<Figure size 432x288 with 1 Axes>"
      ]
     },
     "metadata": {
      "needs_background": "light"
     },
     "output_type": "display_data"
    }
   ],
   "source": [
    "visualize_train(history_unigram_8k_dim_8, param='unigram_8k_dim_8')"
   ]
  },
  {
   "cell_type": "code",
   "execution_count": null,
   "id": "reported-transition",
   "metadata": {},
   "outputs": [],
   "source": []
  },
  {
   "cell_type": "code",
   "execution_count": 221,
   "id": "under-filing",
   "metadata": {},
   "outputs": [],
   "source": [
    "# 학습을 시킬 때 에러가 났다.\n",
    "\n",
    "# history_bpe_16k_dim_32 = performance_test_spm('kor_spm_bpe_16k', vocab_size, word_vector_dim=32)\n",
    "\n",
    "\n",
    "# 아래는 에러코드입니다.\n",
    "# InvalidArgumentError: 2 root error(s) found.\n",
    "#   (0) Invalid argument:  indices[60,129] = 15311 is not in [0, 8000)\n",
    "# \t [[node sequential_7/embedding_7/embedding_lookup (defined at <ipython-input-213-39b87160ea35>:44) ]]\n",
    "# \t [[sequential_7/embedding_7/embedding_lookup/_20]]\n",
    "#   (1) Invalid argument:  indices[60,129] = 15311 is not in [0, 8000)\n",
    "# \t [[node sequential_7/embedding_7/embedding_lookup (defined at <ipython-input-213-39b87160ea35>:44) ]]\n",
    "# 0 successful operations.\n",
    "# 0 derived errors ignored. [Op:__inference_train_function_226789]\n",
    "\n",
    "# Errors may have originated from an input operation.\n",
    "# Input Source operations connected to node sequential_7/embedding_7/embedding_lookup:\n",
    "#  sequential_7/embedding_7/embedding_lookup/225557 (defined at /opt/conda/lib/python3.7/contextlib.py:112)\n",
    "\n",
    "# Input Source operations connected to node sequential_7/embedding_7/embedding_lookup:\n",
    "#  sequential_7/embedding_7/embedding_lookup/225557 (defined at /opt/conda/lib/python3.7/contextlib.py:112)\n",
    "\n",
    "# Function call stack:\n",
    "# train_function -> train_function\n",
    "\n"
   ]
  },
  {
   "cell_type": "code",
   "execution_count": 218,
   "id": "static-beast",
   "metadata": {},
   "outputs": [
    {
     "data": {
      "image/png": "[encoded data removed]",
      "text/plain": [
       "<Figure size 432x288 with 1 Axes>"
      ]
     },
     "metadata": {
      "needs_background": "light"
     },
     "output_type": "display_data"
    },
    {
     "data": {
      "image/png": "[encoded data removed]",
      "text/plain": [
       "<Figure size 432x288 with 1 Axes>"
      ]
     },
     "metadata": {
      "needs_background": "light"
     },
     "output_type": "display_data"
    }
   ],
   "source": [
    "visualize_train(history_unigram_8k_dim_64, param='unigram_8k_dim_64')"
   ]
  },
  {
   "cell_type": "code",
   "execution_count": 219,
   "id": "young-timer",
   "metadata": {},
   "outputs": [
    {
     "data": {
      "image/png": "[encoded data removed]",
      "text/plain": [
       "<Figure size 432x288 with 1 Axes>"
      ]
     },
     "metadata": {
      "needs_background": "light"
     },
     "output_type": "display_data"
    },
    {
     "data": {
      "image/png": "[encoded data removed]",
      "text/plain": [
       "<Figure size 432x288 with 1 Axes>"
      ]
     },
     "metadata": {
      "needs_background": "light"
     },
     "output_type": "display_data"
    }
   ],
   "source": [
    "visualize_train(history_bpe_8k_dim_8, param='bpe_8k_dim_8')"
   ]
  },
  {
   "cell_type": "code",
   "execution_count": 220,
   "id": "amended-china",
   "metadata": {},
   "outputs": [
    {
     "ename": "NameError",
     "evalue": "name 'history_bpe_16k_dim_64' is not defined",
     "output_type": "error",
     "traceback": [
      "\u001b[0;31m---------------------------------------------------------------------------\u001b[0m",
      "\u001b[0;31mNameError\u001b[0m                                 Traceback (most recent call last)",
      "\u001b[0;32m<ipython-input-220-71b01abf3f55>\u001b[0m in \u001b[0;36m<module>\u001b[0;34m\u001b[0m\n\u001b[0;32m----> 1\u001b[0;31m \u001b[0mvisualize_train\u001b[0m\u001b[0;34m(\u001b[0m\u001b[0mhistory_bpe_16k_dim_64\u001b[0m\u001b[0;34m,\u001b[0m \u001b[0mparam\u001b[0m\u001b[0;34m=\u001b[0m\u001b[0;34m'bpe_8k_dim_64'\u001b[0m\u001b[0;34m)\u001b[0m\u001b[0;34m\u001b[0m\u001b[0;34m\u001b[0m\u001b[0m\n\u001b[0m",
      "\u001b[0;31mNameError\u001b[0m: name 'history_bpe_16k_dim_64' is not defined"
     ]
    }
   ],
   "source": [
    "# 왠지 모르지만 16k는 학습할 때 에러가 났다.\n",
    "\n",
    "# visualize_train(history_bpe_16k_dim_64, param='bpe_8k_dim_64')"
   ]
  },
  {
   "cell_type": "markdown",
   "id": "tracked-feedback",
   "metadata": {},
   "source": [
    "## 회고 및 결론\n",
    "\n",
    "\n",
    "original unigram_8k\n",
    "\n",
    " - 1245/1245 - 10s - loss: 0.4736 - accuracy: 0.8194\n",
    "\n",
    " - [0.47356146574020386, 0.8193917870521545]\n",
    "\n",
    "#### Best result\n",
    "uningram_8k, vocab = 8\n",
    "\n",
    " - 1245/1245 - 10s - loss: 0.4242 - accuracy: 0.8188\n",
    " - [0.42419102787971497, 0.8188393115997314]\n",
    "\n",
    "unigram_8k, vocab = 64\n",
    "\n",
    " - 1245/1245 - 10s - loss: 0.4325 - accuracy: 0.8247\n",
    " - [0.43249306082725525, 0.8247156143188477]\n",
    " \n",
    " \n",
    "uningram_8k, vocab = 8의 모델이 가장 학습이 잘 되었다.\n",
    "\n",
    "위에서 공유한 두 개의 링크\n",
    " - https://piaojian.tistory.com/35, \n",
    " - https://github.com/miinkang/AI_Project_AIFFEL/blob/main/%5BGD-02%5DSentencePiece.ipynb)\n",
    " \n",
    " 를 참고하면서 코드를 작성해봤다. 첫 번재의 링크는 모델을 간결하게 쓰고, callbacks, modelcheckpoint등을 사용해서 좋았고, 두 분째의 링크는 모델의 종류(unigram, bpe)와 workd_vector dimension을 여러가지로 바꾸어 보는 시도와 여러가지 전처리등을 활용했기에 둘 다 합치면 더 좋은 결과가 나올거라고 생각했다. 하지만... 나의 한계인지 bpe모델들은 무언가가 계속 에러가 났다.\n",
    " \n",
    "다음 기회에는 이 sentence piece를 활용해서 챗봇에 적용해보고 싶다. \n",
    "\n",
    "흥미로웠던 점은 word_vector의 차원이 올라간다고 해서 무조건 모델의 정확도가 올라가는 것은 아니라는 것이다.\n",
    "\n",
    "또한, 전처리 과정에서 너무 길거나 짧은 글자들을 제거해준다는 점 (EXP07에서도 활용)을 보았을시에 전처리를 어떻게 하는가, 그리고 어떠한 토크나이저를 사용하는가가 중요한 것을 알 수 있었다."
   ]
  },
  {
   "cell_type": "code",
   "execution_count": null,
   "id": "secure-scotland",
   "metadata": {},
   "outputs": [],
   "source": []
  }
 ],
 "metadata": {
  "kernelspec": {
   "display_name": "Python 3",
   "language": "python",
   "name": "python3"
  },
  "language_info": {
   "codemirror_mode": {
    "name": "ipython",
    "version": 3
   },
   "file_extension": ".py",
   "mimetype": "text/x-python",
   "name": "python",
   "nbconvert_exporter": "python",
   "pygments_lexer": "ipython3",
   "version": "3.7.9"
  }
 },
 "nbformat": 4,
 "nbformat_minor": 5
}
