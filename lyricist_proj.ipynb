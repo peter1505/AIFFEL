{
 "cells": [
  {
   "cell_type": "markdown",
   "id": "obvious-favor",
   "metadata": {},
   "source": [
    "# 4-7. 프로젝트: 멋진 작사가 만들기\n",
    "\n",
    "### Step 1. 데이터 다운로드\n",
    "이미 실습(1) 데이터 다듬기에서 Cloud shell에 심볼릭 링크로 ~/aiffel/lyricist/data를 생성하셨다면, ~/aiffel/lyricist/data/lyrics에 데이터가 있습니다.\n",
    "\n",
    "\n",
    "### Step 2. 데이터 읽어오기\n",
    "glob 모듈을 사용하면 파일을 읽어오는 작업을 하기가 아주 용이해요. glob 를 활용하여 모든 txt 파일을 읽어온 후, raw_corpus 리스트에 문장 단위로 저장하도록 할게요!\n",
    "\n"
   ]
  },
  {
   "cell_type": "code",
   "execution_count": 1,
   "id": "weighted-reputation",
   "metadata": {},
   "outputs": [
    {
     "name": "stdout",
     "output_type": "stream",
     "text": [
      "데이터 크기: 187088\n",
      "Examples:\n",
      " ['[Hook]', \"I've been down so long, it look like up to me\", 'They look up to me']\n",
      "\n",
      "Example 2: [\"Look like you hidin' your problems\", 'Really you never was solid', 'No, you can\\'t \"son\" me', \"You won't never get to run me\"]\n"
     ]
    }
   ],
   "source": [
    "import glob\n",
    "import os, re\n",
    "import tensorflow as tf\n",
    "from tensorflow.keras import layers\n",
    "from sklearn.model_selection import train_test_split\n",
    "from tensorflow.keras.models import Sequential\n",
    "from tensorflow.keras.layers import Embedding, LSTM, Dense, Bidirectional, BatchNormalization\n",
    "from tensorflow.keras.callbacks import ModelCheckpoint, EarlyStopping\n",
    "import numpy as np \n",
    "\n",
    "tf.config.list_physical_devices('GPU')\n",
    "\n",
    "file_path = os.getenv('HOME')+'/aiffel/lyricist/data/lyrics/*'\n",
    "\n",
    "txt_list = glob.glob(file_path)\n",
    "\n",
    "raw_corpus = []\n",
    "\n",
    "# 여러개의 txt 파일을 모두 읽어서 raw_corpus 에 담습니다.\n",
    "for txt_file in txt_list:\n",
    "    with open(txt_file, \"r\") as f:\n",
    "        raw = f.read().splitlines()\n",
    "        raw_corpus.extend(raw)\n",
    "\n",
    "print(\"데이터 크기:\", len(raw_corpus))\n",
    "print(\"Examples:\\n\", raw_corpus[:3])\n",
    "print(\"\\nExample 2:\", raw_corpus[11:15])"
   ]
  },
  {
   "cell_type": "markdown",
   "id": "portuguese-armenia",
   "metadata": {},
   "source": [
    "### Step 3. 데이터 정제\n",
    "앞서 배운 테크닉들을 활용해 문장 생성에 적합한 모양새로 데이터를 정제하세요!\n",
    "\n",
    "preprocess_sentence() 함수를 만든 것을 기억하시죠? 이를 활용해 데이터를 정제하도록 하겠습니다.\n",
    "\n",
    "추가로 지나치게 긴 문장은 다른 데이터들이 과도한 Padding을 갖게 하므로 제거합니다. 너무 긴 문장은 노래 가사 작사하기에 어울리지 않을 수도 있겠죠.\n",
    "그래서 이번에는 문장을 토큰화 했을 때 토큰의 개수가 15개를 넘어가는 문장을 학습 데이터에서 제외하기 를 권합니다."
   ]
  },
  {
   "cell_type": "code",
   "execution_count": 2,
   "id": "gentle-formation",
   "metadata": {},
   "outputs": [
    {
     "name": "stdout",
     "output_type": "stream",
     "text": [
      "[Hook]\n",
      "I've been down so long, it look like up to me\n",
      "They look up to me\n",
      "I got fake people showin' fake love to me\n",
      "Straight up to my face, straight up to my face\n",
      "I've been down so long, it look like up to me\n",
      "They look up to me\n",
      "I got fake people showin' fake love to me\n",
      "Straight up to my face, straight up to my face [Verse 1]\n",
      "Somethin' ain't right when we talkin'\n",
      "Somethin' ain't right when we talkin'\n",
      "Look like you hidin' your problems\n",
      "Really you never was solid\n",
      "No, you can't \"son\" me\n",
      "You won't never get to run me\n",
      "Just when shit look out of reach\n"
     ]
    }
   ],
   "source": [
    "for idx, sentence in enumerate(raw_corpus):\n",
    "    if len(sentence) == 0: continue   # 길이가 0인 문장은 건너뜁니다.\n",
    "    if sentence[-1] == \":\": continue  # 문장의 끝이 : 인 문장은 건너뜁니다.\n",
    "\n",
    "    if idx > 15: break   # 일단 문장 15개만 확인해 볼 겁니다.\n",
    "        \n",
    "    print(sentence)"
   ]
  },
  {
   "cell_type": "code",
   "execution_count": 3,
   "id": "psychological-conspiracy",
   "metadata": {},
   "outputs": [
    {
     "name": "stdout",
     "output_type": "stream",
     "text": [
      "<start> this is sample sentence . <end>\n"
     ]
    }
   ],
   "source": [
    "# 입력된 문장을\n",
    "#     1. 소문자로 바꾸고, 양쪽 공백을 지웁니다\n",
    "#     2. 특수문자 양쪽에 공백을 넣고\n",
    "#     3. 여러개의 공백은 하나의 공백으로 바꿉니다\n",
    "#     4. a-zA-Z?.!,¿가 아닌 모든 문자를 하나의 공백으로 바꿉니다\n",
    "#     5. 다시 양쪽 공백을 지웁니다\n",
    "#     6. 문장 시작에는 <start>, 끝에는 <end>를 추가합니다\n",
    "# 이 순서로 처리해주면 문제가 되는 상황을 방지할 수 있겠네요!\n",
    "def preprocess_sentence(sentence):\n",
    "    sentence = sentence.lower().strip() # 1\n",
    "    sentence = re.sub(r\"([?.!,¿])\", r\" \\1 \", sentence) # 2\n",
    "    sentence = re.sub(r'[\" \"]+', \" \", sentence) # 3\n",
    "    sentence = re.sub(r\"[^a-zA-Z?.!,¿]+\", \" \", sentence) # 4\n",
    "    sentence = sentence.strip() # 5\n",
    "    sentence = '<start> ' + sentence + ' <end>' # 6\n",
    "    return sentence\n",
    "\n",
    "# 이 문장이 어떻게 필터링되는지 확인해 보세요.\n",
    "print(preprocess_sentence(\"This @_is ;;;sample        sentence.\"))"
   ]
  },
  {
   "cell_type": "markdown",
   "id": "thick-massachusetts",
   "metadata": {},
   "source": [
    "짜잔, 지저분한 문장을 넣어도 예쁘게 변환해 주는 정제 함수가 완성되었습니다! 보너스로 이전 스텝에서 배운 <start> <end> 도 추가했습니다.\n",
    "\n",
    "그러면 우리가 구축해야 할 데이터셋은 어떤 모양이 될까요?\n",
    "\n",
    "이전 스텝에서 봤던 예를 떠올려 봅시다.\n",
    "    \n",
    "    \n",
    "// 언어 모델의 입력 문장 :  <start> 나는 밥을 먹었다\n",
    "// 언어 모델의 출력 문장 : 나는 밥을 먹었다 <end>"
   ]
  },
  {
   "cell_type": "code",
   "execution_count": 4,
   "id": "remarkable-stations",
   "metadata": {},
   "outputs": [
    {
     "data": {
      "text/plain": [
       "['<start> hook <end>',\n",
       " '<start> i ve been down so long , it look like up to me <end>',\n",
       " '<start> they look up to me <end>',\n",
       " '<start> i got fake people showin fake love to me <end>',\n",
       " '<start> straight up to my face , straight up to my face <end>',\n",
       " '<start> i ve been down so long , it look like up to me <end>',\n",
       " '<start> they look up to me <end>',\n",
       " '<start> i got fake people showin fake love to me <end>',\n",
       " '<start> straight up to my face , straight up to my face verse <end>',\n",
       " '<start> somethin ain t right when we talkin <end>']"
      ]
     },
     "execution_count": 4,
     "metadata": {},
     "output_type": "execute_result"
    }
   ],
   "source": [
    "# 여기에 정제된 문장을 모을겁니다\n",
    "corpus = []\n",
    "\n",
    "for sentence in raw_corpus:\n",
    "    # 우리가 원하지 않는 문장은 건너뜁니다\n",
    "    if len(sentence) == 0: continue\n",
    "    if sentence[-1] == \":\": continue\n",
    "    \n",
    "    # 정제를 하고 담아주세요\n",
    "    preprocessed_sentence = preprocess_sentence(sentence)\n",
    "    corpus.append(preprocessed_sentence)\n",
    "        \n",
    "# 정제된 결과를 10개만 확인해보죠\n",
    "corpus[:10]"
   ]
  },
  {
   "cell_type": "markdown",
   "id": "criminal-harassment",
   "metadata": {},
   "source": [
    "### Step 4. 평가 데이터셋 분리\n",
    "훈련 데이터와 평가 데이터를 분리하세요!\n",
    "\n",
    "tokenize() 함수로 데이터를 Tensor로 변환한 후, sklearn 모듈의 train_test_split() 함수를 사용해 훈련 데이터와 평가 데이터를 분리하도록 하겠습니다. 단어장의 크기는 12,000 이상 으로 설정하세요! 총 데이터의 20% 를 평가 데이터셋으로 사용해 주세요!\n",
    "\n",
    "\n",
    "텐서플로우는 자연어 처리를 위한 여러 가지 모듈을 제공하는데, 우리도 그 모듈을 십분 활용할 겁니다! 아래에서 활용하게 될 tf.keras.preprocessing.text.Tokenizer 패키지는 정제된 데이터를 토큰화하고, 단어 사전(vocabulary 또는 dictionary라고 칭함)을 만들어주며, 데이터를 숫자로 변환까지 한 방에 해줍니다. 이 과정을 벡터화(vectorize) 라 하며, 숫자로 변환된 데이터를 텐서(tensor) 라고 칭합니다. 우리가 사용하는 텐서플로우로 만든 모델의 입출력 데이터는 실제로는 모두 이런 텐서로 변환되어 처리되는 것입니다.\n",
    "\n",
    "We will create a tokenizer (vectroziation) function"
   ]
  },
  {
   "cell_type": "code",
   "execution_count": 5,
   "id": "metallic-vitamin",
   "metadata": {},
   "outputs": [
    {
     "name": "stdout",
     "output_type": "stream",
     "text": [
      "[[   2  953    3 ...    0    0    0]\n",
      " [   2    5   91 ...    0    0    0]\n",
      " [   2   45  134 ...    0    0    0]\n",
      " ...\n",
      " [   2  211    3 ...    0    0    0]\n",
      " [   2  399    9 ...    0    0    0]\n",
      " [   2    9 1294 ...    0    0    0]] <keras_preprocessing.text.Tokenizer object at 0x7f8f6dfa04d0>\n"
     ]
    }
   ],
   "source": [
    "# 토큰화 할 때 텐서플로우의 Tokenizer와 pad_sequences를 사용합니다\n",
    "# 더 잘 알기 위해 아래 문서들을 참고하면 좋습니다\n",
    "# https://www.tensorflow.org/api_docs/python/tf/keras/preprocessing/text/Tokenizer\n",
    "# https://www.tensorflow.org/api_docs/python/tf/keras/preprocessing/sequence/pad_sequences\n",
    "def tokenize(corpus):\n",
    "    # 7000단어를 기억할 수 있는 tokenizer를 만들겁니다\n",
    "    # 우리는 이미 문장을 정제했으니 filters가 필요없어요\n",
    "    # 7000단어에 포함되지 못한 단어는 '<unk>'로 바꿀거에요\n",
    "    tokenizer = tf.keras.preprocessing.text.Tokenizer(\n",
    "        num_words=7000, \n",
    "        filters=' ',\n",
    "        oov_token=\"<unk>\"\n",
    "    )\n",
    "    # corpus를 이용해 tokenizer 내부의 단어장을 완성합니다\n",
    "    tokenizer.fit_on_texts(corpus)\n",
    "    # 준비한 tokenizer를 이용해 corpus를 Tensor로 변환합니다\n",
    "    tensor = tokenizer.texts_to_sequences(corpus)   \n",
    "    # 입력 데이터의 시퀀스 길이를 일정하게 맞춰줍니다\n",
    "    # 만약 시퀀스가 짧다면 문장 뒤에 패딩을 붙여 길이를 맞춰줍니다.\n",
    "    # 문장 앞에 패딩을 붙여 길이를 맞추고 싶다면 padding='pre'를 사용합니다\n",
    "    tensor = tf.keras.preprocessing.sequence.pad_sequences(tensor, padding='post')  \n",
    "    \n",
    "    print(tensor,tokenizer)\n",
    "    return tensor, tokenizer\n",
    "\n",
    "tensor, tokenizer = tokenize(corpus)"
   ]
  },
  {
   "cell_type": "markdown",
   "id": "plain-enhancement",
   "metadata": {},
   "source": [
    "생성된 텐서 데이터를 3번째 행, 10번째 열까지만 출력해 봅시다."
   ]
  },
  {
   "cell_type": "code",
   "execution_count": 6,
   "id": "micro-settle",
   "metadata": {},
   "outputs": [
    {
     "name": "stdout",
     "output_type": "stream",
     "text": [
      "[[  2 953   3   0   0   0   0   0   0   0]\n",
      " [  2   5  91 106  60  30 161   4  11 134]\n",
      " [  2  45 134  29  10  12   3   0   0   0]]\n"
     ]
    }
   ],
   "source": [
    "print(tensor[:3, :10])"
   ]
  },
  {
   "cell_type": "markdown",
   "id": "enabling-majority",
   "metadata": {},
   "source": [
    "텐서 데이터는 모두 정수로 이루어져 있습니다. 이 숫자는 다름 아니라, tokenizer에 구축된 단어 사전의 인덱스입니다. 단어 사전이 어떻게 구축되었는지 아래와 같이 확인해 봅시다."
   ]
  },
  {
   "cell_type": "code",
   "execution_count": 7,
   "id": "internal-trade",
   "metadata": {},
   "outputs": [
    {
     "name": "stdout",
     "output_type": "stream",
     "text": [
      "1 : <unk>\n",
      "2 : <start>\n",
      "3 : <end>\n",
      "4 : ,\n",
      "5 : i\n",
      "6 : the\n",
      "7 : you\n",
      "8 : and\n",
      "9 : a\n",
      "10 : to\n"
     ]
    }
   ],
   "source": [
    "for idx in tokenizer.index_word:\n",
    "    print(idx, \":\", tokenizer.index_word[idx])\n",
    "\n",
    "    if idx >= 10: break"
   ]
  },
  {
   "cell_type": "code",
   "execution_count": 8,
   "id": "adjacent-affiliate",
   "metadata": {},
   "outputs": [
    {
     "name": "stdout",
     "output_type": "stream",
     "text": [
      "[  2 953   3   0   0   0   0   0   0   0   0   0   0   0   0   0   0   0\n",
      "   0   0   0   0   0   0   0   0   0   0   0   0   0   0   0   0   0   0\n",
      "   0   0   0   0   0   0   0   0   0   0   0   0   0   0   0   0   0   0\n",
      "   0   0   0   0   0   0   0   0   0   0   0   0   0   0   0   0   0   0\n",
      "   0   0   0   0   0   0   0   0   0   0   0   0   0   0   0   0   0   0\n",
      "   0   0   0   0   0   0   0   0   0   0   0   0   0   0   0   0   0   0\n",
      "   0   0   0   0   0   0   0   0   0   0   0   0   0   0   0   0   0   0\n",
      "   0   0   0   0   0   0   0   0   0   0   0   0   0   0   0   0   0   0\n",
      "   0   0   0   0   0   0   0   0   0   0   0   0   0   0   0   0   0   0\n",
      "   0   0   0   0   0   0   0   0   0   0   0   0   0   0   0   0   0   0\n",
      "   0   0   0   0   0   0   0   0   0   0   0   0   0   0   0   0   0   0\n",
      "   0   0   0   0   0   0   0   0   0   0   0   0   0   0   0   0   0   0\n",
      "   0   0   0   0   0   0   0   0   0   0   0   0   0   0   0   0   0   0\n",
      "   0   0   0   0   0   0   0   0   0   0   0   0   0   0   0   0   0   0\n",
      "   0   0   0   0   0   0   0   0   0   0   0   0   0   0   0   0   0   0\n",
      "   0   0   0   0   0   0   0   0   0   0   0   0   0   0   0   0   0   0\n",
      "   0   0   0   0   0   0   0   0   0   0   0   0   0   0   0   0   0   0\n",
      "   0   0   0   0   0   0   0   0   0   0   0   0   0   0   0   0   0   0\n",
      "   0   0   0   0   0   0   0   0   0   0   0   0   0   0   0   0   0   0\n",
      "   0   0   0   0]\n",
      "[953   3   0   0   0   0   0   0   0   0   0   0   0   0   0   0   0   0\n",
      "   0   0   0   0   0   0   0   0   0   0   0   0   0   0   0   0   0   0\n",
      "   0   0   0   0   0   0   0   0   0   0   0   0   0   0   0   0   0   0\n",
      "   0   0   0   0   0   0   0   0   0   0   0   0   0   0   0   0   0   0\n",
      "   0   0   0   0   0   0   0   0   0   0   0   0   0   0   0   0   0   0\n",
      "   0   0   0   0   0   0   0   0   0   0   0   0   0   0   0   0   0   0\n",
      "   0   0   0   0   0   0   0   0   0   0   0   0   0   0   0   0   0   0\n",
      "   0   0   0   0   0   0   0   0   0   0   0   0   0   0   0   0   0   0\n",
      "   0   0   0   0   0   0   0   0   0   0   0   0   0   0   0   0   0   0\n",
      "   0   0   0   0   0   0   0   0   0   0   0   0   0   0   0   0   0   0\n",
      "   0   0   0   0   0   0   0   0   0   0   0   0   0   0   0   0   0   0\n",
      "   0   0   0   0   0   0   0   0   0   0   0   0   0   0   0   0   0   0\n",
      "   0   0   0   0   0   0   0   0   0   0   0   0   0   0   0   0   0   0\n",
      "   0   0   0   0   0   0   0   0   0   0   0   0   0   0   0   0   0   0\n",
      "   0   0   0   0   0   0   0   0   0   0   0   0   0   0   0   0   0   0\n",
      "   0   0   0   0   0   0   0   0   0   0   0   0   0   0   0   0   0   0\n",
      "   0   0   0   0   0   0   0   0   0   0   0   0   0   0   0   0   0   0\n",
      "   0   0   0   0   0   0   0   0   0   0   0   0   0   0   0   0   0   0\n",
      "   0   0   0   0   0   0   0   0   0   0   0   0   0   0   0   0   0   0\n",
      "   0   0   0   0]\n"
     ]
    }
   ],
   "source": [
    "# tensor에서 마지막 토큰을 잘라내서 소스 문장을 생성합니다\n",
    "# 마지막 토큰은 <end>가 아니라 <pad>일 가능성이 높습니다.\n",
    "src_input = tensor[:, :-1]  \n",
    "# tensor에서 <start>를 잘라내서 타겟 문장을 생성합니다.\n",
    "tgt_input = tensor[:, 1:]    \n",
    "\n",
    "print(src_input[0])\n",
    "print(tgt_input[0])"
   ]
  },
  {
   "cell_type": "markdown",
   "id": "induced-breath",
   "metadata": {},
   "source": [
    "corpus 내의 첫 번째 문장에 대해 생성된 소스와 타겟 문장을 확인해 보았습니다. 예상대로 소스는 2()에서 시작해서 3()으로 끝난 후 0()로 채워져 있습니다. 하지만 타겟은 2로 시작하지 않고 소스를 왼쪽으로 한 칸 시프트 한 형태를 가지고 있습니다.\n",
    "마지막으로 우리는 데이터셋 객체를 생성할 것입니다. 그동안 우리는 model.fit(x_train, y_train, ...) 형태로 Numpy Array 데이터셋을 생성하여 model에 제공하는 형태의 학습을 많이 진행해 왔습니다. 그러나 텐서플로우를 활용할 경우 텐서로 생성된 데이터를 이용해 tf.data.Dataset객체를 생성하는 방법을 흔히 사용합니다. tf.data.Dataset객체는 텐서플로우에서 사용할 경우 데이터 입력 파이프라인을 통한 속도 개선 및 각종 편의 기능을 제공하므로 꼭 사용법을 알아 두시기를 권합니다. 우리는 이미 데이터셋을 텐서 형태로 생성해 두었으므로, tf.data.Dataset.from_tensor_slices() 메소드를 이용해 tf.data.Dataset객체를 생성할 것입니다."
   ]
  },
  {
   "cell_type": "code",
   "execution_count": 9,
   "id": "introductory-apollo",
   "metadata": {},
   "outputs": [
    {
     "data": {
      "text/plain": [
       "<BatchDataset shapes: ((256, 346), (256, 346)), types: (tf.int32, tf.int32)>"
      ]
     },
     "execution_count": 9,
     "metadata": {},
     "output_type": "execute_result"
    }
   ],
   "source": [
    "BUFFER_SIZE = len(src_input)\n",
    "BATCH_SIZE = 256\n",
    "steps_per_epoch = len(src_input) // BATCH_SIZE\n",
    "\n",
    " # tokenizer가 구축한 단어사전 내 7000개와, 여기 포함되지 않은 0:<pad>를 포함하여 7001개\n",
    "VOCAB_SIZE = tokenizer.num_words + 1   \n",
    "\n",
    "# 준비한 데이터 소스로부터 데이터셋을 만듭니다\n",
    "# 데이터셋에 대해서는 아래 문서를 참고하세요\n",
    "# 자세히 알아둘수록 도움이 많이 되는 중요한 문서입니다\n",
    "# https://www.tensorflow.org/api_docs/python/tf/data/Dataset\n",
    "dataset = tf.data.Dataset.from_tensor_slices((src_input, tgt_input))\n",
    "dataset = dataset.shuffle(BUFFER_SIZE)\n",
    "dataset = dataset.batch(BATCH_SIZE, drop_remainder=True)\n",
    "dataset"
   ]
  },
  {
   "cell_type": "markdown",
   "id": "dynamic-actor",
   "metadata": {},
   "source": [
    "이번 스텝에서 데이터셋을 생성하기 위해 거쳐 온 과정을 잘 기억해 두시길 바랍니다.\n",
    "정규표현식을 이용한 corpus 생성 tf.keras.preprocessing.text.Tokenizer를 이용해 corpus를 텐서로 변환 tf.data.Dataset.from_tensor_slices()를 이용해 corpus 텐서를 tf.data.Dataset객체로 변환 dataset을 얻음으로써 데이터 다듬기 과정은 끝났습니다. tf.data.Dataset에서 제공하는 shuffle(), batch() 등 다양한 데이터셋 관련 기능을 손쉽게 이용할 수 있게 되었군요.\n",
    "\n",
    "\n",
    "이 모든 일련의 과정을 텐서플로우에서의 데이터 전처리 라 칭합니다!"
   ]
  },
  {
   "attachments": {
    "image.png": {
     "image/png": "[encoded data removed]"
    }
   },
   "cell_type": "markdown",
   "id": "standing-herald",
   "metadata": {},
   "source": [
    "#### Step 5. 인공지능 만들기\n",
    "모델의 Embedding Size와 Hidden Size를 조절하며 10 Epoch 안에 val_loss 값을 2.2 수준으로 줄일 수 있는 모델을 설계하세요! (Loss는 아래 제시된 Loss 함수를 그대로 사용!)\n",
    "\n",
    "그리고 멋진 모델이 생성한 가사 한 줄을 제출하시길 바랍니다!\n",
    "\n",
    "#### 인공지능 학습시키기\n",
    "\n",
    "\n",
    "우리가 인공지능이라고 부르는 것은 인공신경망이자 딥러닝 네트워크이자 이번 코스에선 순환신경망이기도 하고...... 너무 많은 이름이 같은 의미를 담고 있습니다. 따라서 지금부터 우리가 만들고자 하는 인공지능을 모델(model)이라고 칭하겠습니다. 실제로도 다들 모델이라고 한답니다.\n",
    "\n",
    "우리가 만들 모델의 구조도는 아래와 같습니다.\n",
    "\n",
    "![image.png](attachment:image.png)\n",
    "\n",
    "우리가 만들 모델은 tf.keras.Model을 Subclassing하는 방식으로 만들 것입니다. 위 그림에서 설명한 것처럼 우리가 만들 모델에는 1개의 Embedding 레이어, 2개의 LSTM 레이어, 1개의 Dense 레이어로 구성되어 있습니다.\n",
    "각 레이어의 기능을 확실히 이해하는 것은 나중에 하고, 지금은 구조도에 설명된 정도의 간단한 이해만 가지고 갑시다."
   ]
  },
  {
   "cell_type": "code",
   "execution_count": 10,
   "id": "fantastic-bonus",
   "metadata": {},
   "outputs": [],
   "source": [
    "# split the data into train, test, and validation set\n",
    "\n",
    "enc_train, enc_val, dec_train, dec_val = train_test_split(src_input, tgt_input, test_size = 0.25, random_state = 30)"
   ]
  },
  {
   "cell_type": "code",
   "execution_count": 11,
   "id": "golden-distinction",
   "metadata": {},
   "outputs": [],
   "source": [
    "class TextGenerator(tf.keras.Model):\n",
    "    def __init__(self, vocab_size, embedding_size, hidden_size):\n",
    "        super().__init__()\n",
    "        \n",
    "        self.embedding = tf.keras.layers.Embedding(vocab_size, embedding_size)\n",
    "        self.rnn_1 = tf.keras.layers.LSTM(hidden_size, return_sequences=True)\n",
    "        self.rnn_2 = tf.keras.layers.LSTM(hidden_size, return_sequences=True)\n",
    "        self.linear = tf.keras.layers.Dense(vocab_size)\n",
    "        \n",
    "    def call(self, x):\n",
    "        out = self.embedding(x)\n",
    "        out = self.rnn_1(out)\n",
    "        out = self.rnn_2(out)\n",
    "        out = self.linear(out)\n",
    "        \n",
    "        return out\n",
    "    \n",
    "embedding_size = 32\n",
    "hidden_size = 32\n",
    "model = Sequential()\n",
    "model.add(Bidirectional(LSTM(5)))\n",
    "model.add(layers.Dropout(0.1))\n",
    "model.add(layers.BatchNormalization())\n",
    "\n",
    "model = TextGenerator(tokenizer.num_words + 1, embedding_size , hidden_size)\n",
    "# why (tokenizer.num_words + 1)??"
   ]
  },
  {
   "cell_type": "markdown",
   "id": "eleven-enlargement",
   "metadata": {},
   "source": [
    "텍스트 분류 모델을 다루어 보셨다면 Embedding 레이어의 역할에 대해서는 낯설지 않을 것입니다. 우리 입력 텐서에는 단어 사전의 인덱스가 들어 있습니다. Embedding 레이어는 이 인덱스 값을 해당 인덱스 번째의 워드 벡터로 바꿔 줍니다. 이 워드 벡터는 의미 벡터 공간에서 단어의 추상적 표현(representation)으로 사용됩니다.\n",
    "\n",
    "위 코드에서 embedding_size 는 워드 벡터의 차원수, 즉 단어가 추상적으로 표현되는 크기입니다. 만약 그 크기가 2라면 예를 들어\n",
    "\n",
    " - 차갑다: [0.0, 1.0]\n",
    " - 뜨겁다: [1.0, 0.0]\n",
    " - 미지근하다: [0.5, 0.5]\n",
    " \n",
    "\n",
    " 정도의 구분이 가능하겠군요. 값이 커질수록 단어의 추상적인 특징들을 더 잡아낼 수 있지만, 그만큼 충분한 데이터가 주어지지 않으면 오히려 혼란만을 야기할 수 있습니다. 이번 실습에서는 256이 적당해 보이네요.\n",
    "\n",
    "LSTM 레이어의 hidden state 의 차원수인 hidden_size 도 같은 맥락입니다. hidden_size 는 모델에 얼마나 많은 일꾼을 둘 것인가? 로 이해해도 크게 엇나가지 않습니다. 그 일꾼들은 모두 같은 데이터를 보고 각자의 생각을 가지는데, 역시 충분한 데이터가 주어지면 올바른 결정을 내리겠지만 그렇지 않으면 배가 산으로 갈 뿐 입니다. 이번 실습에는 1024가 적당해보이는군요.  😂😂😊\n",
    "\n",
    "\n",
    "우리의 model은 아직 제대로 build되지 않았습니다. model.compile()을 호출한 적도 없고, 아직 model의 입력 텐서가 무엇인지 제대로 지정해 주지도 않았기 때문입니다.\n",
    "그런 경우 아래와 같이 model에 데이터를 아주 조금 태워 보는 것도 방법입니다. model의 input shape가 결정되면서 model.build()가 자동으로 호출됩니다."
   ]
  },
  {
   "cell_type": "markdown",
   "id": "plastic-patch",
   "metadata": {},
   "source": [
    "==================================================================\n",
    "\n",
    "\n",
    "모델의 최종 출력 텐서 shape를 유심히 보면 shape=(256, 20, 7001)임을 알 수 있습니다. 7001은 Dense 레이어의 출력 차원수입니다. 7001개의 단어 중 어느 단어의 확률이 가장 높을지를 모델링해야 하기 때문입니다.\n",
    "256은 이전 스텝에서 지정한 배치 사이즈입니다. dataset.take(1)를 통해서 1개의 배치, 즉 256개의 문장 데이터를 가져온 것입니다.\n",
    "\n",
    "그렇다면 20은 무엇을 의미할까요? 비밀은 바로 tf.keras.layers.LSTM(hidden_size, return_sequences=True)로 호출한 LSTM 레이어에서 return_sequences=True이라고 지정한 부분에 있습니다. 즉, LSTM은 자신에게 입력된 시퀀스의 길이만큼 동일한 길이의 시퀀스를 출력한다는 의미입니다. 만약 return_sequences=False였다면 LSTM 레이어는 1개의 벡터만 출력했을 것입니다.\n",
    "\n",
    "그런데 문제는, 우리의 모델은 입력 데이터의 시퀀스 길이가 얼마인지 모른다는 점입니다. 모델을 만들면서 알려준 적도 없습니다. 그럼 20은 언제 알게된 것일까요? 네, 그렇습니다. 데이터를 입력받으면서 비로소 알게 된 것입니다. 우리 데이터셋의 max_len이 20으로 맞춰져 있었던 것입니다."
   ]
  },
  {
   "cell_type": "code",
   "execution_count": 12,
   "id": "rising-prisoner",
   "metadata": {},
   "outputs": [
    {
     "name": "stdout",
     "output_type": "stream",
     "text": [
      "Source Train: (131811, 346)\n",
      "Target Train: (131811, 346)\n"
     ]
    }
   ],
   "source": [
    "print(\"Source Train:\", enc_train.shape)\n",
    "print(\"Target Train:\", dec_train.shape)"
   ]
  },
  {
   "cell_type": "code",
   "execution_count": 13,
   "id": "suburban-valuation",
   "metadata": {
    "scrolled": true
   },
   "outputs": [
    {
     "data": {
      "text/plain": [
       "<tf.Tensor: shape=(256, 346, 7001), dtype=float32, numpy=\n",
       "array([[[ 3.2916410e-05, -3.1750100e-05,  4.2681855e-05, ...,\n",
       "          2.2840251e-05, -3.1111464e-05, -7.9127138e-05],\n",
       "        [ 2.0502033e-05,  6.2860214e-05, -3.9418675e-05, ...,\n",
       "         -7.5581469e-05, -5.4133281e-05, -9.5787735e-05],\n",
       "        [ 9.5284840e-06,  1.0346358e-04, -3.4557524e-05, ...,\n",
       "         -1.3018835e-04, -2.1544649e-05, -2.8564612e-04],\n",
       "        ...,\n",
       "        [ 1.3562407e-03, -7.7668909e-04,  2.1798576e-03, ...,\n",
       "          1.3847454e-04, -2.2387346e-03,  1.2499545e-03],\n",
       "        [ 1.3562407e-03, -7.7668909e-04,  2.1798576e-03, ...,\n",
       "          1.3847454e-04, -2.2387346e-03,  1.2499545e-03],\n",
       "        [ 1.3562407e-03, -7.7668909e-04,  2.1798576e-03, ...,\n",
       "          1.3847454e-04, -2.2387346e-03,  1.2499545e-03]],\n",
       "\n",
       "       [[ 3.2916410e-05, -3.1750100e-05,  4.2681855e-05, ...,\n",
       "          2.2840251e-05, -3.1111464e-05, -7.9127138e-05],\n",
       "        [ 1.4420437e-05, -1.3471626e-05, -1.2865060e-05, ...,\n",
       "         -4.9408238e-05, -1.0591793e-04, -3.2602991e-05],\n",
       "        [-5.9618615e-05,  8.8906396e-05, -3.7058864e-05, ...,\n",
       "         -1.8608330e-04, -1.7392082e-04, -1.5828194e-04],\n",
       "        ...,\n",
       "        [ 1.3562406e-03, -7.7668898e-04,  2.1798578e-03, ...,\n",
       "          1.3847451e-04, -2.2387349e-03,  1.2499548e-03],\n",
       "        [ 1.3562406e-03, -7.7668898e-04,  2.1798578e-03, ...,\n",
       "          1.3847451e-04, -2.2387349e-03,  1.2499548e-03],\n",
       "        [ 1.3562406e-03, -7.7668898e-04,  2.1798578e-03, ...,\n",
       "          1.3847451e-04, -2.2387349e-03,  1.2499548e-03]],\n",
       "\n",
       "       [[ 3.2916410e-05, -3.1750100e-05,  4.2681855e-05, ...,\n",
       "          2.2840251e-05, -3.1111464e-05, -7.9127138e-05],\n",
       "        [ 3.0741896e-06, -3.1634907e-05,  1.1356458e-04, ...,\n",
       "          5.1453546e-05, -6.4448221e-05, -2.2711167e-04],\n",
       "        [-2.4736646e-06, -2.1745405e-05,  1.8831260e-04, ...,\n",
       "          1.0333160e-04, -6.9111135e-05, -3.0084947e-04],\n",
       "        ...,\n",
       "        [ 1.3562407e-03, -7.7668898e-04,  2.1798578e-03, ...,\n",
       "          1.3847453e-04, -2.2387349e-03,  1.2499545e-03],\n",
       "        [ 1.3562407e-03, -7.7668898e-04,  2.1798578e-03, ...,\n",
       "          1.3847453e-04, -2.2387349e-03,  1.2499545e-03],\n",
       "        [ 1.3562407e-03, -7.7668898e-04,  2.1798578e-03, ...,\n",
       "          1.3847453e-04, -2.2387349e-03,  1.2499545e-03]],\n",
       "\n",
       "       ...,\n",
       "\n",
       "       [[ 3.2916410e-05, -3.1750100e-05,  4.2681855e-05, ...,\n",
       "          2.2840251e-05, -3.1111464e-05, -7.9127138e-05],\n",
       "        [ 1.3504838e-04, -1.3531315e-05,  1.3556190e-04, ...,\n",
       "          6.0082721e-06, -1.9289422e-04, -2.5051895e-05],\n",
       "        [ 2.0393953e-04,  2.0204694e-05,  2.0665281e-04, ...,\n",
       "          9.6630931e-05, -3.8632864e-04,  6.1061975e-05],\n",
       "        ...,\n",
       "        [ 1.3562404e-03, -7.7668915e-04,  2.1798576e-03, ...,\n",
       "          1.3847461e-04, -2.2387344e-03,  1.2499545e-03],\n",
       "        [ 1.3562404e-03, -7.7668915e-04,  2.1798576e-03, ...,\n",
       "          1.3847461e-04, -2.2387344e-03,  1.2499545e-03],\n",
       "        [ 1.3562404e-03, -7.7668915e-04,  2.1798576e-03, ...,\n",
       "          1.3847461e-04, -2.2387344e-03,  1.2499545e-03]],\n",
       "\n",
       "       [[ 3.2916410e-05, -3.1750100e-05,  4.2681855e-05, ...,\n",
       "          2.2840251e-05, -3.1111464e-05, -7.9127138e-05],\n",
       "        [ 1.1154934e-04, -3.5168512e-05,  4.2469925e-05, ...,\n",
       "         -2.5560951e-06, -1.9914184e-04, -4.9334780e-05],\n",
       "        [ 1.5569759e-04, -2.4705409e-05,  5.2371008e-05, ...,\n",
       "         -1.8966790e-05, -2.8870392e-04, -1.0009637e-04],\n",
       "        ...,\n",
       "        [ 1.3562413e-03, -7.7668863e-04,  2.1798580e-03, ...,\n",
       "          1.3847466e-04, -2.2387351e-03,  1.2499549e-03],\n",
       "        [ 1.3562413e-03, -7.7668863e-04,  2.1798580e-03, ...,\n",
       "          1.3847466e-04, -2.2387351e-03,  1.2499549e-03],\n",
       "        [ 1.3562413e-03, -7.7668863e-04,  2.1798580e-03, ...,\n",
       "          1.3847466e-04, -2.2387351e-03,  1.2499549e-03]],\n",
       "\n",
       "       [[ 3.2916410e-05, -3.1750100e-05,  4.2681855e-05, ...,\n",
       "          2.2840251e-05, -3.1111464e-05, -7.9127138e-05],\n",
       "        [ 9.0241825e-05, -7.3399708e-05,  7.5730939e-05, ...,\n",
       "         -3.0108380e-05, -8.7437082e-05, -2.3906141e-04],\n",
       "        [ 8.2491279e-05, -1.5676113e-04,  1.6576434e-04, ...,\n",
       "         -3.2157826e-05, -2.0639438e-04, -2.9965834e-04],\n",
       "        ...,\n",
       "        [ 1.3562405e-03, -7.7668909e-04,  2.1798578e-03, ...,\n",
       "          1.3847457e-04, -2.2387346e-03,  1.2499548e-03],\n",
       "        [ 1.3562405e-03, -7.7668909e-04,  2.1798578e-03, ...,\n",
       "          1.3847457e-04, -2.2387346e-03,  1.2499548e-03],\n",
       "        [ 1.3562405e-03, -7.7668909e-04,  2.1798578e-03, ...,\n",
       "          1.3847457e-04, -2.2387346e-03,  1.2499548e-03]]], dtype=float32)>"
      ]
     },
     "execution_count": 13,
     "metadata": {},
     "output_type": "execute_result"
    }
   ],
   "source": [
    "# 데이터셋에서 데이터 한 배치만 불러오는 방법입니다.\n",
    "# 지금은 동작 원리에 너무 빠져들지 마세요~\n",
    "for src_sample, tgt_sample in dataset.take(1): break\n",
    "\n",
    "# 한 배치만 불러온 데이터를 모델에 넣어봅니다\n",
    "model(src_sample)"
   ]
  },
  {
   "cell_type": "markdown",
   "id": "blind-correlation",
   "metadata": {},
   "source": [
    "이제 드디어 model.summary()를 호출할 수 있게 되었습니다. 그런데 호출해 보니 그동안 많이 보았던 것과는 다른 점이 있습니다. 우리가 궁금했던 Output Shape를 정확하게 알려주지 않습니다. 바로 위에서 설명한 이유 때문입니다. 우리의 모델은 입력 시퀀스의 길이를 모르기 때문에 Output Shape를 특정할 수 없는 것입니다.\n",
    "\n",
    "하지만 모델의 파라미터 사이즈는 측정됩니다. 대략 22million 정도 되는군요. 참고로 서두에 소개했던 GPT-2의 파라미터 사이즈는, 1.5billion입니다. 우리 모델의 100배까지는 안되더라도 수십배가 넘는군요. 놀라지 마세요. GPT-3의 파라미터 사이즈는 GPT-2의 100배니까요."
   ]
  },
  {
   "cell_type": "code",
   "execution_count": 14,
   "id": "blocked-strengthening",
   "metadata": {},
   "outputs": [
    {
     "name": "stdout",
     "output_type": "stream",
     "text": [
      "Model: \"text_generator\"\n",
      "_________________________________________________________________\n",
      "Layer (type)                 Output Shape              Param #   \n",
      "=================================================================\n",
      "embedding (Embedding)        multiple                  224032    \n",
      "_________________________________________________________________\n",
      "lstm_1 (LSTM)                multiple                  8320      \n",
      "_________________________________________________________________\n",
      "lstm_2 (LSTM)                multiple                  8320      \n",
      "_________________________________________________________________\n",
      "dense (Dense)                multiple                  231033    \n",
      "=================================================================\n",
      "Total params: 471,705\n",
      "Trainable params: 471,705\n",
      "Non-trainable params: 0\n",
      "_________________________________________________________________\n"
     ]
    }
   ],
   "source": [
    "model.summary()"
   ]
  },
  {
   "cell_type": "markdown",
   "id": "potential-better",
   "metadata": {},
   "source": [
    "이제 모델이 학습할 준비가 완료되었습니다. 아래 코드를 실행해 모델을 학습시켜보세요!\n",
    "\n",
    "학습엔 15분 정도 소요됩니다(GPU 환경 기준). 간단한 스트레칭과 커피 한 잔을 만들어 오기에 적당한 시간이죠.\n",
    "혹시라도 학습에 지나치게 많은 시간이 소요된다면 tf.test.is_gpu_available() 소스를 실행해 텐서플로우가 GPU를 잘 사용하고 있는지 확인하시길 바랍니다!"
   ]
  },
  {
   "cell_type": "code",
   "execution_count": 15,
   "id": "palestinian-adaptation",
   "metadata": {
    "scrolled": true
   },
   "outputs": [
    {
     "name": "stdout",
     "output_type": "stream",
     "text": [
      "WARNING:tensorflow:From <ipython-input-15-8547f5536380>:12: is_gpu_available (from tensorflow.python.framework.test_util) is deprecated and will be removed in a future version.\n",
      "Instructions for updating:\n",
      "Use `tf.config.list_physical_devices('GPU')` instead.\n",
      "Epoch 1/10\n",
      "4120/4120 [==============================] - 657s 159ms/step - loss: 0.8680 - val_loss: 0.1464\n",
      "Epoch 2/10\n",
      "4120/4120 [==============================] - 623s 151ms/step - loss: 0.1445 - val_loss: 0.1381\n",
      "Epoch 3/10\n",
      "4120/4120 [==============================] - 622s 151ms/step - loss: 0.1362 - val_loss: 0.1336\n",
      "Epoch 4/10\n",
      "4120/4120 [==============================] - 621s 151ms/step - loss: 0.1321 - val_loss: 0.1308\n",
      "Epoch 5/10\n",
      "4120/4120 [==============================] - 622s 151ms/step - loss: 0.1288 - val_loss: 0.1289\n",
      "Epoch 6/10\n",
      "4120/4120 [==============================] - 637s 155ms/step - loss: 0.1263 - val_loss: 0.1275\n",
      "Epoch 7/10\n",
      "4120/4120 [==============================] - 627s 152ms/step - loss: 0.1249 - val_loss: 0.1263\n",
      "Epoch 8/10\n",
      "4120/4120 [==============================] - 621s 151ms/step - loss: 0.1233 - val_loss: 0.1254\n",
      "Epoch 9/10\n",
      "4120/4120 [==============================] - 621s 151ms/step - loss: 0.1221 - val_loss: 0.1247\n",
      "Epoch 10/10\n",
      "4120/4120 [==============================] - 621s 151ms/step - loss: 0.1211 - val_loss: 0.1241\n"
     ]
    },
    {
     "data": {
      "text/plain": [
       "<tensorflow.python.keras.callbacks.History at 0x7f8f87f2c810>"
      ]
     },
     "execution_count": 15,
     "metadata": {},
     "output_type": "execute_result"
    }
   ],
   "source": [
    "# optimizer와 loss등은 차차 배웁니다\n",
    "# 혹시 미리 알고 싶다면 아래 문서를 참고하세요\n",
    "# https://www.tensorflow.org/api_docs/python/tf/keras/optimizers\n",
    "# https://www.tensorflow.org/api_docs/python/tf/keras/losses\n",
    "# 양이 상당히 많은 편이니 지금 보는 것은 추천하지 않습니다\n",
    "optimizer = tf.keras.optimizers.Adam()\n",
    "loss = tf.keras.losses.SparseCategoricalCrossentropy(\n",
    "    from_logits=True,\n",
    "    reduction='none'\n",
    ")\n",
    "\n",
    "tf.test.is_gpu_available()\n",
    "\n",
    "#add callbacks for the learning rate improvement\n",
    "my_callbacks = [\n",
    "    tf.keras.callbacks.EarlyStopping(monitor='val_loss', patience = 5, verbose=1),\n",
    "    tf.keras.callbacks.ModelCheckpoint(filepath='model.{epoch:02d}-{val_loss:.2f}.h5'),\n",
    "    tf.keras.callbacks.TensorBoard(log_dir='./logs'),\n",
    "]\n",
    "\n",
    "model.compile(loss=loss, optimizer=optimizer)\n",
    "\n",
    "model.fit(enc_train, dec_train, epochs=10, validation_data=(enc_val, dec_val), callbacks=my_callbacks)"
   ]
  },
  {
   "cell_type": "markdown",
   "id": "subject-italian",
   "metadata": {},
   "source": [
    "Loss는 모델이 오답을 만들고 있는 정도라고 생각하셔도 좋습니다(그렇다고 Loss가 1일 때 99%를 맞추고 있다는 의미는 아닙니다). 오답률이 감소하고 있으니 학습이 잘 진행되고 있다 고 해석할 수 있죠!\n",
    "\n",
    "학습이 완료되었다면 이제 모델을 평가해 봅시다.\n"
   ]
  },
  {
   "cell_type": "code",
   "execution_count": 30,
   "id": "mineral-pixel",
   "metadata": {},
   "outputs": [],
   "source": [
    "def generate_text(model, tokenizer, init_sentence=\"<start>\", max_len=20):\n",
    "    # 테스트를 위해서 입력받은 init_sentence도 일단 텐서로 변환합니다.\n",
    "    test_input = tokenizer.texts_to_sequences([init_sentence])\n",
    "    test_tensor = tf.convert_to_tensor(test_input, dtype=tf.int64)\n",
    "    end_token = tokenizer.word_index[\"<end>\"]\n",
    "\n",
    "    while True:\n",
    "        predict = model(test_tensor)  # 입력받은 문장의 텐서를 입력합니다.\n",
    "        predict_word = tf.argmax(tf.nn.softmax(predict, axis=-1), axis=-1)[:, -1]  # 모델이 예측한 마지막 단어가 바로 새롭게 생성한 단어가 됨\n",
    "\n",
    "        # 모델이 새롭게 예측한 단어를 입력 문장의 뒤에 붙여줌\n",
    "        test_tensor = tf.concat([test_tensor, tf.expand_dims(predict_word, axis=0)], axis=-1)\n",
    "\n",
    "        # 모델이 <end>를 예측했거나, max_len에 도달하지 않았다면  while 루프를 또 돌면서 다음 단어를 예측\n",
    "        if predict_word.numpy()[0] == end_token: break\n",
    "        if test_tensor.shape[1] >= max_len: break\n",
    "\n",
    "    generated = \"\"\n",
    "    # 생성된 tensor 안에 있는 word index를 tokenizer.index_word 사전을 통해 실제 단어로 하나씩 변환\n",
    "    for word_index in test_tensor[0].numpy():\n",
    "        generated += tokenizer.index_word[word_index] + \" \"\n",
    "\n",
    "    return generated\n"
   ]
  },
  {
   "cell_type": "markdown",
   "id": "nuclear-plastic",
   "metadata": {},
   "source": [
    "만약 결과가 다르다면 천천히 과정을 다시 살펴 동일한 결과를 얻도록 하세요! 만약 학습 데이터 개수가 124960보다 크다면 위 Step 3.의 데이터 정제 과정을 다시 한번 검토해 보시기를 권합니다."
   ]
  },
  {
   "cell_type": "markdown",
   "id": "unusual-string",
   "metadata": {},
   "source": []
  },
  {
   "cell_type": "markdown",
   "id": "serial-guidance",
   "metadata": {},
   "source": [
    "데이터가 커서 훈련하는 데 시간이 제법 걸릴 겁니다. 여유를 가지고 작업하시면 좋아요 :)"
   ]
  },
  {
   "cell_type": "code",
   "execution_count": 31,
   "id": "heard-reconstruction",
   "metadata": {},
   "outputs": [
    {
     "name": "stdout",
     "output_type": "stream",
     "text": [
      "Input sentence :  i love\n",
      "   LSTM ->   i love you , i m a <unk>\n",
      "****************************************\n",
      "Input sentence :  That you were\n",
      "   LSTM ->   that you were the one\n",
      "****************************************\n",
      "Input sentence :  I got\n",
      "   LSTM ->   i got a <unk> , i m a <unk>\n",
      "****************************************\n",
      "Input sentence :  I keep waiting\n",
      "   LSTM ->   i keep waiting for the way you re the one\n",
      "****************************************\n",
      "Input sentence :  I've started talking\n",
      "   LSTM ->   <unk> started talking\n",
      "****************************************\n",
      "Input sentence :  I'm right here for you\n",
      "   LSTM ->   <unk> right here for you\n",
      "****************************************\n",
      "Input sentence :  Do you wanna build\n",
      "   LSTM ->   do you wanna build me\n",
      "****************************************\n",
      "Input sentence :  Please, I don’t want to\n",
      "   LSTM ->   <unk> i <unk> want to get it\n",
      "****************************************\n",
      "Input sentence :  Just go to the\n",
      "   LSTM ->   just go to the <unk>\n",
      "****************************************\n",
      "Input sentence :  Why should I\n",
      "   LSTM ->   why should i go to get it\n",
      "****************************************\n",
      "Input sentence :  It's a good day\n",
      "   LSTM ->   <unk> a good day\n",
      "****************************************\n"
     ]
    }
   ],
   "source": [
    "test_sentence = [\n",
    "    'i love',\n",
    "    'That you were',\n",
    "    'I got',\n",
    "    'I keep waiting',\n",
    "    \"I've started talking\",\n",
    "    \"I'm right here for you\",\n",
    "    'Do you wanna build',\n",
    "    'Please, I don’t want to',\n",
    "    'Just go to the',\n",
    "    'Why should I',\n",
    "    \"It's a good day\"]\n",
    "\n",
    "for sentence in test_sentence:\n",
    "    input_sentence = f'<start> {sentence}'\n",
    "    \n",
    "    new_sentence1 = generate_text(model, tokenizer, init_sentence=input_sentence, max_len=20)\n",
    "    \n",
    "    print('Input sentence : ', sentence)\n",
    "    print('   LSTM -> ', new_sentence1[7:-7])\n",
    "    print('*'*40)"
   ]
  },
  {
   "cell_type": "markdown",
   "id": "lucky-wound",
   "metadata": {},
   "source": [
    "#### Q4. 모델이 생성한 가사 한 줄을 제출하세요."
   ]
  },
  {
   "cell_type": "markdown",
   "id": "union-snowboard",
   "metadata": {},
   "source": [
    "Input sentence :  Why should I\n",
    "   \n",
    "   \n",
    "   \n",
    "\n",
    "LSTM ->   why should i go to get it\n",
    "****************************************"
   ]
  },
  {
   "cell_type": "markdown",
   "id": "bound-omaha",
   "metadata": {},
   "source": [
    "#### 학습 결과 시각화"
   ]
  },
  {
   "cell_type": "code",
   "execution_count": 26,
   "id": "studied-associate",
   "metadata": {},
   "outputs": [
    {
     "ename": "TypeError",
     "evalue": "'TextGenerator' object is not subscriptable",
     "output_type": "error",
     "traceback": [
      "\u001b[0;31m---------------------------------------------------------------------------\u001b[0m",
      "\u001b[0;31mTypeError\u001b[0m                                 Traceback (most recent call last)",
      "\u001b[0;32m<ipython-input-26-a87503c9a1e3>\u001b[0m in \u001b[0;36m<module>\u001b[0;34m\u001b[0m\n\u001b[1;32m      4\u001b[0m \u001b[0;34m\u001b[0m\u001b[0m\n\u001b[1;32m      5\u001b[0m \u001b[0mplt\u001b[0m\u001b[0;34m.\u001b[0m\u001b[0msubplot\u001b[0m\u001b[0;34m(\u001b[0m\u001b[0;36m1\u001b[0m\u001b[0;34m,\u001b[0m\u001b[0;36m2\u001b[0m\u001b[0;34m,\u001b[0m\u001b[0;36m1\u001b[0m\u001b[0;34m)\u001b[0m\u001b[0;34m\u001b[0m\u001b[0;34m\u001b[0m\u001b[0m\n\u001b[0;32m----> 6\u001b[0;31m \u001b[0mplt\u001b[0m\u001b[0;34m.\u001b[0m\u001b[0mplot\u001b[0m\u001b[0;34m(\u001b[0m\u001b[0mmodel\u001b[0m\u001b[0;34m[\u001b[0m\u001b[0;34m'loss'\u001b[0m\u001b[0;34m]\u001b[0m\u001b[0;34m)\u001b[0m\u001b[0;34m\u001b[0m\u001b[0;34m\u001b[0m\u001b[0m\n\u001b[0m\u001b[1;32m      7\u001b[0m \u001b[0mplt\u001b[0m\u001b[0;34m.\u001b[0m\u001b[0mxlabel\u001b[0m\u001b[0;34m(\u001b[0m\u001b[0;34m'epoch'\u001b[0m\u001b[0;34m)\u001b[0m\u001b[0;34m\u001b[0m\u001b[0;34m\u001b[0m\u001b[0m\n\u001b[1;32m      8\u001b[0m \u001b[0mplt\u001b[0m\u001b[0;34m.\u001b[0m\u001b[0mylabel\u001b[0m\u001b[0;34m(\u001b[0m\u001b[0;34m'Loss'\u001b[0m\u001b[0;34m)\u001b[0m\u001b[0;34m\u001b[0m\u001b[0;34m\u001b[0m\u001b[0m\n",
      "\u001b[0;31mTypeError\u001b[0m: 'TextGenerator' object is not subscriptable"
     ]
    },
    {
     "data": {
      "image/png": "[encoded data removed]",
      "text/plain": [
       "<Figure size 1080x360 with 1 Axes>"
      ]
     },
     "metadata": {
      "needs_background": "light"
     },
     "output_type": "display_data"
    }
   ],
   "source": []
  },
  {
   "cell_type": "code",
   "execution_count": null,
   "id": "confirmed-voltage",
   "metadata": {},
   "outputs": [],
   "source": []
  }
 ],
 "metadata": {
  "kernelspec": {
   "display_name": "Python 3",
   "language": "python",
   "name": "python3"
  },
  "language_info": {
   "codemirror_mode": {
    "name": "ipython",
    "version": 3
   },
   "file_extension": ".py",
   "mimetype": "text/x-python",
   "name": "python",
   "nbconvert_exporter": "python",
   "pygments_lexer": "ipython3",
   "version": "3.7.9"
  }
 },
 "nbformat": 4,
 "nbformat_minor": 5
}
