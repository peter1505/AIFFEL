{
 "cells": [
  {
   "cell_type": "markdown",
   "id": "transsexual-distribution",
   "metadata": {},
   "source": [
    "## GD_NLP_04_reuters_classifiaction (DTM, TF-IDF Vocabulary Size)\n",
    "\n",
    "\n",
    "Google에서 제공하는 오픈소스 기반 Sentence Tokenizer/Detokenizer 패키지인 SentencePiece를 사용하는 프로젝트입니다.\n",
    "\n",
    "\n",
    "\n",
    "#### 프로젝트 설명\n",
    "1. reuters 뉴스 데이터를 불러온다. (이 때 단어의 수를 조절할 수 있다.)\n",
    " - 전체 단어\n",
    " - 5000개 단어\n",
    " - 그 외로 실험해보기(3가지)\n",
    "2. 머신러닝 모델 학습\n",
    " - 나이브 베이즈 분류기\n",
    " - CNB\n",
    " - 로지스틱 회귀\n",
    " - 서포트 벡터 머신(SVM)\n",
    " - 결정 트리\n",
    " - 랜덤 포레스트\n",
    " - 그래디언트 부스팅 트리\n",
    " - 보팅"
   ]
  },
  {
   "cell_type": "code",
   "execution_count": 1,
   "id": "vocational-marina",
   "metadata": {},
   "outputs": [],
   "source": [
    "# 모든 프로젝트에 해당되는 패키지를 먼저 임포트\n",
    "from tensorflow.keras.datasets import reuters\n",
    "import matplotlib.pyplot as plt\n",
    "import seaborn as sns\n",
    "import numpy as np\n",
    "import pandas as pd\n",
    "\n",
    "from sklearn.feature_extraction.text import CountVectorizer\n",
    "from sklearn.feature_extraction.text import TfidfTransformer\n",
    "\n",
    "from sklearn.naive_bayes import MultinomialNB #다항분포 나이브 베이즈 모델\n",
    "from sklearn.linear_model import LogisticRegression, SGDClassifier\n",
    "from sklearn.naive_bayes import ComplementNB\n",
    "from sklearn.tree import DecisionTreeClassifier\n",
    "from sklearn.ensemble import RandomForestClassifier\n",
    "from sklearn.ensemble import GradientBoostingClassifier\n",
    "from sklearn.ensemble import VotingClassifier\n",
    "from sklearn.svm import LinearSVC\n",
    "from sklearn.metrics import accuracy_score #정확도 계산\n",
    "\n",
    "from sklearn.metrics import classification_report\n",
    "from sklearn.metrics import confusion_matrix"
   ]
  },
  {
   "cell_type": "markdown",
   "id": "olympic-aquatic",
   "metadata": {},
   "source": [
    "## 데이터 불러오기 및 분석, 전처리\n",
    "(1) 모든 단어 사용\n",
    " - 실험을 위해 데이터셋의 모든 단어를 사용한다.\n",
    " - 해당 데이터셋은 정수 시퀀스로 변환되어 제공된다."
   ]
  },
  {
   "cell_type": "code",
   "execution_count": 2,
   "id": "conceptual-memory",
   "metadata": {},
   "outputs": [
    {
     "name": "stdout",
     "output_type": "stream",
     "text": [
      "Downloading data from https://storage.googleapis.com/tensorflow/tf-keras-datasets/reuters.npz\n",
      "2113536/2110848 [==============================] - 0s 0us/step\n"
     ]
    },
    {
     "name": "stderr",
     "output_type": "stream",
     "text": [
      "/opt/conda/lib/python3.7/site-packages/tensorflow/python/keras/datasets/reuters.py:148: VisibleDeprecationWarning: Creating an ndarray from ragged nested sequences (which is a list-or-tuple of lists-or-tuples-or ndarrays with different lengths or shapes) is deprecated. If you meant to do this, you must specify 'dtype=object' when creating the ndarray\n",
      "  x_train, y_train = np.array(xs[:idx]), np.array(labels[:idx])\n",
      "/opt/conda/lib/python3.7/site-packages/tensorflow/python/keras/datasets/reuters.py:149: VisibleDeprecationWarning: Creating an ndarray from ragged nested sequences (which is a list-or-tuple of lists-or-tuples-or ndarrays with different lengths or shapes) is deprecated. If you meant to do this, you must specify 'dtype=object' when creating the ndarray\n",
      "  x_test, y_test = np.array(xs[idx:]), np.array(labels[idx:])\n"
     ]
    }
   ],
   "source": [
    "# 데이터 로드\n",
    "(x_train, y_train), (x_test, y_test) = reuters.load_data(num_words=None, test_split=0.2)"
   ]
  },
  {
   "cell_type": "code",
   "execution_count": 3,
   "id": "sporting-morocco",
   "metadata": {},
   "outputs": [
    {
     "name": "stdout",
     "output_type": "stream",
     "text": [
      "훈련 샘플의 수: 8982\n",
      "테스트 샘플의 수: 2246\n"
     ]
    }
   ],
   "source": [
    "print('훈련 샘플의 수: {}'.format(len(x_train)))\n",
    "print('테스트 샘플의 수: {}'.format(len(x_test)))"
   ]
  },
  {
   "cell_type": "code",
   "execution_count": 4,
   "id": "greatest-processor",
   "metadata": {},
   "outputs": [
    {
     "name": "stdout",
     "output_type": "stream",
     "text": [
      "클래스의 수 : 46\n"
     ]
    }
   ],
   "source": [
    "num_classes = max(y_train) + 1\n",
    "print('클래스의 수 : {}'.format(num_classes))"
   ]
  },
  {
   "cell_type": "code",
   "execution_count": 5,
   "id": "convertible-stamp",
   "metadata": {},
   "outputs": [
    {
     "name": "stdout",
     "output_type": "stream",
     "text": [
      "훈련용 뉴스의 최대 길이 :2376\n",
      "훈련용 뉴스의 평균 길이 :145.5398574927633\n"
     ]
    },
    {
     "data": {
      "image/png": "[encoded data removed]",
      "text/plain": [
       "<Figure size 432x288 with 1 Axes>"
      ]
     },
     "metadata": {
      "needs_background": "light"
     },
     "output_type": "display_data"
    }
   ],
   "source": [
    "print('훈련용 뉴스의 최대 길이 :{}'.format(max(len(l) for l in x_train)))\n",
    "print('훈련용 뉴스의 평균 길이 :{}'.format(sum(map(len, x_train))/len(x_train)))\n",
    "\n",
    "plt.hist([len(s) for s in x_train], bins=50)\n",
    "plt.xlabel('length of samples')\n",
    "plt.ylabel('number of samples')\n",
    "plt.show()"
   ]
  },
  {
   "cell_type": "code",
   "execution_count": 6,
   "id": "future-fifth",
   "metadata": {},
   "outputs": [
    {
     "name": "stdout",
     "output_type": "stream",
     "text": [
      "Downloading data from https://storage.googleapis.com/tensorflow/tf-keras-datasets/reuters_word_index.json\n",
      "557056/550378 [==============================] - 0s 0us/step\n"
     ]
    }
   ],
   "source": [
    "word_index = reuters.get_word_index(path=\"reuters_word_index.json\")"
   ]
  },
  {
   "cell_type": "code",
   "execution_count": 7,
   "id": "romance-funeral",
   "metadata": {},
   "outputs": [],
   "source": [
    "index_to_word = {index + 3 : word for word, index in word_index.items()}"
   ]
  },
  {
   "cell_type": "code",
   "execution_count": 8,
   "id": "genetic-firmware",
   "metadata": {},
   "outputs": [],
   "source": [
    "# index_to_word에 숫자 0은 <pad>, 숫자 1은 <sos>, 숫자 2는 <unk>를 넣어줍니다.\n",
    "for index, token in enumerate((\"<pad>\", \"<sos>\", \"<unk>\")):\n",
    "  index_to_word[index]=token"
   ]
  },
  {
   "cell_type": "code",
   "execution_count": 9,
   "id": "dirty-bracket",
   "metadata": {},
   "outputs": [
    {
     "data": {
      "text/plain": [
       "[1,\n",
       " 27595,\n",
       " 28842,\n",
       " 8,\n",
       " 43,\n",
       " 10,\n",
       " 447,\n",
       " 5,\n",
       " 25,\n",
       " 207,\n",
       " 270,\n",
       " 5,\n",
       " 3095,\n",
       " 111,\n",
       " 16,\n",
       " 369,\n",
       " 186,\n",
       " 90,\n",
       " 67,\n",
       " 7,\n",
       " 89,\n",
       " 5,\n",
       " 19,\n",
       " 102,\n",
       " 6,\n",
       " 19,\n",
       " 124,\n",
       " 15,\n",
       " 90,\n",
       " 67,\n",
       " 84,\n",
       " 22,\n",
       " 482,\n",
       " 26,\n",
       " 7,\n",
       " 48,\n",
       " 4,\n",
       " 49,\n",
       " 8,\n",
       " 864,\n",
       " 39,\n",
       " 209,\n",
       " 154,\n",
       " 6,\n",
       " 151,\n",
       " 6,\n",
       " 83,\n",
       " 11,\n",
       " 15,\n",
       " 22,\n",
       " 155,\n",
       " 11,\n",
       " 15,\n",
       " 7,\n",
       " 48,\n",
       " 9,\n",
       " 4579,\n",
       " 1005,\n",
       " 504,\n",
       " 6,\n",
       " 258,\n",
       " 6,\n",
       " 272,\n",
       " 11,\n",
       " 15,\n",
       " 22,\n",
       " 134,\n",
       " 44,\n",
       " 11,\n",
       " 15,\n",
       " 16,\n",
       " 8,\n",
       " 197,\n",
       " 1245,\n",
       " 90,\n",
       " 67,\n",
       " 52,\n",
       " 29,\n",
       " 209,\n",
       " 30,\n",
       " 32,\n",
       " 132,\n",
       " 6,\n",
       " 109,\n",
       " 15,\n",
       " 17,\n",
       " 12]"
      ]
     },
     "execution_count": 9,
     "metadata": {},
     "output_type": "execute_result"
    }
   ],
   "source": [
    "x_train[0]"
   ]
  },
  {
   "cell_type": "code",
   "execution_count": 10,
   "id": "driven-commissioner",
   "metadata": {},
   "outputs": [
    {
     "name": "stdout",
     "output_type": "stream",
     "text": [
      "<sos> mcgrath rentcorp said as a result of its december acquisition of space co it expects earnings per share in 1987 of 1 15 to 1 30 dlrs per share up from 70 cts in 1986 the company said pretax net should rise to nine to 10 mln dlrs from six mln dlrs in 1986 and rental operation revenues to 19 to 22 mln dlrs from 12 5 mln dlrs it said cash flow per share this year should be 2 50 to three dlrs reuter 3\n"
     ]
    }
   ],
   "source": [
    "print(' '.join([index_to_word[index] for index in x_train[0]]))"
   ]
  },
  {
   "cell_type": "markdown",
   "id": "relevant-swing",
   "metadata": {},
   "source": [
    " - 전체 데이터 변환(train, test)"
   ]
  },
  {
   "cell_type": "code",
   "execution_count": 11,
   "id": "greek-things",
   "metadata": {},
   "outputs": [],
   "source": [
    "decoded = []\n",
    "for i in range(len(x_train)):\n",
    "    t = ' '.join([index_to_word[index] for index in x_train[i]])\n",
    "    decoded.append(t)\n",
    "\n",
    "x_train = decoded"
   ]
  },
  {
   "cell_type": "code",
   "execution_count": 12,
   "id": "worse-muscle",
   "metadata": {},
   "outputs": [],
   "source": [
    "decoded = []\n",
    "for i in range(len(x_test)):\n",
    "    t = ' '.join([index_to_word[index] for index in x_test[i]])\n",
    "    decoded.append(t)\n",
    "\n",
    "x_test = decoded"
   ]
  },
  {
   "cell_type": "markdown",
   "id": "steady-triumph",
   "metadata": {},
   "source": [
    "## 2. 벡터화 하기\n",
    " - Document Term Matrix, DTM을 활용한 TF-IDF행렬로 벡터화한다."
   ]
  },
  {
   "cell_type": "code",
   "execution_count": 13,
   "id": "broke-equilibrium",
   "metadata": {},
   "outputs": [],
   "source": [
    "from sklearn.feature_extraction.text import CountVectorizer\n",
    "from sklearn.feature_extraction.text import TfidfTransformer"
   ]
  },
  {
   "cell_type": "markdown",
   "id": "engaging-forty",
   "metadata": {},
   "source": [
    "#### DTM 생성"
   ]
  },
  {
   "cell_type": "code",
   "execution_count": 14,
   "id": "missing-bearing",
   "metadata": {},
   "outputs": [
    {
     "name": "stdout",
     "output_type": "stream",
     "text": [
      "(8982, 26506)\n"
     ]
    }
   ],
   "source": [
    "dtmvector = CountVectorizer()\n",
    "x_train_dtm = dtmvector.fit_transform(x_train)\n",
    "print(x_train_dtm.shape)"
   ]
  },
  {
   "cell_type": "markdown",
   "id": "identical-animation",
   "metadata": {},
   "source": [
    "#### TF-IDF 생성"
   ]
  },
  {
   "cell_type": "code",
   "execution_count": 15,
   "id": "perceived-message",
   "metadata": {},
   "outputs": [
    {
     "name": "stdout",
     "output_type": "stream",
     "text": [
      "(8982, 26506)\n"
     ]
    }
   ],
   "source": [
    "tfidf_transformer = TfidfTransformer()\n",
    "tfidfv = tfidf_transformer.fit_transform(x_train_dtm)\n",
    "print(tfidfv.shape)"
   ]
  },
  {
   "cell_type": "markdown",
   "id": "competitive-jamaica",
   "metadata": {},
   "source": [
    "## 3. 머신러닝 모델 학습\n",
    " - 나이브 베이즈 분류기\n",
    " - Complement Naive Bayes Classifier, CNB\n",
    " - 로지스틱 회귀\n",
    " - 서포트 벡터 머신(SVM)\n",
    " - 결정 트리\n",
    " - 랜덤 포레스트\n",
    " - 그래디언트 부스팅 트리\n",
    " - 보팅"
   ]
  },
  {
   "cell_type": "code",
   "execution_count": 16,
   "id": "intimate-methodology",
   "metadata": {},
   "outputs": [],
   "source": [
    "from sklearn.naive_bayes import MultinomialNB #다항분포 나이브 베이즈 모델\n",
    "from sklearn.linear_model import LogisticRegression, SGDClassifier\n",
    "from sklearn.naive_bayes import ComplementNB\n",
    "from sklearn.tree import DecisionTreeClassifier\n",
    "from sklearn.ensemble import RandomForestClassifier\n",
    "from sklearn.ensemble import GradientBoostingClassifier\n",
    "from sklearn.ensemble import VotingClassifier\n",
    "from sklearn.svm import LinearSVC\n",
    "from sklearn.metrics import accuracy_score #정확도 계산"
   ]
  },
  {
   "cell_type": "code",
   "execution_count": 17,
   "id": "innocent-chick",
   "metadata": {},
   "outputs": [],
   "source": [
    "from sklearn.metrics import classification_report\n",
    "from sklearn.metrics import confusion_matrix"
   ]
  },
  {
   "cell_type": "markdown",
   "id": "worth-status",
   "metadata": {},
   "source": [
    " - tain데이터를 TF-IDF행렬로 변환한 것처럼 test데이터도 변환합니다.\n",
    " - 정확도를 측정하기 위함"
   ]
  },
  {
   "cell_type": "code",
   "execution_count": 18,
   "id": "narrative-network",
   "metadata": {},
   "outputs": [],
   "source": [
    "x_test_dtm = dtmvector.transform(x_test) #테스트 데이터를 DTM으로 변환\n",
    "tfidfv_test = tfidf_transformer.transform(x_test_dtm) #DTM을 TF-IDF 행렬로 변환"
   ]
  },
  {
   "cell_type": "code",
   "execution_count": 19,
   "id": "angry-classification",
   "metadata": {},
   "outputs": [],
   "source": [
    "def train_ml(tfidfv, y_train, tfidfv_test, y_test):\n",
    "    # 나이브 베이즈 분류기 \n",
    "    mod = MultinomialNB()\n",
    "    mod.fit(tfidfv, y_train)\n",
    "    \n",
    "    mod_predicted = mod.predict(tfidfv_test) #테스트 데이터에 대한 예측\n",
    "    print(\"나이브 베이즈 정확도:\", accuracy_score(y_test, mod_predicted)) #예측값과 실제값 비교\n",
    "    \n",
    "    # CNB\n",
    "    cb = ComplementNB()\n",
    "    cb.fit(tfidfv, y_train)\n",
    "    \n",
    "    cb_predicted = cb.predict(tfidfv_test) #테스트 데이터에 대한 예측\n",
    "    print(\"CNB 정확도:\", accuracy_score(y_test, cb_predicted)) #예측값과 실제값 비교\n",
    "    \n",
    "    # 로지스틱 회귀 \n",
    "    lr = LogisticRegression(C=10000, penalty='l2')\n",
    "    lr.fit(tfidfv, y_train)\n",
    "\n",
    "    lr_predicted = lr.predict(tfidfv_test) #테스트 데이터에 대한 예측\n",
    "    print(\"로지스틱 회귀 정확도:\", accuracy_score(y_test, lr_predicted)) #예측값과 실제값 비교\n",
    "    \n",
    "    # 선형 서포트 벡터 머신 \n",
    "    lsvc = LinearSVC(C=1000, penalty='l1', max_iter=500, dual=False)\n",
    "    lsvc.fit(tfidfv, y_train)\n",
    "    \n",
    "    lsvc_predicted = lsvc.predict(tfidfv_test) #테스트 데이터에 대한 예측\n",
    "    print(\"SVM 정확도:\", accuracy_score(y_test, lsvc_predicted)) #예측값과 실제값 비교\n",
    "    \n",
    "    # 결정 트리(Decision Tree) \n",
    "    tree = DecisionTreeClassifier(max_depth=10, random_state=0)\n",
    "    tree.fit(tfidfv, y_train)\n",
    "    \n",
    "    tree_predicted = tree.predict(tfidfv_test) #테스트 데이터에 대한 예측\n",
    "    print(\"결정 트리 정확도:\", accuracy_score(y_test, tree_predicted)) #예측값과 실제값 비교\n",
    "    \n",
    "    # 랜덤 포레스트(Random Forest)\n",
    "    forest = RandomForestClassifier(n_estimators=5, random_state=0)\n",
    "    forest.fit(tfidfv, y_train)\n",
    "    \n",
    "    forest_predicted = forest.predict(tfidfv_test) #테스트 데이터에 대한 예측\n",
    "    print(\"랜덤 포레스트 정확도:\", accuracy_score(y_test, forest_predicted)) #예측값과 실제값 비교\n",
    "    \n",
    "    # 그래디언트 부스팅 트리(GradientBoostingClassifier)\n",
    "    grbt = GradientBoostingClassifier(random_state=0, verbose=3) # verbose=3\n",
    "    grbt.fit(tfidfv, y_train)\n",
    "\n",
    "    grbt_predicted = grbt.predict(tfidfv_test) #테스트 데이터에 대한 예측\n",
    "    print(\"그래디언트 부스팅 트리 정확도:\", accuracy_score(y_test, grbt_predicted)) #예측값과 실제값 비교\n",
    "    \n",
    "    # 보팅(Voting)\n",
    "    voting_classifier = VotingClassifier(estimators=[\n",
    "         ('lr', LogisticRegression(C=10000, penalty='l2')),\n",
    "        ('cb', ComplementNB()),\n",
    "        ('grbt', GradientBoostingClassifier(random_state=0))\n",
    "        ], voting='soft', n_jobs=-1)\n",
    "    voting_classifier.fit(tfidfv, y_train)\n",
    "    \n",
    "    voting_classifier_predicted = voting_classifier.predict(tfidfv_test) #테스트 데이터에 대한 예측\n",
    "    print(\"보팅 정확도:\", accuracy_score(y_test, voting_classifier_predicted)) #예측값과 실제값 비교\n",
    "    \n",
    "    return mod, cb, lr, lsvc, tree, forest, grbt, voting_classifier"
   ]
  },
  {
   "cell_type": "code",
   "execution_count": 20,
   "id": "regular-sheriff",
   "metadata": {},
   "outputs": [
    {
     "name": "stdout",
     "output_type": "stream",
     "text": [
      "나이브 베이즈 정확도: 0.5997328584149599\n",
      "CNB 정확도: 0.7649154051647373\n"
     ]
    },
    {
     "name": "stderr",
     "output_type": "stream",
     "text": [
      "/opt/conda/lib/python3.7/site-packages/sklearn/linear_model/_logistic.py:762: ConvergenceWarning: lbfgs failed to converge (status=1):\n",
      "STOP: TOTAL NO. of ITERATIONS REACHED LIMIT.\n",
      "\n",
      "Increase the number of iterations (max_iter) or scale the data as shown in:\n",
      "    https://scikit-learn.org/stable/modules/preprocessing.html\n",
      "Please also refer to the documentation for alternative solver options:\n",
      "    https://scikit-learn.org/stable/modules/linear_model.html#logistic-regression\n",
      "  extra_warning_msg=_LOGISTIC_SOLVER_CONVERGENCE_MSG)\n"
     ]
    },
    {
     "name": "stdout",
     "output_type": "stream",
     "text": [
      "로지스틱 회귀 정확도: 0.813446126447017\n"
     ]
    },
    {
     "name": "stderr",
     "output_type": "stream",
     "text": [
      "/opt/conda/lib/python3.7/site-packages/sklearn/svm/_base.py:975: ConvergenceWarning: Liblinear failed to converge, increase the number of iterations.\n",
      "  \"the number of iterations.\", ConvergenceWarning)\n"
     ]
    },
    {
     "name": "stdout",
     "output_type": "stream",
     "text": [
      "SVM 정확도: 0.7845057880676759\n",
      "결정 트리 정확도: 0.6211041852181657\n",
      "랜덤 포레스트 정확도: 0.6544968833481746\n",
      "      Iter       Train Loss   Remaining Time \n",
      "         1       12845.1851           18.79m\n",
      "         2   689466281.7264           18.70m\n",
      "         3 6884613407215.1387           18.50m\n",
      "         4 5935818824582923550720.0000           18.33m\n",
      "         5 9040644020576697454476775298309462042959687372080133879675061827235923374847613060426279764553817024942513812241979907601155443654656.0000           18.20m\n",
      "         6 9040644020576697454476775298309462042959687372080133879675061827235923374847613060426279764553817024942513812241979907601155443654656.0000           18.02m\n",
      "         7 9040644020576697454476775298309462042959687372080133879675061827235923374847613060426279764553817024942513812241979907601155443654656.0000           17.83m\n",
      "         8 9040644020576697454476775298309462042959687372080133879675061827235923374847613060426279764553817024942513812241979907601155443654656.0000           17.63m\n",
      "         9 9040644020576697454476775298309462042959687372080133879675061827235923374847613060426279764553817024942513812241979907601155443654656.0000           17.46m\n",
      "        10 9040644020576697454476775298309462042959687372080133879675061827235923374847613060426279764553817024942513812241979907601155443654656.0000           17.28m\n",
      "        11 9040644020576697454476775298309462042959687372080133879675061827235923374847613060426279764553817024942513812241979907601155443654656.0000           17.23m\n",
      "        12 9040644020576697454476775298309462042959687372080133879675061827235923374847613060426279764553817024942513812241979907601155443654656.0000           17.02m\n",
      "        13 9040644020576697454476775298309462042959687372080133879675061827235923374847613060426279764553817024942513812241979907601155443654656.0000           16.83m\n",
      "        14 9040644020576697454476775298309462042959687372080133879675061827235923374847613060426279764553817024942513812241979907601155443654656.0000           16.63m\n",
      "        15 9040644020576697454476775298309462042959687372080133879675061827235923374847613060426279764553817024942513812241979907601155443654656.0000           16.43m\n",
      "        16 9040644020576697454476775298309462042959687372080133879675061827235923374847613060426279764553817024942513812241979907601155443654656.0000           16.23m\n",
      "        17 9040644020576697454476775298309462042959687372080133879675061827235923374847613060426279764553817024942513812241979907601155443654656.0000           16.03m\n",
      "        18 9040644020576697454476775298309462042959687372080133879675061827235923374847613060426279764553817024942513812241979907601155443654656.0000           15.82m\n",
      "        19 9040644020576697454476775298309462042959687372080133879675061827235923374847613060426279764553817024942513812241979907601155443654656.0000           15.63m\n",
      "        20 9040644020576697454476775298309462042959687372080133879675061827235923374847613060426279764553817024942513812241979907601155443654656.0000           15.43m\n",
      "        21 9040644020576697454476775298309462042959687372080133879675061827235923374847613060426279764553817024942513812241979907601155443654656.0000           15.23m\n",
      "        22 9040644020576697454476775298309462042959687372080133879675061827235923374847613060426279764553817024942513812241979907601155443654656.0000           15.04m\n",
      "        23 9040644020576697454476775298309462042959687372080133879675061827235923374847613060426279764553817024942513812241979907601155443654656.0000           14.85m\n",
      "        24 9040644020576697454476775298309462042959687372080133879675061827235923374847613060426279764553817024942513812241979907601155443654656.0000           14.65m\n",
      "        25 71276538223797627407516241100862978529530963044983872457904873785026599868454939389911852427245548475410496325767775571272401790294044479567429632.0000           14.45m\n",
      "        26 71276538223797627407516241100862978529530963044983872457904873785026599868454939389911852427245548475410496325767775571272401790294044479567429632.0000           14.26m\n",
      "        27 71276538223797627407516241100862978529530963044983872457904873785026599868454939389911852427245548475410496325767775571272401790294044479567429632.0000           14.06m\n",
      "        28 71276538223797627407516241100862978529530963044983872457904873785026599868454939389911852427245548475410496325767775571272401790294044479567429632.0000           13.87m\n",
      "        29 71276538223797627407516241100862978529530963044983872457904873785026599868454939389911852427245548475410496325767775571272401790294044479567429632.0000           13.67m\n",
      "        30 71276538223797627407516241100862978529530963044983872457904873785026599868454939389911852427245548475410496325767775571272401790294044479567429632.0000           13.48m\n",
      "        31 71276538223797627407516241100862978529530963044983872457904873785026599868454939389911852427245548475410496325767775571272401790294044479567429632.0000           13.28m\n",
      "        32 71276538223797627407516241100862978529530963044983872457904873785026599868454939389911852427245548475410496325767775571272401790294044479567429632.0000           13.10m\n",
      "        33 71276538223797627407516241100862978529530963044983872457904873785026599868454939389911852427245548475410496325767775571272401790294044479567429632.0000           12.91m\n",
      "        34 71276538223797627407516241100862978529530963044983872457904873785026599868454939389911852427245548475410496325767775571272401790294044479567429632.0000           12.72m\n",
      "        35 71276538223797627407516241100862978529530963044983872457904873785026599868454939389911852427245548475410496325767775571272401790294044479567429632.0000           12.52m\n",
      "        36 71276538223797627407516241100862978529530963044983872457904873785026599868454939389911852427245548475410496325767775571272401790294044479567429632.0000           12.33m\n",
      "        37 71276538223797627407516241100862978529530963044983872457904873785026599868454939389911852427245548475410496325767775571272401790294044479567429632.0000           12.13m\n",
      "        38 71276538223797627407516241100862978529530963044983872457904873785026599868454939389911852427245548475410496325767775571272401790294044479567429632.0000           11.94m\n",
      "        39 71276538223797627407516241100862978529530963044983872457904873785026599868454939389911852427245548475410496325767775571272401790294044479567429632.0000           11.74m\n",
      "        40 71276538223797627407516241100862978529530963044983872457904873785026599868454939389911852427245548475410496325767775571272401790294044479567429632.0000           11.55m\n",
      "        41 71276538223797627407516241100862978529530963044983872457904873785026599868454939389911852427245548475410496325767775571272401790294044479567429632.0000           11.36m\n",
      "        42 71276538223797627407516241100862978529530963044983872457904873785026599868454939389911852427245548475410496325767775571272401790294044479567429632.0000           11.16m\n",
      "        43 71276538223797627407516241100862978529530963044983872457904873785026599868454939389911852427245548475410496325767775571272401790294044479567429632.0000           10.97m\n",
      "        44 71276538223797627407516241100862978529530963044983872457904873785026599868454939389911852427245548475410496325767775571272401790294044479567429632.0000           10.78m\n",
      "        45 71276538223797627407516241100862978529530963044983872457904873785026599868454939389911852427245548475410496325767775571272401790294044479567429632.0000           10.59m\n",
      "        46 71276538223797627407516241100862978529530963044983872457904873785026599868454939389911852427245548475410496325767775571272401790294044479567429632.0000           10.39m\n",
      "        47 71276538223797627407516241100862978529530963044983872457904873785026599868454939389911852427245548475410496325767775571272401790294044479567429632.0000           10.20m\n",
      "        48 71276538223797627407516241100862978529530963044983872457904873785026599868454939389911852427245548475410496325767775571272401790294044479567429632.0000           10.01m\n",
      "        49 71276538223797627407516241100862978529530963044983872457904873785026599868454939389911852427245548475410496325767775571272401790294044479567429632.0000            9.81m\n",
      "        50 71276538223797627407516241100862978529530963044983872457904873785026599868454939389911852427245548475410496325767775571272401790294044479567429632.0000            9.62m\n",
      "        51 71276538223797627407516241100862978529530963044983872457904873785026599868454939389911852427245548475410496325767775571272401790294044479567429632.0000            9.43m\n",
      "        52 71276538223797627407516241100862978529530963044983872457904873785026599868454939389911852427245548475410496325767775571272401790294044479567429632.0000            9.23m\n",
      "        53 71276538223797627407516241100862978529530963044983872457904873785026599868454939389911852427245548475410496325767775571272401790294044479567429632.0000            9.04m\n",
      "        54 71276538223797627407516241100862978529530963044983872457904873785026599868454939389911852427245548475410496325767775571272401790294044479567429632.0000            8.85m\n",
      "        55 71276538223797627407516241100862978529530963044983872457904873785026599868454939389911852427245548475410496325767775571272401790294044479567429632.0000            8.66m\n",
      "        56 71276538223797627407516241100862978529530963044983872457904873785026599868454939389911852427245548475410496325767775571272401790294044479567429632.0000            8.47m\n",
      "        57 71276538223797627407516241100862978529530963044983872457904873785026599868454939389911852427245548475410496325767775571272401790294044479567429632.0000            8.27m\n",
      "        58 71276538223797627407516241100862978529530963044983872457904873785026599868454939389911852427245548475410496325767775571272401790294044479567429632.0000            8.08m\n",
      "        59 71276538223797627407516241100862978529530963044983872457904873785026599868454939389911852427245548475410496325767775571272401790294044479567429632.0000            7.89m\n",
      "        60 71276538223797627407516241100862978529530963044983872457904873785026599868454939389911852427245548475410496325767775571272401790294044479567429632.0000            7.70m\n",
      "        61 71276538223797627407516241100862978529530963044983872457904873785026599868454939389911852427245548475410496325767775571272401790294044479567429632.0000            7.50m\n",
      "        62 71276538223797627407516241100862978529530963044983872457904873785026599868454939389911852427245548475410496325767775571272401790294044479567429632.0000            7.31m\n",
      "        63 71276538223797627407516241100862978529530963044983872457904873785026599868454939389911852427245548475410496325767775571272401790294044479567429632.0000            7.12m\n",
      "        64 71276538223797627407516241100862978529530963044983872457904873785026599868454939389911852427245548475410496325767775571272401790294044479567429632.0000            6.93m\n",
      "        65 71276538223797627407516241100862978529530963044983872457904873785026599868454939389911852427245548475410496325767775571272401790294044479567429632.0000            6.73m\n",
      "        66 71276538223797627407516241100862978529530963044983872457904873785026599868454939389911852427245548475410496325767775571272401790294044479567429632.0000            6.54m\n",
      "        67 71276538223797627407516241100862978529530963044983872457904873785026599868454939389911852427245548475410496325767775571272401790294044479567429632.0000            6.35m\n",
      "        68 71276538223797627407516241100862978529530963044983872457904873785026599868454939389911852427245548475410496325767775571272401790294044479567429632.0000            6.15m\n",
      "        69 71276538223797627407516241100862978529530963044983872457904873785026599868454939389911852427245548475410496325767775571272401790294044479567429632.0000            5.96m\n",
      "        70 71276538223797627407516241100862978529530963044983872457904873785026599868454939389911852427245548475410496325767775571272401790294044479567429632.0000            5.77m\n",
      "        71 71276538223797627407516241100862978529530963044983872457904873785026599868454939389911852427245548475410496325767775571272401790294044479567429632.0000            5.58m\n",
      "        72 71276538223797627407516241100862978529530963044983872457904873785026599868454939389911852427245548475410496325767775571272401790294044479567429632.0000            5.38m\n",
      "        73 71276538223797627407516241100862978529530963044983872457904873785026599868454939389911852427245548475410496325767775571272401790294044479567429632.0000            5.19m\n",
      "        74 71276538223797627407516241100862978529530963044983872457904873785026599868454939389911852427245548475410496325767775571272401790294044479567429632.0000            5.00m\n",
      "        75 71276538223797627407516241100862978529530963044983872457904873785026599868454939389911852427245548475410496325767775571272401790294044479567429632.0000            4.81m\n",
      "        76 71276538223797627407516241100862978529530963044983872457904873785026599868454939389911852427245548475410496325767775571272401790294044479567429632.0000            4.61m\n",
      "        77 71276538223797627407516241100862978529530963044983872457904873785026599868454939389911852427245548475410496325767775571272401790294044479567429632.0000            4.42m\n",
      "        78 71276538223797627407516241100862978529530963044983872457904873785026599868454939389911852427245548475410496325767775571272401790294044479567429632.0000            4.23m\n",
      "        79 71276538223797627407516241100862978529530963044983872457904873785026599868454939389911852427245548475410496325767775571272401790294044479567429632.0000            4.04m\n",
      "        80 71276538223797627407516241100862978529530963044983872457904873785026599868454939389911852427245548475410496325767775571272401790294044479567429632.0000            3.84m\n",
      "        81 71276538223797627407516241100862978529530963044983872457904873785026599868454939389911852427245548475410496325767775571272401790294044479567429632.0000            3.65m\n",
      "        82 71276538223797627407516241100862978529530963044983872457904873785026599868454939389911852427245548475410496325767775571272401790294044479567429632.0000            3.46m\n",
      "        83 71276538223797627407516241100862978529530963044983872457904873785026599868454939389911852427245548475410496325767775571272401790294044479567429632.0000            3.27m\n",
      "        84 71276538223797627407516241100862978529530963044983872457904873785026599868454939389911852427245548475410496325767775571272401790294044479567429632.0000            3.08m\n",
      "        85 71276538223797627407516241100862978529530963044983872457904873785026599868454939389911852427245548475410496325767775571272401790294044479567429632.0000            2.88m\n",
      "        86 71276538223797627407516241100862978529530963044983872457904873785026599868454939389911852427245548475410496325767775571272401790294044479567429632.0000            2.69m\n",
      "        87 71276538223797627407516241100862978529530963044983872457904873785026599868454939389911852427245548475410496325767775571272401790294044479567429632.0000            2.50m\n",
      "        88 71276538223797627407516241100862978529530963044983872457904873785026599868454939389911852427245548475410496325767775571272401790294044479567429632.0000            2.31m\n",
      "        89 71276538223797627407516241100862978529530963044983872457904873785026599868454939389911852427245548475410496325767775571272401790294044479567429632.0000            2.11m\n",
      "        90 71276538223797627407516241100862978529530963044983872457904873785026599868454939389911852427245548475410496325767775571272401790294044479567429632.0000            1.92m\n",
      "        91 71276538223797627407516241100862978529530963044983872457904873785026599868454939389911852427245548475410496325767775571272401790294044479567429632.0000            1.73m\n",
      "        92 71276538223797627407516241100862978529530963044983872457904873785026599868454939389911852427245548475410496325767775571272401790294044479567429632.0000            1.54m\n",
      "        93 71276538223797627407516241100862978529530963044983872457904873785026599868454939389911852427245548475410496325767775571272401790294044479567429632.0000            1.34m\n",
      "        94 71276538223797627407516241100862978529530963044983872457904873785026599868454939389911852427245548475410496325767775571272401790294044479567429632.0000            1.15m\n",
      "        95 71276538223797627407516241100862978529530963044983872457904873785026599868454939389911852427245548475410496325767775571272401790294044479567429632.0000           57.64s\n",
      "        96 71276538223797627407516241100862978529530963044983872457904873785026599868454939389911852427245548475410496325767775571272401790294044479567429632.0000           46.11s\n",
      "        97 71276538223797627407516241100862978529530963044983872457904873785026599868454939389911852427245548475410496325767775571272401790294044479567429632.0000           34.63s\n",
      "        98 71276538223797627407516241100862978529530963044983872457904873785026599868454939389911852427245548475410496325767775571272401790294044479567429632.0000           23.09s\n",
      "        99 71276538223797627407516241100862978529530963044983872457904873785026599868454939389911852427245548475410496325767775571272401790294044479567429632.0000           11.54s\n",
      "       100 71276538223797627407516241100862978529530963044983872457904873785026599868454939389911852427245548475410496325767775571272401790294044479567429632.0000            0.00s\n",
      "그래디언트 부스팅 트리 정확도: 0.7702582368655387\n",
      "보팅 정확도: 0.8187889581478184\n"
     ]
    }
   ],
   "source": [
    "mod, cb, lr, lsvc, tree, forest, grbt, voting_classifier = train_ml(tfidfv, y_train, tfidfv_test, y_test)\n"
   ]
  },
  {
   "cell_type": "markdown",
   "id": "engaging-warehouse",
   "metadata": {},
   "source": [
    "#### (2) 단어 5000개 사용"
   ]
  },
  {
   "cell_type": "code",
   "execution_count": 21,
   "id": "surgical-dominican",
   "metadata": {},
   "outputs": [
    {
     "name": "stderr",
     "output_type": "stream",
     "text": [
      "/opt/conda/lib/python3.7/site-packages/tensorflow/python/keras/datasets/reuters.py:148: VisibleDeprecationWarning: Creating an ndarray from ragged nested sequences (which is a list-or-tuple of lists-or-tuples-or ndarrays with different lengths or shapes) is deprecated. If you meant to do this, you must specify 'dtype=object' when creating the ndarray\n",
      "  x_train, y_train = np.array(xs[:idx]), np.array(labels[:idx])\n",
      "/opt/conda/lib/python3.7/site-packages/tensorflow/python/keras/datasets/reuters.py:149: VisibleDeprecationWarning: Creating an ndarray from ragged nested sequences (which is a list-or-tuple of lists-or-tuples-or ndarrays with different lengths or shapes) is deprecated. If you meant to do this, you must specify 'dtype=object' when creating the ndarray\n",
      "  x_test, y_test = np.array(xs[idx:]), np.array(labels[idx:])\n"
     ]
    }
   ],
   "source": [
    "(x_train_5k, y_train_5k), (x_test_5k, y_test_5k) = reuters.load_data(num_words=5000, test_split=0.2)\n"
   ]
  },
  {
   "cell_type": "code",
   "execution_count": 22,
   "id": "answering-portfolio",
   "metadata": {},
   "outputs": [],
   "source": [
    "decoded = []\n",
    "for i in range(len(x_train_5k)):\n",
    "    t = ' '.join([index_to_word[index] for index in x_train_5k[i]])\n",
    "    decoded.append(t)\n",
    "\n",
    "x_train_5k = decoded"
   ]
  },
  {
   "cell_type": "code",
   "execution_count": 23,
   "id": "plain-worship",
   "metadata": {},
   "outputs": [],
   "source": [
    "decoded = []\n",
    "for i in range(len(x_test_5k)):\n",
    "    t = ' '.join([index_to_word[index] for index in x_test_5k[i]])\n",
    "    decoded.append(t)\n",
    "\n",
    "x_test_5k = decoded"
   ]
  },
  {
   "cell_type": "markdown",
   "id": "closing-thinking",
   "metadata": {},
   "source": [
    " - 행렬 변환"
   ]
  },
  {
   "cell_type": "code",
   "execution_count": 24,
   "id": "detailed-maria",
   "metadata": {},
   "outputs": [
    {
     "name": "stdout",
     "output_type": "stream",
     "text": [
      "(8982, 4867)\n"
     ]
    }
   ],
   "source": [
    "dtmvector = CountVectorizer()\n",
    "x_train_dtm_5k = dtmvector.fit_transform(x_train_5k)\n",
    "print(x_train_dtm_5k.shape)"
   ]
  },
  {
   "cell_type": "code",
   "execution_count": 25,
   "id": "indian-recommendation",
   "metadata": {},
   "outputs": [
    {
     "name": "stdout",
     "output_type": "stream",
     "text": [
      "(8982, 4867)\n"
     ]
    }
   ],
   "source": [
    "tfidf_transformer = TfidfTransformer()\n",
    "tfidfv_5k = tfidf_transformer.fit_transform(x_train_dtm_5k)\n",
    "print(tfidfv_5k.shape)"
   ]
  },
  {
   "cell_type": "code",
   "execution_count": 26,
   "id": "unable-brave",
   "metadata": {},
   "outputs": [],
   "source": [
    "x_test_dtm_5k = dtmvector.transform(x_test_5k) # 테스트 데이터를 DTM으로 변환\n",
    "tfidfv_test_5k = tfidf_transformer.transform(x_test_dtm_5k) # DTM을 TF-IDF 행렬로 변환"
   ]
  },
  {
   "cell_type": "code",
   "execution_count": 27,
   "id": "arranged-lebanon",
   "metadata": {},
   "outputs": [
    {
     "name": "stdout",
     "output_type": "stream",
     "text": [
      "나이브 베이즈 정확도: 0.6731967943009796\n",
      "CNB 정확도: 0.7707034728406055\n"
     ]
    },
    {
     "name": "stderr",
     "output_type": "stream",
     "text": [
      "/opt/conda/lib/python3.7/site-packages/sklearn/linear_model/_logistic.py:762: ConvergenceWarning: lbfgs failed to converge (status=1):\n",
      "STOP: TOTAL NO. of ITERATIONS REACHED LIMIT.\n",
      "\n",
      "Increase the number of iterations (max_iter) or scale the data as shown in:\n",
      "    https://scikit-learn.org/stable/modules/preprocessing.html\n",
      "Please also refer to the documentation for alternative solver options:\n",
      "    https://scikit-learn.org/stable/modules/linear_model.html#logistic-regression\n",
      "  extra_warning_msg=_LOGISTIC_SOLVER_CONVERGENCE_MSG)\n"
     ]
    },
    {
     "name": "stdout",
     "output_type": "stream",
     "text": [
      "로지스틱 회귀 정확도: 0.8058771148708815\n"
     ]
    },
    {
     "name": "stderr",
     "output_type": "stream",
     "text": [
      "/opt/conda/lib/python3.7/site-packages/sklearn/svm/_base.py:975: ConvergenceWarning: Liblinear failed to converge, increase the number of iterations.\n",
      "  \"the number of iterations.\", ConvergenceWarning)\n"
     ]
    },
    {
     "name": "stdout",
     "output_type": "stream",
     "text": [
      "SVM 정확도: 0.7680320569902048\n",
      "결정 트리 정확도: 0.6179875333926982\n",
      "랜덤 포레스트 정확도: 0.701246660730187\n",
      "      Iter       Train Loss   Remaining Time \n",
      "         1       13200.9090           17.72m\n",
      "         2 19141531432.3860           17.64m\n",
      "         3 1018136056482137345428864037762575643679300980036667356656533462569269067776.0000           17.60m\n",
      "         4 5793438208146438552371750463374243580454084126740516228669142075250525372030044080110043136.0000           17.36m\n",
      "         5 3979630484381169793867261128601856110593550227404752540847489843154493525639763256294740889013872088305157670725524817116093080321688237768704.0000           17.19m\n",
      "         6 3979630484381169793867261128601856110593550227404752540847489843154493525639763256294740889013872088305157670725524817116093080321688237768704.0000           17.01m\n",
      "         7 3979630484381169793867261128601856110593550227404752540847489843154493525639763256294740889013872088305157670725524817116093080321688237768704.0000           16.86m\n",
      "         8 3979630484381169793867261128601856110593550227404752540847489843154493525639763256294740889013872088305157670725524817116093080321688237768704.0000           16.74m\n",
      "         9 3979630484381169793867261128601856110593550227404752540847489843154493525639763256294740889013872088305157670725524817116093080321688237768704.0000           16.57m\n",
      "        10 3979630484381169793867261128601856110593550227404752540847489843154493525639763256294740889013872088305157670725524817116093080321688237768704.0000           16.37m\n",
      "        11 3979630484381169793867261128601856110593550227404752540847489843154493525639763256294740889013872088305157670725524817116093080321688237768704.0000           16.18m\n",
      "        12 3979630484381169793867261128601856110593550227404752540847489843154493525639763256294740889013872088305157670725524817116093080321688237768704.0000           15.96m\n",
      "        13 3979630484381169793867261128601856110593550227404752540847489843154493525639763256294740889013872088305157670725524817116093080321688237768704.0000           15.77m\n",
      "        14 3979630484381169793867261128601856110593550227404752540847489843154493525639763256294740889013872088305157670725524817116093080321688237768704.0000           15.58m\n",
      "        15 3979630484381169793867261128601856110593550227404752540847489843154493525639763256294740889013872088305157670725524817116093080321688237768704.0000           15.38m\n",
      "        16 3979630484381169793867261128601856110593550227404752540847489843154493525639763256294740889013872088305157670725524817116093080321688237768704.0000           15.20m\n",
      "        17 3979630484381169793867261128601856110593550227404752540847489843154493525639763256294740889013872088305157670725524817116093080321688237768704.0000           14.98m\n",
      "        18 3979630484381169793867261128601856110593550227404752540847489843154493525639763256294740889013872088305157670725524817116093080321688237768704.0000           14.74m\n",
      "        19 3979630484381169793867261128601856110593550227404752540847489843154493525639763256294740889013872088305157670725524817116093080321688237768704.0000           14.51m\n",
      "        20 3979630484381169793867261128601856110593550227404752540847489843154493525639763256294740889013872088305157670725524817116093080321688237768704.0000           14.28m\n",
      "        21 3979630484381169793867261128601856110593550227404752540847489843154493525639763256294740889013872088305157670725524817116093080321688237768704.0000           14.06m\n",
      "        22 3979630484381169793867261128601856110593550227404752540847489843154493525639763256294740889013872088305157670725524817116093080321688237768704.0000           13.85m\n",
      "        23 3979630484381169793867261128601856110593550227404752540847489843154493525639763256294740889013872088305157670725524817116093080321688237768704.0000           13.64m\n",
      "        24 3979630484381169793867261128601856110593550227404752540847489843154493525639763256294740889013872088305157670725524817116093080321688237768704.0000           13.44m\n",
      "        25 3979630484381169793867261128601856110593550227404752540847489843154493525639763256294740889013872088305157670725524817116093080321688237768704.0000           13.24m\n",
      "        26 3979630484381169793867261128601856110593550227404752540847489843154493525639763256294740889013872088305157670725524817116093080321688237768704.0000           13.04m\n",
      "        27 3979630484381173178473821334674682744399927355192476462279466620274336263041595061252392018927962713273915122067783236783098648441282755559424.0000           12.84m\n",
      "        28 3979630484381173178473821334674682744399927355192476462279466620274336263041595061252392018927962713273915122067783236783098648441282755559424.0000           12.65m\n",
      "        29 3979630484381173178473821334674682744399927355192476462279466620274336263041595061252392018927962713273915122067783236783098648441282755559424.0000           12.45m\n",
      "        30 3979630484381173178473821334674682744399927355192476462279466620274336263041595061252392018927962713273915122067783236783098648441282755559424.0000           12.26m\n",
      "        31 3979630484381173178473821334674682744399927355192476462279466620274336263041595061252392018927962713273915122067783236783098648441282755559424.0000           12.07m\n",
      "        32 3979630484381173178473821334674682744399927355192476462279466620274336263041595061252392018927962713273915122067783236783098648441282755559424.0000           11.88m\n",
      "        33 3979630484381173178473821334674682744399927355192476462279466620274336263041595061252392018927962713273915122067783236783098648441282755559424.0000           11.70m\n",
      "        34 3979630484381173178473821334674682744399927355192476462279466620274336263041595061252392018927962713273915122067783236783098648441282755559424.0000           11.51m\n",
      "        35 3979630484381173178473821334674682744399927355192476462279466620274336263041595061252392018927962713273915122067783236783098648441282755559424.0000           11.37m\n",
      "        36 3979630484381173178473821334674682744399927355192476462279466620274336263041595061252392018927962713273915122067783236783098648441282755559424.0000           11.32m\n",
      "        37 3979630484381173178473821334674682744399927355192476462279466620274336263041595061252392018927962713273915122067783236783098648441282755559424.0000           11.13m\n",
      "        38 3979630484381173178473821334674682744399927355192476462279466620274336263041595061252392018927962713273915122067783236783098648441282755559424.0000           10.93m\n",
      "        39 3979630484381173178473821334674682744399927355192476462279466620274336263041595061252392018927962713273915122067783236783098648441282755559424.0000           10.74m\n",
      "        40 3979630484381173178473821334674682744399927355192476462279466620274336263041595061252392018927962713273915122067783236783098648441282755559424.0000           10.56m\n",
      "        41 3979630484381173178473821334674682744399927355192476462279466620274336263041595061252392018927962713273915122067783236783098648441282755559424.0000           10.37m\n",
      "        42 3979630484381173178473821334674682744399927355192476462279466620274336263041595061252392018927962713273915122067783236783098648441282755559424.0000           10.18m\n",
      "        43 3979630484381173178473821334674682744399927355192476462279466620274336263041595061252392018927962713273915122067783236783098648441282755559424.0000           10.00m\n",
      "        44 3979630484381173178473821334674682744399927355192476462279466620274336263041595061252392018927962713273915122067783236783098648441282755559424.0000            9.82m\n",
      "        45 3979630484381173178473821334674682744399927355192476462279466620274336263041595061252392018927962713273915122067783236783098648441282755559424.0000            9.63m\n",
      "        46 3979630484381173178473821334674682744399927355192476462279466620274336263041595061252392018927962713273915122067783236783098648441282755559424.0000            9.48m\n",
      "        47 3979630484381173178473821334674682744399927355192476462279466620274336263041595061252392018927962713273915122067783236783098648441282755559424.0000            9.38m\n",
      "        48 3979630484381173178473821334674682744399927355192476462279466620274336263041595061252392018927962713273915122067783236783098648441282755559424.0000            9.19m\n",
      "        49 3979630484381173178473821334674682744399927355192476462279466620274336263041595061252392018927962713273915122067783236783098648441282755559424.0000            9.01m\n",
      "        50 3979630484381173178473821334674682744399927355192476462279466620274336263041595061252392018927962713273915122067783236783098648441282755559424.0000            8.82m\n",
      "        51 3979630484381173178473821334674682744399927355192476462279466620274336263041595061252392018927962713273915122067783236783098648441282755559424.0000            8.64m\n",
      "        52 3979630484381173178473821334674682744399927355192476462279466620274336263041595061252392018927962713273915122067783236783098648441282755559424.0000            8.52m\n",
      "        53 3979630484381173178473821334674682744399927355192476462279466620274336263041595061252392018927962713273915122067783236783098648441282755559424.0000            8.34m\n",
      "        54 3979630484381173178473821334674682744399927355192476462279466620274336263041595061252392018927962713273915122067783236783098648441282755559424.0000            8.15m\n",
      "        55 3979630484381173178473821334674682744399927355192476462279466620274336263041595061252392018927962713273915122067783236783098648441282755559424.0000            7.97m\n",
      "        56 3979630484381173178473821334674682744399927355192476462279466620274336263041595061252392018927962713273915122067783236783098648441282755559424.0000            7.78m\n",
      "        57 3979630484381173178473821334674682744399927355192476462279466620274336263041595061252392018927962713273915122067783236783098648441282755559424.0000            7.63m\n",
      "        58 3979630484381173178473821334674682744399927355192476462279466620274336263041595061252392018927962713273915122067783236783098648441282755559424.0000            7.47m\n",
      "        59 3979630484381173178473821334674682744399927355192476462279466620274336263041595061252392018927962713273915122067783236783098648441282755559424.0000            7.29m\n",
      "        60 3979630484381173178473821334674682744399927355192476462279466620274336263041595061252392018927962713273915122067783236783098648441282755559424.0000            7.11m\n",
      "        61 3979630484381173178473821334674682744399927355192476462279466620274336263041595061252392018927962713273915122067783236783098648441282755559424.0000            6.92m\n",
      "        62 3979630484381173178473821334674682744399927355192476462279466620274336263041595061252392018927962713273915122067783236783098648441282755559424.0000            6.74m\n",
      "        63 3979630484381173178473821334674682744399927355192476462279466620274336263041595061252392018927962713273915122067783236783098648441282755559424.0000            6.56m\n",
      "        64 3979630484381173178473821334674682744399927355192476462279466620274336263041595061252392018927962713273915122067783236783098648441282755559424.0000            6.37m\n",
      "        65 3979630484381173178473821334674682744399927355192476462279466620274336263041595061252392018927962713273915122067783236783098648441282755559424.0000            6.19m\n",
      "        66 3979630484381173178473821334674682744399927355192476462279466620274336263041595061252392018927962713273915122067783236783098648441282755559424.0000            6.01m\n",
      "        67 3979630484381173178473821334674682744399927355192476462279466620274336263041595061252392018927962713273915122067783236783098648441282755559424.0000            5.83m\n",
      "        68 3979630484381173178473821334674682744399927355192476462279466620274336263041595061252392018927962713273915122067783236783098648441282755559424.0000            5.65m\n",
      "        69 3979630484381173178473821334674682744399927355192476462279466620274336263041595061252392018927962713273915122067783236783098648441282755559424.0000            5.47m\n",
      "        70 3979630484381173178473821334674682744399927355192476462279466620274336263041595061252392018927962713273915122067783236783098648441282755559424.0000            5.29m\n",
      "        71 3979630484381173178473821334674682744399927355192476462279466620274336263041595061252392018927962713273915122067783236783098648441282755559424.0000            5.12m\n",
      "        72 3979630484381173178473821334674682744399927355192476462279466620274336263041595061252392018927962713273915122067783236783098648441282755559424.0000            4.94m\n",
      "        73 3979630484381173178473821334674682744399927355192476462279466620274336263041595061252392018927962713273915122067783236783098648441282755559424.0000            4.77m\n",
      "        74 3979630484381173178473821334674682744399927355192476462279466620274336263041595061252392018927962713273915122067783236783098648441282755559424.0000            4.59m\n",
      "        75 3979630484381173178473821334674682744399927355192476462279466620274336263041595061252392018927962713273915122067783236783098648441282755559424.0000            4.41m\n",
      "        76 3979630484381173178473821334674682744399927355192476462279466620274336263041595061252392018927962713273915122067783236783098648441282755559424.0000            4.24m\n",
      "        77 3979630484381173178473821334674682744399927355192476462279466620274336263041595061252392018927962713273915122067783236783098648441282755559424.0000            4.06m\n",
      "        78 3979630484381173178473821334674682744399927355192476462279466620274336263041595061252392018927962713273915122067783236783098648441282755559424.0000            3.89m\n",
      "        79 3979630484381173178473821334674682744399927355192476462279466620274336263041595061252392018927962713273915122067783236783098648441282755559424.0000            3.71m\n",
      "        80 3979630484381173178473821334674682744399927355192476462279466620274336263041595061252392018927962713273915122067783236783098648441282755559424.0000            3.54m\n",
      "        81 3979630484381173178473821334674682744399927355192476462279466620274336263041595061252392018927962713273915122067783236783098648441282755559424.0000            3.36m\n",
      "        82 3979630484381173178473821334674682744399927355192476462279466620274336263041595061252392018927962713273915122067783236783098648441282755559424.0000            3.19m\n",
      "        83 3979630484381173178473821334674682744399927355192476462279466620274336263041595061252392018927962713273915122067783236783098648441282755559424.0000            3.01m\n",
      "        84 3979630484381173178473821334674682744399927355192476462279466620274336263041595061252392018927962713273915122067783236783098648441282755559424.0000            2.83m\n",
      "        85 3979630484381173178473821334674682744399927355192476462279466620274336263041595061252392018927962713273915122067783236783098648441282755559424.0000            2.66m\n",
      "        86 3979630484381173178473821334674682744399927355192476462279466620274336263041595061252392018927962713273915122067783236783098648441282755559424.0000            2.48m\n",
      "        87 3979630484381173178473821334674682744399927355192476462279466620274336263041595061252392018927962713273915122067783236783098648441282755559424.0000            2.30m\n",
      "        88 3979630484381173178473821334674682744399927355192476462279466620274336263041595061252392018927962713273915122067783236783098648441282755559424.0000            2.13m\n",
      "        89 3979630484381173178473821334674682744399927355192476462279466620274336263041595061252392018927962713273915122067783236783098648441282755559424.0000            1.95m\n",
      "        90 3979630484381173178473821334674682744399927355192476462279466620274336263041595061252392018927962713273915122067783236783098648441282755559424.0000            1.77m\n",
      "        91 3979630484381173178473821334674682744399927355192476462279466620274336263041595061252392018927962713273915122067783236783098648441282755559424.0000            1.60m\n",
      "        92 3979630484381173178473821334674682744399927355192476462279466620274336263041595061252392018927962713273915122067783236783098648441282755559424.0000            1.42m\n",
      "        93 3979630484381173178473821334674682744399927355192476462279466620274336263041595061252392018927962713273915122067783236783098648441282755559424.0000            1.24m\n",
      "        94 3979630484381173178473821334674682744399927355192476462279466620274336263041595061252392018927962713273915122067783236783098648441282755559424.0000            1.07m\n",
      "        95 3979630484381173178473821334674682744399927355192476462279466620274336263041595061252392018927962713273915122067783236783098648441282755559424.0000           53.27s\n",
      "        96 3979630484381173178473821334674682744399927355192476462279466620274336263041595061252392018927962713273915122067783236783098648441282755559424.0000           42.63s\n",
      "        97 3979630484381173178473821334674682744399927355192476462279466620274336263041595061252392018927962713273915122067783236783098648441282755559424.0000           31.98s\n",
      "        98 3979630484381173178473821334674682744399927355192476462279466620274336263041595061252392018927962713273915122067783236783098648441282755559424.0000           21.32s\n",
      "        99 3979630484381173178473821334674682744399927355192476462279466620274336263041595061252392018927962713273915122067783236783098648441282755559424.0000           10.67s\n",
      "       100 3979630484381173178473821334674682744399927355192476462279466620274336263041595061252392018927962713273915122067783236783098648441282755559424.0000            0.00s\n",
      "그래디언트 부스팅 트리 정확도: 0.767586821015138\n",
      "보팅 정확도: 0.8161175422974176\n",
      "time : 2224.981447458267\n"
     ]
    }
   ],
   "source": [
    "import time\n",
    "start = time.time() \n",
    "\n",
    "mod_5k, cb_5k, lr_5k, lsvc_5k, tree_5k, forest_5k, grbt_5k, voting_classifier_5k = train_ml(tfidfv_5k, y_train_5k, tfidfv_test_5k, y_test_5k)\n",
    "\n",
    "print(\"time :\", time.time() - start)"
   ]
  },
  {
   "cell_type": "markdown",
   "id": "lucky-graham",
   "metadata": {},
   "source": [
    "## (3-1) 단어 1000개 사용"
   ]
  },
  {
   "cell_type": "code",
   "execution_count": 28,
   "id": "southeast-enlargement",
   "metadata": {},
   "outputs": [
    {
     "name": "stderr",
     "output_type": "stream",
     "text": [
      "/opt/conda/lib/python3.7/site-packages/tensorflow/python/keras/datasets/reuters.py:148: VisibleDeprecationWarning: Creating an ndarray from ragged nested sequences (which is a list-or-tuple of lists-or-tuples-or ndarrays with different lengths or shapes) is deprecated. If you meant to do this, you must specify 'dtype=object' when creating the ndarray\n",
      "  x_train, y_train = np.array(xs[:idx]), np.array(labels[:idx])\n",
      "/opt/conda/lib/python3.7/site-packages/tensorflow/python/keras/datasets/reuters.py:149: VisibleDeprecationWarning: Creating an ndarray from ragged nested sequences (which is a list-or-tuple of lists-or-tuples-or ndarrays with different lengths or shapes) is deprecated. If you meant to do this, you must specify 'dtype=object' when creating the ndarray\n",
      "  x_test, y_test = np.array(xs[idx:]), np.array(labels[idx:])\n"
     ]
    }
   ],
   "source": [
    "(x_train_1k, y_train_1k), (x_test_1k, y_test_1k) = reuters.load_data(num_words=1000, test_split=0.2)\n"
   ]
  },
  {
   "cell_type": "code",
   "execution_count": 29,
   "id": "operational-carol",
   "metadata": {},
   "outputs": [],
   "source": [
    "decoded = []\n",
    "for i in range(len(x_train_1k)):\n",
    "    t = ' '.join([index_to_word[index] for index in x_train_1k[i]])\n",
    "    decoded.append(t)\n",
    "\n",
    "x_train_1k = decoded"
   ]
  },
  {
   "cell_type": "code",
   "execution_count": 30,
   "id": "pretty-secondary",
   "metadata": {},
   "outputs": [],
   "source": [
    "decoded = []\n",
    "for i in range(len(x_test_1k)):\n",
    "    t = ' '.join([index_to_word[index] for index in x_test_1k[i]])\n",
    "    decoded.append(t)\n",
    "\n",
    "x_test_1k = decoded"
   ]
  },
  {
   "cell_type": "markdown",
   "id": "latin-watch",
   "metadata": {},
   "source": [
    " - 행렬 변환"
   ]
  },
  {
   "cell_type": "code",
   "execution_count": 31,
   "id": "falling-mercury",
   "metadata": {},
   "outputs": [
    {
     "name": "stdout",
     "output_type": "stream",
     "text": [
      "(8982, 969)\n"
     ]
    }
   ],
   "source": [
    "dtmvector = CountVectorizer()\n",
    "x_train_dtm_1k = dtmvector.fit_transform(x_train_1k)\n",
    "print(x_train_dtm_1k.shape)"
   ]
  },
  {
   "cell_type": "code",
   "execution_count": 32,
   "id": "proper-baghdad",
   "metadata": {},
   "outputs": [
    {
     "name": "stdout",
     "output_type": "stream",
     "text": [
      "(8982, 969)\n"
     ]
    }
   ],
   "source": [
    "tfidf_transformer = TfidfTransformer()\n",
    "tfidfv_1k = tfidf_transformer.fit_transform(x_train_dtm_1k)\n",
    "print(tfidfv_1k.shape)"
   ]
  },
  {
   "cell_type": "code",
   "execution_count": 33,
   "id": "balanced-television",
   "metadata": {},
   "outputs": [],
   "source": [
    "x_test_dtm_1k = dtmvector.transform(x_test_1k) #테스트 데이터를 DTM으로 변환\n",
    "tfidfv_test_1k = tfidf_transformer.transform(x_test_dtm_1k) #DTM을 TF-IDF 행렬로 변환"
   ]
  },
  {
   "cell_type": "code",
   "execution_count": 34,
   "id": "understood-equality",
   "metadata": {},
   "outputs": [
    {
     "name": "stdout",
     "output_type": "stream",
     "text": [
      "나이브 베이즈 정확도: 0.6856634016028496\n",
      "CNB 정확도: 0.7346393588601959\n"
     ]
    },
    {
     "name": "stderr",
     "output_type": "stream",
     "text": [
      "/opt/conda/lib/python3.7/site-packages/sklearn/linear_model/_logistic.py:762: ConvergenceWarning: lbfgs failed to converge (status=1):\n",
      "STOP: TOTAL NO. of ITERATIONS REACHED LIMIT.\n",
      "\n",
      "Increase the number of iterations (max_iter) or scale the data as shown in:\n",
      "    https://scikit-learn.org/stable/modules/preprocessing.html\n",
      "Please also refer to the documentation for alternative solver options:\n",
      "    https://scikit-learn.org/stable/modules/linear_model.html#logistic-regression\n",
      "  extra_warning_msg=_LOGISTIC_SOLVER_CONVERGENCE_MSG)\n"
     ]
    },
    {
     "name": "stdout",
     "output_type": "stream",
     "text": [
      "로지스틱 회귀 정확도: 0.780053428317008\n"
     ]
    },
    {
     "name": "stderr",
     "output_type": "stream",
     "text": [
      "/opt/conda/lib/python3.7/site-packages/sklearn/svm/_base.py:975: ConvergenceWarning: Liblinear failed to converge, increase the number of iterations.\n",
      "  \"the number of iterations.\", ConvergenceWarning)\n"
     ]
    },
    {
     "name": "stdout",
     "output_type": "stream",
     "text": [
      "SVM 정확도: 0.7221727515583259\n",
      "결정 트리 정확도: 0.6179875333926982\n",
      "랜덤 포레스트 정확도: 0.707479964381122\n",
      "      Iter       Train Loss   Remaining Time \n",
      "         1       14117.1745           15.15m\n",
      "         2    35639162.1314           14.75m\n",
      "         3    42705979.3760           14.48m\n",
      "         4  9126252191.8651           14.31m\n",
      "         5  9126424532.2802           14.11m\n",
      "         6 62647635205.0903           13.87m\n",
      "         7 62648065808.4197           13.72m\n",
      "         8 62648065658.7994           13.60m\n",
      "         9 608185690008282430912365147168569475398132500303209932316333183827805761102415935379079168.0000           13.45m\n",
      "        10 608185690008282430912365147168569475398132500303209932316333183827805761102415935379079168.0000           13.28m\n",
      "        11 608185690008282430912365147168569475398132500303209932316333183827805761102415935379079168.0000           13.13m\n",
      "        12 608185690008282430912365147168569475398132500303209932316333183827805761102415935379079168.0000           12.96m\n",
      "        13 608185690008282430912365147168569475398132500303209932316333183827805761102415935379079168.0000           12.80m\n",
      "        14 608185690008282430912365147168569475398132500303209932316333183827805761102415935379079168.0000           12.63m\n",
      "        15 608185690008282430912365147168569475398132500303209932316333183827805761102415935379079168.0000           12.47m\n",
      "        16 608185690008282430912365147168569475398132500303209932316333183827805761102415935379079168.0000           12.30m\n",
      "        17 608185690008282430912365147168569475398132500303209932316333183827805761102415935379079168.0000           12.16m\n",
      "        18 608185690008282430912365147168569475398132500303209932316333183827805761102415935379079168.0000           12.01m\n",
      "        19 608185690008282430912365147168569475398132500303209932316333183827805761102415935379079168.0000           11.87m\n",
      "        20 608185690008282430912365147168569475398132500303209932316333183827805761102415935379079168.0000           11.72m\n",
      "        21 608185690008282430912365147168569475398132500303209932316333183827805761102415935379079168.0000           11.61m\n",
      "        22 608185690008282430912365147168569475398132500303209932316333183827805761102415935379079168.0000           11.46m\n",
      "        23 608185690008282430912365147168569475398132500303209932316333183827805761102415935379079168.0000           11.31m\n",
      "        24 608185690008282430912365147168569475398132500303209932316333183827805761102415935379079168.0000           11.17m\n",
      "        25 608185690008282430912365147168569475398132500303209932316333183827805761102415935379079168.0000           11.03m\n",
      "        26 608185690008282430912365147168569475398132500303209932316333183827805761102415935379079168.0000           10.87m\n",
      "        27 608185690008282430912365147168569475398132500303209932316333183827805761102415935379079168.0000           10.73m\n",
      "        28 608185690008282430912365147168569475398132500303209932316333183827805761102415935379079168.0000           10.57m\n",
      "        29 608185690008282430912365147168569475398132500303209932316333183827805761102415935379079168.0000           10.42m\n",
      "        30 608185690008282430912365147168569475398132500303209932316333183827805761102415935379079168.0000           10.27m\n",
      "        31 608185690008282430912365147168569475398132500303209932316333183827805761102415935379079168.0000           10.13m\n",
      "        32 608185690008282430912365147168569475398132500303209932316333183827805761102415935379079168.0000            9.97m\n",
      "        33 608185690008282430912365147168569475398132500303209932316333183827805761102415935379079168.0000            9.83m\n",
      "        34 608185690008282430912365147168569475398132500303209932316333183827805761102415935379079168.0000            9.68m\n",
      "        35 608185690008282430912365147168569475398132500303209932316333183827805761102415935379079168.0000            9.53m\n",
      "        36 608185690008282430912365147168569475398132500303209932316333183827805761102415935379079168.0000            9.38m\n",
      "        37 608185690008282430912365147168569475398132500303209932316333183827805761102415935379079168.0000            9.23m\n",
      "        38 608185690008282430912365147168569475398132500303209932316333183827805761102415935379079168.0000            9.08m\n",
      "        39 608185690008282430912365147168569475398132500303209932316333183827805761102415935379079168.0000            8.93m\n",
      "        40 608185690008282430912365147168569475398132500303209932316333183827805761102415935379079168.0000            8.79m\n",
      "        41 608185690008282430912365147168569475398132500303209932316333183827805761102415935379079168.0000            8.64m\n",
      "        42 608185690008282430912365147168569475398132500303209932316333183827805761102415935379079168.0000            8.49m\n",
      "        43 608185690008282430912365147168569475398132500303209932316333183827805761102415935379079168.0000            8.35m\n",
      "        44 608185690008282430912365147168569475398132500303209932316333183827805761102415935379079168.0000            8.20m\n",
      "        45 608185690008282430912365147168569475398132500303209932316333183827805761102415935379079168.0000            8.05m\n",
      "        46 608185690008282430912365147168569475398132500303209932316333183827805761102415935379079168.0000            7.91m\n",
      "        47 608185690008282430912365147168569475398132500303209932316333183827805761102415935379079168.0000            7.76m\n",
      "        48 2727818721237681697848013696884752249525208280862574447680396836235420493736391096058164991782432004269670400.0000            7.61m\n",
      "        49 2727818721237681697848013696884752249525208280862574447680396836235420493736391096058164991782432004269670400.0000            7.47m\n",
      "        50 2727818721237681697848013696884752249525208280862574447680396836235420493736391096058164991782432004269670400.0000            7.32m\n",
      "        51 2727818721237681697848013696884752249525208280862574447680396836235420493736391096058164991782432004269670400.0000            7.18m\n",
      "        52 2727818721237681697848013696884752249525208280862574447680396836235420493736391096058164991782432004269670400.0000            7.03m\n",
      "        53 2727818721237681697848013696884752249525208280862574447680396836235420493736391096058164991782432004269670400.0000            6.88m\n",
      "        54 2727818721237681697848013696884752249525208280862574447680396836235420493736391096058164991782432004269670400.0000            6.73m\n",
      "        55 2727818721237681697848013696884752249525208280862574447680396836235420493736391096058164991782432004269670400.0000            6.59m\n",
      "        56 2727818721237681697848013696884752249525208280862574447680396836235420493736391096058164991782432004269670400.0000            6.44m\n",
      "        57 2727818721237681697848013696884752249525208280862574447680396836235420493736391096058164991782432004269670400.0000            6.30m\n",
      "        58 2727818721237681697848013696884752249525208280862574447680396836235420493736391096058164991782432004269670400.0000            6.15m\n",
      "        59 2727818721237681697848013696884752249525208280862574447680396836235420493736391096058164991782432004269670400.0000            6.00m\n",
      "        60 2727818721237681697848013696884752249525208280862574447680396836235420493736391096058164991782432004269670400.0000            5.86m\n",
      "        61 2727818721237681697848013696884752249525208280862574447680396836235420493736391096058164991782432004269670400.0000            5.71m\n",
      "        62 2727818721237681697848013696884752249525208280862574447680396836235420493736391096058164991782432004269670400.0000            5.56m\n",
      "        63 2727818721237681697848013696884752249525208280862574447680396836235420493736391096058164991782432004269670400.0000            5.41m\n",
      "        64 2727818721237681697848013696884752249525208280862574447680396836235420493736391096058164991782432004269670400.0000            5.27m\n",
      "        65 2727818721237681697848013696884752249525208280862574447680396836235420493736391096058164991782432004269670400.0000            5.12m\n",
      "        66 2727818721237681697848013696884752249525208280862574447680396836235420493736391096058164991782432004269670400.0000            4.97m\n",
      "        67 2727818721237681697848013696884752249525208280862574447680396836235420493736391096058164991782432004269670400.0000            4.82m\n",
      "        68 2727818721237681697848013696884752249525208280862574447680396836235420493736391096058164991782432004269670400.0000            4.68m\n",
      "        69 2727818721237681697848013696884752249525208280862574447680396836235420493736391096058164991782432004269670400.0000            4.53m\n",
      "        70 2727818721237681697848013696884752249525208280862574447680396836235420493736391096058164991782432004269670400.0000            4.38m\n",
      "        71 2727818721237681697848013696884752249525208280862574447680396836235420493736391096058164991782432004269670400.0000            4.24m\n",
      "        72 2727818721237681697848013696884752249525208280862574447680396836235420493736391096058164991782432004269670400.0000            4.09m\n",
      "        73 2727818721237681697848013696884752249525208280862574447680396836235420493736391096058164991782432004269670400.0000            3.94m\n",
      "        74 2727818721237681697848013696884752249525208280862574447680396836235420493736391096058164991782432004269670400.0000            3.80m\n",
      "        75 2727818721237681697848013696884752249525208280862574447680396836235420493736391096058164991782432004269670400.0000            3.65m\n",
      "        76 2727818721237681697848013696884752249525208280862574447680396836235420493736391096058164991782432004269670400.0000            3.51m\n",
      "        77 2727818721237681697848013696884752249525208280862574447680396836235420493736391096058164991782432004269670400.0000            3.36m\n",
      "        78 2727818721237681697848013696884752249525208280862574447680396836235420493736391096058164991782432004269670400.0000            3.21m\n",
      "        79 2727818721237681697848013696884752249525208280862574447680396836235420493736391096058164991782432004269670400.0000            3.07m\n",
      "        80 2727818721237681697848013696884752249525208280862574447680396836235420493736391096058164991782432004269670400.0000            2.92m\n",
      "        81 2727818721237681697848013696884752249525208280862574447680396836235420493736391096058164991782432004269670400.0000            2.77m\n",
      "        82 2727818721237681697848013696884752249525208280862574447680396836235420493736391096058164991782432004269670400.0000            2.63m\n",
      "        83 2727818721237681697848013696884752249525208280862574447680396836235420493736391096058164991782432004269670400.0000            2.48m\n",
      "        84 2727818721237681697848013696884752249525208280862574447680396836235420493736391096058164991782432004269670400.0000            2.34m\n",
      "        85 2727818721237681697848013696884752249525208280862574447680396836235420493736391096058164991782432004269670400.0000            2.19m\n",
      "        86 2727818721237681697848013696884752249525208280862574447680396836235420493736391096058164991782432004269670400.0000            2.04m\n",
      "        87 2727818721237681697848013696884752249525208280862574447680396836235420493736391096058164991782432004269670400.0000            1.90m\n",
      "        88 2727818721237681697848013696884752249525208280862574447680396836235420493736391096058164991782432004269670400.0000            1.75m\n",
      "        89 2727818721237681697848013696884752249525208280862574447680396836235420493736391096058164991782432004269670400.0000            1.61m\n",
      "        90 2727818721237681697848013696884752249525208280862574447680396836235420493736391096058164991782432004269670400.0000            1.46m\n",
      "        91 2727818721237681697848013696884752249525208280862574447680396836235420493736391096058164991782432004269670400.0000            1.31m\n",
      "        92 2727818721237681697848013696884752249525208280862574447680396836235420493736391096058164991782432004269670400.0000            1.17m\n",
      "        93 2727818721237681697848013696884752249525208280862574447680396836235420493736391096058164991782432004269670400.0000            1.02m\n",
      "        94 2727818721237681697848013696884752249525208280862574447680396836235420493736391096058164991782432004269670400.0000           52.55s\n",
      "        95 2727818721237681697848013696884752249525208280862574447680396836235420493736391096058164991782432004269670400.0000           43.81s\n",
      "        96 2727818721237681697848013696884752249525208280862574447680396836235420493736391096058164991782432004269670400.0000           35.05s\n",
      "        97 2727818721237681697848013696884752249525208280862574447680396836235420493736391096058164991782432004269670400.0000           26.28s\n",
      "        98 2727818721237681697848013696884752249525208280862574447680396836235420493736391096058164991782432004269670400.0000           17.52s\n",
      "        99 2727818721237681697848013696884752249525208280862574447680396836235420493736391096058164991782432004269670400.0000            8.76s\n",
      "       100 2727818721237681697848013696884752249525208280862574447680396836235420493736391096058164991782432004269670400.0000            0.00s\n",
      "그래디언트 부스팅 트리 정확도: 0.7457702582368655\n",
      "보팅 정확도: 0.7845057880676759\n",
      "run time : 0:29:26\n"
     ]
    }
   ],
   "source": [
    "import time\n",
    "import datetime\n",
    "\n",
    "start = time.time() \n",
    "\n",
    "mod_1k, cb_1k, lr_1k, lsvc_1k, tree_1k, forest_1k, grbt_1k, voting_classifier_1k = train_ml(tfidfv_1k, y_train_1k, tfidfv_test_1k, y_test_1k)\n",
    "\n",
    "\n",
    "sec = time.time()-start\n",
    "times = str(datetime.timedelta(seconds=sec)).split(\".\")\n",
    "times = times[0]\n",
    "print('run time :', times)"
   ]
  },
  {
   "cell_type": "markdown",
   "id": "secondary-stake",
   "metadata": {},
   "source": [
    "## (3-2) 단어 10000개 사용"
   ]
  },
  {
   "cell_type": "code",
   "execution_count": 35,
   "id": "norman-denial",
   "metadata": {},
   "outputs": [
    {
     "name": "stderr",
     "output_type": "stream",
     "text": [
      "/opt/conda/lib/python3.7/site-packages/tensorflow/python/keras/datasets/reuters.py:148: VisibleDeprecationWarning: Creating an ndarray from ragged nested sequences (which is a list-or-tuple of lists-or-tuples-or ndarrays with different lengths or shapes) is deprecated. If you meant to do this, you must specify 'dtype=object' when creating the ndarray\n",
      "  x_train, y_train = np.array(xs[:idx]), np.array(labels[:idx])\n",
      "/opt/conda/lib/python3.7/site-packages/tensorflow/python/keras/datasets/reuters.py:149: VisibleDeprecationWarning: Creating an ndarray from ragged nested sequences (which is a list-or-tuple of lists-or-tuples-or ndarrays with different lengths or shapes) is deprecated. If you meant to do this, you must specify 'dtype=object' when creating the ndarray\n",
      "  x_test, y_test = np.array(xs[idx:]), np.array(labels[idx:])\n"
     ]
    }
   ],
   "source": [
    "(x_train_10k, y_train_10k), (x_test_10k, y_test_10k) = reuters.load_data(num_words=10000, test_split=0.2)\n"
   ]
  },
  {
   "cell_type": "code",
   "execution_count": 36,
   "id": "least-cooler",
   "metadata": {},
   "outputs": [],
   "source": [
    "decoded = []\n",
    "for i in range(len(x_train_10k)):\n",
    "    t = ' '.join([index_to_word[index] for index in x_train_10k[i]])\n",
    "    decoded.append(t)\n",
    "\n",
    "x_train_10k = decoded"
   ]
  },
  {
   "cell_type": "code",
   "execution_count": 37,
   "id": "prompt-england",
   "metadata": {},
   "outputs": [],
   "source": [
    "decoded = []\n",
    "for i in range(len(x_test_10k)):\n",
    "    t = ' '.join([index_to_word[index] for index in x_test_10k[i]])\n",
    "    decoded.append(t)\n",
    "\n",
    "x_test_10k = decoded"
   ]
  },
  {
   "cell_type": "markdown",
   "id": "fantastic-acrobat",
   "metadata": {},
   "source": [
    " - 행렬 변환"
   ]
  },
  {
   "cell_type": "code",
   "execution_count": 38,
   "id": "electronic-slave",
   "metadata": {},
   "outputs": [
    {
     "name": "stdout",
     "output_type": "stream",
     "text": [
      "(8982, 9670)\n"
     ]
    }
   ],
   "source": [
    "dtmvector = CountVectorizer()\n",
    "x_train_dtm_10k = dtmvector.fit_transform(x_train_10k)\n",
    "print(x_train_dtm_10k.shape)"
   ]
  },
  {
   "cell_type": "code",
   "execution_count": 39,
   "id": "according-pontiac",
   "metadata": {},
   "outputs": [
    {
     "name": "stdout",
     "output_type": "stream",
     "text": [
      "(8982, 9670)\n"
     ]
    }
   ],
   "source": [
    "tfidf_transformer = TfidfTransformer()\n",
    "tfidfv_10k = tfidf_transformer.fit_transform(x_train_dtm_10k)\n",
    "print(tfidfv_10k.shape)"
   ]
  },
  {
   "cell_type": "code",
   "execution_count": 40,
   "id": "absent-saver",
   "metadata": {},
   "outputs": [],
   "source": [
    "x_test_dtm_10k = dtmvector.transform(x_test_10k) #테스트 데이터를 DTM으로 변환\n",
    "tfidfv_test_10k = tfidf_transformer.transform(x_test_dtm_10k) #DTM을 TF-IDF 행렬로 변환"
   ]
  },
  {
   "cell_type": "code",
   "execution_count": 41,
   "id": "theoretical-storage",
   "metadata": {},
   "outputs": [
    {
     "name": "stdout",
     "output_type": "stream",
     "text": [
      "나이브 베이즈 정확도: 0.6567230632235085\n",
      "CNB 정확도: 0.7707034728406055\n"
     ]
    },
    {
     "name": "stderr",
     "output_type": "stream",
     "text": [
      "/opt/conda/lib/python3.7/site-packages/sklearn/linear_model/_logistic.py:762: ConvergenceWarning: lbfgs failed to converge (status=1):\n",
      "STOP: TOTAL NO. of ITERATIONS REACHED LIMIT.\n",
      "\n",
      "Increase the number of iterations (max_iter) or scale the data as shown in:\n",
      "    https://scikit-learn.org/stable/modules/preprocessing.html\n",
      "Please also refer to the documentation for alternative solver options:\n",
      "    https://scikit-learn.org/stable/modules/linear_model.html#logistic-regression\n",
      "  extra_warning_msg=_LOGISTIC_SOLVER_CONVERGENCE_MSG)\n"
     ]
    },
    {
     "name": "stdout",
     "output_type": "stream",
     "text": [
      "로지스틱 회귀 정확도: 0.8076580587711487\n"
     ]
    },
    {
     "name": "stderr",
     "output_type": "stream",
     "text": [
      "/opt/conda/lib/python3.7/site-packages/sklearn/svm/_base.py:975: ConvergenceWarning: Liblinear failed to converge, increase the number of iterations.\n",
      "  \"the number of iterations.\", ConvergenceWarning)\n"
     ]
    },
    {
     "name": "stdout",
     "output_type": "stream",
     "text": [
      "SVM 정확도: 0.780053428317008\n",
      "결정 트리 정확도: 0.6202137132680321\n",
      "랜덤 포레스트 정확도: 0.674087266251113\n",
      "      Iter       Train Loss   Remaining Time \n",
      "         1       13120.6334           17.33m\n",
      "         2   858177598.4933           17.29m\n",
      "         3   946802549.6393           17.18m\n",
      "         4 237936546535516355390923778577443137004998111350751232.0000           17.04m\n",
      "         5 29932193976389972415457316369798088344148526429337375113230188232847921979331343979616204345474359412007156081620446930232527552512.0000           16.90m\n",
      "         6 29932193976389972415457316369798088344148526429337375113230188232847921979331343979616204345474359412007156081620446930232527552512.0000           16.75m\n",
      "         7 29932193976389972415457316369798088344148526429337375113230188232847921979331343979616204345474359412007156081620446930232527552512.0000           16.58m\n",
      "         8 29932193976389972415457316369798088344148526429337375113230188232847921979331343979616204345474359412007156081620446930232527552512.0000           16.39m\n",
      "         9 29932193976389972415457316369798088344148526429337375113230188232847921979331343979616204345474359412007156081620446930232527552512.0000           16.21m\n",
      "        10 29932193976389972415457316369798088344148526429337375113230188232847921979331343979616204345474359412007156081620446930232527552512.0000           16.04m\n",
      "        11 133241604195543544730923504073661458186388693113892106655906663702503754123160194053998540169759677913969725237240462866978825043968.0000           15.86m\n",
      "        12 133241604195543544730923504073661458186388693113892106655906663702503754123160194053998540169759677913969725237240462866978825043968.0000           15.70m\n",
      "        13 133241604195543544730923504073661458186388693113892106655906663702503754123160194053998540169759677913969725237240462866978825043968.0000           15.53m\n",
      "        14 133241604195543544730923504073661458186388693113892106655906663702503754123160194053998540169759677913969725237240462866978825043968.0000           15.36m\n",
      "        15 133241604195543544730923504073661458186388693113892106655906663702503754123160194053998540169759677913969725237240462866978825043968.0000           15.18m\n",
      "        16 133241604195543544730923504073661458186388693113892106655906663702503754123160194053998540169759677913969725237240462866978825043968.0000           15.01m\n",
      "        17 133241604195543544730923504073661458186388693113892106655906663702503754123160194053998540169759677913969725237240462866978825043968.0000           14.84m\n",
      "        18 133241604195543544730923504073661458186388693113892106655906663702503754123160194053998540169759677913969725237240462866978825043968.0000           14.66m\n",
      "        19 133241604195543544730923504073661458186388693113892106655906663702503754123160194053998540169759677913969725237240462866978825043968.0000           14.49m\n",
      "        20 133241604195543544730923504073661458186388693113892106655906663702503754123160194053998540169759677913969725237240462866978825043968.0000           14.43m\n",
      "        21 133241604195543544730923504073661458186388693113892106655906663702503754123160194053998540169759677913969725237240462866978825043968.0000           14.25m\n",
      "        22 133241604195543544730923504073661458186388693113892106655906663702503754123160194053998540169759677913969725237240462866978825043968.0000           14.07m\n",
      "        23 133241604195543544730923504073661458186388693113892106655906663702503754123160194053998540169759677913969725237240462866978825043968.0000           13.88m\n",
      "        24 133241604195543544730923504073661458186388693113892106655906663702503754123160194053998540169759677913969725237240462866978825043968.0000           13.69m\n",
      "        25 133241604195543544730923504073661458186388693113892106655906663702503754123160194053998540169759677913969725237240462866978825043968.0000           13.51m\n",
      "        26 133241604195543544730923504073661458186388693113892106655906663702503754123160194053998540169759677913969725237240462866978825043968.0000           13.32m\n",
      "        27 133241604195543544730923504073661458186388693113892106655906663702503754123160194053998540169759677913969725237240462866978825043968.0000           13.14m\n",
      "        28 133241604195543544730923504073661458186388693113892106655906663702503754123160194053998540169759677913969725237240462866978825043968.0000           12.95m\n",
      "        29 133241604195543544730923504073661458186388693113892106655906663702503754123160194053998540169759677913969725237240462866978825043968.0000           12.77m\n",
      "        30 133241604195543544730923504073661458186388693113892106655906663702503754123160194053998540169759677913969725237240462866978825043968.0000           12.59m\n",
      "        31 133241604195543544730923504073661458186388693113892106655906663702503754123160194053998540169759677913969725237240462866978825043968.0000           12.40m\n",
      "        32 133241604195543544730923504073661458186388693113892106655906663702503754123160194053998540169759677913969725237240462866978825043968.0000           12.22m\n",
      "        33 133241604195543544730923504073661458186388693113892106655906663702503754123160194053998540169759677913969725237240462866978825043968.0000           12.04m\n",
      "        34 133241604195543544730923504073661458186388693113892106655906663702503754123160194053998540169759677913969725237240462866978825043968.0000           11.86m\n",
      "        35 133241604195543544730923504073661458186388693113892106655906663702503754123160194053998540169759677913969725237240462866978825043968.0000           11.67m\n",
      "        36 133241604195543544730923504073661458186388693113892106655906663702503754123160194053998540169759677913969725237240462866978825043968.0000           11.49m\n",
      "        37 133241604195543544730923504073661458186388693113892106655906663702503754123160194053998540169759677913969725237240462866978825043968.0000           11.31m\n",
      "        38 133241604195543544730923504073661458186388693113892106655906663702503754123160194053998540169759677913969725237240462866978825043968.0000           11.13m\n",
      "        39 133241604195543544730923504073661458186388693113892106655906663702503754123160194053998540169759677913969725237240462866978825043968.0000           10.95m\n",
      "        40 133241604195543544730923504073661458186388693113892106655906663702503754123160194053998540169759677913969725237240462866978825043968.0000           10.77m\n",
      "        41 133241604195543544730923504073661458186388693113892106655906663702503754123160194053998540169759677913969725237240462866978825043968.0000           10.59m\n",
      "        42 133241604195543544730923504073661458186388693113892106655906663702503754123160194053998540169759677913969725237240462866978825043968.0000           10.41m\n",
      "        43 133241604195543544730923504073661458186388693113892106655906663702503754123160194053998540169759677913969725237240462866978825043968.0000           10.23m\n",
      "        44 133241604195543544730923504073661458186388693113892106655906663702503754123160194053998540169759677913969725237240462866978825043968.0000           10.05m\n",
      "        45 133241604195543544730923504073661458186388693113892106655906663702503754123160194053998540169759677913969725237240462866978825043968.0000            9.87m\n",
      "        46 133241604195543544730923504073661458186388693113892106655906663702503754123160194053998540169759677913969725237240462866978825043968.0000            9.69m\n",
      "        47 133241604195543544730923504073661458186388693113892106655906663702503754123160194053998540169759677913969725237240462866978825043968.0000            9.51m\n",
      "        48 133241604195543544730923504073661458186388693113892106655906663702503754123160194053998540169759677913969725237240462866978825043968.0000            9.33m\n",
      "        49 133241604195543544730923504073661458186388693113892106655906663702503754123160194053998540169759677913969725237240462866978825043968.0000            9.15m\n",
      "        50 133241604195543544730923504073661458186388693113892106655906663702503754123160194053998540169759677913969725237240462866978825043968.0000            8.96m\n",
      "        51 133241604195543544730923504073661458186388693113892106655906663702503754123160194053998540169759677913969725237240462866978825043968.0000            8.79m\n",
      "        52 133241604195543544730923504073661458186388693113892106655906663702503754123160194053998540169759677913969725237240462866978825043968.0000            8.61m\n",
      "        53 133241604195543544730923504073661458186388693113892106655906663702503754123160194053998540169759677913969725237240462866978825043968.0000            8.43m\n",
      "        54 133241604195543544730923504073661458186388693113892106655906663702503754123160194053998540169759677913969725237240462866978825043968.0000            8.25m\n",
      "        55 133241604195543544730923504073661458186388693113892106655906663702503754123160194053998540169759677913969725237240462866978825043968.0000            8.07m\n",
      "        56 133241604195543544730923504073661458186388693113892106655906663702503754123160194053998540169759677913969725237240462866978825043968.0000            7.90m\n",
      "        57 133241604195543544730923504073661458186388693113892106655906663702503754123160194053998540169759677913969725237240462866978825043968.0000            7.73m\n",
      "        58 133241604195543544730923504073661458186388693113892106655906663702503754123160194053998540169759677913969725237240462866978825043968.0000            7.55m\n",
      "        59 133241604195543544730923504073661458186388693113892106655906663702503754123160194053998540169759677913969725237240462866978825043968.0000            7.38m\n",
      "        60 133241604195543544730923504073661458186388693113892106655906663702503754123160194053998540169759677913969725237240462866978825043968.0000            7.21m\n",
      "        61 133241604195543544730923504073661458186388693113892106655906663702503754123160194053998540169759677913969725237240462866978825043968.0000            7.04m\n",
      "        62 133241604195543544730923504073661458186388693113892106655906663702503754123160194053998540169759677913969725237240462866978825043968.0000            6.87m\n",
      "        63 133241604195543544730923504073661458186388693113892106655906663702503754123160194053998540169759677913969725237240462866978825043968.0000            6.69m\n",
      "        64 133241604195543544730923504073661458186388693113892106655906663702503754123160194053998540169759677913969725237240462866978825043968.0000            6.52m\n",
      "        65 133241604195543544730923504073661458186388693113892106655906663702503754123160194053998540169759677913969725237240462866978825043968.0000            6.34m\n",
      "        66 133241604195543544730923504073661458186388693113892106655906663702503754123160194053998540169759677913969725237240462866978825043968.0000            6.17m\n",
      "        67 133241604195543544730923504073661458186388693113892106655906663702503754123160194053998540169759677913969725237240462866978825043968.0000            5.99m\n",
      "        68 133241604195543544730923504073661458186388693113892106655906663702503754123160194053998540169759677913969725237240462866978825043968.0000            5.81m\n",
      "        69 133241604195543544730923504073661458186388693113892106655906663702503754123160194053998540169759677913969725237240462866978825043968.0000            5.63m\n",
      "        70 133241604195543544730923504073661458186388693113892106655906663702503754123160194053998540169759677913969725237240462866978825043968.0000            5.46m\n",
      "        71 133241604195543544730923504073661458186388693113892106655906663702503754123160194053998540169759677913969725237240462866978825043968.0000            5.28m\n",
      "        72 133241604195543544730923504073661458186388693113892106655906663702503754123160194053998540169759677913969725237240462866978825043968.0000            5.10m\n",
      "        73 133241604195543544730923504073661458186388693113892106655906663702503754123160194053998540169759677913969725237240462866978825043968.0000            4.92m\n",
      "        74 133241604195543544730923504073661458186388693113892106655906663702503754123160194053998540169759677913969725237240462866978825043968.0000            4.74m\n",
      "        75 133241604195543544730923504073661458186388693113892106655906663702503754123160194053998540169759677913969725237240462866978825043968.0000            4.56m\n",
      "        76 133241604195543544730923504073661458186388693113892106655906663702503754123160194053998540169759677913969725237240462866978825043968.0000            4.39m\n",
      "        77 133241604195543544730923504073661458186388693113892106655906663702503754123160194053998540169759677913969725237240462866978825043968.0000            4.20m\n",
      "        78 133241604195543544730923504073661458186388693113892106655906663702503754123160194053998540169759677913969725237240462866978825043968.0000            4.03m\n",
      "        79 133241604195543544730923504073661458186388693113892106655906663702503754123160194053998540169759677913969725237240462866978825043968.0000            3.84m\n",
      "        80 133241604195543544730923504073661458186388693113892106655906663702503754123160194053998540169759677913969725237240462866978825043968.0000            3.66m\n",
      "        81 133241604195543544730923504073661458186388693113892106655906663702503754123160194053998540169759677913969725237240462866978825043968.0000            3.48m\n",
      "        82 133241604195543544730923504073661458186388693113892106655906663702503754123160194053998540169759677913969725237240462866978825043968.0000            3.30m\n",
      "        83 133241604195543544730923504073661458186388693113892106655906663702503754123160194053998540169759677913969725237240462866978825043968.0000            3.12m\n",
      "        84 133241604195543544730923504073661458186388693113892106655906663702503754123160194053998540169759677913969725237240462866978825043968.0000            2.94m\n",
      "        85 133241604195543544730923504073661458186388693113892106655906663702503754123160194053998540169759677913969725237240462866978825043968.0000            2.75m\n",
      "        86 133241604195543544730923504073661458186388693113892106655906663702503754123160194053998540169759677913969725237240462866978825043968.0000            2.57m\n",
      "        87 133241604195543544730923504073661458186388693113892106655906663702503754123160194053998540169759677913969725237240462866978825043968.0000            2.39m\n",
      "        88 133241604195543544730923504073661458186388693113892106655906663702503754123160194053998540169759677913969725237240462866978825043968.0000            2.21m\n",
      "        89 133241604195543544730923504073661458186388693113892106655906663702503754123160194053998540169759677913969725237240462866978825043968.0000            2.02m\n",
      "        90 133241604195543544730923504073661458186388693113892106655906663702503754123160194053998540169759677913969725237240462866978825043968.0000            1.84m\n",
      "        91 133241604195543544730923504073661458186388693113892106655906663702503754123160194053998540169759677913969725237240462866978825043968.0000            1.66m\n",
      "        92 133241604195543544730923504073661458186388693113892106655906663702503754123160194053998540169759677913969725237240462866978825043968.0000            1.47m\n",
      "        93 133241604195543544730923504073661458186388693113892106655906663702503754123160194053998540169759677913969725237240462866978825043968.0000            1.29m\n",
      "        94 133241604195543544730923504073661458186388693113892106655906663702503754123160194053998540169759677913969725237240462866978825043968.0000            1.11m\n",
      "        95 133241604195543544730923504073661458186388693113892106655906663702503754123160194053998540169759677913969725237240462866978825043968.0000           55.40s\n",
      "        96 133241604195543544730923504073661458186388693113892106655906663702503754123160194053998540169759677913969725237240462866978825043968.0000           44.34s\n",
      "        97 133241604195543544730923504073661458186388693113892106655906663702503754123160194053998540169759677913969725237240462866978825043968.0000           33.27s\n",
      "        98 133241604195543544730923504073661458186388693113892106655906663702503754123160194053998540169759677913969725237240462866978825043968.0000           22.19s\n",
      "        99 133241604195543544730923504073661458186388693113892106655906663702503754123160194053998540169759677913969725237240462866978825043968.0000           11.10s\n",
      "       100 133241604195543544730923504073661458186388693113892106655906663702503754123160194053998540169759677913969725237240462866978825043968.0000            0.00s\n",
      "그래디언트 부스팅 트리 정확도: 0.7666963490650045\n",
      "보팅 정확도: 0.8116651825467498\n",
      "run time : 0:38:54\n"
     ]
    }
   ],
   "source": [
    "start = time.time() \n",
    "\n",
    "mod_10k, cb_10k, lr_10k, lsvc_10k, tree_10k, forest_10k, grbt_10k, voting_classifier_10k = train_ml(tfidfv_10k, y_train_10k, tfidfv_test_10k, y_test_10k)\n",
    "\n",
    "sec = time.time()-start\n",
    "times = str(datetime.timedelta(seconds=sec)).split(\".\")\n",
    "times = times[0]\n",
    "print('run time :', times)"
   ]
  },
  {
   "cell_type": "markdown",
   "id": "sealed-scout",
   "metadata": {},
   "source": [
    "## (3-3) 단어 20000개 사용"
   ]
  },
  {
   "cell_type": "code",
   "execution_count": 42,
   "id": "acute-stick",
   "metadata": {},
   "outputs": [
    {
     "name": "stderr",
     "output_type": "stream",
     "text": [
      "/opt/conda/lib/python3.7/site-packages/tensorflow/python/keras/datasets/reuters.py:148: VisibleDeprecationWarning: Creating an ndarray from ragged nested sequences (which is a list-or-tuple of lists-or-tuples-or ndarrays with different lengths or shapes) is deprecated. If you meant to do this, you must specify 'dtype=object' when creating the ndarray\n",
      "  x_train, y_train = np.array(xs[:idx]), np.array(labels[:idx])\n",
      "/opt/conda/lib/python3.7/site-packages/tensorflow/python/keras/datasets/reuters.py:149: VisibleDeprecationWarning: Creating an ndarray from ragged nested sequences (which is a list-or-tuple of lists-or-tuples-or ndarrays with different lengths or shapes) is deprecated. If you meant to do this, you must specify 'dtype=object' when creating the ndarray\n",
      "  x_test, y_test = np.array(xs[idx:]), np.array(labels[idx:])\n"
     ]
    }
   ],
   "source": [
    "(x_train_20k, y_train_20k), (x_test_20k, y_test_20k) = reuters.load_data(num_words=20000, test_split=0.2)\n"
   ]
  },
  {
   "cell_type": "code",
   "execution_count": 43,
   "id": "challenging-drama",
   "metadata": {},
   "outputs": [],
   "source": [
    "decoded = []\n",
    "for i in range(len(x_train_20k)):\n",
    "    t = ' '.join([index_to_word[index] for index in x_train_20k[i]])\n",
    "    decoded.append(t)\n",
    "\n",
    "x_train_20k = decoded"
   ]
  },
  {
   "cell_type": "code",
   "execution_count": 44,
   "id": "sharing-selection",
   "metadata": {},
   "outputs": [],
   "source": [
    "decoded = []\n",
    "for i in range(len(x_test_20k)):\n",
    "    t = ' '.join([index_to_word[index] for index in x_test_20k[i]])\n",
    "    decoded.append(t)\n",
    "\n",
    "x_test_20k = decoded"
   ]
  },
  {
   "cell_type": "markdown",
   "id": "terminal-adventure",
   "metadata": {},
   "source": [
    " - 행렬 변환"
   ]
  },
  {
   "cell_type": "code",
   "execution_count": 45,
   "id": "promotional-picture",
   "metadata": {},
   "outputs": [
    {
     "name": "stdout",
     "output_type": "stream",
     "text": [
      "(8982, 18479)\n"
     ]
    }
   ],
   "source": [
    "dtmvector = CountVectorizer()\n",
    "x_train_dtm_20k = dtmvector.fit_transform(x_train_20k)\n",
    "print(x_train_dtm_20k.shape)"
   ]
  },
  {
   "cell_type": "code",
   "execution_count": 46,
   "id": "flush-biodiversity",
   "metadata": {},
   "outputs": [
    {
     "name": "stdout",
     "output_type": "stream",
     "text": [
      "(8982, 18479)\n"
     ]
    }
   ],
   "source": [
    "tfidf_transformer = TfidfTransformer()\n",
    "tfidfv_20k = tfidf_transformer.fit_transform(x_train_dtm_20k)\n",
    "print(tfidfv_20k.shape)"
   ]
  },
  {
   "cell_type": "code",
   "execution_count": 47,
   "id": "positive-dinner",
   "metadata": {},
   "outputs": [],
   "source": [
    "x_test_dtm_20k = dtmvector.transform(x_test_20k) #테스트 데이터를 DTM으로 변환\n",
    "tfidfv_test_20k = tfidf_transformer.transform(x_test_dtm_20k) #DTM을 TF-IDF 행렬로 변환"
   ]
  },
  {
   "cell_type": "code",
   "execution_count": 48,
   "id": "enclosed-barrel",
   "metadata": {},
   "outputs": [
    {
     "name": "stdout",
     "output_type": "stream",
     "text": [
      "나이브 베이즈 정확도: 0.6193232413178985\n",
      "CNB 정확도: 0.7671415850400712\n"
     ]
    },
    {
     "name": "stderr",
     "output_type": "stream",
     "text": [
      "/opt/conda/lib/python3.7/site-packages/sklearn/linear_model/_logistic.py:762: ConvergenceWarning: lbfgs failed to converge (status=1):\n",
      "STOP: TOTAL NO. of ITERATIONS REACHED LIMIT.\n",
      "\n",
      "Increase the number of iterations (max_iter) or scale the data as shown in:\n",
      "    https://scikit-learn.org/stable/modules/preprocessing.html\n",
      "Please also refer to the documentation for alternative solver options:\n",
      "    https://scikit-learn.org/stable/modules/linear_model.html#logistic-regression\n",
      "  extra_warning_msg=_LOGISTIC_SOLVER_CONVERGENCE_MSG)\n"
     ]
    },
    {
     "name": "stdout",
     "output_type": "stream",
     "text": [
      "로지스틱 회귀 정확도: 0.8098842386464826\n"
     ]
    },
    {
     "name": "stderr",
     "output_type": "stream",
     "text": [
      "/opt/conda/lib/python3.7/site-packages/sklearn/svm/_base.py:975: ConvergenceWarning: Liblinear failed to converge, increase the number of iterations.\n",
      "  \"the number of iterations.\", ConvergenceWarning)\n"
     ]
    },
    {
     "name": "stdout",
     "output_type": "stream",
     "text": [
      "SVM 정확도: 0.776046304541407\n",
      "결정 트리 정확도: 0.6211041852181657\n",
      "랜덤 포레스트 정확도: 0.6714158504007124\n",
      "      Iter       Train Loss   Remaining Time \n",
      "         1       12866.7674           19.01m\n",
      "         2   857110564.4706           18.81m\n",
      "         3   948235166.2435           18.58m\n",
      "         4 5328338531245606567936.0000           18.38m\n",
      "         5 33901976731661941304447968959860882059472513393295849800957907615488399548773525845286716013123295545152344093297951468068227367567360.0000           18.19m\n",
      "         6 33901976731661941304447968959860882059472513393295849800957907615488399548773525845286716013123295545152344093297951468068227367567360.0000           18.01m\n",
      "         7 13379126834942043802209105779833373942873421885839179130825482861179199956624012499382910774006716943351801331609300997275675840013550615692243369984.0000           17.82m\n",
      "         8 13379126834942043802209105779833373942873421885839179130825482861179199956624012499382910774006716943351801331609300997275675840013550615692243369984.0000           17.62m\n",
      "         9 13379126834942043802209105779833373942873421885839179130825482861179199956624012499382910774006716943351801331609300997275675840013550615692243369984.0000           17.43m\n",
      "        10 13379126834942043802209105779833373942873421885839179130825482861179199956624012499382910774006716943351801331609300997275675840013550615692243369984.0000           17.23m\n",
      "        11 13379126834942043802209105779833373942873421885839179130825482861179199956624012499382910774006716943351801331609300997275675840013550615692243369984.0000           17.03m\n",
      "        12 13379126834942043802209105779833373942873421885839179130825482861179199956624012499382910774006716943351801331609300997275675840013550615692243369984.0000           16.84m\n",
      "        13 13379126834942043802209105779833373942873421885839179130825482861179199956624012499382910774006716943351801331609300997275675840013550615692243369984.0000           16.65m\n",
      "        14 13379126834942043802209105779833373942873421885839179130825482861179199956624012499382910774006716943351801331609300997275675840013550615692243369984.0000           16.45m\n",
      "        15 13379126834942043802209105779833373942873421885839179130825482861179199956624012499382910774006716943351801331609300997275675840013550615692243369984.0000           16.26m\n",
      "        16 13379126834942043802209105779833373942873421885839179130825482861179199956624012499382910774006716943351801331609300997275675840013550615692243369984.0000           16.06m\n",
      "        17 13379126834942043802209105779833373942873421885839179130825482861179199956624012499382910774006716943351801331609300997275675840013550615692243369984.0000           15.86m\n",
      "        18 13379126834942043802209105779833373942873421885839179130825482861179199956624012499382910774006716943351801331609300997275675840013550615692243369984.0000           15.66m\n",
      "        19 13379126834942043802209105779833373942873421885839179130825482861179199956624012499382910774006716943351801331609300997275675840013550615692243369984.0000           15.47m\n",
      "        20 13379126834942043802209105779833373942873421885839179130825482861179199956624012499382910774006716943351801331609300997275675840013550615692243369984.0000           15.28m\n",
      "        21 13379126834942043802209105779833373942873421885839179130825482861179199956624012499382910774006716943351801331609300997275675840013550615692243369984.0000           15.17m\n",
      "        22 13379126834942043802209105779833373942873421885839179130825482861179199956624012499382910774006716943351801331609300997275675840013550615692243369984.0000           14.98m\n",
      "        23 13379126834942043802209105779833373942873421885839179130825482861179199956624012499382910774006716943351801331609300997275675840013550615692243369984.0000           14.78m\n",
      "        24 13379126834942043802209105779833373942873421885839179130825482861179199956624012499382910774006716943351801331609300997275675840013550615692243369984.0000           14.58m\n",
      "        25 13379126834942043802209105779833373942873421885839179130825482861179199956624012499382910774006716943351801331609300997275675840013550615692243369984.0000           14.39m\n",
      "        26 13379126834942043802209105779833373942873421885839179130825482861179199956624012499382910774006716943351801331609300997275675840013550615692243369984.0000           14.19m\n",
      "        27 13379126834942043802209105779833373942873421885839179130825482861179199956624012499382910774006716943351801331609300997275675840013550615692243369984.0000           14.00m\n",
      "        28 13379126834942043802209105779833373942873421885839179130825482861179199956624012499382910774006716943351801331609300997275675840013550615692243369984.0000           13.80m\n",
      "        29 13379126834942043802209105779833373942873421885839179130825482861179199956624012499382910774006716943351801331609300997275675840013550615692243369984.0000           13.61m\n",
      "        30 13379126834942043802209105779833373942873421885839179130825482861179199956624012499382910774006716943351801331609300997275675840013550615692243369984.0000           13.42m\n",
      "        31 13379126834942043802209105779833373942873421885839179130825482861179199956624012499382910774006716943351801331609300997275675840013550615692243369984.0000           13.22m\n",
      "        32 13379126834942043802209105779833373942873421885839179130825482861179199956624012499382910774006716943351801331609300997275675840013550615692243369984.0000           13.03m\n",
      "        33 13379126834942043802209105779833373942873421885839179130825482861179199956624012499382910774006716943351801331609300997275675840013550615692243369984.0000           12.83m\n",
      "        34 13379126834942043802209105779833373942873421885839179130825482861179199956624012499382910774006716943351801331609300997275675840013550615692243369984.0000           12.64m\n",
      "        35 13379126834942043802209105779833373942873421885839179130825482861179199956624012499382910774006716943351801331609300997275675840013550615692243369984.0000           12.45m\n",
      "        36 13379126834942043802209105779833373942873421885839179130825482861179199956624012499382910774006716943351801331609300997275675840013550615692243369984.0000           12.25m\n",
      "        37 13379126834942043802209105779833373942873421885839179130825482861179199956624012499382910774006716943351801331609300997275675840013550615692243369984.0000           12.06m\n",
      "        38 13379126834942043802209105779833373942873421885839179130825482861179199956624012499382910774006716943351801331609300997275675840013550615692243369984.0000           11.86m\n",
      "        39 13379126834942043802209105779833373942873421885839179130825482861179199956624012499382910774006716943351801331609300997275675840013550615692243369984.0000           11.67m\n",
      "        40 13379126834942043802209105779833373942873421885839179130825482861179199956624012499382910774006716943351801331609300997275675840013550615692243369984.0000           11.48m\n",
      "        41 13379126834942043802209105779833373942873421885839179130825482861179199956624012499382910774006716943351801331609300997275675840013550615692243369984.0000           11.28m\n",
      "        42 13379126834942043802209105779833373942873421885839179130825482861179199956624012499382910774006716943351801331609300997275675840013550615692243369984.0000           11.09m\n",
      "        43 13379126834942043802209105779833373942873421885839179130825482861179199956624012499382910774006716943351801331609300997275675840013550615692243369984.0000           10.90m\n",
      "        44 13379126834942043802209105779833373942873421885839179130825482861179199956624012499382910774006716943351801331609300997275675840013550615692243369984.0000           10.70m\n",
      "        45 13379126834942043802209105779833373942873421885839179130825482861179199956624012499382910774006716943351801331609300997275675840013550615692243369984.0000           10.51m\n",
      "        46 13379126834942043802209105779833373942873421885839179130825482861179199956624012499382910774006716943351801331609300997275675840013550615692243369984.0000           10.32m\n",
      "        47 13379126834942043802209105779833373942873421885839179130825482861179199956624012499382910774006716943351801331609300997275675840013550615692243369984.0000           10.13m\n",
      "        48 13379126834942043802209105779833373942873421885839179130825482861179199956624012499382910774006716943351801331609300997275675840013550615692243369984.0000            9.93m\n",
      "        49 13379126834942043802209105779833373942873421885839179130825482861179199956624012499382910774006716943351801331609300997275675840013550615692243369984.0000            9.74m\n",
      "        50 13379126834942043802209105779833373942873421885839179130825482861179199956624012499382910774006716943351801331609300997275675840013550615692243369984.0000            9.55m\n",
      "        51 13379126834942043802209105779833373942873421885839179130825482861179199956624012499382910774006716943351801331609300997275675840013550615692243369984.0000            9.36m\n",
      "        52 13379126834942043802209105779833373942873421885839179130825482861179199956624012499382910774006716943351801331609300997275675840013550615692243369984.0000            9.17m\n",
      "        53 13379126834942043802209105779833373942873421885839179130825482861179199956624012499382910774006716943351801331609300997275675840013550615692243369984.0000            8.98m\n",
      "        54 13379126834942043802209105779833373942873421885839179130825482861179199956624012499382910774006716943351801331609300997275675840013550615692243369984.0000            8.79m\n",
      "        55 13379126834942043802209105779833373942873421885839179130825482861179199956624012499382910774006716943351801331609300997275675840013550615692243369984.0000            8.60m\n",
      "        56 13379126834942043802209105779833373942873421885839179130825482861179199956624012499382910774006716943351801331609300997275675840013550615692243369984.0000            8.41m\n",
      "        57 13379126834942043802209105779833373942873421885839179130825482861179199956624012499382910774006716943351801331609300997275675840013550615692243369984.0000            8.22m\n",
      "        58 13379126834942043802209105779833373942873421885839179130825482861179199956624012499382910774006716943351801331609300997275675840013550615692243369984.0000            8.02m\n",
      "        59 13379126834942043802209105779833373942873421885839179130825482861179199956624012499382910774006716943351801331609300997275675840013550615692243369984.0000            7.83m\n",
      "        60 13379126834942043802209105779833373942873421885839179130825482861179199956624012499382910774006716943351801331609300997275675840013550615692243369984.0000            7.64m\n",
      "        61 13379126834942043802209105779833373942873421885839179130825482861179199956624012499382910774006716943351801331609300997275675840013550615692243369984.0000            7.45m\n",
      "        62 13379126834942043802209105779833373942873421885839179130825482861179199956624012499382910774006716943351801331609300997275675840013550615692243369984.0000            7.26m\n",
      "        63 13379126834942043802209105779833373942873421885839179130825482861179199956624012499382910774006716943351801331609300997275675840013550615692243369984.0000            7.07m\n",
      "        64 13379126834942043802209105779833373942873421885839179130825482861179199956624012499382910774006716943351801331609300997275675840013550615692243369984.0000            6.88m\n",
      "        65 13379126834942043802209105779833373942873421885839179130825482861179199956624012499382910774006716943351801331609300997275675840013550615692243369984.0000            6.69m\n",
      "        66 13379126834942043802209105779833373942873421885839179130825482861179199956624012499382910774006716943351801331609300997275675840013550615692243369984.0000            6.50m\n",
      "        67 13379126834942043802209105779833373942873421885839179130825482861179199956624012499382910774006716943351801331609300997275675840013550615692243369984.0000            6.31m\n",
      "        68 13379126834942043802209105779833373942873421885839179130825482861179199956624012499382910774006716943351801331609300997275675840013550615692243369984.0000            6.11m\n",
      "        69 13379126834942043802209105779833373942873421885839179130825482861179199956624012499382910774006716943351801331609300997275675840013550615692243369984.0000            5.92m\n",
      "        70 13379126834942043802209105779833373942873421885839179130825482861179199956624012499382910774006716943351801331609300997275675840013550615692243369984.0000            5.73m\n",
      "        71 13379126834942043802209105779833373942873421885839179130825482861179199956624012499382910774006716943351801331609300997275675840013550615692243369984.0000            5.54m\n",
      "        72 13379126834942043802209105779833373942873421885839179130825482861179199956624012499382910774006716943351801331609300997275675840013550615692243369984.0000            5.35m\n",
      "        73 13379126834942043802209105779833373942873421885839179130825482861179199956624012499382910774006716943351801331609300997275675840013550615692243369984.0000            5.16m\n",
      "        74 13379126834942043802209105779833373942873421885839179130825482861179199956624012499382910774006716943351801331609300997275675840013550615692243369984.0000            4.97m\n",
      "        75 13379126834942043802209105779833373942873421885839179130825482861179199956624012499382910774006716943351801331609300997275675840013550615692243369984.0000            4.78m\n",
      "        76 13379126834942043802209105779833373942873421885839179130825482861179199956624012499382910774006716943351801331609300997275675840013550615692243369984.0000            4.59m\n",
      "        77 13379126834942043802209105779833373942873421885839179130825482861179199956624012499382910774006716943351801331609300997275675840013550615692243369984.0000            4.40m\n",
      "        78 13379126834942043802209105779833373942873421885839179130825482861179199956624012499382910774006716943351801331609300997275675840013550615692243369984.0000            4.21m\n",
      "        79 13379126834942043802209105779833373942873421885839179130825482861179199956624012499382910774006716943351801331609300997275675840013550615692243369984.0000            4.02m\n",
      "        80 13379126834942043802209105779833373942873421885839179130825482861179199956624012499382910774006716943351801331609300997275675840013550615692243369984.0000            3.83m\n",
      "        81 13379126834942043802209105779833373942873421885839179130825482861179199956624012499382910774006716943351801331609300997275675840013550615692243369984.0000            3.63m\n",
      "        82 13379126834942043802209105779833373942873421885839179130825482861179199956624012499382910774006716943351801331609300997275675840013550615692243369984.0000            3.44m\n",
      "        83 13379126834942043802209105779833373942873421885839179130825482861179199956624012499382910774006716943351801331609300997275675840013550615692243369984.0000            3.25m\n",
      "        84 13379126834942043802209105779833373942873421885839179130825482861179199956624012499382910774006716943351801331609300997275675840013550615692243369984.0000            3.06m\n",
      "        85 13379126834942043802209105779833373942873421885839179130825482861179199956624012499382910774006716943351801331609300997275675840013550615692243369984.0000            2.87m\n",
      "        86 13379126834942043802209105779833373942873421885839179130825482861179199956624012499382910774006716943351801331609300997275675840013550615692243369984.0000            2.68m\n",
      "        87 13379126834942043802209105779833373942873421885839179130825482861179199956624012499382910774006716943351801331609300997275675840013550615692243369984.0000            2.49m\n",
      "        88 13379126834942043802209105779833373942873421885839179130825482861179199956624012499382910774006716943351801331609300997275675840013550615692243369984.0000            2.30m\n",
      "        89 13379126834942043802209105779833373942873421885839179130825482861179199956624012499382910774006716943351801331609300997275675840013550615692243369984.0000            2.11m\n",
      "        90 13379126834942043802209105779833373942873421885839179130825482861179199956624012499382910774006716943351801331609300997275675840013550615692243369984.0000            1.92m\n",
      "        91 13379126834942043802209105779833373942873421885839179130825482861179199956624012499382910774006716943351801331609300997275675840013550615692243369984.0000            1.72m\n",
      "        92 13379126834942043802209105779833373942873421885839179130825482861179199956624012499382910774006716943351801331609300997275675840013550615692243369984.0000            1.53m\n",
      "        93 13379126834942043802209105779833373942873421885839179130825482861179199956624012499382910774006716943351801331609300997275675840013550615692243369984.0000            1.34m\n",
      "        94 13379126834942043802209105779833373942873421885839179130825482861179199956624012499382910774006716943351801331609300997275675840013550615692243369984.0000            1.15m\n",
      "        95 13379126834942043802209105779833373942873421885839179130825482861179199956624012499382910774006716943351801331609300997275675840013550615692243369984.0000           57.45s\n",
      "        96 13379126834942043802209105779833373942873421885839179130825482861179199956624012499382910774006716943351801331609300997275675840013550615692243369984.0000           45.96s\n",
      "        97 13379126834942043802209105779833373942873421885839179130825482861179199956624012499382910774006716943351801331609300997275675840013550615692243369984.0000           34.47s\n",
      "        98 13379126834942043802209105779833373942873421885839179130825482861179199956624012499382910774006716943351801331609300997275675840013550615692243369984.0000           22.98s\n",
      "        99 13379126834942043802209105779833373942873421885839179130825482861179199956624012499382910774006716943351801331609300997275675840013550615692243369984.0000           11.49s\n",
      "       100 13379126834942043802209105779833373942873421885839179130825482861179199956624012499382910774006716943351801331609300997275675840013550615692243369984.0000            0.00s\n",
      "그래디언트 부스팅 트리 정확도: 0.769813000890472\n",
      "보팅 정확도: 0.8178984861976848\n",
      "run time : 0:39:19\n"
     ]
    }
   ],
   "source": [
    "start = time.time() \n",
    "\n",
    "mod_20k, cb_20k, lr_20k, lsvc_20k, tree_20k, forest_20k, grbt_20k, voting_classifier_20k = train_ml(tfidfv_20k, y_train_20k, tfidfv_test_20k, y_test_20k)\n",
    "\n",
    "sec = time.time()-start\n",
    "times = str(datetime.timedelta(seconds=sec)).split(\".\")\n",
    "times = times[0]\n",
    "print('run time :', times)"
   ]
  },
  {
   "cell_type": "markdown",
   "id": "integral-collector",
   "metadata": {},
   "source": [
    "## 성능 평가\n",
    "\n",
    "각 vocab size별 모델의 정확도를 이용해 성능을 평가한다.\n",
    "\n",
    "\n",
    "#### 전체 단어 \n",
    " - 나이브 베이즈 정확도: 0.5997328584149599 \n",
    " - CNB 정확도: 0.7649154051647373 \n",
    " - 로지스틱 회귀 정확도: 0.813446126447017 \n",
    " - SVM 정확도: 0.784060552092609 \n",
    " - 결정 트리 정확도: 0.6211041852181657 \n",
    " - 랜덤 포레스트 정확도: 0.6544968833481746 \n",
    " - 그래디언트 부스팅 트리 정확도: 0.7702582368655387 \n",
    " - 보팅 정확도: 0.8187889581478184\n",
    "--> 전체단어 보팅 정확도 (0.8187889581478184)이 best\n",
    "\n",
    "#### 5000개 \n",
    " - 나이브 베이즈 정확도: 0.6731967943009796 \n",
    " - CNB 정확도: 0.7707034728406055 \n",
    " - 로지스틱 회귀 정확도: 0.8058771148708815 \n",
    " - SVM 정확도: 0.7666963490650045 \n",
    " - 결정 트리 정확도: 0.6179875333926982 \n",
    " - 랜덤 포레스트 정확도: 0.701246660730187 \n",
    " - 그래디언트 부스팅 트리 정확도: 0.767586821015138 \n",
    " - 보팅 정확도: 0.8161175422974176\n",
    "\n",
    "#### 1000개 \n",
    "- 나이브 베이즈 정확도: 0.6856634016028496 \n",
    "- CNB 정확도: 0.7346393588601959 \n",
    "- 로지스틱 회귀 정확도: 0.780053428317008 \n",
    "- SVM 정확도: 0.7172751558325913 \n",
    "- 결정 트리 정확도: 0.6179875333926982 \n",
    "- 랜덤 포레스트 정확도: 0.707479964381122 \n",
    "- 그래디언트 부스팅 트리 정확도: 0.7457702582368655 \n",
    "- 보팅 정확도: 0.7845057880676759\n",
    "\n",
    "#### 10000개 \n",
    "- 나이브 베이즈 정확도: 0.6567230632235085\n",
    "- CNB 정확도: 0.7707034728406055 \n",
    "- 로지스틱 회귀 정확도: 0.8076580587711487 \n",
    "- SVM 정확도: 0.7813891362422084 \n",
    "- 결정 트리 정확도: 0.6202137132680321 \n",
    "- 랜덤 포레스트 정확도: 0.674087266251113 \n",
    "- 그래디언트 부스팅 트리 정확도: 0.7666963490650045 \n",
    "- 보팅 정확도: 0.8116651825467498\n",
    "\n",
    "#### 20000개 \n",
    "- 나이브 베이즈 정확도: 0.6193232413178985 \n",
    "- CNB 정확도: 0.7671415850400712 \n",
    "- 로지스틱 회귀 정확도: 0.8098842386464826 \n",
    "- SVM 정확도: 0.7778272484416741 \n",
    "- 결정 트리 정확도: 0.6211041852181657 \n",
    "- 랜덤 포레스트 정확도: 0.6714158504007124 \n",
    "- 그래디언트 부스팅 트리 정확도: 0.769813000890472 \n",
    "- 보팅 정확도: 0.8178984861976848"
   ]
  },
  {
   "cell_type": "code",
   "execution_count": 49,
   "id": "tough-affect",
   "metadata": {},
   "outputs": [],
   "source": [
    "bayse = [0.5997328584149599, 0.6731967943009796, 0.6856634016028496, 0.6567230632235085, 0.6193232413178985]\n",
    "cnb = [0.7649154051647373, 0.7707034728406055, 0.7346393588601959, 0.7707034728406055, 0.7671415850400712]\n",
    "logistic = [0.813446126447017, 0.8058771148708815, 0.7346393588601959, 0.7707034728406055, 0.7671415850400712]\n",
    "svm = [0.784060552092609, 0.7666963490650045, 0.7172751558325913, 0.7813891362422084, 0.7778272484416741]\n",
    "tree = [0.6211041852181657, 0.6179875333926982, 0.6179875333926982, 0.6202137132680321, 0.6211041852181657]\n",
    "rf = [0.6544968833481746, 0.701246660730187, 0.707479964381122, 0.674087266251113, 0.6714158504007124]\n",
    "gbs = [0.7702582368655387, 0.767586821015138, 0.7457702582368655, 0.7666963490650045, 0.769813000890472]\n",
    "voting = [0.8187889581478184, 0.8161175422974176, 0.7845057880676759, 0.8116651825467498, 0.8178984861976848]\n",
    "\n",
    "vocab_size_list = ['whole', '5k', '1k', '10k', '20k']\n",
    "model_list = [bayse, cnb, logistic, svm, tree, rf, gbs, voting]"
   ]
  },
  {
   "cell_type": "code",
   "execution_count": 50,
   "id": "empty-democracy",
   "metadata": {},
   "outputs": [],
   "source": [
    "acc_dict = {}\n",
    "for idx, vs in enumerate(vocab_size_list):\n",
    "    acc_list = []\n",
    "    for model in model_list:\n",
    "        acc_list.append(model[idx])\n",
    "    acc_dict[vs] = sum(acc_list)/len(model_list)"
   ]
  },
  {
   "cell_type": "code",
   "execution_count": 51,
   "id": "statewide-thumb",
   "metadata": {},
   "outputs": [
    {
     "data": {
      "text/plain": [
       "{'whole': 0.7283504007123776,\n",
       " '5k': 0.7399265360641141,\n",
       " '1k': 0.7159951024042743,\n",
       " '10k': 0.7315227070347284,\n",
       " '20k': 0.7264581478183436}"
      ]
     },
     "execution_count": 51,
     "metadata": {},
     "output_type": "execute_result"
    }
   ],
   "source": [
    "acc_dict"
   ]
  },
  {
   "cell_type": "markdown",
   "id": "mounted-sight",
   "metadata": {},
   "source": [
    "### 각 모델의 정확도 확인 결과, 5000개의 단어 개수가 가장 정확도가 높았음을 알 수 있었다."
   ]
  },
  {
   "cell_type": "markdown",
   "id": "associate-syntax",
   "metadata": {},
   "source": [
    "## 4. 딥러닝 모델 학습"
   ]
  },
  {
   "cell_type": "code",
   "execution_count": 52,
   "id": "departmental-backup",
   "metadata": {},
   "outputs": [
    {
     "name": "stdout",
     "output_type": "stream",
     "text": [
      "Model: \"sequential\"\n",
      "_________________________________________________________________\n",
      "Layer (type)                 Output Shape              Param #   \n",
      "=================================================================\n",
      "embedding (Embedding)        (None, None, 32)          160000    \n",
      "_________________________________________________________________\n",
      "lstm (LSTM)                  (None, 32)                8320      \n",
      "_________________________________________________________________\n",
      "dense (Dense)                (None, 46)                1518      \n",
      "=================================================================\n",
      "Total params: 169,838\n",
      "Trainable params: 169,838\n",
      "Non-trainable params: 0\n",
      "_________________________________________________________________\n"
     ]
    }
   ],
   "source": [
    "from tensorflow import keras\n",
    "from tensorflow.keras.layers import Dense, Dropout, Conv2D, Activation, Input, Flatten, BatchNormalization, GlobalAveragePooling2D\n",
    "from tensorflow.keras import layers\n",
    "from tensorflow.keras.callbacks import ModelCheckpoint, EarlyStopping\n",
    "\n",
    "\n",
    "vocab_size = 5000\n",
    "word_vector_dim = 32  \n",
    "\n",
    "model_LSTM = keras.Sequential()\n",
    "model_LSTM.add(keras.layers.Embedding(vocab_size, \n",
    "                                 word_vector_dim))\n",
    "model_LSTM.add(keras.layers.LSTM(32))\n",
    "# model_LSTM.add(keras.layers.Dense(128, activation='relu'))  \n",
    "model_LSTM.add(keras.layers.Dense(num_classes, activation='softmax'))  \n",
    "\n",
    "model_LSTM.summary()"
   ]
  },
  {
   "cell_type": "code",
   "execution_count": 53,
   "id": "pointed-pavilion",
   "metadata": {},
   "outputs": [
    {
     "data": {
      "text/plain": [
       "((8982, 4867), (8982,))"
      ]
     },
     "execution_count": 53,
     "metadata": {},
     "output_type": "execute_result"
    }
   ],
   "source": [
    "tfidfv_5k.shape, y_train_5k.shape"
   ]
  },
  {
   "cell_type": "markdown",
   "id": "czech-three",
   "metadata": {},
   "source": [
    "## 학습 데이터 실험\n",
    "sparse한 행렬을 dense하게 만들기 위해 두가지 변환으로 실험\n",
    "toarray() : array로 변환(에러메세지에서 추천하는 방법)\n",
    "todense() : Return a dense matrix representation of this matrix."
   ]
  },
  {
   "cell_type": "code",
   "execution_count": 54,
   "id": "understanding-reputation",
   "metadata": {},
   "outputs": [],
   "source": [
    "tfidfv_20k_arr = tfidfv_20k.toarray()\n",
    "tfidfv_20k_dense = tfidfv_20k.todense()"
   ]
  },
  {
   "cell_type": "code",
   "execution_count": 55,
   "id": "creative-account",
   "metadata": {},
   "outputs": [],
   "source": [
    "tfidfv_test_20k_arr = tfidfv_test_20k.toarray()\n",
    "tfidfv_test_20k_dense = tfidfv_test_20k.todense()"
   ]
  },
  {
   "cell_type": "code",
   "execution_count": 56,
   "id": "arctic-things",
   "metadata": {},
   "outputs": [
    {
     "name": "stdout",
     "output_type": "stream",
     "text": [
      "Epoch 1/20\n",
      "113/113 [==============================] - 183s 2s/step - loss: 3.2467 - accuracy: 0.2874 - val_loss: 2.4098 - val_accuracy: 0.3450\n",
      "WARNING:tensorflow:Can save best model only with val_acc available, skipping.\n",
      "Epoch 2/20\n",
      "113/113 [==============================] - 180s 2s/step - loss: 2.4288 - accuracy: 0.3468 - val_loss: 2.4091 - val_accuracy: 0.3450\n",
      "WARNING:tensorflow:Can save best model only with val_acc available, skipping.\n",
      "Epoch 3/20\n",
      "113/113 [==============================] - 180s 2s/step - loss: 2.3928 - accuracy: 0.3616 - val_loss: 2.4044 - val_accuracy: 0.3450\n",
      "WARNING:tensorflow:Can save best model only with val_acc available, skipping.\n",
      "Epoch 4/20\n",
      "113/113 [==============================] - 180s 2s/step - loss: 2.4190 - accuracy: 0.3492 - val_loss: 2.4080 - val_accuracy: 0.3450\n",
      "WARNING:tensorflow:Can save best model only with val_acc available, skipping.\n",
      "Epoch 5/20\n",
      "113/113 [==============================] - 180s 2s/step - loss: 2.3995 - accuracy: 0.3584 - val_loss: 2.4047 - val_accuracy: 0.3450\n",
      "WARNING:tensorflow:Can save best model only with val_acc available, skipping.\n",
      "Epoch 6/20\n",
      "113/113 [==============================] - 180s 2s/step - loss: 2.4099 - accuracy: 0.3516 - val_loss: 2.4166 - val_accuracy: 0.3450\n",
      "WARNING:tensorflow:Can save best model only with val_acc available, skipping.\n",
      "Epoch 7/20\n",
      "113/113 [==============================] - 180s 2s/step - loss: 2.3967 - accuracy: 0.3541 - val_loss: 2.4052 - val_accuracy: 0.3450\n",
      "WARNING:tensorflow:Can save best model only with val_acc available, skipping.\n",
      "Epoch 00007: early stopping\n"
     ]
    }
   ],
   "source": [
    "es = keras.callbacks.EarlyStopping(monitor='val_loss', mode='min', verbose=1, patience=4)\n",
    "mc = ModelCheckpoint('best_model.h5', monitor='val_acc', mode='max', verbose=1, save_best_only=True)\n",
    "\n",
    "\n",
    "model_LSTM.compile(optimizer='adam',\n",
    "              loss='sparse_categorical_crossentropy',\n",
    "              metrics=['accuracy'])\n",
    "            \n",
    "epochs=20\n",
    "batch_size=64\n",
    "\n",
    "\n",
    "history_LSTM = model_LSTM.fit(tfidfv_20k_arr,\n",
    "                                y_train_20k,\n",
    "                                epochs=epochs,\n",
    "                                batch_size=batch_size,\n",
    "                                callbacks=[es, mc],\n",
    "                                validation_split=0.2,\n",
    "                                verbose=1)"
   ]
  },
  {
   "cell_type": "code",
   "execution_count": 57,
   "id": "above-warren",
   "metadata": {},
   "outputs": [
    {
     "name": "stdout",
     "output_type": "stream",
     "text": [
      "71/71 - 43s - loss: 2.4150 - accuracy: 0.3620\n",
      "[2.415040969848633, 0.36197686195373535]\n"
     ]
    }
   ],
   "source": [
    "results = model_LSTM.evaluate(tfidfv_test_20k_arr,  y_test_20k, verbose=2)\n",
    "print(results)"
   ]
  },
  {
   "cell_type": "code",
   "execution_count": 58,
   "id": "official-wrong",
   "metadata": {},
   "outputs": [
    {
     "name": "stdout",
     "output_type": "stream",
     "text": [
      "Model: \"sequential_1\"\n",
      "_________________________________________________________________\n",
      "Layer (type)                 Output Shape              Param #   \n",
      "=================================================================\n",
      "embedding_1 (Embedding)      (None, None, 32)          640000    \n",
      "_________________________________________________________________\n",
      "lstm_1 (LSTM)                (None, 32)                8320      \n",
      "_________________________________________________________________\n",
      "dense_1 (Dense)              (None, 46)                1518      \n",
      "=================================================================\n",
      "Total params: 649,838\n",
      "Trainable params: 649,838\n",
      "Non-trainable params: 0\n",
      "_________________________________________________________________\n"
     ]
    }
   ],
   "source": [
    "from tensorflow import keras\n",
    "\n",
    "vocab_size = 20000\n",
    "word_vector_dim = 32  \n",
    "\n",
    "model_LSTM_dense = keras.Sequential()\n",
    "model_LSTM_dense.add(keras.layers.Embedding(vocab_size, \n",
    "                                 word_vector_dim))\n",
    "model_LSTM_dense.add(keras.layers.LSTM(32))\n",
    "# model_LSTM_dense.add(keras.layers.Dense(128, activation='relu'))  \n",
    "model_LSTM_dense.add(keras.layers.Dense(num_classes, activation='softmax'))  \n",
    "\n",
    "model_LSTM_dense.summary()"
   ]
  },
  {
   "cell_type": "code",
   "execution_count": 60,
   "id": "fourth-reflection",
   "metadata": {},
   "outputs": [
    {
     "name": "stdout",
     "output_type": "stream",
     "text": [
      "Epoch 1/20\n",
      "113/113 [==============================] - 183s 2s/step - loss: 3.2383 - accuracy: 0.1952 - val_loss: 2.4145 - val_accuracy: 0.3450\n",
      "Epoch 2/20\n",
      "113/113 [==============================] - 182s 2s/step - loss: 2.4133 - accuracy: 0.3527 - val_loss: 2.4086 - val_accuracy: 0.3450\n",
      "Epoch 3/20\n",
      "113/113 [==============================] - 181s 2s/step - loss: 2.3855 - accuracy: 0.3524 - val_loss: 2.4068 - val_accuracy: 0.3450\n",
      "Epoch 4/20\n",
      "113/113 [==============================] - 180s 2s/step - loss: 2.4037 - accuracy: 0.3556 - val_loss: 2.4044 - val_accuracy: 0.3450\n",
      "Epoch 5/20\n",
      "113/113 [==============================] - 180s 2s/step - loss: 2.4171 - accuracy: 0.3529 - val_loss: 2.4070 - val_accuracy: 0.3450\n",
      "Epoch 6/20\n",
      "113/113 [==============================] - 180s 2s/step - loss: 2.4326 - accuracy: 0.3466 - val_loss: 2.4061 - val_accuracy: 0.3450\n",
      "Epoch 7/20\n",
      "113/113 [==============================] - 180s 2s/step - loss: 2.4143 - accuracy: 0.3535 - val_loss: 2.4070 - val_accuracy: 0.3450\n",
      "Epoch 8/20\n",
      "113/113 [==============================] - 180s 2s/step - loss: 2.3835 - accuracy: 0.3635 - val_loss: 2.4048 - val_accuracy: 0.3450\n",
      "Epoch 00008: early stopping\n"
     ]
    }
   ],
   "source": [
    "es = keras.callbacks.EarlyStopping(monitor='val_loss', mode='min', verbose=1, patience=4)\n",
    "mc = ModelCheckpoint('best_model.h5', monitor='val_acc', mode='max', verbose=1, save_best_only=True)\n",
    "\n",
    "\n",
    "model_LSTM_dense.compile(optimizer='adam',\n",
    "              loss='sparse_categorical_crossentropy',\n",
    "              metrics=['accuracy'])\n",
    "            \n",
    "epochs=20\n",
    "batch_size=64\n",
    "\n",
    "history_LSTM_dense = model_LSTM_dense.fit(tfidfv_20k_dense,\n",
    "                                y_train_20k,\n",
    "                                epochs=epochs,\n",
    "                                batch_size=batch_size,\n",
    "                                callbacks=[es],\n",
    "                                validation_split=0.2,\n",
    "                                verbose=1)"
   ]
  },
  {
   "cell_type": "code",
   "execution_count": 61,
   "id": "surrounded-volleyball",
   "metadata": {},
   "outputs": [
    {
     "name": "stdout",
     "output_type": "stream",
     "text": [
      "71/71 - 43s - loss: 2.4172 - accuracy: 0.3620\n",
      "[2.417243003845215, 0.36197686195373535]\n"
     ]
    }
   ],
   "source": [
    "results_dense = model_LSTM_dense.evaluate(tfidfv_test_20k_dense,  y_test_20k, verbose=2)\n",
    "print(results_dense)"
   ]
  },
  {
   "cell_type": "markdown",
   "id": "every-convertible",
   "metadata": {},
   "source": [
    " - toarray() : [2.4173861999970296, 0.36197686]\n",
    " - todense() : [2.415727226625886, 0.36197686]\n",
    "##### toarray(), todense()로 학습한 결과 큰 차이가 나지 않았다.\n",
    "\n",
    "인풋에 대해 sparse함을 확인할 수 있는 scipy의 issparse를 이용해 확인한다."
   ]
  },
  {
   "cell_type": "code",
   "execution_count": 63,
   "id": "banned-nightlife",
   "metadata": {},
   "outputs": [
    {
     "data": {
      "text/plain": [
       "False"
      ]
     },
     "execution_count": 63,
     "metadata": {},
     "output_type": "execute_result"
    }
   ],
   "source": [
    "from scipy import sparse \n",
    "\n",
    "sparse.issparse(tfidfv_test_20k_dense)"
   ]
  },
  {
   "cell_type": "code",
   "execution_count": 64,
   "id": "prescription-inclusion",
   "metadata": {},
   "outputs": [
    {
     "data": {
      "text/plain": [
       "False"
      ]
     },
     "execution_count": 64,
     "metadata": {},
     "output_type": "execute_result"
    }
   ],
   "source": [
    "sparse.issparse(tfidfv_test_20k_arr)"
   ]
  },
  {
   "cell_type": "markdown",
   "id": "living-curtis",
   "metadata": {},
   "source": [
    " - toarray(), todense() 모두 sparse했던 행렬을 dense하게 변환시킨 것을 확인했다.\n",
    " - TF-IDF행렬로 vectorizing한 input을 사용하기 때문에 행렬형태인 todense()의 결과를 모델에 사용하겠다.\n",
    "\n",
    "\n",
    "## 성능 향상\n",
    "모델의 레이어를 추가하며 accuracy를 향상시킨다."
   ]
  },
  {
   "cell_type": "code",
   "execution_count": 65,
   "id": "through-hardwood",
   "metadata": {},
   "outputs": [],
   "source": [
    "from tensorflow import keras\n",
    "\n",
    "def rnn(num_layer=8):\n",
    "\n",
    "    model_dense = keras.Sequential()\n",
    "    model_dense.add(keras.layers.Dense(num_layer*4, activation='relu', input_shape=(tfidfv_20k_dense.shape[1],)))  \n",
    "    model_dense.add(keras.layers.Dropout(0.2)),\n",
    "    model_dense.add(keras.layers.Flatten()),\n",
    "    \n",
    "    \n",
    "    model_dense.add(keras.layers.Dense(num_layer*8, activation='relu')) \n",
    "    model_dense.add(keras.layers.Dropout(0.2)),\n",
    "    model_dense.add(keras.layers.Flatten()),\n",
    "    \n",
    "    model_dense.add(keras.layers.Dense(num_layer*16, activation='relu')) \n",
    "    model_dense.add(keras.layers.Dropout(0.2)),\n",
    "    model_dense.add(keras.layers.Flatten()),\n",
    "    \n",
    "    model_dense.add(keras.layers.Dense(num_layer*32, activation='relu'))\n",
    "    model_dense.add(keras.layers.Dropout(0.2)),\n",
    "    model_dense.add(keras.layers.Flatten()),\n",
    "    \n",
    "    \n",
    "    model_dense.add(keras.layers.Dense(num_classes, activation='softmax'))  \n",
    "    model_dense.summary()\n",
    "    \n",
    "    es = keras.callbacks.EarlyStopping(monitor='val_loss', mode='min', verbose=1, patience=4)\n",
    "    mc = ModelCheckpoint('best_model.h5', monitor='val_acc', mode='max', verbose=1, save_best_only=True)\n",
    "\n",
    "\n",
    "    model_dense.compile(optimizer='adam',\n",
    "                  loss='sparse_categorical_crossentropy',\n",
    "                  metrics=['accuracy'])\n",
    "\n",
    "    epochs=20\n",
    "    batch_size=128\n",
    "\n",
    "    history_dense = model_dense.fit(tfidfv_20k_dense,\n",
    "                                    y_train_20k,\n",
    "                                    epochs=epochs,\n",
    "                                    batch_size=batch_size,\n",
    "                                    callbacks=[es, mc],\n",
    "                                    validation_split=0.2,\n",
    "                                    verbose=1)\n",
    "    \n",
    "    results = model_dense.evaluate(tfidfv_test_20k_dense,  y_test_20k, verbose=2)\n",
    "    print(results)\n",
    "    \n",
    "    return history_dense, model_dense"
   ]
  },
  {
   "cell_type": "code",
   "execution_count": 66,
   "id": "elect-yield",
   "metadata": {
    "scrolled": true
   },
   "outputs": [
    {
     "name": "stdout",
     "output_type": "stream",
     "text": [
      "Model: \"sequential_2\"\n",
      "_________________________________________________________________\n",
      "Layer (type)                 Output Shape              Param #   \n",
      "=================================================================\n",
      "dense_2 (Dense)              (None, 32)                591360    \n",
      "_________________________________________________________________\n",
      "dropout (Dropout)            (None, 32)                0         \n",
      "_________________________________________________________________\n",
      "flatten (Flatten)            (None, 32)                0         \n",
      "_________________________________________________________________\n",
      "dense_3 (Dense)              (None, 64)                2112      \n",
      "_________________________________________________________________\n",
      "dropout_1 (Dropout)          (None, 64)                0         \n",
      "_________________________________________________________________\n",
      "flatten_1 (Flatten)          (None, 64)                0         \n",
      "_________________________________________________________________\n",
      "dense_4 (Dense)              (None, 128)               8320      \n",
      "_________________________________________________________________\n",
      "dropout_2 (Dropout)          (None, 128)               0         \n",
      "_________________________________________________________________\n",
      "flatten_2 (Flatten)          (None, 128)               0         \n",
      "_________________________________________________________________\n",
      "dense_5 (Dense)              (None, 256)               33024     \n",
      "_________________________________________________________________\n",
      "dropout_3 (Dropout)          (None, 256)               0         \n",
      "_________________________________________________________________\n",
      "flatten_3 (Flatten)          (None, 256)               0         \n",
      "_________________________________________________________________\n",
      "dense_6 (Dense)              (None, 46)                11822     \n",
      "=================================================================\n",
      "Total params: 646,638\n",
      "Trainable params: 646,638\n",
      "Non-trainable params: 0\n",
      "_________________________________________________________________\n",
      "Epoch 1/20\n",
      "57/57 [==============================] - 1s 13ms/step - loss: 3.2979 - accuracy: 0.3313 - val_loss: 1.9637 - val_accuracy: 0.3801\n",
      "WARNING:tensorflow:Can save best model only with val_acc available, skipping.\n",
      "Epoch 2/20\n",
      "57/57 [==============================] - 0s 7ms/step - loss: 1.8641 - accuracy: 0.4786 - val_loss: 1.5883 - val_accuracy: 0.5442\n",
      "WARNING:tensorflow:Can save best model only with val_acc available, skipping.\n",
      "Epoch 3/20\n",
      "57/57 [==============================] - 0s 7ms/step - loss: 1.5114 - accuracy: 0.5808 - val_loss: 1.3926 - val_accuracy: 0.6706\n",
      "WARNING:tensorflow:Can save best model only with val_acc available, skipping.\n",
      "Epoch 4/20\n",
      "57/57 [==============================] - 0s 7ms/step - loss: 1.1925 - accuracy: 0.6892 - val_loss: 1.2406 - val_accuracy: 0.7123\n",
      "WARNING:tensorflow:Can save best model only with val_acc available, skipping.\n",
      "Epoch 5/20\n",
      "57/57 [==============================] - 0s 7ms/step - loss: 0.9736 - accuracy: 0.7422 - val_loss: 1.2141 - val_accuracy: 0.7323\n",
      "WARNING:tensorflow:Can save best model only with val_acc available, skipping.\n",
      "Epoch 6/20\n",
      "57/57 [==============================] - 0s 7ms/step - loss: 0.7973 - accuracy: 0.7781 - val_loss: 1.1860 - val_accuracy: 0.7468\n",
      "WARNING:tensorflow:Can save best model only with val_acc available, skipping.\n",
      "Epoch 7/20\n",
      "57/57 [==============================] - 0s 7ms/step - loss: 0.6704 - accuracy: 0.8144 - val_loss: 1.2495 - val_accuracy: 0.7535\n",
      "WARNING:tensorflow:Can save best model only with val_acc available, skipping.\n",
      "Epoch 8/20\n",
      "57/57 [==============================] - 0s 7ms/step - loss: 0.5947 - accuracy: 0.8359 - val_loss: 1.2220 - val_accuracy: 0.7579\n",
      "WARNING:tensorflow:Can save best model only with val_acc available, skipping.\n",
      "Epoch 9/20\n",
      "57/57 [==============================] - 0s 7ms/step - loss: 0.5250 - accuracy: 0.8487 - val_loss: 1.2662 - val_accuracy: 0.7596\n",
      "WARNING:tensorflow:Can save best model only with val_acc available, skipping.\n",
      "Epoch 10/20\n",
      "57/57 [==============================] - 0s 7ms/step - loss: 0.4882 - accuracy: 0.8581 - val_loss: 1.3049 - val_accuracy: 0.7590\n",
      "WARNING:tensorflow:Can save best model only with val_acc available, skipping.\n",
      "Epoch 00010: early stopping\n",
      "71/71 - 0s - loss: 1.4194 - accuracy: 0.7507\n",
      "[1.4193588495254517, 0.7506678700447083]\n"
     ]
    }
   ],
   "source": [
    "history_dense, model_dense = rnn_modified()"
   ]
  },
  {
   "cell_type": "code",
   "execution_count": 67,
   "id": "municipal-reach",
   "metadata": {},
   "outputs": [],
   "source": [
    "def visualize_train(train_history):\n",
    "    # summarize history for accuracy\n",
    "    plt.plot(train_history.history['accuracy'])\n",
    "    plt.plot(train_history.history['val_accuracy'])\n",
    "    plt.title('accuracy')\n",
    "    plt.ylabel('accuracy')\n",
    "    plt.xlabel('epoch')\n",
    "    plt.legend(['train', 'val'], loc='upper left')\n",
    "    plt.show()\n",
    "    # summarize history for loss\n",
    "    plt.plot(train_history.history['loss'])\n",
    "    plt.plot(train_history.history['val_loss'])\n",
    "    plt.title('loss')\n",
    "    plt.ylabel('loss')\n",
    "    plt.xlabel('epoch')\n",
    "    plt.legend(['train', 'val'], loc='upper left')\n",
    "    plt.show()"
   ]
  },
  {
   "cell_type": "code",
   "execution_count": 68,
   "id": "crazy-tamil",
   "metadata": {},
   "outputs": [
    {
     "data": {
      "image/png": "[encoded data removed]",
      "text/plain": [
       "<Figure size 432x288 with 1 Axes>"
      ]
     },
     "metadata": {
      "needs_background": "light"
     },
     "output_type": "display_data"
    },
    {
     "data": {
      "image/png": "[encoded data removed]",
      "text/plain": [
       "<Figure size 432x288 with 1 Axes>"
      ]
     },
     "metadata": {
      "needs_background": "light"
     },
     "output_type": "display_data"
    }
   ],
   "source": [
    "visualize_train(history_dense)"
   ]
  },
  {
   "cell_type": "code",
   "execution_count": 69,
   "id": "secondary-external",
   "metadata": {
    "scrolled": false
   },
   "outputs": [
    {
     "data": {
      "text/plain": [
       "array([[4.3479154e-08, 1.4843771e-04, 2.7147373e-09, ..., 4.5284820e-10,\n",
       "        4.0590011e-11, 3.4022829e-10],\n",
       "       [9.4876852e-04, 1.2411555e-02, 9.8921247e-03, ..., 4.4944923e-06,\n",
       "        3.2178895e-07, 7.5185466e-07],\n",
       "       [1.9688022e-04, 9.3780547e-01, 1.1617739e-03, ..., 5.1124114e-09,\n",
       "        1.1643597e-09, 2.8083464e-09],\n",
       "       ...,\n",
       "       [8.6590145e-14, 1.9877513e-07, 9.1836646e-16, ..., 1.0345615e-16,\n",
       "        2.6438185e-18, 6.7981362e-17],\n",
       "       [3.3116052e-03, 1.4897972e-02, 8.2487304e-04, ..., 2.9533951e-05,\n",
       "        1.5518155e-05, 5.0833467e-05],\n",
       "       [1.0733594e-02, 4.1456625e-01, 3.7689228e-02, ..., 3.5071280e-05,\n",
       "        1.6617530e-05, 2.9000454e-05]], dtype=float32)"
      ]
     },
     "execution_count": 69,
     "metadata": {},
     "output_type": "execute_result"
    }
   ],
   "source": [
    "model_dense.predict(tfidfv_test_20k_dense)"
   ]
  },
  {
   "cell_type": "code",
   "execution_count": 70,
   "id": "ethical-variation",
   "metadata": {},
   "outputs": [
    {
     "name": "stdout",
     "output_type": "stream",
     "text": [
      "              precision    recall  f1-score   support\n",
      "\n",
      "           0       0.40      0.50      0.44        12\n",
      "           1       0.68      0.77      0.72       105\n",
      "           2       0.62      0.40      0.48        20\n",
      "           3       0.89      0.93      0.91       813\n",
      "           4       0.83      0.87      0.85       474\n",
      "           5       0.00      0.00      0.00         5\n",
      "           6       0.32      0.43      0.36        14\n",
      "           7       0.00      0.00      0.00         3\n",
      "           8       0.48      0.68      0.57        38\n",
      "           9       0.57      0.68      0.62        25\n",
      "          10       0.77      0.77      0.77        30\n",
      "          11       0.64      0.67      0.66        83\n",
      "          12       0.22      0.15      0.18        13\n",
      "          13       0.52      0.73      0.61        37\n",
      "          14       0.00      0.00      0.00         2\n",
      "          15       0.00      0.00      0.00         9\n",
      "          16       0.63      0.75      0.68        99\n",
      "          17       0.40      0.17      0.24        12\n",
      "          18       0.34      0.60      0.44        20\n",
      "          19       0.66      0.74      0.70       133\n",
      "          20       0.72      0.37      0.49        70\n",
      "          21       0.67      0.59      0.63        27\n",
      "          22       0.00      0.00      0.00         7\n",
      "          23       0.17      0.08      0.11        12\n",
      "          24       0.36      0.42      0.39        19\n",
      "          25       0.49      0.55      0.52        31\n",
      "          26       0.00      0.00      0.00         8\n",
      "          27       0.00      0.00      0.00         4\n",
      "          28       0.25      0.10      0.14        10\n",
      "          29       0.00      0.00      0.00         4\n",
      "          30       0.00      0.00      0.00        12\n",
      "          31       0.12      0.08      0.10        13\n",
      "          32       1.00      0.10      0.18        10\n",
      "          33       0.00      0.00      0.00         5\n",
      "          34       0.50      0.14      0.22         7\n",
      "          35       0.00      0.00      0.00         6\n",
      "          36       0.60      0.27      0.37        11\n",
      "          37       0.00      0.00      0.00         2\n",
      "          38       0.00      0.00      0.00         3\n",
      "          39       0.00      0.00      0.00         5\n",
      "          40       0.40      0.20      0.27        10\n",
      "          41       0.07      0.12      0.09         8\n",
      "          42       0.00      0.00      0.00         3\n",
      "          43       0.00      0.00      0.00         6\n",
      "          44       0.00      0.00      0.00         5\n",
      "          45       0.00      0.00      0.00         1\n",
      "\n",
      "    accuracy                           0.75      2246\n",
      "   macro avg       0.31      0.28      0.28      2246\n",
      "weighted avg       0.72      0.75      0.73      2246\n",
      "\n"
     ]
    },
    {
     "name": "stderr",
     "output_type": "stream",
     "text": [
      "/opt/conda/lib/python3.7/site-packages/sklearn/metrics/_classification.py:1221: UndefinedMetricWarning: Precision and F-score are ill-defined and being set to 0.0 in labels with no predicted samples. Use `zero_division` parameter to control this behavior.\n",
      "  _warn_prf(average, modifier, msg_start, len(result))\n"
     ]
    }
   ],
   "source": [
    "from sklearn.metrics import classification_report\n",
    "from sklearn.metrics import confusion_matrix\n",
    "\n",
    "print(classification_report(y_test_20k, model_dense.predict(tfidfv_test_20k_dense).argmax(axis=1)))\n"
   ]
  },
  {
   "cell_type": "code",
   "execution_count": 79,
   "id": "graduate-doctor",
   "metadata": {},
   "outputs": [],
   "source": [
    "from tensorflow import keras\n",
    "from tensorflow.keras.layers import Dense, Dropout, Activation, Input, Flatten, BatchNormalization\n",
    "\n",
    "def rnn_modified(num_layer=8):\n",
    "    model_dense = keras.Sequential()\n",
    "    model_dense.add(keras.layers.Dense(num_layer*4, activation='relu', input_shape=(tfidfv_20k_dense.shape[1],)))  \n",
    "    model_dense.add(keras.layers.Dropout(0.2)),\n",
    "    model_dense.add(keras.layers.Flatten()),\n",
    "    \n",
    "    \n",
    "    model_dense.add(keras.layers.Dense(num_layer*8, activation='relu')) \n",
    "    model_dense.add(keras.layers.Dropout(0.2)),\n",
    "    model_dense.add(keras.layers.Flatten()),\n",
    "    \n",
    "    model_dense.add(keras.layers.Dense(num_layer*16, activation='relu')) \n",
    "    model_dense.add(keras.layers.Dropout(0.2)),\n",
    "    model_dense.add(keras.layers.Flatten()),\n",
    "    \n",
    "    model_dense.add(keras.layers.Dense(num_layer*32, activation='relu'))\n",
    "    model_dense.add(keras.layers.Dropout(0.2)),\n",
    "    model_dense.add(keras.layers.Flatten()),\n",
    "    \n",
    "    model_dense.add(keras.layers.Dense(num_layer*64, activation='relu'))\n",
    "    model_dense.add(keras.layers.Dropout(0.2)),\n",
    "    model_dense.add(keras.layers.Flatten()),\n",
    "    \n",
    "    model_dense.add(keras.layers.Dense(num_layer*128, activation='relu'))\n",
    "    model_dense.add(keras.layers.Dropout(0.2)),\n",
    "    model_dense.add(keras.layers.Flatten()),\n",
    "    \n",
    "    model_dense.add(keras.layers.Dense(num_layer*64, activation='relu'))\n",
    "    model_dense.add(keras.layers.Dropout(0.2)),\n",
    "    model_dense.add(keras.layers.Flatten()),\n",
    "    model_dense.add(keras.layers.BatchNormalization()),\n",
    "    \n",
    "    model_dense.add(keras.layers.Dense(num_classes, activation='softmax'))  \n",
    "    model_dense.summary()\n",
    "    \n",
    "    es = keras.callbacks.EarlyStopping(monitor='val_loss', mode='min', verbose=1, patience=4)\n",
    "    mc = ModelCheckpoint('best_model.h5', monitor='val_acc', mode='max', verbose=1, save_best_only=True)\n",
    "\n",
    "\n",
    "    model_dense.compile(optimizer='adam',\n",
    "                  loss='sparse_categorical_crossentropy',\n",
    "                  metrics=['accuracy'])\n",
    "\n",
    "    epochs=20\n",
    "    batch_size=128\n",
    "\n",
    "    history_dense = model_dense.fit(tfidfv_20k_dense,\n",
    "                                    y_train_20k,\n",
    "                                    epochs=epochs,\n",
    "                                    batch_size=batch_size,\n",
    "                                    callbacks=[es, mc],\n",
    "                                    validation_split=0.2,\n",
    "                                    verbose=1)\n",
    "    \n",
    "    results = model_dense.evaluate(tfidfv_test_20k_dense,  y_test_20k, verbose=2)\n",
    "    print(results)\n",
    "    \n",
    "    return history_dense, model_dense"
   ]
  },
  {
   "cell_type": "code",
   "execution_count": 80,
   "id": "careful-binary",
   "metadata": {
    "scrolled": true
   },
   "outputs": [
    {
     "name": "stdout",
     "output_type": "stream",
     "text": [
      "Model: \"sequential_4\"\n",
      "_________________________________________________________________\n",
      "Layer (type)                 Output Shape              Param #   \n",
      "=================================================================\n",
      "dense_14 (Dense)             (None, 32)                591360    \n",
      "_________________________________________________________________\n",
      "dropout_11 (Dropout)         (None, 32)                0         \n",
      "_________________________________________________________________\n",
      "flatten_11 (Flatten)         (None, 32)                0         \n",
      "_________________________________________________________________\n",
      "dense_15 (Dense)             (None, 64)                2112      \n",
      "_________________________________________________________________\n",
      "dropout_12 (Dropout)         (None, 64)                0         \n",
      "_________________________________________________________________\n",
      "flatten_12 (Flatten)         (None, 64)                0         \n",
      "_________________________________________________________________\n",
      "dense_16 (Dense)             (None, 128)               8320      \n",
      "_________________________________________________________________\n",
      "dropout_13 (Dropout)         (None, 128)               0         \n",
      "_________________________________________________________________\n",
      "flatten_13 (Flatten)         (None, 128)               0         \n",
      "_________________________________________________________________\n",
      "dense_17 (Dense)             (None, 256)               33024     \n",
      "_________________________________________________________________\n",
      "dropout_14 (Dropout)         (None, 256)               0         \n",
      "_________________________________________________________________\n",
      "flatten_14 (Flatten)         (None, 256)               0         \n",
      "_________________________________________________________________\n",
      "dense_18 (Dense)             (None, 512)               131584    \n",
      "_________________________________________________________________\n",
      "dropout_15 (Dropout)         (None, 512)               0         \n",
      "_________________________________________________________________\n",
      "flatten_15 (Flatten)         (None, 512)               0         \n",
      "_________________________________________________________________\n",
      "dense_19 (Dense)             (None, 1024)              525312    \n",
      "_________________________________________________________________\n",
      "dropout_16 (Dropout)         (None, 1024)              0         \n",
      "_________________________________________________________________\n",
      "flatten_16 (Flatten)         (None, 1024)              0         \n",
      "_________________________________________________________________\n",
      "dense_20 (Dense)             (None, 512)               524800    \n",
      "_________________________________________________________________\n",
      "dropout_17 (Dropout)         (None, 512)               0         \n",
      "_________________________________________________________________\n",
      "flatten_17 (Flatten)         (None, 512)               0         \n",
      "_________________________________________________________________\n",
      "batch_normalization (BatchNo (None, 512)               2048      \n",
      "_________________________________________________________________\n",
      "dense_21 (Dense)             (None, 46)                23598     \n",
      "=================================================================\n",
      "Total params: 1,842,158\n",
      "Trainable params: 1,841,134\n",
      "Non-trainable params: 1,024\n",
      "_________________________________________________________________\n",
      "Epoch 1/20\n",
      "57/57 [==============================] - 2s 16ms/step - loss: 2.8627 - accuracy: 0.3709 - val_loss: 2.8921 - val_accuracy: 0.4830\n",
      "WARNING:tensorflow:Can save best model only with val_acc available, skipping.\n",
      "Epoch 2/20\n",
      "57/57 [==============================] - 1s 9ms/step - loss: 1.6144 - accuracy: 0.5926 - val_loss: 2.0737 - val_accuracy: 0.5771\n",
      "WARNING:tensorflow:Can save best model only with val_acc available, skipping.\n",
      "Epoch 3/20\n",
      "57/57 [==============================] - 1s 9ms/step - loss: 1.3370 - accuracy: 0.6580 - val_loss: 1.5895 - val_accuracy: 0.6611\n",
      "WARNING:tensorflow:Can save best model only with val_acc available, skipping.\n",
      "Epoch 4/20\n",
      "57/57 [==============================] - 1s 9ms/step - loss: 1.0659 - accuracy: 0.7294 - val_loss: 1.3264 - val_accuracy: 0.6984\n",
      "WARNING:tensorflow:Can save best model only with val_acc available, skipping.\n",
      "Epoch 5/20\n",
      "57/57 [==============================] - 1s 10ms/step - loss: 0.9398 - accuracy: 0.7581 - val_loss: 1.2217 - val_accuracy: 0.7084\n",
      "WARNING:tensorflow:Can save best model only with val_acc available, skipping.\n",
      "Epoch 6/20\n",
      "57/57 [==============================] - 1s 10ms/step - loss: 0.8507 - accuracy: 0.7731 - val_loss: 1.2086 - val_accuracy: 0.7134\n",
      "WARNING:tensorflow:Can save best model only with val_acc available, skipping.\n",
      "Epoch 7/20\n",
      "57/57 [==============================] - 1s 10ms/step - loss: 0.7609 - accuracy: 0.7888 - val_loss: 1.2380 - val_accuracy: 0.7318\n",
      "WARNING:tensorflow:Can save best model only with val_acc available, skipping.\n",
      "Epoch 8/20\n",
      "57/57 [==============================] - 1s 9ms/step - loss: 0.7203 - accuracy: 0.8080 - val_loss: 1.2815 - val_accuracy: 0.7301\n",
      "WARNING:tensorflow:Can save best model only with val_acc available, skipping.\n",
      "Epoch 9/20\n",
      "57/57 [==============================] - 1s 10ms/step - loss: 0.7050 - accuracy: 0.8153 - val_loss: 1.3944 - val_accuracy: 0.7346\n",
      "WARNING:tensorflow:Can save best model only with val_acc available, skipping.\n",
      "Epoch 10/20\n",
      "57/57 [==============================] - 1s 9ms/step - loss: 0.6491 - accuracy: 0.8270 - val_loss: 1.3575 - val_accuracy: 0.7273\n",
      "WARNING:tensorflow:Can save best model only with val_acc available, skipping.\n",
      "Epoch 00010: early stopping\n",
      "71/71 - 0s - loss: 1.3664 - accuracy: 0.7186\n",
      "[1.3663612604141235, 0.7186108827590942]\n"
     ]
    }
   ],
   "source": [
    "history_dense, model_dense = rnn_modified()"
   ]
  },
  {
   "cell_type": "code",
   "execution_count": 83,
   "id": "hydraulic-tackle",
   "metadata": {},
   "outputs": [],
   "source": [
    "from tensorflow import keras\n",
    "from tensorflow.keras.layers import Dense, Dropout, Activation, Input, Flatten, BatchNormalization\n",
    "\n",
    "def rnn_modified(num_layer=8):\n",
    "    model_dense = keras.Sequential()\n",
    "    model_dense.add(keras.layers.Dense(num_layer*4, activation='relu', input_shape=(tfidfv_20k_dense.shape[1],)))  \n",
    "    model_dense.add(keras.layers.Dropout(0.2)),\n",
    "    model_dense.add(keras.layers.Flatten()),\n",
    "    model_dense.add(keras.layers.BatchNormalization()),\n",
    "    \n",
    "    \n",
    "    model_dense.add(keras.layers.Dense(num_layer*8, activation='relu')) \n",
    "    model_dense.add(keras.layers.Dropout(0.2)),\n",
    "    model_dense.add(keras.layers.Flatten()),\n",
    "    model_dense.add(keras.layers.BatchNormalization()),\n",
    "    \n",
    "    model_dense.add(keras.layers.Dense(num_layer*16, activation='relu')) \n",
    "    model_dense.add(keras.layers.Dropout(0.2)),\n",
    "    model_dense.add(keras.layers.Flatten()),\n",
    "    model_dense.add(keras.layers.BatchNormalization()),\n",
    "    \n",
    "    model_dense.add(keras.layers.Dense(num_classes, activation='softmax'))  \n",
    "    model_dense.summary()\n",
    "    \n",
    "    es = keras.callbacks.EarlyStopping(monitor='val_loss', mode='min', verbose=1, patience=4)\n",
    "    mc = ModelCheckpoint('best_model.h5', monitor='val_acc', mode='max', verbose=1, save_best_only=True)\n",
    "\n",
    "\n",
    "    model_dense.compile(optimizer='adam',\n",
    "                  loss='sparse_categorical_crossentropy',\n",
    "                  metrics=['accuracy'])\n",
    "\n",
    "    epochs=20\n",
    "    batch_size=128\n",
    "\n",
    "    history_dense = model_dense.fit(tfidfv_20k_dense,\n",
    "                                    y_train_20k,\n",
    "                                    epochs=epochs,\n",
    "                                    batch_size=batch_size,\n",
    "                                    callbacks=[es, mc],\n",
    "                                    validation_split=0.2,\n",
    "                                    verbose=1)\n",
    "    \n",
    "    results = model_dense.evaluate(tfidfv_test_20k_dense,  y_test_20k, verbose=2)\n",
    "    print(results)\n",
    "    \n",
    "    return history_dense, model_dense"
   ]
  },
  {
   "cell_type": "code",
   "execution_count": 84,
   "id": "outstanding-convert",
   "metadata": {},
   "outputs": [
    {
     "name": "stdout",
     "output_type": "stream",
     "text": [
      "Model: \"sequential_6\"\n",
      "_________________________________________________________________\n",
      "Layer (type)                 Output Shape              Param #   \n",
      "=================================================================\n",
      "dense_30 (Dense)             (None, 32)                591360    \n",
      "_________________________________________________________________\n",
      "dropout_25 (Dropout)         (None, 32)                0         \n",
      "_________________________________________________________________\n",
      "flatten_25 (Flatten)         (None, 32)                0         \n",
      "_________________________________________________________________\n",
      "batch_normalization_1 (Batch (None, 32)                128       \n",
      "_________________________________________________________________\n",
      "dense_31 (Dense)             (None, 64)                2112      \n",
      "_________________________________________________________________\n",
      "dropout_26 (Dropout)         (None, 64)                0         \n",
      "_________________________________________________________________\n",
      "flatten_26 (Flatten)         (None, 64)                0         \n",
      "_________________________________________________________________\n",
      "batch_normalization_2 (Batch (None, 64)                256       \n",
      "_________________________________________________________________\n",
      "dense_32 (Dense)             (None, 128)               8320      \n",
      "_________________________________________________________________\n",
      "dropout_27 (Dropout)         (None, 128)               0         \n",
      "_________________________________________________________________\n",
      "flatten_27 (Flatten)         (None, 128)               0         \n",
      "_________________________________________________________________\n",
      "batch_normalization_3 (Batch (None, 128)               512       \n",
      "_________________________________________________________________\n",
      "dense_33 (Dense)             (None, 46)                5934      \n",
      "=================================================================\n",
      "Total params: 608,622\n",
      "Trainable params: 608,174\n",
      "Non-trainable params: 448\n",
      "_________________________________________________________________\n",
      "Epoch 1/20\n",
      "57/57 [==============================] - 2s 15ms/step - loss: 3.1948 - accuracy: 0.2898 - val_loss: 3.2003 - val_accuracy: 0.3450\n",
      "WARNING:tensorflow:Can save best model only with val_acc available, skipping.\n",
      "Epoch 2/20\n",
      "57/57 [==============================] - 0s 8ms/step - loss: 1.3022 - accuracy: 0.7151 - val_loss: 2.6919 - val_accuracy: 0.3450\n",
      "WARNING:tensorflow:Can save best model only with val_acc available, skipping.\n",
      "Epoch 3/20\n",
      "57/57 [==============================] - 0s 8ms/step - loss: 0.9266 - accuracy: 0.7887 - val_loss: 2.5004 - val_accuracy: 0.3450\n",
      "WARNING:tensorflow:Can save best model only with val_acc available, skipping.\n",
      "Epoch 4/20\n",
      "57/57 [==============================] - 0s 9ms/step - loss: 0.7757 - accuracy: 0.8106 - val_loss: 2.4172 - val_accuracy: 0.3450\n",
      "WARNING:tensorflow:Can save best model only with val_acc available, skipping.\n",
      "Epoch 5/20\n",
      "57/57 [==============================] - 0s 9ms/step - loss: 0.6528 - accuracy: 0.8457 - val_loss: 2.3781 - val_accuracy: 0.3856\n",
      "WARNING:tensorflow:Can save best model only with val_acc available, skipping.\n",
      "Epoch 6/20\n",
      "57/57 [==============================] - 0s 8ms/step - loss: 0.5362 - accuracy: 0.8696 - val_loss: 2.1310 - val_accuracy: 0.4808\n",
      "WARNING:tensorflow:Can save best model only with val_acc available, skipping.\n",
      "Epoch 7/20\n",
      "57/57 [==============================] - 0s 8ms/step - loss: 0.4982 - accuracy: 0.8783 - val_loss: 1.8899 - val_accuracy: 0.5248\n",
      "WARNING:tensorflow:Can save best model only with val_acc available, skipping.\n",
      "Epoch 8/20\n",
      "57/57 [==============================] - 0s 8ms/step - loss: 0.4439 - accuracy: 0.8904 - val_loss: 1.5809 - val_accuracy: 0.6010\n",
      "WARNING:tensorflow:Can save best model only with val_acc available, skipping.\n",
      "Epoch 9/20\n",
      "57/57 [==============================] - 0s 9ms/step - loss: 0.3891 - accuracy: 0.8953 - val_loss: 1.2884 - val_accuracy: 0.6834\n",
      "WARNING:tensorflow:Can save best model only with val_acc available, skipping.\n",
      "Epoch 10/20\n",
      "57/57 [==============================] - 0s 8ms/step - loss: 0.3654 - accuracy: 0.9061 - val_loss: 1.1113 - val_accuracy: 0.7423\n",
      "WARNING:tensorflow:Can save best model only with val_acc available, skipping.\n",
      "Epoch 11/20\n",
      "57/57 [==============================] - 0s 8ms/step - loss: 0.3302 - accuracy: 0.9145 - val_loss: 1.0270 - val_accuracy: 0.7713\n",
      "WARNING:tensorflow:Can save best model only with val_acc available, skipping.\n",
      "Epoch 12/20\n",
      "57/57 [==============================] - 0s 8ms/step - loss: 0.3116 - accuracy: 0.9197 - val_loss: 1.0071 - val_accuracy: 0.7958\n",
      "WARNING:tensorflow:Can save best model only with val_acc available, skipping.\n",
      "Epoch 13/20\n",
      "57/57 [==============================] - 0s 9ms/step - loss: 0.2939 - accuracy: 0.9223 - val_loss: 1.0239 - val_accuracy: 0.8024\n",
      "WARNING:tensorflow:Can save best model only with val_acc available, skipping.\n",
      "Epoch 14/20\n",
      "57/57 [==============================] - 0s 8ms/step - loss: 0.2786 - accuracy: 0.9186 - val_loss: 1.0353 - val_accuracy: 0.8108\n",
      "WARNING:tensorflow:Can save best model only with val_acc available, skipping.\n",
      "Epoch 15/20\n",
      "57/57 [==============================] - 1s 9ms/step - loss: 0.2642 - accuracy: 0.9297 - val_loss: 1.0617 - val_accuracy: 0.8047\n",
      "WARNING:tensorflow:Can save best model only with val_acc available, skipping.\n",
      "Epoch 16/20\n",
      "57/57 [==============================] - 0s 9ms/step - loss: 0.2356 - accuracy: 0.9379 - val_loss: 1.0542 - val_accuracy: 0.8130\n",
      "WARNING:tensorflow:Can save best model only with val_acc available, skipping.\n",
      "Epoch 00016: early stopping\n",
      "71/71 - 0s - loss: 1.1477 - accuracy: 0.8059\n",
      "[1.1477466821670532, 0.8058770895004272]\n"
     ]
    }
   ],
   "source": [
    "history_dense, model_dense = rnn_modified()"
   ]
  },
  {
   "cell_type": "code",
   "execution_count": 85,
   "id": "indoor-visibility",
   "metadata": {},
   "outputs": [],
   "source": [
    "def graph_confusion_matrix(model, x_test, y_test):#, classes_name):\n",
    "    df_cm = pd.DataFrame(confusion_matrix(y_test, model.predict(x_test).argmax(axis=1)))#, index=classes_name, columns=classes_name)\n",
    "    fig = plt.figure(figsize=(15,15))\n",
    "    heatmap = sns.heatmap(df_cm, annot=True, fmt=\"d\")\n",
    "    heatmap.yaxis.set_ticklabels(heatmap.yaxis.get_ticklabels(), rotation=0, ha='right', fontsize=12)\n",
    "    heatmap.xaxis.set_ticklabels(heatmap.xaxis.get_ticklabels(), rotation=45, ha='right', fontsize=12)\n",
    "    plt.ylabel('label')\n",
    "    plt.xlabel('predicted value')"
   ]
  },
  {
   "cell_type": "code",
   "execution_count": 86,
   "id": "sunset-redhead",
   "metadata": {},
   "outputs": [
    {
     "data": {
      "image/png": "[encoded data removed]",
      "text/plain": [
       "<Figure size 1080x1080 with 2 Axes>"
      ]
     },
     "metadata": {
      "needs_background": "light"
     },
     "output_type": "display_data"
    }
   ],
   "source": [
    "graph_confusion_matrix(model_dense, tfidfv_test_20k_dense, y_test_20k)"
   ]
  },
  {
   "cell_type": "markdown",
   "id": "curious-joint",
   "metadata": {},
   "source": [
    "## 루브릭 평가\n",
    "분류 모델의 accuracy가 기준 이상 높게 나왔는가?\n",
    "\n",
    "- 5가지의 경우를 테스트하고 모델 별 accuracy를 확인했다.\n",
    "\n",
    "\n",
    "분류 모델의 F1 score가 기준 이상 높게 나왔는가?\n",
    "\n",
    " - f1 score를 출력해 높게 나온 것을 확인할 수 있었다.\n",
    "\n",
    "\n",
    "생성모델의 metric(BLEU 등) 기준 이상 높은 성능이 확인되었는가?\n",
    "\n",
    " - confusion matrix, f1 score, 딥러닝 모델의 경우 test dataset의 accuracy를 확인했고, 기준 이상의 높은 성능을 확인했다."
   ]
  },
  {
   "cell_type": "markdown",
   "id": "exempt-colonial",
   "metadata": {},
   "source": [
    "## 회고\n",
    "\n",
    "\n",
    "#### 전체 단어 \n",
    "- whole': 0.7283504007123776,\n",
    "\n",
    "\n",
    "#### 5000개 \n",
    " - '5k': 0.7399265360641141,\n",
    "\n",
    "#### 1000개 \n",
    " - '1k': 0.7159951024042743,\n",
    "\n",
    "#### 10000개 \n",
    " -  '10k': 0.7315227070347284,\n",
    "\n",
    "#### 20000개 \n",
    " - '20k': 0.7264581478183436}\n",
    "\n",
    "\n",
    "#### LSTM only\n",
    " - loss: 2.4150 - accuracy: 0.3620\n",
    "\n",
    "#### LSTM + Dense\n",
    "[loss = 2.417243003845215, acc = 0.36197686195373535]\n",
    "\n",
    "#### RNN\n",
    "[loss = 1.4193588495254517, acc = 0.7506678700447083]\n",
    "\n",
    "#### RNN modified (my own)\n",
    "[loss = 1.1477466821670532, acc = 0.8058770895004272]\n",
    "\n",
    "#### 어려웠던 부분\n",
    " - 기본 나이브 베이스도 시간이 약 1시간 걸린거 같은데 머신러닝의 경우 학습시간이 훨씬훨씬 오래걸렸다\n",
    "\n",
    "\n",
    "#### 알아낸 점 혹은 모호한 부분\n",
    "\n",
    "- 단어수를 학습할 때 불러올 수 있는점이 신기했다. 이 단어들을 잘못 가져오면 데이터가 안 좋을 줄 알았는데 오히려 5천개가 더 잘나왔네?? 예상하지 못한 결과로 더욱 더 궁금해졌다.\n",
    "\n",
    "- 예상했던대로 RNN이 제일 잘 나왔다. RNN 모델을 조금 더 수정해서 더 정확도가 높은 모델을 만들어보고 싶다.\n",
    "\n",
    "\n",
    "- DTM과 TF-IDF를 사용하면 다양한 클래시컬 머신러닝(random forest등) 기법들을 사용할 수 있다는 점을 알게 되었다.\n",
    "\n",
    "\n",
    "- 솔직하게 말해서 주제를 분류하는 classification을 위해서 LSTM과 RNN이 어떻게 사용된건지 잘 모르겠다. 마지막 레이어의 노드 갯수를 num_classes로 맞춰주기만 하면 되는건가? 나중에 추가로 탐구해보겠다.  \n",
    "\n",
    " - 흥미로웠던 점은 image classification에서 주로 쓰이던 Dense layers딥러닝 기법이 혼합된 RNN이 가장 점수가 높았다는 점이다.\n",
    " \n",
    " - 폐렴노드와 캐글 이미지분류에서 쓰이던 dropout, batchnormalization을 추가로 사용한 나만의 modified rnn에서 정확도 0.8058770895004272를 달성했다.\n",
    " \n",
    " \n",
    " - 처음에 rnn으로만 그래프를 그린 graph_confusion_matrix에서 4번이 412가 나오는 특이한 점수를 가졌다. 이는 outlier가 아닐까 의심될정도로 숫자가 높다. 나머지 16번, 29번들이 그나마 각각 74점, 99점으로 높은 점수였다. 이 점수들이 나온 이유가 뭘까?\n",
    " \n",
    " ## 참고자료\n",
    " \n",
    " ## Reference \n",
    "\n",
    "1) https://github.com/miinkang/AI_Project_AIFFEL/blob/main/%5BGD-06%5Dword_embedding_association_WEAT.ipynb\n",
    "\n",
    "2) https://piaojian.tistory.com/37"
   ]
  },
  {
   "cell_type": "code",
   "execution_count": 73,
   "id": "third-exception",
   "metadata": {},
   "outputs": [
    {
     "name": "stdout",
     "output_type": "stream",
     "text": [
      "the end\n"
     ]
    }
   ],
   "source": [
    "print('the end')"
   ]
  }
 ],
 "metadata": {
  "kernelspec": {
   "display_name": "Python 3",
   "language": "python",
   "name": "python3"
  },
  "language_info": {
   "codemirror_mode": {
    "name": "ipython",
    "version": 3
   },
   "file_extension": ".py",
   "mimetype": "text/x-python",
   "name": "python",
   "nbconvert_exporter": "python",
   "pygments_lexer": "ipython3",
   "version": "3.7.9"
  }
 },
 "nbformat": 4,
 "nbformat_minor": 5
}
