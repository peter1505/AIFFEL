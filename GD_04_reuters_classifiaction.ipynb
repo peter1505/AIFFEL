{
 "cells": [
  {
   "cell_type": "markdown",
   "id": "electric-cruise",
   "metadata": {},
   "source": [
    "## GD_NLP_04_reuters_classifiaction (DTM, TF-IDF Vocabulary Size)\n",
    "\n",
    "\n",
    "Google에서 제공하는 오픈소스 기반 Sentence Tokenizer/Detokenizer 패키지인 SentencePiece를 사용하는 프로젝트입니다.\n",
    "\n",
    "\n",
    "\n",
    "#### 프로젝트 설명\n",
    "1. reuters 뉴스 데이터를 불러온다. (이 때 단어의 수를 조절할 수 있다.)\n",
    " - 전체 단어\n",
    " - 5000개 단어\n",
    " - 그 외로 실험해보기(3가지)\n",
    "2. 머신러닝 모델 학습\n",
    " - 나이브 베이즈 분류기\n",
    " - CNB\n",
    " - 로지스틱 회귀\n",
    " - 서포트 벡터 머신(SVM)\n",
    " - 결정 트리\n",
    " - 랜덤 포레스트\n",
    " - 그래디언트 부스팅 트리\n",
    " - 보팅"
   ]
  },
  {
   "cell_type": "code",
   "execution_count": 1,
   "id": "gorgeous-reasoning",
   "metadata": {},
   "outputs": [],
   "source": [
    "# 모든 프로젝트에 해당되는 패키지를 먼저 임포트\n",
    "from tensorflow.keras.datasets import reuters\n",
    "import matplotlib.pyplot as plt\n",
    "import seaborn as sns\n",
    "import numpy as np\n",
    "import pandas as pd\n",
    "\n",
    "from sklearn.feature_extraction.text import CountVectorizer\n",
    "from sklearn.feature_extraction.text import TfidfTransformer\n",
    "\n",
    "from sklearn.naive_bayes import MultinomialNB #다항분포 나이브 베이즈 모델\n",
    "from sklearn.linear_model import LogisticRegression, SGDClassifier\n",
    "from sklearn.naive_bayes import ComplementNB\n",
    "from sklearn.tree import DecisionTreeClassifier\n",
    "from sklearn.ensemble import RandomForestClassifier\n",
    "from sklearn.ensemble import GradientBoostingClassifier\n",
    "from sklearn.ensemble import VotingClassifier\n",
    "from sklearn.svm import LinearSVC\n",
    "from sklearn.metrics import accuracy_score #정확도 계산\n",
    "\n",
    "from sklearn.metrics import classification_report\n",
    "from sklearn.metrics import confusion_matrix"
   ]
  },
  {
   "cell_type": "code",
   "execution_count": null,
   "id": "controlled-rubber",
   "metadata": {},
   "outputs": [],
   "source": []
  }
 ],
 "metadata": {
  "kernelspec": {
   "display_name": "Python 3",
   "language": "python",
   "name": "python3"
  },
  "language_info": {
   "codemirror_mode": {
    "name": "ipython",
    "version": 3
   },
   "file_extension": ".py",
   "mimetype": "text/x-python",
   "name": "python",
   "nbconvert_exporter": "python",
   "pygments_lexer": "ipython3",
   "version": "3.7.9"
  }
 },
 "nbformat": 4,
 "nbformat_minor": 5
}
