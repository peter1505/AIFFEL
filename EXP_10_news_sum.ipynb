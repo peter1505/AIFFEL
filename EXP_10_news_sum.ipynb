{
 "cells": [
  {
   "cell_type": "markdown",
   "id": "pressing-reporter",
   "metadata": {},
   "source": [
    "# EX 10. News Summarization\n",
    "\n",
    "\n",
    "텍스트 요약\n",
    "상대적으로 긴 문장으로 짧은 문장으로 변환하는 기법을 텍스트 요약이라고 합니다. Ex 10에서는 뉴스 요약을 해보겠습니다.\n",
    "\n",
    "텍스트 요약에는 두 가지 방법, Extractive Summarization, Abstractive Summarization이 있습니다. Extractive의 경우 가장 의미있는 문장을 원문 안에서 추출해 내는 방식이고, Abstractive는 원문을 요약하는 새로운 문장을 만들어내는 방식입니다.\n",
    "\n",
    "이 프로젝트에서는 원문과 그에 해당하는 요약문을 주고(지도학습) seq2seq와 Attention을 사용하여 원문 -> 요약문으로의 Abstractive Summarization을 실시하겠습니다. 이는 일반적인 번역과 매우 유사한 과정을 거치는 것입니다.\n",
    "\n",
    "\n",
    "\n",
    "평가문항\n",
    "1. Abstractive 모델 구성을 위한 분석단계, 정제단계, 정규화와 불용어 제거, 데이터셋 분리, 인코딩 과정이 빠짐없이 체계적으로 진행되었다.\n",
    "\n",
    "\n",
    "2. 모델학습이 안정적으로 수렴되었음을 그래프를 통해 확인하였으며, 실제 요약문과 유사한 요약문장을 얻을 수 있었다.\n",
    "\n",
    "\n",
    "3. Abstractive 요약 결과과 함께 비교해 보았다. 두 요약 결과를 문법완성도 측면과 핵심단어 포함 측면으로 나누어 비교분석 결과를 제시하였다.\n",
    "\n",
    "\n",
    "## 1. 데이터 수집하기\n",
    "\n",
    "이 데이터는 기사의 본문에 해당되는 text와 headlines 두 가지 열로 구성되어져 있습니다.\n",
    "| abstractive 요약 \n",
    "\n",
    "                Abstractive \tExtractive 요약\n",
    "        text\t     사용 O\t사용 O\n",
    "        headlines    사용 O\t사용 X"
   ]
  },
  {
   "cell_type": "code",
   "execution_count": 1,
   "id": "accepting-bridal",
   "metadata": {},
   "outputs": [
    {
     "name": "stderr",
     "output_type": "stream",
     "text": [
      "[nltk_data] Downloading package stopwords to /aiffel/nltk_data...\n",
      "[nltk_data]   Unzipping corpora/stopwords.zip.\n"
     ]
    },
    {
     "name": "stdout",
     "output_type": "stream",
     "text": [
      "Done\n"
     ]
    }
   ],
   "source": [
    "import nltk\n",
    "nltk.download('stopwords')\n",
    "\n",
    "import numpy as np\n",
    "import pandas as pd\n",
    "import os\n",
    "import re\n",
    "import matplotlib.pyplot as plt\n",
    "from nltk.corpus import stopwords\n",
    "from bs4 import BeautifulSoup \n",
    "from tensorflow.keras.preprocessing.text import Tokenizer \n",
    "from tensorflow.keras.preprocessing.sequence import pad_sequences\n",
    "import urllib.request\n",
    "\n",
    "print('Done')"
   ]
  },
  {
   "cell_type": "code",
   "execution_count": 2,
   "id": "extensive-pakistan",
   "metadata": {},
   "outputs": [],
   "source": [
    "import urllib.request\n",
    "urllib.request.urlretrieve(\"https://raw.githubusercontent.com/sunnysai12345/News_Summary/master/news_summary_more.csv\", filename=\"news_summary_more.csv\")\n",
    "data = pd.read_csv('news_summary_more.csv', encoding='iso-8859-1')"
   ]
  },
  {
   "cell_type": "code",
   "execution_count": 3,
   "id": "small-longer",
   "metadata": {
    "scrolled": true
   },
   "outputs": [
    {
     "data": {
      "text/html": [
       "<div>\n",
       "<style scoped>\n",
       "    .dataframe tbody tr th:only-of-type {\n",
       "        vertical-align: middle;\n",
       "    }\n",
       "\n",
       "    .dataframe tbody tr th {\n",
       "        vertical-align: top;\n",
       "    }\n",
       "\n",
       "    .dataframe thead th {\n",
       "        text-align: right;\n",
       "    }\n",
       "</style>\n",
       "<table border=\"1\" class=\"dataframe\">\n",
       "  <thead>\n",
       "    <tr style=\"text-align: right;\">\n",
       "      <th></th>\n",
       "      <th>headlines</th>\n",
       "      <th>text</th>\n",
       "    </tr>\n",
       "  </thead>\n",
       "  <tbody>\n",
       "    <tr>\n",
       "      <th>0</th>\n",
       "      <td>upGrad learner switches to career in ML &amp; Al w...</td>\n",
       "      <td>Saurav Kant, an alumnus of upGrad and IIIT-B's...</td>\n",
       "    </tr>\n",
       "    <tr>\n",
       "      <th>1</th>\n",
       "      <td>Delhi techie wins free food from Swiggy for on...</td>\n",
       "      <td>Kunal Shah's credit card bill payment platform...</td>\n",
       "    </tr>\n",
       "    <tr>\n",
       "      <th>2</th>\n",
       "      <td>New Zealand end Rohit Sharma-led India's 12-ma...</td>\n",
       "      <td>New Zealand defeated India by 8 wickets in the...</td>\n",
       "    </tr>\n",
       "    <tr>\n",
       "      <th>3</th>\n",
       "      <td>Aegon life iTerm insurance plan helps customer...</td>\n",
       "      <td>With Aegon Life iTerm Insurance plan, customer...</td>\n",
       "    </tr>\n",
       "    <tr>\n",
       "      <th>4</th>\n",
       "      <td>Have known Hirani for yrs, what if MeToo claim...</td>\n",
       "      <td>Speaking about the sexual harassment allegatio...</td>\n",
       "    </tr>\n",
       "  </tbody>\n",
       "</table>\n",
       "</div>"
      ],
      "text/plain": [
       "                                           headlines  \\\n",
       "0  upGrad learner switches to career in ML & Al w...   \n",
       "1  Delhi techie wins free food from Swiggy for on...   \n",
       "2  New Zealand end Rohit Sharma-led India's 12-ma...   \n",
       "3  Aegon life iTerm insurance plan helps customer...   \n",
       "4  Have known Hirani for yrs, what if MeToo claim...   \n",
       "\n",
       "                                                text  \n",
       "0  Saurav Kant, an alumnus of upGrad and IIIT-B's...  \n",
       "1  Kunal Shah's credit card bill payment platform...  \n",
       "2  New Zealand defeated India by 8 wickets in the...  \n",
       "3  With Aegon Life iTerm Insurance plan, customer...  \n",
       "4  Speaking about the sexual harassment allegatio...  "
      ]
     },
     "execution_count": 3,
     "metadata": {},
     "output_type": "execute_result"
    }
   ],
   "source": [
    "\n",
    "data.head()"
   ]
  },
  {
   "cell_type": "markdown",
   "id": "occupied-patrol",
   "metadata": {},
   "source": [
    "모델이 text를 입력받아 context vector를 만들어내고, 출력단이 context vector를 통해 headlines와 가까운 문장을 만들어내는 것이 목표입니다."
   ]
  },
  {
   "cell_type": "code",
   "execution_count": 5,
   "id": "abandoned-burst",
   "metadata": {},
   "outputs": [
    {
     "data": {
      "text/html": [
       "<div>\n",
       "<style scoped>\n",
       "    .dataframe tbody tr th:only-of-type {\n",
       "        vertical-align: middle;\n",
       "    }\n",
       "\n",
       "    .dataframe tbody tr th {\n",
       "        vertical-align: top;\n",
       "    }\n",
       "\n",
       "    .dataframe thead th {\n",
       "        text-align: right;\n",
       "    }\n",
       "</style>\n",
       "<table border=\"1\" class=\"dataframe\">\n",
       "  <thead>\n",
       "    <tr style=\"text-align: right;\">\n",
       "      <th></th>\n",
       "      <th>text</th>\n",
       "      <th>headlines</th>\n",
       "    </tr>\n",
       "  </thead>\n",
       "  <tbody>\n",
       "    <tr>\n",
       "      <th>18227</th>\n",
       "      <td>Japan has acknowledged for the first time that...</td>\n",
       "      <td>Japan admits 1st death from 2011 Fukushima nuc...</td>\n",
       "    </tr>\n",
       "    <tr>\n",
       "      <th>42956</th>\n",
       "      <td>Facebook is reportedly under investigation by ...</td>\n",
       "      <td>US investigating Facebook for use of personal ...</td>\n",
       "    </tr>\n",
       "    <tr>\n",
       "      <th>7815</th>\n",
       "      <td>Foodtech startup Zomato has announced that it ...</td>\n",
       "      <td>Zomato to expand to 30 more Indian cities</td>\n",
       "    </tr>\n",
       "    <tr>\n",
       "      <th>93349</th>\n",
       "      <td>Claiming that Infosys was fighting the \"wrong ...</td>\n",
       "      <td>Infosys is fighting the wrong battle, says adv...</td>\n",
       "    </tr>\n",
       "    <tr>\n",
       "      <th>30953</th>\n",
       "      <td>After the BJP emerged as the single largest pa...</td>\n",
       "      <td>BJP not confined to Hindi-speaking states: PM ...</td>\n",
       "    </tr>\n",
       "    <tr>\n",
       "      <th>63017</th>\n",
       "      <td>The Archaeological Survey of India (ASI) has a...</td>\n",
       "      <td>Mahabharata's House of Lac to be excavated</td>\n",
       "    </tr>\n",
       "    <tr>\n",
       "      <th>51244</th>\n",
       "      <td>Researchers at a German research laboratory ha...</td>\n",
       "      <td>Electronic 'skin' which lets users control obj...</td>\n",
       "    </tr>\n",
       "    <tr>\n",
       "      <th>28582</th>\n",
       "      <td>Two Indian-American owners of a bulk mailing c...</td>\n",
       "      <td>2 Indian-Americans accused of Ã¢ÂÂ¹110 cr pos...</td>\n",
       "    </tr>\n",
       "    <tr>\n",
       "      <th>42877</th>\n",
       "      <td>A second sexual harassment case has been filed...</td>\n",
       "      <td>Mahesh Murthy faces second sexual harassment case</td>\n",
       "    </tr>\n",
       "    <tr>\n",
       "      <th>52159</th>\n",
       "      <td>The makers of 'Padmaavat' have issued full-pag...</td>\n",
       "      <td>7 disclaimers listed in full-page newspaper ad...</td>\n",
       "    </tr>\n",
       "  </tbody>\n",
       "</table>\n",
       "</div>"
      ],
      "text/plain": [
       "                                                    text  \\\n",
       "18227  Japan has acknowledged for the first time that...   \n",
       "42956  Facebook is reportedly under investigation by ...   \n",
       "7815   Foodtech startup Zomato has announced that it ...   \n",
       "93349  Claiming that Infosys was fighting the \"wrong ...   \n",
       "30953  After the BJP emerged as the single largest pa...   \n",
       "63017  The Archaeological Survey of India (ASI) has a...   \n",
       "51244  Researchers at a German research laboratory ha...   \n",
       "28582  Two Indian-American owners of a bulk mailing c...   \n",
       "42877  A second sexual harassment case has been filed...   \n",
       "52159  The makers of 'Padmaavat' have issued full-pag...   \n",
       "\n",
       "                                               headlines  \n",
       "18227  Japan admits 1st death from 2011 Fukushima nuc...  \n",
       "42956  US investigating Facebook for use of personal ...  \n",
       "7815           Zomato to expand to 30 more Indian cities  \n",
       "93349  Infosys is fighting the wrong battle, says adv...  \n",
       "30953  BJP not confined to Hindi-speaking states: PM ...  \n",
       "63017         Mahabharata's House of Lac to be excavated  \n",
       "51244  Electronic 'skin' which lets users control obj...  \n",
       "28582  2 Indian-Americans accused of Ã¢ÂÂ¹110 cr pos...  \n",
       "42877  Mahesh Murthy faces second sexual harassment case  \n",
       "52159  7 disclaimers listed in full-page newspaper ad...  "
      ]
     },
     "execution_count": 5,
     "metadata": {},
     "output_type": "execute_result"
    }
   ],
   "source": [
    "data = data[['text', 'headlines']]\n",
    "data.sample(10)"
   ]
  },
  {
   "cell_type": "code",
   "execution_count": 6,
   "id": "legal-dollar",
   "metadata": {},
   "outputs": [
    {
     "name": "stdout",
     "output_type": "stream",
     "text": [
      "전체 샘플 수: 98401\n"
     ]
    }
   ],
   "source": [
    "print('전체 샘플 수:', len(data))"
   ]
  },
  {
   "cell_type": "markdown",
   "id": "unauthorized-youth",
   "metadata": {},
   "source": [
    "### 2.1 중복 샘플과 NULL 값이 존재하는 샘플 제거\n"
   ]
  },
  {
   "cell_type": "code",
   "execution_count": 7,
   "id": "empirical-activity",
   "metadata": {},
   "outputs": [
    {
     "name": "stdout",
     "output_type": "stream",
     "text": [
      "headlines 열에서 중복을 배제한 유일한 샘플의 수 : 98280\n",
      "text 열에서 중복을 배제한 유일한 샘플의 수 : 98360\n"
     ]
    }
   ],
   "source": [
    "print('headlines 열에서 중복을 배제한 유일한 샘플의 수 :', data['headlines'].nunique())\n",
    "print('text 열에서 중복을 배제한 유일한 샘플의 수 :', data['text'].nunique())"
   ]
  },
  {
   "cell_type": "code",
   "execution_count": 8,
   "id": "wooden-synthesis",
   "metadata": {},
   "outputs": [
    {
     "name": "stdout",
     "output_type": "stream",
     "text": [
      "전체 샘플수 : 98360\n"
     ]
    }
   ],
   "source": [
    "# text 중복 샘플 제거\n",
    "# inplace=True 를 설정하면 DataFrame 타입 값을 return 하지 않고 data 내부를 직접적으로 바꿉니다\n",
    "data.drop_duplicates(subset = ['text'], inplace=True)\n",
    "print('전체 샘플수 :', (len(data)))"
   ]
  },
  {
   "cell_type": "code",
   "execution_count": 9,
   "id": "isolated-expansion",
   "metadata": {},
   "outputs": [
    {
     "name": "stdout",
     "output_type": "stream",
     "text": [
      "text         0\n",
      "headlines    0\n",
      "dtype: int64\n"
     ]
    }
   ],
   "source": [
    "# Null Check\n",
    "print(data.isnull().sum())"
   ]
  },
  {
   "cell_type": "code",
   "execution_count": 10,
   "id": "posted-circle",
   "metadata": {},
   "outputs": [
    {
     "name": "stdout",
     "output_type": "stream",
     "text": [
      "전체 샘플수 : 98360\n"
     ]
    }
   ],
   "source": [
    "# 결측치를 제거합니다.\n",
    "data.dropna(axis=0, inplace=True)\n",
    "print('전체 샘플수 :', (len(data)))"
   ]
  },
  {
   "cell_type": "markdown",
   "id": "searching-ministry",
   "metadata": {},
   "source": [
    "## 2. Preprocessing data \n",
    "\n",
    "\n",
    "자연어 데이터의 문제를 완화하는 전처리를 시도합니다. \"you're\"과 \"you are \"은 같은 말이고, \"너는\"과 \"넌\" 역시 같은 말입니다. 또한, '.........'과 '...............' 을 서로 다른 단어으로 생각할 것인지, '.'라는 단어가 여러 개 나열 된 것은 동일하지만 그 개수에서 차이를 보인다고 생각할 것인지에 대해 명확한 규정이 존재하지 않으므로, 어떤 판단기준으로 단어를 선정할 것인지는 엔지니어에 달려 있습니다. 모델이 학습할 때 혼란을 덜어줄 것 같은 전처리를 직관적이지만, 가장 효율적인지 알 수 없는(hueristic) 방법으로 진행하겠습니다.\n",
    "\n",
    "### 2.2 정규화 사전"
   ]
  },
  {
   "cell_type": "code",
   "execution_count": 11,
   "id": "modified-quarterly",
   "metadata": {},
   "outputs": [
    {
     "name": "stdout",
     "output_type": "stream",
     "text": [
      "정규화 사전의 수:  120\n"
     ]
    }
   ],
   "source": [
    "# 정규화 사전 - 축약어를 분해할 때 사용합니다\n",
    "contractions = {\"ain't\": \"is not\", \"aren't\": \"are not\",\"can't\": \"cannot\", \"'cause\": \"because\", \"could've\": \"could have\", \"couldn't\": \"could not\",\n",
    "                           \"didn't\": \"did not\",  \"doesn't\": \"does not\", \"don't\": \"do not\", \"hadn't\": \"had not\", \"hasn't\": \"has not\", \"haven't\": \"have not\",\n",
    "                           \"he'd\": \"he would\",\"he'll\": \"he will\", \"he's\": \"he is\", \"how'd\": \"how did\", \"how'd'y\": \"how do you\", \"how'll\": \"how will\", \"how's\": \"how is\",\n",
    "                           \"I'd\": \"I would\", \"I'd've\": \"I would have\", \"I'll\": \"I will\", \"I'll've\": \"I will have\",\"I'm\": \"I am\", \"I've\": \"I have\", \"i'd\": \"i would\",\n",
    "                           \"i'd've\": \"i would have\", \"i'll\": \"i will\",  \"i'll've\": \"i will have\",\"i'm\": \"i am\", \"i've\": \"i have\", \"isn't\": \"is not\", \"it'd\": \"it would\",\n",
    "                           \"it'd've\": \"it would have\", \"it'll\": \"it will\", \"it'll've\": \"it will have\",\"it's\": \"it is\", \"let's\": \"let us\", \"ma'am\": \"madam\",\n",
    "                           \"mayn't\": \"may not\", \"might've\": \"might have\",\"mightn't\": \"might not\",\"mightn't've\": \"might not have\", \"must've\": \"must have\",\n",
    "                           \"mustn't\": \"must not\", \"mustn't've\": \"must not have\", \"needn't\": \"need not\", \"needn't've\": \"need not have\",\"o'clock\": \"of the clock\",\n",
    "                           \"oughtn't\": \"ought not\", \"oughtn't've\": \"ought not have\", \"shan't\": \"shall not\", \"sha'n't\": \"shall not\", \"shan't've\": \"shall not have\",\n",
    "                           \"she'd\": \"she would\", \"she'd've\": \"she would have\", \"she'll\": \"she will\", \"she'll've\": \"she will have\", \"she's\": \"she is\",\n",
    "                           \"should've\": \"should have\", \"shouldn't\": \"should not\", \"shouldn't've\": \"should not have\", \"so've\": \"so have\",\"so's\": \"so as\",\n",
    "                           \"this's\": \"this is\",\"that'd\": \"that would\", \"that'd've\": \"that would have\", \"that's\": \"that is\", \"there'd\": \"there would\",\n",
    "                           \"there'd've\": \"there would have\", \"there's\": \"there is\", \"here's\": \"here is\",\"they'd\": \"they would\", \"they'd've\": \"they would have\",\n",
    "                           \"they'll\": \"they will\", \"they'll've\": \"they will have\", \"they're\": \"they are\", \"they've\": \"they have\", \"to've\": \"to have\",\n",
    "                           \"wasn't\": \"was not\", \"we'd\": \"we would\", \"we'd've\": \"we would have\", \"we'll\": \"we will\", \"we'll've\": \"we will have\", \"we're\": \"we are\",\n",
    "                           \"we've\": \"we have\", \"weren't\": \"were not\", \"what'll\": \"what will\", \"what'll've\": \"what will have\", \"what're\": \"what are\",\n",
    "                           \"what's\": \"what is\", \"what've\": \"what have\", \"when's\": \"when is\", \"when've\": \"when have\", \"where'd\": \"where did\", \"where's\": \"where is\",\n",
    "                           \"where've\": \"where have\", \"who'll\": \"who will\", \"who'll've\": \"who will have\", \"who's\": \"who is\", \"who've\": \"who have\",\n",
    "                           \"why's\": \"why is\", \"why've\": \"why have\", \"will've\": \"will have\", \"won't\": \"will not\", \"won't've\": \"will not have\",\n",
    "                           \"would've\": \"would have\", \"wouldn't\": \"would not\", \"wouldn't've\": \"would not have\", \"y'all\": \"you all\",\n",
    "                           \"y'all'd\": \"you all would\",\"y'all'd've\": \"you all would have\",\"y'all're\": \"you all are\",\"y'all've\": \"you all have\",\n",
    "                           \"you'd\": \"you would\", \"you'd've\": \"you would have\", \"you'll\": \"you will\", \"you'll've\": \"you will have\",\n",
    "                           \"you're\": \"you are\", \"you've\": \"you have\"}\n",
    "\n",
    "print(\"정규화 사전의 수: \", len(contractions))"
   ]
  },
  {
   "cell_type": "markdown",
   "id": "insured-narrative",
   "metadata": {},
   "source": [
    "### 2.3 불용어 사전"
   ]
  },
  {
   "cell_type": "code",
   "execution_count": 12,
   "id": "impressed-happening",
   "metadata": {},
   "outputs": [
    {
     "name": "stdout",
     "output_type": "stream",
     "text": [
      "불용어 개수 : 179\n",
      "['i', 'me', 'my', 'myself', 'we', 'our', 'ours', 'ourselves', 'you', \"you're\", \"you've\", \"you'll\", \"you'd\", 'your', 'yours', 'yourself', 'yourselves', 'he', 'him', 'his', 'himself', 'she', \"she's\", 'her', 'hers', 'herself', 'it', \"it's\", 'its', 'itself', 'they', 'them', 'their', 'theirs', 'themselves', 'what', 'which', 'who', 'whom', 'this', 'that', \"that'll\", 'these', 'those', 'am', 'is', 'are', 'was', 'were', 'be', 'been', 'being', 'have', 'has', 'had', 'having', 'do', 'does', 'did', 'doing', 'a', 'an', 'the', 'and', 'but', 'if', 'or', 'because', 'as', 'until', 'while', 'of', 'at', 'by', 'for', 'with', 'about', 'against', 'between', 'into', 'through', 'during', 'before', 'after', 'above', 'below', 'to', 'from', 'up', 'down', 'in', 'out', 'on', 'off', 'over', 'under', 'again', 'further', 'then', 'once', 'here', 'there', 'when', 'where', 'why', 'how', 'all', 'any', 'both', 'each', 'few', 'more', 'most', 'other', 'some', 'such', 'no', 'nor', 'not', 'only', 'own', 'same', 'so', 'than', 'too', 'very', 's', 't', 'can', 'will', 'just', 'don', \"don't\", 'should', \"should've\", 'now', 'd', 'll', 'm', 'o', 're', 've', 'y', 'ain', 'aren', \"aren't\", 'couldn', \"couldn't\", 'didn', \"didn't\", 'doesn', \"doesn't\", 'hadn', \"hadn't\", 'hasn', \"hasn't\", 'haven', \"haven't\", 'isn', \"isn't\", 'ma', 'mightn', \"mightn't\", 'mustn', \"mustn't\", 'needn', \"needn't\", 'shan', \"shan't\", 'shouldn', \"shouldn't\", 'wasn', \"wasn't\", 'weren', \"weren't\", 'won', \"won't\", 'wouldn', \"wouldn't\"]\n"
     ]
    }
   ],
   "source": [
    "# 불용어 사전 - 문맥과 무관하게 자주 나와 context vector에 담겨있는 정보를 희석할 \n",
    "#               염려가 있는 단어는 사용하지 않도록 합니다.\n",
    " \n",
    "print('불용어 개수 :', len(stopwords.words('english') ))\n",
    "print(stopwords.words('english'))"
   ]
  },
  {
   "cell_type": "markdown",
   "id": "according-former",
   "metadata": {},
   "source": [
    "불용어 사전에서 의문이 드는 점은, 부정어(no, not, nor, but)등도 포함되어 있다는 점인데, 이들은 사용하도록 하겠습니다. 또한, 뉴스에서 의미를 파악하는데 중요할 것 같은 단어도 사용하도록 하겠습니다"
   ]
  },
  {
   "cell_type": "code",
   "execution_count": 13,
   "id": "supported-equation",
   "metadata": {},
   "outputs": [],
   "source": [
    "# 불용어 제거는 text 전처리 시에만 호출, headlines는 상대적으로 문장 길이가 짧음\n",
    "# Abstractive한 문장 요약 결과문이 자연스러운 문장이 되려면 이 불용어들이 Headlines에 남아 있는 게 더 좋을 것 같습니다.\n",
    "# 데이터 전처리 함수\n",
    "def preprocess_sentence(sentence, remove_stopwords=True):\n",
    "    sentence = sentence.lower() # 텍스트 소문자화\n",
    "    sentence = BeautifulSoup(sentence, \"lxml\").text # <br />, <a href = ...> 등의 html 태그 제거\n",
    "    sentence = re.sub(r'\\([^)]*\\)', '', sentence) # 괄호로 닫힌 문자열 (...) 제거 Ex) my husband (and myself!) for => my husband for\n",
    "    sentence = re.sub('\"','', sentence) # 쌍따옴표 \" 제거\n",
    "    sentence = ' '.join([contractions[t] if t in contractions else t for t in sentence.split(\" \")]) # 약어 정규화\n",
    "    sentence = re.sub(r\"'s\\b\",\"\", sentence) # 소유격 제거. Ex) roland's -> roland\n",
    "    sentence = re.sub(\"[^a-zA-Z]\", \" \", sentence) # 영어 외 문자(숫자, 특수문자 등) 공백으로 변환\n",
    "    sentence = re.sub('[m]{2,}', 'mm', sentence) # m이 3개 이상이면 2개로 변경. Ex) ummmmmmm yeah -> umm yeah\n",
    "    \n",
    "    # 불용어 제거 (Text)\n",
    "    if remove_stopwords:\n",
    "        tokens = ' '.join(word for word in sentence.split() if not word in stopwords.words('english') if len(word) > 1)\n",
    "    # 불용어 미제거 (headlines)\n",
    "    else:\n",
    "        tokens = ' '.join(word for word in sentence.split() if len(word) > 1)\n",
    "    return tokens"
   ]
  },
  {
   "cell_type": "code",
   "execution_count": 14,
   "id": "alpine-arcade",
   "metadata": {},
   "outputs": [
    {
     "data": {
      "text/plain": [
       "'helloooooo name good'"
      ]
     },
     "execution_count": 14,
     "metadata": {},
     "output_type": "execute_result"
    }
   ],
   "source": [
    "preprocess_sentence(\"Helloooooo, ....!........what's your name??????????????  not so good?\")"
   ]
  },
  {
   "cell_type": "code",
   "execution_count": 15,
   "id": "superb-lottery",
   "metadata": {},
   "outputs": [
    {
     "name": "stdout",
     "output_type": "stream",
     "text": [
      "everything bought great infact ordered twice third ordered wasfor mother father\n",
      "great way to start the day\n"
     ]
    }
   ],
   "source": [
    "temp_text = 'Everything I bought was great, infact I ordered twice and the third ordered was<br />for my mother and father.'\n",
    "temp_headlines = 'Great way to start (or finish) the day!!!'\n",
    "\n",
    "print(preprocess_sentence(temp_text))\n",
    "print(preprocess_sentence(temp_headlines, False))  # 불용어를 제거하지 않습니다.\n"
   ]
  },
  {
   "cell_type": "markdown",
   "id": "private-comfort",
   "metadata": {},
   "source": [
    "### 2.5 멀티프로세싱\n",
    "\n",
    "multiprocessing을 이용하여 전체 문장을 전처리합니다"
   ]
  },
  {
   "cell_type": "code",
   "execution_count": 16,
   "id": "valuable-lingerie",
   "metadata": {},
   "outputs": [
    {
     "name": "stdout",
     "output_type": "stream",
     "text": [
      "text : 434.80865693092346 seconds\n",
      "headlines : 14.514250040054321 seconds\n"
     ]
    }
   ],
   "source": [
    "import multiprocessing as mp   # 멀티 프로세싱으로 전처리 속도를 획기적으로 줄여봅시다\n",
    "from multiprocessing import Pool\n",
    "import numpy as np\n",
    "import time\n",
    "from functools import partial  # map을 할 때 함수에 여러 인자를 넣어줄 수 있도록 합니다\n",
    "\n",
    "start = time.time()\n",
    "\n",
    "# num_cores 만큼 쪼개진 데이터를 전처리하여 반환합니다\n",
    "def appendTexts(sentences, remove_stopwords):\n",
    "    texts = []\n",
    "    for s in sentences:\n",
    "        texts += preprocess_sentence(s, remove_stopwords),\n",
    "    return texts\n",
    "\n",
    "def preprocess_data(df, col, remove_stopwords=True):\n",
    "    start_time = time.time()\n",
    "    num_cores = mp.cpu_count()  # 컴퓨터의 코어 수를 구합니다\n",
    "\n",
    "    text_data_split = np.array_split(data[col], num_cores)  # 코어 수만큼 데이터를 배분하여 병렬적으로 처리할 수 있게 합니다\n",
    "    pool = Pool(num_cores)\n",
    "\n",
    "    processed_data = np.concatenate(pool.map(partial(appendTexts, remove_stopwords=remove_stopwords), text_data_split))  # 각자 작업한 데이터를 하나로 합쳐줍니다\n",
    "    pool.close()\n",
    "    pool.join()\n",
    "    print(\"{} : {} seconds\".format(col, time.time() - start_time))\n",
    "    return processed_data\n",
    "\n",
    "clean_text = preprocess_data(data,'text')  # 클라우드 기준으로 3~4분 정도 소요 됩니다\n",
    "\n",
    "clean_headlines = preprocess_data(data, 'headlines', remove_stopwords=False) # 클라우드 기준 1분정도 소요됩니다."
   ]
  },
  {
   "cell_type": "code",
   "execution_count": 17,
   "id": "clean-drilling",
   "metadata": {},
   "outputs": [],
   "source": [
    "#text : 735.3365228176117 seconds\n",
    "#headlines : 149.51734685897827 seconds\n",
    "#clean_text = process_data(data, 'text')\n",
    "#clean_headlines = process_data(data, 'headlines')"
   ]
  },
  {
   "cell_type": "code",
   "execution_count": 24,
   "id": "earlier-symposium",
   "metadata": {},
   "outputs": [
    {
     "name": "stdout",
     "output_type": "stream",
     "text": [
      "['upgrad learner switches to career in ml al with salary hike'\n",
      " 'delhi techie wins free food from swiggy for one year on cred'\n",
      " 'new zealand end rohit sharma led india match winning streak' ...\n",
      " 'the matrix film to get reboot reports'\n",
      " 'snoop dogg aims gun at clown dressed as trump in new video'\n",
      " 'madhesi morcha withdraws support to nepalese government']\n"
     ]
    }
   ],
   "source": [
    "print(clean_headlines)"
   ]
  },
  {
   "cell_type": "markdown",
   "id": "referenced-wagner",
   "metadata": {},
   "source": [
    "텍스트 정제의 과정을 거친 후에는 다시 한번 빈(empty) 샘플이 생겼는지 확인해보는 것이 좋아요. 정제 전에는 데이터가 존재했지만, 정제 과정에서 문장의 모든 단어가 사라지는 경우가 있을 수 있어요. 이렇게 되 면 샘플 자체가 빈 값을 가지게 되겠죠."
   ]
  },
  {
   "cell_type": "code",
   "execution_count": 25,
   "id": "synthetic-assistant",
   "metadata": {},
   "outputs": [],
   "source": [
    "#DataFrame으로 저장합니다\n",
    "data['Text'] = clean_text\n",
    "data['headlines'] = clean_headlines\n",
    "\n",
    "# 빈 값을 Null 값으로 변환\n",
    "data.replace('', np.nan, inplace=True)"
   ]
  },
  {
   "cell_type": "code",
   "execution_count": 26,
   "id": "pretty-owner",
   "metadata": {},
   "outputs": [
    {
     "data": {
      "text/plain": [
       "text         0\n",
       "headlines    0\n",
       "Text         0\n",
       "dtype: int64"
      ]
     },
     "execution_count": 26,
     "metadata": {},
     "output_type": "execute_result"
    }
   ],
   "source": [
    "# 결측치 확인 74개의 빈 summary 확인되었습니다\n",
    "data.isnull().sum()"
   ]
  },
  {
   "cell_type": "code",
   "execution_count": 27,
   "id": "industrial-computer",
   "metadata": {},
   "outputs": [
    {
     "name": "stdout",
     "output_type": "stream",
     "text": [
      "전체 샘플수 : 98360\n"
     ]
    }
   ],
   "source": [
    "# 결측치 제거\n",
    "data.dropna(axis=0, inplace=True)\n",
    "print('전체 샘플수 :', (len(data)))"
   ]
  },
  {
   "cell_type": "markdown",
   "id": "addressed-battlefield",
   "metadata": {},
   "source": [
    "### 2.6 샘플의 최대 길이 정하기\n",
    "\n",
    "필요 없는 단어를 모두 솎아낸 데이터를 가지게 되었으니, 이제 훈련에 사용할 샘플의 최대 길이를 정해줄 차례에요."
   ]
  },
  {
   "cell_type": "code",
   "execution_count": 30,
   "id": "middle-denver",
   "metadata": {},
   "outputs": [
    {
     "name": "stdout",
     "output_type": "stream",
     "text": [
      "텍스트의 최소 길이 : 1\n",
      "텍스트의 최대 길이 : 91\n",
      "텍스트의 평균 길이 : 58.23813542090281\n",
      "헤드라인의 최소 길이 : 1\n",
      "헤드라인의 최대 길이 : 16\n",
      "헤드라인의 평균 길이 : 9.299532330215534\n"
     ]
    },
    {
     "data": {
      "image/png": "[encoded data removed]",
      "text/plain": [
       "<Figure size 432x288 with 2 Axes>"
      ]
     },
     "metadata": {
      "needs_background": "light"
     },
     "output_type": "display_data"
    },
    {
     "data": {
      "image/png": "[encoded data removed]",
      "text/plain": [
       "<Figure size 432x288 with 1 Axes>"
      ]
     },
     "metadata": {
      "needs_background": "light"
     },
     "output_type": "display_data"
    },
    {
     "data": {
      "image/png": "[encoded data removed]",
      "text/plain": [
       "<Figure size 432x288 with 1 Axes>"
      ]
     },
     "metadata": {
      "needs_background": "light"
     },
     "output_type": "display_data"
    }
   ],
   "source": [
    "# 길이 분포 출력\n",
    "import matplotlib.pyplot as plt\n",
    "\n",
    "text_len = [len(s.split()) for s in data['text']]\n",
    "headline_len = [len(s.split()) for s in data['headlines']]\n",
    "\n",
    "print('텍스트의 최소 길이 : {}'.format(np.min(text_len)))\n",
    "print('텍스트의 최대 길이 : {}'.format(np.max(text_len)))\n",
    "print('텍스트의 평균 길이 : {}'.format(np.mean(text_len)))\n",
    "print('헤드라인의 최소 길이 : {}'.format(np.min(headline_len)))\n",
    "print('헤드라인의 최대 길이 : {}'.format(np.max(headline_len)))\n",
    "print('헤드라인의 평균 길이 : {}'.format(np.mean(headline_len)))\n",
    "\n",
    "plt.subplot(1,2,1)\n",
    "plt.boxplot(headline_len)\n",
    "plt.title('Headline')\n",
    "plt.subplot(1,2,2)\n",
    "plt.boxplot(text_len)\n",
    "plt.title('Text')\n",
    "plt.tight_layout()\n",
    "plt.show()\n",
    "\n",
    "plt.title('headline')\n",
    "plt.hist(headline_len, bins = 40)\n",
    "plt.xlabel('length of samples')\n",
    "plt.ylabel('number of samples')\n",
    "plt.show()\n",
    "\n",
    "plt.title('Text')\n",
    "plt.hist(text_len, bins = 40)\n",
    "plt.xlabel('length of samples')\n",
    "plt.ylabel('number of samples')\n",
    "plt.show()"
   ]
  },
  {
   "cell_type": "markdown",
   "id": "defensive-headset",
   "metadata": {},
   "source": [
    "데이터의 분포가 넓게 퍼져있음을 알 수 있습니다. 이 프로젝트의 목표는 긍정/부정 분석이 아니고, 뉴스를 요약하는 것이며, 짧은 Text의 경우, padding을 pre로 주게 된다면, 해당 단어가 연이은 padding 뒤에 나와 그에 연관된 context vector가 희석 없이 decoder로 넘어가게 되어 오히려 너무 강한 영향력을 행사할 것 같습니다. 따라서 짧은 텍스트에서 얻을 수 있는 정보는 모두 긴 Text에서 충분히 얻을 수 있다고 가정하고 너무 짧거나 긴 Text를 갖는 데이터포인트를 제거하겠습니다\n",
    "\n",
    "headline은 6-15 사이에 많은 데이터들이 있고, text는 45-65사이에 대부분의 데이터가 있음을 확인할 수 있습니다!"
   ]
  },
  {
   "cell_type": "code",
   "execution_count": 61,
   "id": "suspected-mobile",
   "metadata": {},
   "outputs": [
    {
     "name": "stdout",
     "output_type": "stream",
     "text": [
      "전체 샘플 중 길이가 50 이상,60 이하인 샘플의 비율:1.0\n",
      "text\n",
      "--------------------------------------------------------------\n",
      "headline\n",
      "전체 샘플 중 길이가 5 이상,12 이하인 샘플의 비율:1.0\n",
      "text\n"
     ]
    }
   ],
   "source": [
    "# 최소, 최대 사이에 있는 샘플을 골라 냅니다.\n",
    "def below_threshold_len(min_len, max_len, nested_list):\n",
    "    cnt = 0\n",
    "    for s in nested_list:\n",
    "        if(len(s.split()) <= max_len) and (len(s.split()) >= min_len):\n",
    "            cnt = cnt + 1\n",
    "    print(f'전체 샘플 중 길이가 {min_len} 이상,{max_len} 이하인 샘플의 비율:{cnt / len(nested_list)}')\n",
    "    \n",
    "    \n",
    "    print('text')\n",
    "below_threshold_len(50, 60, data['text'])\n",
    "print('--------------------------------------------------------------')\n",
    "print('headline')\n",
    "below_threshold_len(5, 12,  data['headlines'])"
   ]
  },
  {
   "cell_type": "code",
   "execution_count": 56,
   "id": "invisible-headquarters",
   "metadata": {},
   "outputs": [],
   "source": [
    "text_max_len = 60; text_min_len = 50\n",
    "\n",
    "headline_max_len = 11; headline_min_len = 6"
   ]
  },
  {
   "cell_type": "code",
   "execution_count": 57,
   "id": "progressive-auckland",
   "metadata": {},
   "outputs": [
    {
     "name": "stdout",
     "output_type": "stream",
     "text": [
      "전체 샘플수 : 91997\n"
     ]
    }
   ],
   "source": [
    "data = data[data['text'].apply(lambda x: len(x.split()) <= text_max_len \\\n",
    "            and len(x.split()) >= text_min_len)]\n",
    "\n",
    "\n",
    "data = data[data['headlines'].apply(lambda x: len(x.split()) <= headline_max_len and len(x.split()) >= headline_min_len)]\n",
    "\n",
    "\n",
    "print('전체 샘플수 :', (len(data)))"
   ]
  },
  {
   "cell_type": "code",
   "execution_count": 58,
   "id": "grand-belief",
   "metadata": {},
   "outputs": [
    {
     "data": {
      "text/html": [
       "<div>\n",
       "<style scoped>\n",
       "    .dataframe tbody tr th:only-of-type {\n",
       "        vertical-align: middle;\n",
       "    }\n",
       "\n",
       "    .dataframe tbody tr th {\n",
       "        vertical-align: top;\n",
       "    }\n",
       "\n",
       "    .dataframe thead th {\n",
       "        text-align: right;\n",
       "    }\n",
       "</style>\n",
       "<table border=\"1\" class=\"dataframe\">\n",
       "  <thead>\n",
       "    <tr style=\"text-align: right;\">\n",
       "      <th></th>\n",
       "      <th>text</th>\n",
       "      <th>headlines</th>\n",
       "      <th>Text</th>\n",
       "    </tr>\n",
       "  </thead>\n",
       "  <tbody>\n",
       "    <tr>\n",
       "      <th>0</th>\n",
       "      <td>Saurav Kant, an alumnus of upGrad and IIIT-B's...</td>\n",
       "      <td>upgrad learner switches to career in ml al wit...</td>\n",
       "      <td>saurav kant alumnus upgrad iiit pg program mac...</td>\n",
       "    </tr>\n",
       "    <tr>\n",
       "      <th>2</th>\n",
       "      <td>New Zealand defeated India by 8 wickets in the...</td>\n",
       "      <td>new zealand end rohit sharma led india match w...</td>\n",
       "      <td>new zealand defeated india wickets fourth odi ...</td>\n",
       "    </tr>\n",
       "    <tr>\n",
       "      <th>3</th>\n",
       "      <td>With Aegon Life iTerm Insurance plan, customer...</td>\n",
       "      <td>aegon life iterm insurance plan helps customer...</td>\n",
       "      <td>aegon life iterm insurance plan customers enjo...</td>\n",
       "    </tr>\n",
       "    <tr>\n",
       "      <th>5</th>\n",
       "      <td>Pakistani singer Rahat Fateh Ali Khan has deni...</td>\n",
       "      <td>rahat fateh ali khan denies getting notice for...</td>\n",
       "      <td>pakistani singer rahat fateh ali khan denied r...</td>\n",
       "    </tr>\n",
       "    <tr>\n",
       "      <th>7</th>\n",
       "      <td>Weeks after ex-CBI Director Alok Verma told th...</td>\n",
       "      <td>govt directs alok verma to join work day befor...</td>\n",
       "      <td>weeks ex cbi director alok verma told departme...</td>\n",
       "    </tr>\n",
       "    <tr>\n",
       "      <th>...</th>\n",
       "      <td>...</td>\n",
       "      <td>...</td>\n",
       "      <td>...</td>\n",
       "    </tr>\n",
       "    <tr>\n",
       "      <th>98395</th>\n",
       "      <td>Pakistan has started building a nearly 2,400-k...</td>\n",
       "      <td>pakistan starts building fence along afghanist...</td>\n",
       "      <td>pakistan started building nearly kilometer fen...</td>\n",
       "    </tr>\n",
       "    <tr>\n",
       "      <th>98396</th>\n",
       "      <td>A CRPF jawan was on Tuesday axed to death with...</td>\n",
       "      <td>crpf jawan axed to death by maoists in chhatti...</td>\n",
       "      <td>crpf jawan tuesday axed death sharp edged weap...</td>\n",
       "    </tr>\n",
       "    <tr>\n",
       "      <th>98397</th>\n",
       "      <td>'Uff Yeh', the first song from the Sonakshi Si...</td>\n",
       "      <td>first song from sonakshi sinha noor titled uff...</td>\n",
       "      <td>uff yeh first song sonakshi sinha starrer upco...</td>\n",
       "    </tr>\n",
       "    <tr>\n",
       "      <th>98398</th>\n",
       "      <td>According to reports, a new version of the 199...</td>\n",
       "      <td>the matrix film to get reboot reports</td>\n",
       "      <td>according reports new version science fiction ...</td>\n",
       "    </tr>\n",
       "    <tr>\n",
       "      <th>98400</th>\n",
       "      <td>Madhesi Morcha, an alliance of seven political...</td>\n",
       "      <td>madhesi morcha withdraws support to nepalese g...</td>\n",
       "      <td>madhesi morcha alliance seven political partie...</td>\n",
       "    </tr>\n",
       "  </tbody>\n",
       "</table>\n",
       "<p>91997 rows × 3 columns</p>\n",
       "</div>"
      ],
      "text/plain": [
       "                                                    text  \\\n",
       "0      Saurav Kant, an alumnus of upGrad and IIIT-B's...   \n",
       "2      New Zealand defeated India by 8 wickets in the...   \n",
       "3      With Aegon Life iTerm Insurance plan, customer...   \n",
       "5      Pakistani singer Rahat Fateh Ali Khan has deni...   \n",
       "7      Weeks after ex-CBI Director Alok Verma told th...   \n",
       "...                                                  ...   \n",
       "98395  Pakistan has started building a nearly 2,400-k...   \n",
       "98396  A CRPF jawan was on Tuesday axed to death with...   \n",
       "98397  'Uff Yeh', the first song from the Sonakshi Si...   \n",
       "98398  According to reports, a new version of the 199...   \n",
       "98400  Madhesi Morcha, an alliance of seven political...   \n",
       "\n",
       "                                               headlines  \\\n",
       "0      upgrad learner switches to career in ml al wit...   \n",
       "2      new zealand end rohit sharma led india match w...   \n",
       "3      aegon life iterm insurance plan helps customer...   \n",
       "5      rahat fateh ali khan denies getting notice for...   \n",
       "7      govt directs alok verma to join work day befor...   \n",
       "...                                                  ...   \n",
       "98395  pakistan starts building fence along afghanist...   \n",
       "98396  crpf jawan axed to death by maoists in chhatti...   \n",
       "98397  first song from sonakshi sinha noor titled uff...   \n",
       "98398              the matrix film to get reboot reports   \n",
       "98400  madhesi morcha withdraws support to nepalese g...   \n",
       "\n",
       "                                                    Text  \n",
       "0      saurav kant alumnus upgrad iiit pg program mac...  \n",
       "2      new zealand defeated india wickets fourth odi ...  \n",
       "3      aegon life iterm insurance plan customers enjo...  \n",
       "5      pakistani singer rahat fateh ali khan denied r...  \n",
       "7      weeks ex cbi director alok verma told departme...  \n",
       "...                                                  ...  \n",
       "98395  pakistan started building nearly kilometer fen...  \n",
       "98396  crpf jawan tuesday axed death sharp edged weap...  \n",
       "98397  uff yeh first song sonakshi sinha starrer upco...  \n",
       "98398  according reports new version science fiction ...  \n",
       "98400  madhesi morcha alliance seven political partie...  \n",
       "\n",
       "[91997 rows x 3 columns]"
      ]
     },
     "execution_count": 58,
     "metadata": {},
     "output_type": "execute_result"
    }
   ],
   "source": [
    "data"
   ]
  },
  {
   "attachments": {
    "image.png": {
     "image/png": "[encoded data removed]"
    }
   },
   "cell_type": "markdown",
   "id": "amended-taxation",
   "metadata": {},
   "source": [
    "### 2.7 시작 토큰과 종료 토큰 추가하기\n",
    "\n",
    "![image.png](attachment:image.png)\n",
    "\n",
    "\n",
    "Seq2Seq | decoder_input(입력) | decoder_target (출력, 레이블)\n",
    "    -----|-----|----- \n",
    "시작토큰 | sostoken +~ | \n",
    "종료토큰 |  | ~+ eostoken\n"
   ]
  },
  {
   "cell_type": "code",
   "execution_count": 63,
   "id": "understood-newman",
   "metadata": {},
   "outputs": [
    {
     "data": {
      "text/html": [
       "<div>\n",
       "<style scoped>\n",
       "    .dataframe tbody tr th:only-of-type {\n",
       "        vertical-align: middle;\n",
       "    }\n",
       "\n",
       "    .dataframe tbody tr th {\n",
       "        vertical-align: top;\n",
       "    }\n",
       "\n",
       "    .dataframe thead th {\n",
       "        text-align: right;\n",
       "    }\n",
       "</style>\n",
       "<table border=\"1\" class=\"dataframe\">\n",
       "  <thead>\n",
       "    <tr style=\"text-align: right;\">\n",
       "      <th></th>\n",
       "      <th>text</th>\n",
       "      <th>headlines</th>\n",
       "      <th>Text</th>\n",
       "      <th>decoder_input</th>\n",
       "      <th>decoder_target</th>\n",
       "    </tr>\n",
       "  </thead>\n",
       "  <tbody>\n",
       "    <tr>\n",
       "      <th>0</th>\n",
       "      <td>Saurav Kant, an alumnus of upGrad and IIIT-B's...</td>\n",
       "      <td>upgrad learner switches to career in ml al wit...</td>\n",
       "      <td>saurav kant alumnus upgrad iiit pg program mac...</td>\n",
       "      <td>sostoken upgrad learner switches to career in ...</td>\n",
       "      <td>upgrad learner switches to career in ml al wit...</td>\n",
       "    </tr>\n",
       "    <tr>\n",
       "      <th>2</th>\n",
       "      <td>New Zealand defeated India by 8 wickets in the...</td>\n",
       "      <td>new zealand end rohit sharma led india match w...</td>\n",
       "      <td>new zealand defeated india wickets fourth odi ...</td>\n",
       "      <td>sostoken new zealand end rohit sharma led indi...</td>\n",
       "      <td>new zealand end rohit sharma led india match w...</td>\n",
       "    </tr>\n",
       "    <tr>\n",
       "      <th>3</th>\n",
       "      <td>With Aegon Life iTerm Insurance plan, customer...</td>\n",
       "      <td>aegon life iterm insurance plan helps customer...</td>\n",
       "      <td>aegon life iterm insurance plan customers enjo...</td>\n",
       "      <td>sostoken aegon life iterm insurance plan helps...</td>\n",
       "      <td>aegon life iterm insurance plan helps customer...</td>\n",
       "    </tr>\n",
       "    <tr>\n",
       "      <th>5</th>\n",
       "      <td>Pakistani singer Rahat Fateh Ali Khan has deni...</td>\n",
       "      <td>rahat fateh ali khan denies getting notice for...</td>\n",
       "      <td>pakistani singer rahat fateh ali khan denied r...</td>\n",
       "      <td>sostoken rahat fateh ali khan denies getting n...</td>\n",
       "      <td>rahat fateh ali khan denies getting notice for...</td>\n",
       "    </tr>\n",
       "    <tr>\n",
       "      <th>7</th>\n",
       "      <td>Weeks after ex-CBI Director Alok Verma told th...</td>\n",
       "      <td>govt directs alok verma to join work day befor...</td>\n",
       "      <td>weeks ex cbi director alok verma told departme...</td>\n",
       "      <td>sostoken govt directs alok verma to join work ...</td>\n",
       "      <td>govt directs alok verma to join work day befor...</td>\n",
       "    </tr>\n",
       "  </tbody>\n",
       "</table>\n",
       "</div>"
      ],
      "text/plain": [
       "                                                text  \\\n",
       "0  Saurav Kant, an alumnus of upGrad and IIIT-B's...   \n",
       "2  New Zealand defeated India by 8 wickets in the...   \n",
       "3  With Aegon Life iTerm Insurance plan, customer...   \n",
       "5  Pakistani singer Rahat Fateh Ali Khan has deni...   \n",
       "7  Weeks after ex-CBI Director Alok Verma told th...   \n",
       "\n",
       "                                           headlines  \\\n",
       "0  upgrad learner switches to career in ml al wit...   \n",
       "2  new zealand end rohit sharma led india match w...   \n",
       "3  aegon life iterm insurance plan helps customer...   \n",
       "5  rahat fateh ali khan denies getting notice for...   \n",
       "7  govt directs alok verma to join work day befor...   \n",
       "\n",
       "                                                Text  \\\n",
       "0  saurav kant alumnus upgrad iiit pg program mac...   \n",
       "2  new zealand defeated india wickets fourth odi ...   \n",
       "3  aegon life iterm insurance plan customers enjo...   \n",
       "5  pakistani singer rahat fateh ali khan denied r...   \n",
       "7  weeks ex cbi director alok verma told departme...   \n",
       "\n",
       "                                       decoder_input  \\\n",
       "0  sostoken upgrad learner switches to career in ...   \n",
       "2  sostoken new zealand end rohit sharma led indi...   \n",
       "3  sostoken aegon life iterm insurance plan helps...   \n",
       "5  sostoken rahat fateh ali khan denies getting n...   \n",
       "7  sostoken govt directs alok verma to join work ...   \n",
       "\n",
       "                                      decoder_target  \n",
       "0  upgrad learner switches to career in ml al wit...  \n",
       "2  new zealand end rohit sharma led india match w...  \n",
       "3  aegon life iterm insurance plan helps customer...  \n",
       "5  rahat fateh ali khan denies getting notice for...  \n",
       "7  govt directs alok verma to join work day befor...  "
      ]
     },
     "execution_count": 63,
     "metadata": {},
     "output_type": "execute_result"
    }
   ],
   "source": [
    "# 헤드라인 데이터에는 시작 토큰과 종료 토큰을 추가한다.\n",
    "data['decoder_input'] = data['headlines'].apply(lambda x : 'sostoken '+ x) # 문장 앞에 sostoken을 추가해준다.\n",
    "data['decoder_target'] = data['headlines'].apply(lambda x : x + ' eostoken') # 문장 뒤에 eostoken을 추가해준다.\n",
    "data.head()"
   ]
  },
  {
   "cell_type": "code",
   "execution_count": 64,
   "id": "material-dimension",
   "metadata": {},
   "outputs": [],
   "source": [
    "# 인코더의 입력, 디코더의 입력과 레이블을 각각 다시 Numpy 타입으로 저장 (np.array)\n",
    "encoder_input = np.array(data['text']) # 인코더의 입력\n",
    "decoder_input = np.array(data['decoder_input']) # 디코더의 입력\n",
    "decoder_target = np.array(data['decoder_target']) # 디코더의 레이블"
   ]
  },
  {
   "cell_type": "markdown",
   "id": "adjustable-supplement",
   "metadata": {},
   "source": [
    "### 2.8 훈련 데이터와 테스트 데이터 분리 (# train test split)\n",
    "\n",
    "np.random.shuffle을 사용하여 섞인 데이터를 8:2 비율로 훈련 데이터와 테스트 데이터로 분리한다."
   ]
  },
  {
   "cell_type": "code",
   "execution_count": 74,
   "id": "cardiac-greek",
   "metadata": {},
   "outputs": [
    {
     "name": "stdout",
     "output_type": "stream",
     "text": [
      "Indices are : [59758   399 38966 ... 29663 34224 61546]\n",
      "\n",
      "테스트 데이터의 수 : 18399\n",
      "훈련 데이터의 개수 : 73598\n",
      "훈련 레이블의 개수 : 73598\n",
      "테스트 데이터의 개수 : 18399\n",
      "테스트 레이블의 개수 : 18399\n"
     ]
    }
   ],
   "source": [
    "# Indices 를 설정! (why?? : 순서(index)를 필요로 하기에!)\n",
    "indices = np.arange(encoder_input.shape[0]) # indices에 인코더를 넣어준다. input shape를 맞춰줘야 한다.\n",
    "np.random.shuffle(indices) # 랜덤하게 섞어서 과적합을 막는 용도???\n",
    "print(\"Indices are :\", +  indices)\n",
    "\n",
    "\n",
    "\n",
    "# encoder input과 decoder target을 설정한다.\n",
    "encoder_input = encoder_input[indices]\n",
    "decoder_input = decoder_input[indices]\n",
    "decoder_target = decoder_target[indices]\n",
    "\n",
    "n_of_val = int(len(encoder_input)*0.2)\n",
    "print('\\n테스트 데이터의 수 :', n_of_val)\n",
    "\n",
    "\n",
    "\n",
    "\n",
    "# train_set으로 만들어준다! (encoder_input과 decoder_target을 가지고)\n",
    "# Q: 왜 decoder target이 필요할까??\n",
    "encoder_input_train = encoder_input[:-n_of_val]\n",
    "decoder_input_train = decoder_input[:-n_of_val]\n",
    "decoder_target_train = decoder_target[:-n_of_val]\n",
    "\n",
    "# test_set 을 만들어준다! (encoder_input과 decoder_target을 가지고)\n",
    "encoder_input_test = encoder_input[-n_of_val:]\n",
    "decoder_input_test = decoder_input[-n_of_val:]\n",
    "decoder_target_test = decoder_target[-n_of_val:]\n",
    "\n",
    "print('훈련 데이터의 개수 :', len(encoder_input_train))\n",
    "print('훈련 레이블의 개수 :', len(decoder_input_train))\n",
    "print('테스트 데이터의 개수 :', len(encoder_input_test))\n",
    "print('테스트 레이블의 개수 :', len(decoder_input_test))"
   ]
  },
  {
   "cell_type": "markdown",
   "id": "psychological-germany",
   "metadata": {},
   "source": [
    "### 2.9 정수 인코딩\n",
    "\n",
    "1. Tokenizer() = 텍스트를 토큰화\n",
    "\n",
    "\n",
    "2. fit_on_texts() = 입력 데이터로부터 단어 집합 생성, 각 단어에 고유한 정수가 부여\n",
    "\n",
    "\n",
    "3. word_index = 생성된 단어 집합\n",
    "\n",
    "\n",
    "4. word_counts = 각 단어와 그 단어의 등장 빈도수가 저장되어있는 딕셔너리\n",
    "\n",
    "\n",
    "5. texts_to_sequences() = 생성된 단어 집합에 기반하여 입력으로 주어진 텍스트 데이터의 단어들을 모두 정수로 변환하는 정수 인코딩을 수행한다."
   ]
  },
  {
   "cell_type": "code",
   "execution_count": 75,
   "id": "desperate-conservative",
   "metadata": {},
   "outputs": [],
   "source": [
    "src_tokenizer = Tokenizer() # 토크나이저 정의 (src를 사용)\n",
    "src_tokenizer.fit_on_texts(encoder_input_train) # encoder에서 입력된 데이터로부터 단어 집합 생성 "
   ]
  },
  {
   "cell_type": "code",
   "execution_count": 76,
   "id": "bearing-motor",
   "metadata": {},
   "outputs": [
    {
     "name": "stdout",
     "output_type": "stream",
     "text": [
      "단어 집합(vocabulary)의 크기 : 88807\n",
      "등장 빈도가 8번 이하인 희귀 단어의 수: 67952\n",
      "단어 집합에서 희귀 단어를 제외시킬 경우의 단어 집합의 크기 20855\n",
      "단어 집합에서 희귀 단어의 비율: 76.51649081716532\n",
      "전체 등장 빈도에서 희귀 단어 등장 빈도 비율: 3.383274863477273\n"
     ]
    }
   ],
   "source": [
    "# 빈도수가 낮은 단어들은 훈련 데이터에서 제외하고 진행\n",
    "threshold = 9\n",
    "total_cnt = len(src_tokenizer.word_index) # 단어의 수\n",
    "rare_cnt = 0 # 등장 빈도수가 threshold보다 작은 단어의 개수를 카운트\n",
    "total_freq = 0 # 훈련 데이터의 전체 단어 빈도수 총 합\n",
    "rare_freq = 0 # 등장 빈도수가 threshold보다 작은 단어의 등장 빈도수의 총 합\n",
    "\n",
    "# 단어와 빈도수의 쌍(pair)을 key와 value로 받는다.\n",
    "for key, value in src_tokenizer.word_counts.items():\n",
    "    total_freq = total_freq + value\n",
    "\n",
    "    # 단어의 등장 빈도수가 threshold보다 작으면\n",
    "    if(value < threshold):\n",
    "        rare_cnt = rare_cnt + 1\n",
    "        rare_freq = rare_freq + value\n",
    "\n",
    "print('단어 집합(vocabulary)의 크기 :', total_cnt)\n",
    "print('등장 빈도가 %s번 이하인 희귀 단어의 수: %s'%(threshold - 1, rare_cnt))\n",
    "print('단어 집합에서 희귀 단어를 제외시킬 경우의 단어 집합의 크기 %s'%(total_cnt - rare_cnt))\n",
    "print(\"단어 집합에서 희귀 단어의 비율:\", (rare_cnt / total_cnt)*100)\n",
    "print(\"전체 등장 빈도에서 희귀 단어 등장 빈도 비율:\", (rare_freq / total_freq)*100)"
   ]
  },
  {
   "cell_type": "code",
   "execution_count": 77,
   "id": "known-lunch",
   "metadata": {},
   "outputs": [],
   "source": [
    "# 단어 집합에서 희귀 단어를 제외시킬 경우의 단어 집합의 크기는 20838이다.\n",
    "src_vocab = 20838\n",
    "src_tokenizer = Tokenizer(num_words=src_vocab) # 단어 집합의 크기를 20838으로 제한\n",
    "src_tokenizer.fit_on_texts(encoder_input_train) # 단어 집합 재생성. (encoder를 사용)"
   ]
  },
  {
   "cell_type": "code",
   "execution_count": 78,
   "id": "impaired-stack",
   "metadata": {},
   "outputs": [
    {
     "name": "stdout",
     "output_type": "stream",
     "text": [
      "[[64, 17, 506, 2, 675, 255, 58, 198, 132, 377, 16, 106, 58, 2134, 290, 116, 24, 506, 2, 1, 2125, 3663, 675, 2139, 1, 3533, 10030, 389, 346, 2, 1475, 666, 6, 3871, 118, 132, 5798, 222, 4, 1, 17802, 1043, 1175, 1, 5, 152, 290, 1, 2139, 12, 266, 7, 644, 124, 37, 31], [1, 382, 23, 5025, 18, 2, 1834, 5200, 4796, 19, 1, 141, 4835, 1, 1158, 268, 1, 1834, 1089, 29, 12, 48, 174, 4, 15584, 23, 25, 430, 18, 644, 589, 69, 1, 73, 105, 305, 2363, 2042, 23, 2108, 1, 382, 51, 10, 1, 73, 2363, 23, 25, 62, 5, 1, 339, 189, 3070, 937, 1460], [1, 323, 978, 5, 1, 273, 2483, 278, 693, 8, 30, 163, 20, 538, 765, 205, 1475, 1, 254, 1898, 5, 3, 420, 6, 336, 16, 144, 1, 1306, 308, 702, 43, 33, 5685, 90, 727, 4, 1, 405, 591, 2910, 794, 3810, 2, 6186, 16, 50, 11, 787, 1, 189]]\n"
     ]
    }
   ],
   "source": [
    "# 텍스트 시퀀스를 정수 시퀀스로 변환\n",
    "encoder_input_train = src_tokenizer.texts_to_sequences(encoder_input_train) \n",
    "encoder_input_test = src_tokenizer.texts_to_sequences(encoder_input_test)\n",
    "\n",
    "# 잘 진행되었는지 샘플 출력\n",
    "print(encoder_input_train[:3])"
   ]
  },
  {
   "cell_type": "code",
   "execution_count": 79,
   "id": "noted-chicago",
   "metadata": {},
   "outputs": [
    {
     "name": "stdout",
     "output_type": "stream",
     "text": [
      "단어 집합(vocabulary)의 크기 : 29462\n",
      "등장 빈도가 8번 이하인 희귀 단어의 수: 21543\n",
      "단어 집합에서 희귀 단어를 제외시킬 경우의 단어 집합의 크기 7919\n",
      "단어 집합에서 희귀 단어의 비율: 73.1213088045618\n",
      "전체 등장 빈도에서 희귀 단어 등장 빈도 비율: 6.9922732425848055\n"
     ]
    }
   ],
   "source": [
    "# 헤드라인 데이터에도 동일한 작업 수행\n",
    "tar_tokenizer = Tokenizer() # target tokenizer\n",
    "tar_tokenizer.fit_on_texts(decoder_input_train) # decoder train\n",
    "\n",
    "\n",
    "\n",
    "threshold = 9\n",
    "total_cnt = len(tar_tokenizer.word_index) # 단어의 수\n",
    "rare_cnt = 0 # 등장 빈도수가 threshold보다 작은 단어의 개수를 카운트\n",
    "total_freq = 0 # 훈련 데이터의 전체 단어 빈도수 총 합\n",
    "rare_freq = 0 # 등장 빈도수가 threshold보다 작은 단어의 등장 빈도수의 총 합\n",
    "\n",
    "# 단어와 빈도수의 쌍(pair)을 key와 value로 받는다.\n",
    "for key, value in tar_tokenizer.word_counts.items():\n",
    "    total_freq = total_freq + value\n",
    "\n",
    "    # 단어의 등장 빈도수가 threshold보다 작으면\n",
    "    if(value < threshold):\n",
    "        rare_cnt = rare_cnt + 1\n",
    "        rare_freq = rare_freq + value\n",
    "\n",
    "print('단어 집합(vocabulary)의 크기 :', total_cnt)\n",
    "print('등장 빈도가 %s번 이하인 희귀 단어의 수: %s'%(threshold - 1, rare_cnt))\n",
    "print('단어 집합에서 희귀 단어를 제외시킬 경우의 단어 집합의 크기 %s'%(total_cnt - rare_cnt))\n",
    "print(\"단어 집합에서 희귀 단어의 비율:\", (rare_cnt / total_cnt)*100)\n",
    "print(\"전체 등장 빈도에서 희귀 단어 등장 빈도 비율:\", (rare_freq / total_freq)*100)"
   ]
  },
  {
   "cell_type": "code",
   "execution_count": 80,
   "id": "speaking-scotland",
   "metadata": {},
   "outputs": [
    {
     "name": "stdout",
     "output_type": "stream",
     "text": [
      "input  [[1, 23, 1447, 42, 41, 1033, 373, 429, 192, 1497], [1, 82, 3, 4471, 12, 3, 1222, 3245, 10, 1411], [1, 368, 826, 6, 1089, 363, 1753], [1, 295, 727, 24, 3, 171, 786, 509, 2762], [1, 75, 31, 20, 549, 38, 9, 980, 208, 4, 51]]\n",
      "decoder  [[23, 1447, 42, 41, 1033, 373, 429, 192, 1497, 2], [82, 3, 4471, 12, 3, 1222, 3245, 10, 1411, 2], [368, 826, 6, 1089, 363, 1753, 2], [295, 727, 24, 3, 171, 786, 509, 2762, 2], [75, 31, 20, 549, 38, 9, 980, 208, 4, 51, 2]]\n"
     ]
    }
   ],
   "source": [
    "# 단어 집합에서 희귀 단어를 제외시킬 경우의 단어 집합의 크기 7919\n",
    "tar_vocab = 7919\n",
    "tar_tokenizer = Tokenizer(num_words=tar_vocab) \n",
    "tar_tokenizer.fit_on_texts(decoder_input_train)\n",
    "tar_tokenizer.fit_on_texts(decoder_target_train)\n",
    "\n",
    "# 텍스트 시퀀스를 정수 시퀀스로 변환\n",
    "decoder_input_train = tar_tokenizer.texts_to_sequences(decoder_input_train) \n",
    "decoder_target_train = tar_tokenizer.texts_to_sequences(decoder_target_train)\n",
    "decoder_input_test = tar_tokenizer.texts_to_sequences(decoder_input_test)\n",
    "decoder_target_test = tar_tokenizer.texts_to_sequences(decoder_target_test)\n",
    "\n",
    "# 잘 변환되었는지 확인\n",
    "print('input ',decoder_input_train[:5])\n",
    "print('decoder ',decoder_target_train[:5])"
   ]
  },
  {
   "cell_type": "code",
   "execution_count": 81,
   "id": "unauthorized-model",
   "metadata": {
    "scrolled": true
   },
   "outputs": [
    {
     "name": "stdout",
     "output_type": "stream",
     "text": [
      "삭제할 훈련 데이터의 개수 : 0\n",
      "삭제할 테스트 데이터의 개수 : 0\n"
     ]
    },
    {
     "name": "stderr",
     "output_type": "stream",
     "text": [
      "/opt/conda/lib/python3.7/site-packages/numpy/core/_asarray.py:83: VisibleDeprecationWarning: Creating an ndarray from ragged nested sequences (which is a list-or-tuple of lists-or-tuples-or ndarrays with different lengths or shapes) is deprecated. If you meant to do this, you must specify 'dtype=object' when creating the ndarray\n",
      "  return array(a, dtype, copy=False, order=order)\n"
     ]
    },
    {
     "name": "stdout",
     "output_type": "stream",
     "text": [
      "훈련 데이터의 개수 : 73598\n",
      "훈련 레이블의 개수 : 73598\n",
      "테스트 데이터의 개수 : 18399\n",
      "테스트 레이블의 개수 : 18399\n"
     ]
    }
   ],
   "source": [
    "# 결측치 제거 - eostoken만 남은 경우를 제거한다. 아마 없을 것이다\n",
    "drop_train = [index for index, sentence in enumerate(decoder_input_train) if len(sentence) == 1]\n",
    "drop_test = [index for index, sentence in enumerate(decoder_input_test) if len(sentence) == 1]\n",
    "\n",
    "print('삭제할 훈련 데이터의 개수 :', len(drop_train))\n",
    "print('삭제할 테스트 데이터의 개수 :', len(drop_test))\n",
    "\n",
    "encoder_input_train = np.delete(encoder_input_train, drop_train, axis=0)\n",
    "decoder_input_train = np.delete(decoder_input_train, drop_train, axis=0)\n",
    "decoder_target_train = np.delete(decoder_target_train, drop_train, axis=0)\n",
    "\n",
    "encoder_input_test = np.delete(encoder_input_test, drop_test, axis=0)\n",
    "decoder_input_test = np.delete(decoder_input_test, drop_test, axis=0)\n",
    "decoder_target_test = np.delete(decoder_target_test, drop_test, axis=0)\n",
    "\n",
    "print('훈련 데이터의 개수 :', len(encoder_input_train))\n",
    "print('훈련 레이블의 개수 :', len(decoder_input_train))\n",
    "print('테스트 데이터의 개수 :', len(encoder_input_test))\n",
    "print('테스트 레이블의 개수 :', len(decoder_input_test))"
   ]
  },
  {
   "cell_type": "markdown",
   "id": "incredible-washer",
   "metadata": {},
   "source": [
    "### Padding\n",
    "\n",
    "encoder의 경우, padding을 뒤에 넣으면 context vector가 희석되므로 앞에 padding을 넣습니다"
   ]
  },
  {
   "cell_type": "code",
   "execution_count": 83,
   "id": "behavioral-eugene",
   "metadata": {},
   "outputs": [],
   "source": [
    "encoder_input_train = pad_sequences(encoder_input_train, maxlen=text_max_len, padding='pre')\n",
    "encoder_input_test = pad_sequences(encoder_input_test, maxlen=text_max_len, padding='pre')\n",
    "decoder_input_train = pad_sequences(decoder_input_train, maxlen=headline_max_len, padding='post')\n",
    "decoder_target_train = pad_sequences(decoder_target_train, maxlen=headline_max_len, padding='post')\n",
    "decoder_input_test = pad_sequences(decoder_input_test, maxlen=headline_max_len, padding='post')\n",
    "decoder_target_test = pad_sequences(decoder_target_test, maxlen=headline_max_len, padding='post')"
   ]
  },
  {
   "cell_type": "markdown",
   "id": "private-receptor",
   "metadata": {},
   "source": [
    "## 3. 어텐션 메커니즘 사용하기 (추상적 요약)\n",
    "\n",
    "\n",
    "\n",
    "1. Encoder 설계\n",
    "2. Decoder 설계\n",
    "3. Attention 적용\n",
    "4. 인퍼런스 모델\n",
    "\n",
    "\n",
    "\n",
    "### 3.1 Encoder 설계\n",
    "\n",
    "#### INPUT\n",
    "\n",
    "    text_max_len = 50\n",
    "\n",
    "#### Embedding\n",
    "\n",
    "    src_vocab = 10838, embedding_dim = 128\n",
    "\n",
    "\n",
    "\n",
    "\n",
    "### LSTM\n",
    "\n",
    "##### hidden_state : LSTM에서 얼만큼의 수용력(Capacity)를 가질지를 정하는 파라미터\n",
    " -  이 파라미터는 LSTM의 용량의 크기나, LSTM에서의 뉴런의 개수 다른 신경망과 마찬가지로 무조건 용량을 많이 준다고 해서 성능이 반드시 올라가지는 않는다.\n",
    "\n",
    "\n",
    "##### return_sequences : 시퀀스 출력 여부\n",
    "return_sequences = True로 설정할 경우 각 time step별 hidden state를 모두 출력하게 된다. Attention을 사용할 때 주로 설정한다.\n",
    "\n",
    "\n",
    "##### return_state : 시퀀스 출력 여부\n",
    "return_state = True 를 한 경우에는 마지막 time step에서의 output(hidden state), hidden state와 cell state가 출력된다\n",
    "\n",
    "\n",
    "##### dropout\n",
    "0과 1사이 부동소수점. 인풋의 선형적 변형을 실행하는데 드롭시킬(고려하지 않을) 유닛의 비율.\n",
    "\n",
    "\n",
    "##### recurrent_dropout\n",
    "\n",
    " - 0과 1사이 부동소수점. 순환 상태의 선형적 변형을 실행하는데 드롭시킬(고려하지 않을) 유닛의 비율.\n",
    "\n",
    "1. 'encoder_lstm1 = LSTM(hidden_size, return_sequences=True, return_state=True, dropout=0.4, recurrent_dropout=0.4)'\n",
    "\n",
    "2. 'encoder_lstm2 = LSTM(hidden_size, return_sequences=True, return_state=True, dropout=0.4, recurrent_dropout=0.4)'\n",
    "\n",
    "3. 'encoder_lstm3 = LSTM(hidden_size, return_sequences=True, return_state=True, dropout=0.4, recurrent_dropout=0.4)'"
   ]
  },
  {
   "cell_type": "code",
   "execution_count": 84,
   "id": "downtown-netherlands",
   "metadata": {},
   "outputs": [
    {
     "name": "stdout",
     "output_type": "stream",
     "text": [
      "WARNING:tensorflow:Layer lstm will not use cuDNN kernel since it doesn't meet the cuDNN kernel criteria. It will use generic GPU kernel as fallback when running on GPU\n",
      "WARNING:tensorflow:Layer lstm_1 will not use cuDNN kernel since it doesn't meet the cuDNN kernel criteria. It will use generic GPU kernel as fallback when running on GPU\n",
      "WARNING:tensorflow:Layer lstm_2 will not use cuDNN kernel since it doesn't meet the cuDNN kernel criteria. It will use generic GPU kernel as fallback when running on GPU\n"
     ]
    }
   ],
   "source": [
    "from tensorflow.keras.layers import Input, LSTM, Embedding, Dense, Concatenate\n",
    "from tensorflow.keras.models import Model\n",
    "from tensorflow.keras.callbacks import EarlyStopping, ModelCheckpoint\n",
    "\n",
    "# 인코더 설계 시작\n",
    "embedding_dim = 128\n",
    "hidden_size = 256\n",
    "\n",
    "# 인코더 (40,)\n",
    "encoder_inputs = Input(shape=(text_max_len,))\n",
    "\n",
    "# 인코더의 임베딩 층 (20000, 128)\n",
    "enc_emb = Embedding(src_vocab, embedding_dim)(encoder_inputs)\n",
    "\n",
    "# 인코더의 LSTM 1\n",
    "encoder_lstm1 = LSTM(hidden_size, return_sequences=True, return_state=True, dropout=0.4, recurrent_dropout=0.4)\n",
    "encoder_output1, state_h1, state_c1 = encoder_lstm1(enc_emb)\n",
    "\n",
    "# 인코더의 LSTM 2\n",
    "encoder_lstm2 = LSTM(hidden_size, return_sequences=True, return_state=True, dropout=0.4, recurrent_dropout=0.4)\n",
    "encoder_output2, state_h2, state_c2 = encoder_lstm2(encoder_output1)\n",
    "\n",
    "# 인코더의 LSTM 3\n",
    "encoder_lstm3 = LSTM(hidden_size, return_sequences=True, return_state=True, dropout=0.4, recurrent_dropout=0.4)\n",
    "encoder_outputs, state_h, state_c = encoder_lstm3(encoder_output2)"
   ]
  },
  {
   "cell_type": "markdown",
   "id": "appropriate-climate",
   "metadata": {},
   "source": [
    "### 3.2 Decoder 설계\n",
    "디코더의 임베딩 층과 LSTM을 설계하는 것은 인코더와 거의 동일하다.\n",
    "\n",
    "하지만 LSTM의 입력을 정의할 때, initial_state의 인자값으로 인코더의 hidden state와 cell state의 값을 넣어줘야한다.\n",
    "\n",
    "\n",
    "\n",
    "##### INPUT\n",
    "\n",
    "    shape=(None,)\n",
    "\n",
    "##### Embedding\n",
    "\n",
    "    tar_vocab = 9700, embedding_dim = 128\n",
    "\n",
    "#### LSTM\n",
    "\n",
    "    1. decoder_lstm = LSTM(hidden_size, return_sequences=True, return_state=True, dropout=0.4, recurrent_dropout=0.2)\n",
    "\n",
    "\n",
    "\n",
    "#### 출력층\n",
    "디코더의 출력층에서는 다중 클래스 분류 문제를 풀어하므로 Dense의 인자로 tar_vocab을 주고, 활성화 함수로 소프트맥스 함수를 사용한다.\n",
    "\n",
    "지금까지 설계한 것은 인코더의 hidden state와 cell state를 디코더의 초기 state로 사용하는 가장 기본적인 seq2seq 구조다.\n",
    "\n",
    "그런데 디코더의 출력층을 설계를 살짝 바꿔서 성능을 높일 수 있는 방법이 있는데 바로 \n",
    "**어텐션** 메커니즘이다"
   ]
  },
  {
   "cell_type": "code",
   "execution_count": 85,
   "id": "pressing-presence",
   "metadata": {},
   "outputs": [
    {
     "name": "stdout",
     "output_type": "stream",
     "text": [
      "WARNING:tensorflow:Layer lstm_3 will not use cuDNN kernel since it doesn't meet the cuDNN kernel criteria. It will use generic GPU kernel as fallback when running on GPU\n"
     ]
    }
   ],
   "source": [
    "# 디코더 설계\n",
    "decoder_inputs = Input(shape=(None,))\n",
    "\n",
    "# 디코더의 임베딩 층\n",
    "dec_emb_layer = Embedding(tar_vocab, embedding_dim)\n",
    "dec_emb = dec_emb_layer(decoder_inputs)\n",
    "\n",
    "# 디코더의 LSTM\n",
    "decoder_lstm = LSTM(hidden_size, return_sequences=True, return_state=True, dropout=0.4, recurrent_dropout=0.2)\n",
    "decoder_outputs, _, _ = decoder_lstm(dec_emb, initial_state=[state_h, state_c])"
   ]
  },
  {
   "cell_type": "code",
   "execution_count": 89,
   "id": "strange-mention",
   "metadata": {
    "scrolled": true
   },
   "outputs": [
    {
     "name": "stdout",
     "output_type": "stream",
     "text": [
      "Model: \"model_2\"\n",
      "__________________________________________________________________________________________________\n",
      "Layer (type)                    Output Shape         Param #     Connected to                     \n",
      "==================================================================================================\n",
      "input_1 (InputLayer)            [(None, 60)]         0                                            \n",
      "__________________________________________________________________________________________________\n",
      "embedding (Embedding)           (None, 60, 128)      2667264     input_1[0][0]                    \n",
      "__________________________________________________________________________________________________\n",
      "lstm (LSTM)                     [(None, 60, 256), (N 394240      embedding[0][0]                  \n",
      "__________________________________________________________________________________________________\n",
      "input_2 (InputLayer)            [(None, None)]       0                                            \n",
      "__________________________________________________________________________________________________\n",
      "lstm_1 (LSTM)                   [(None, 60, 256), (N 525312      lstm[0][0]                       \n",
      "__________________________________________________________________________________________________\n",
      "embedding_1 (Embedding)         (None, None, 128)    1013632     input_2[0][0]                    \n",
      "__________________________________________________________________________________________________\n",
      "lstm_2 (LSTM)                   [(None, 60, 256), (N 525312      lstm_1[0][0]                     \n",
      "__________________________________________________________________________________________________\n",
      "lstm_3 (LSTM)                   [(None, None, 256),  394240      embedding_1[0][0]                \n",
      "                                                                 lstm_2[0][1]                     \n",
      "                                                                 lstm_2[0][2]                     \n",
      "__________________________________________________________________________________________________\n",
      "dense_2 (Dense)                 (None, None, 7919)   2035183     lstm_3[0][0]                     \n",
      "==================================================================================================\n",
      "Total params: 7,555,183\n",
      "Trainable params: 7,555,183\n",
      "Non-trainable params: 0\n",
      "__________________________________________________________________________________________________\n"
     ]
    }
   ],
   "source": [
    "# 디코더의 출력층\n",
    "decoder_softmax_layer = Dense(tar_vocab, activation='softmax')\n",
    "decoder_softmax_outputs = decoder_softmax_layer(decoder_outputs)\n",
    "\n",
    "# 모델 정의\n",
    "model = Model([encoder_inputs, decoder_inputs], decoder_softmax_outputs)\n",
    "model.summary()"
   ]
  },
  {
   "attachments": {
    "image.png": {
     "image/png": "[encoded data removed]"
    }
   },
   "cell_type": "markdown",
   "id": "golden-recovery",
   "metadata": {},
   "source": [
    "### 3.3  Attention 적용\n",
    "\n",
    "일반적인 seq2seq보다는 어텐션 메커니즘을 사용한 seq2seq를 사용하는 것이 더 나은 성능을 얻을 수 있다.\n",
    "\n",
    "![image.png](attachment:image.png)\n"
   ]
  },
  {
   "cell_type": "code",
   "execution_count": 87,
   "id": "behind-pressing",
   "metadata": {},
   "outputs": [],
   "source": [
    "urllib.request.urlretrieve(\"https://raw.githubusercontent.com/thushv89/attention_keras/master/src/layers/attention.py\", filename=\"attention.py\")\n",
    "from attention import AttentionLayer"
   ]
  },
  {
   "cell_type": "code",
   "execution_count": 92,
   "id": "systematic-honey",
   "metadata": {},
   "outputs": [
    {
     "name": "stdout",
     "output_type": "stream",
     "text": [
      "Model: \"model_4\"\n",
      "__________________________________________________________________________________________________\n",
      "Layer (type)                    Output Shape         Param #     Connected to                     \n",
      "==================================================================================================\n",
      "input_1 (InputLayer)            [(None, 60)]         0                                            \n",
      "__________________________________________________________________________________________________\n",
      "embedding (Embedding)           (None, 60, 128)      2667264     input_1[0][0]                    \n",
      "__________________________________________________________________________________________________\n",
      "lstm (LSTM)                     [(None, 60, 256), (N 394240      embedding[0][0]                  \n",
      "__________________________________________________________________________________________________\n",
      "input_2 (InputLayer)            [(None, None)]       0                                            \n",
      "__________________________________________________________________________________________________\n",
      "lstm_1 (LSTM)                   [(None, 60, 256), (N 525312      lstm[0][0]                       \n",
      "__________________________________________________________________________________________________\n",
      "embedding_1 (Embedding)         (None, None, 128)    1013632     input_2[0][0]                    \n",
      "__________________________________________________________________________________________________\n",
      "lstm_2 (LSTM)                   [(None, 60, 256), (N 525312      lstm_1[0][0]                     \n",
      "__________________________________________________________________________________________________\n",
      "lstm_3 (LSTM)                   [(None, None, 256),  394240      embedding_1[0][0]                \n",
      "                                                                 lstm_2[0][1]                     \n",
      "                                                                 lstm_2[0][2]                     \n",
      "__________________________________________________________________________________________________\n",
      "attention_layer (AttentionLayer ((None, None, 256),  131328      lstm_2[0][0]                     \n",
      "                                                                 lstm_3[0][0]                     \n",
      "__________________________________________________________________________________________________\n",
      "concat_layer (Concatenate)      (None, None, 512)    0           lstm_3[0][0]                     \n",
      "                                                                 attention_layer[0][0]            \n",
      "__________________________________________________________________________________________________\n",
      "dense_4 (Dense)                 (None, None, 7919)   4062447     concat_layer[0][0]               \n",
      "==================================================================================================\n",
      "Total params: 9,713,775\n",
      "Trainable params: 9,713,775\n",
      "Non-trainable params: 0\n",
      "__________________________________________________________________________________________________\n"
     ]
    }
   ],
   "source": [
    "# 어텐션 층(어텐션 함수)\n",
    "attn_layer = AttentionLayer(name='attention_layer')\n",
    "# 인코더와 디코더의 모든 time step의 hidden state를 어텐션 층에 전달하고 결과를 리턴\n",
    "attn_out, attn_states = attn_layer([encoder_outputs, decoder_outputs])\n",
    "\n",
    "# 어텐션의 결과와 디코더의 hidden state들을 연결\n",
    "decoder_concat_input = Concatenate(axis=-1, name='concat_layer')([decoder_outputs, attn_out])\n",
    "\n",
    "# 디코더의 출력층\n",
    "decoder_softmax_layer = Dense(tar_vocab, activation='softmax')\n",
    "decoder_softmax_outputs = decoder_softmax_layer(decoder_concat_input)\n",
    "\n",
    "# 모델 정의\n",
    "model = Model([encoder_inputs, decoder_inputs], decoder_softmax_outputs)\n",
    "model.summary()"
   ]
  },
  {
   "cell_type": "code",
   "execution_count": 93,
   "id": "extreme-guarantee",
   "metadata": {},
   "outputs": [
    {
     "name": "stdout",
     "output_type": "stream",
     "text": [
      "Epoch 1/50\n",
      "288/288 [==============================] - 280s 930ms/step - loss: 6.0520 - val_loss: 5.4269\n",
      "Epoch 2/50\n",
      "288/288 [==============================] - 272s 943ms/step - loss: 5.3297 - val_loss: 5.0323\n",
      "Epoch 3/50\n",
      "288/288 [==============================] - 265s 920ms/step - loss: 4.9349 - val_loss: 4.7471\n",
      "Epoch 4/50\n",
      "288/288 [==============================] - 265s 920ms/step - loss: 4.6239 - val_loss: 4.5061\n",
      "Epoch 5/50\n",
      "288/288 [==============================] - 265s 920ms/step - loss: 4.3778 - val_loss: 4.3530\n",
      "Epoch 6/50\n",
      "288/288 [==============================] - 265s 920ms/step - loss: 4.1782 - val_loss: 4.2299\n",
      "Epoch 7/50\n",
      "288/288 [==============================] - 265s 919ms/step - loss: 4.0178 - val_loss: 4.1279\n",
      "Epoch 8/50\n",
      "288/288 [==============================] - 265s 920ms/step - loss: 3.8762 - val_loss: 4.0605\n",
      "Epoch 9/50\n",
      "288/288 [==============================] - 265s 920ms/step - loss: 3.7470 - val_loss: 3.9832\n",
      "Epoch 10/50\n",
      "288/288 [==============================] - 265s 920ms/step - loss: 3.6334 - val_loss: 3.9198\n",
      "Epoch 11/50\n",
      "288/288 [==============================] - 265s 919ms/step - loss: 3.5227 - val_loss: 3.8690\n",
      "Epoch 12/50\n",
      "288/288 [==============================] - 265s 919ms/step - loss: 3.4330 - val_loss: 3.8277\n",
      "Epoch 13/50\n",
      "288/288 [==============================] - 265s 921ms/step - loss: 3.3503 - val_loss: 3.8038\n",
      "Epoch 14/50\n",
      "288/288 [==============================] - 265s 921ms/step - loss: 3.2726 - val_loss: 3.7617\n",
      "Epoch 15/50\n",
      "288/288 [==============================] - 265s 919ms/step - loss: 3.1992 - val_loss: 3.7365\n",
      "Epoch 16/50\n",
      "288/288 [==============================] - 265s 919ms/step - loss: 3.1340 - val_loss: 3.7220\n",
      "Epoch 17/50\n",
      "288/288 [==============================] - 265s 920ms/step - loss: 3.0667 - val_loss: 3.6961\n",
      "Epoch 18/50\n",
      "288/288 [==============================] - 265s 920ms/step - loss: 3.0106 - val_loss: 3.6874\n",
      "Epoch 19/50\n",
      "288/288 [==============================] - 265s 920ms/step - loss: 2.9552 - val_loss: 3.6630\n",
      "Epoch 20/50\n",
      "288/288 [==============================] - 265s 920ms/step - loss: 2.9135 - val_loss: 3.6613\n",
      "Epoch 21/50\n",
      "288/288 [==============================] - 265s 919ms/step - loss: 2.8650 - val_loss: 3.6413\n",
      "Epoch 22/50\n",
      "288/288 [==============================] - 265s 919ms/step - loss: 2.8117 - val_loss: 3.6268\n",
      "Epoch 23/50\n",
      "288/288 [==============================] - 265s 920ms/step - loss: 2.7744 - val_loss: 3.6208\n",
      "Epoch 24/50\n",
      "288/288 [==============================] - 265s 920ms/step - loss: 2.7362 - val_loss: 3.6171\n",
      "Epoch 25/50\n",
      "288/288 [==============================] - 265s 919ms/step - loss: 2.6988 - val_loss: 3.6186\n",
      "Epoch 26/50\n",
      "288/288 [==============================] - 266s 923ms/step - loss: 2.6615 - val_loss: 3.6041\n",
      "Epoch 27/50\n",
      "288/288 [==============================] - 265s 921ms/step - loss: 2.6289 - val_loss: 3.6050\n",
      "Epoch 28/50\n",
      "288/288 [==============================] - 265s 920ms/step - loss: 2.5974 - val_loss: 3.5985\n",
      "Epoch 29/50\n",
      "288/288 [==============================] - 266s 925ms/step - loss: 2.5628 - val_loss: 3.5999\n",
      "Epoch 30/50\n",
      "288/288 [==============================] - 265s 919ms/step - loss: 2.5325 - val_loss: 3.5983\n",
      "Epoch 31/50\n",
      "288/288 [==============================] - 265s 920ms/step - loss: 2.5009 - val_loss: 3.6000\n",
      "Epoch 32/50\n",
      "288/288 [==============================] - 265s 919ms/step - loss: 2.4712 - val_loss: 3.6030\n",
      "Epoch 00032: early stopping\n"
     ]
    }
   ],
   "source": [
    "# 모델 훈련\n",
    "model.compile(optimizer='rmsprop', loss='sparse_categorical_crossentropy')\n",
    "es = EarlyStopping(monitor='val_loss', patience=2, verbose=1)\n",
    "history = model.fit(x=[encoder_input_train, decoder_input_train],\n",
    "                    y=decoder_target_train,\n",
    "                    validation_data=(\n",
    "                        [encoder_input_test, decoder_input_test],decoder_target_test),\n",
    "                    batch_size=256,\n",
    "                    callbacks=[es],\n",
    "                    epochs=50)"
   ]
  },
  {
   "cell_type": "code",
   "execution_count": 94,
   "id": "hungarian-america",
   "metadata": {},
   "outputs": [],
   "source": [
    "# 6. 모델 저장하기\n",
    "from keras.models import load_model\n",
    "model.save('attention_seq2seq.h5')\n",
    "\n",
    "model.save_weights('news_summarizer_weights_1')"
   ]
  },
  {
   "cell_type": "code",
   "execution_count": 105,
   "id": "atmospheric-wells",
   "metadata": {},
   "outputs": [
    {
     "data": {
      "image/png": "[encoded data removed]",
      "text/plain": [
       "<Figure size 432x288 with 1 Axes>"
      ]
     },
     "metadata": {
      "needs_background": "light"
     },
     "output_type": "display_data"
    }
   ],
   "source": [
    "plt.plot(history.history['loss'], label='train')\n",
    "plt.plot(history.history['val_loss'], label='test')\n",
    "plt.legend()\n",
    "plt.show()"
   ]
  },
  {
   "cell_type": "markdown",
   "id": "guilty-repair",
   "metadata": {},
   "source": [
    "#### 4. 인퍼런스 모델 구현\n",
    "\n",
    "테스트 단계에서는 정수 인덱스 행렬로 존재하던 텍스트 데이터를 실제 데이터로 복원해야하므로, 필요한 3개의 사전을 아래와 같이 미리 준비해 둡니다."
   ]
  },
  {
   "cell_type": "code",
   "execution_count": 95,
   "id": "amateur-handle",
   "metadata": {},
   "outputs": [],
   "source": [
    "src_index_to_word = src_tokenizer.index_word # 원문 단어 집합에서 정수 -> 단어를 얻음\n",
    "tar_word_to_index = tar_tokenizer.word_index # 요약 단어 A집합에서 단어 -> 정수를 얻음\n",
    "tar_index_to_word = tar_tokenizer.index_word # 요약 단어 집합에서 정수 -> 단어를 얻음"
   ]
  },
  {
   "cell_type": "markdown",
   "id": "favorite-cambodia",
   "metadata": {},
   "source": [
    "**seq2seq는 훈련할 때와 실제 동작할 때(인퍼런스 단계)의 방식이 다르므로 그에 맞게 모델 설계를 별개로 진행해야 한다**\n",
    "\n",
    "\n",
    "훈련 단계\n",
    "\n",
    " - 디코더의 입력부에 정답이 되는 문장 전체를 한꺼번에 넣고 디코더의 출력과 한 번에 비교할 수 있으므로, 인코더와 디코더를 엮은 통짜 모델 하나만 준비했다.\n",
    "\n",
    "\n",
    "인퍼런스 단계\n",
    "\n",
    " - 정답 문장이 없는 인퍼런스 단계에서는 만들어야 할 문장의 길이만큼 디코더가 반복 구조로 동작해야 하기 때문에 부득이하게 인퍼런스를 위한 모델 설계를 별도로 해주어야 합니다. 이때는 인코더 모델과 디코더 모델을 분리해서 설계합니다."
   ]
  },
  {
   "cell_type": "code",
   "execution_count": 96,
   "id": "naval-representation",
   "metadata": {},
   "outputs": [],
   "source": [
    "# 인코더 설계\n",
    "encoder_model = Model(inputs=encoder_inputs, outputs=[encoder_outputs, state_h, state_c])\n",
    "\n",
    "# 이전 시점의 상태들을 저장하는 텐서\n",
    "decoder_state_input_h = Input(shape=(hidden_size,))\n",
    "decoder_state_input_c = Input(shape=(hidden_size,))\n",
    "\n",
    "dec_emb2 = dec_emb_layer(decoder_inputs)\n",
    "\n",
    "# 문장의 다음 단어를 예측하기 위해서 초기 상태(initial_state)를 이전 시점의 상태로 사용. 이는 뒤의 함수 decode_sequence()에 구현\n",
    "# 훈련 과정에서와 달리 LSTM의 리턴하는 은닉 상태와 셀 상태인 state_h와 state_c를 버리지 않음.\n",
    "decoder_outputs2, state_h2, state_c2 = decoder_lstm(dec_emb2, initial_state=[decoder_state_input_h, decoder_state_input_c])"
   ]
  },
  {
   "cell_type": "code",
   "execution_count": 97,
   "id": "mathematical-nashville",
   "metadata": {},
   "outputs": [],
   "source": [
    "# 어텐션 메커니즘을 사용하는 출력층을 설계\n",
    "\n",
    "\n",
    "# 어텐션 함수\n",
    "decoder_hidden_state_input = Input(shape=(text_max_len, hidden_size))\n",
    "attn_out_inf, attn_states_inf = attn_layer([decoder_hidden_state_input, decoder_outputs2])\n",
    "decoder_inf_concat = Concatenate(axis=-1, name='concat')([decoder_outputs2, attn_out_inf])\n",
    "\n",
    "# 디코더의 출력층\n",
    "decoder_outputs2 = decoder_softmax_layer(decoder_inf_concat) \n",
    "\n",
    "# 최종 디코더 모델\n",
    "decoder_model = Model(\n",
    "    [decoder_inputs] + [decoder_hidden_state_input,decoder_state_input_h, decoder_state_input_c],\n",
    "    [decoder_outputs2] + [state_h2, state_c2])"
   ]
  },
  {
   "cell_type": "code",
   "execution_count": 99,
   "id": "integrated-subcommittee",
   "metadata": {},
   "outputs": [],
   "source": [
    "def decode_sequence(input_seq):\n",
    "    # 입력으로부터 인코더의 상태를 얻음\n",
    "    e_out, e_h, e_c = encoder_model.predict(input_seq)\n",
    "\n",
    "     # <SOS>에 해당하는 토큰 생성\n",
    "    target_seq = np.zeros((1,1))\n",
    "    target_seq[0, 0] = tar_word_to_index['sostoken']\n",
    "\n",
    "    stop_condition = False\n",
    "    decoded_sentence = ''\n",
    "    while not stop_condition: # stop_condition이 True가 될 때까지 루프 반복\n",
    "\n",
    "        output_tokens, h, c = decoder_model.predict([target_seq] + [e_out, e_h, e_c])\n",
    "        sampled_token_index = np.argmax(output_tokens[0, -1, :])\n",
    "        sampled_token = tar_index_to_word[sampled_token_index]\n",
    "\n",
    "        if (sampled_token!='eostoken'):\n",
    "            decoded_sentence += ' '+sampled_token\n",
    "\n",
    "        #  <eos>에 도달하거나 최대 길이를 넘으면 중단.\n",
    "        if (sampled_token == 'eostoken'  or len(decoded_sentence.split()) >= (headline_max_len-1)):\n",
    "            stop_condition = True\n",
    "\n",
    "        # 길이가 1인 타겟 시퀀스를 업데이트\n",
    "        target_seq = np.zeros((1,1))\n",
    "        target_seq[0, 0] = sampled_token_index\n",
    "\n",
    "        # 상태를 업데이트 합니다.\n",
    "        e_h, e_c = h, c\n",
    "\n",
    "    return decoded_sentence"
   ]
  },
  {
   "cell_type": "markdown",
   "id": "competitive-regulation",
   "metadata": {},
   "source": [
    "#### 모델 테스트\n",
    "\n",
    "\n",
    "테스트 단계에서는 정수 시퀀스를 텍스트 시퀀스로 변환하여 결과를 확인하는 것이 편하겠죠. 주어진 정수 시퀀스를 텍스트 시퀀스로 변환하는 함수를 만들어볼게요. 함수를 만들 때, Text의 정수 시퀀스에서는 패딩을 위해 사용되는 숫자 0을 제외하고 Summary의 정수 시퀀스에서는 숫자 0, 시작 토큰의 인덱스, 종료 토큰의 인덱스를 출력에서 제외하도록 만들 거예요."
   ]
  },
  {
   "cell_type": "code",
   "execution_count": 100,
   "id": "hybrid-highlight",
   "metadata": {},
   "outputs": [],
   "source": [
    "# 원문의 정수 시퀀스를 텍스트 시퀀스로 변환\n",
    "def seq2text(input_seq):\n",
    "    temp=''\n",
    "    for i in input_seq:\n",
    "        if (i!=0):\n",
    "            temp = temp + src_index_to_word[i]+' '\n",
    "    return temp\n",
    "\n",
    "# 요약문의 정수 시퀀스를 텍스트 시퀀스로 변환\n",
    "def seq2summary(input_seq):\n",
    "    temp=''\n",
    "    for i in input_seq:\n",
    "        if ((i!=0 and i!=tar_word_to_index['sostoken']) and i!=tar_word_to_index['eostoken']):\n",
    "            temp = temp + tar_index_to_word[i] + ' '\n",
    "    return temp"
   ]
  },
  {
   "cell_type": "markdown",
   "id": "existing-nothing",
   "metadata": {},
   "source": [
    "## 4. 실제 결과와 요약문 비교하기 (추상적 요약)\n",
    "\n",
    "원래의 요약문(headlines 열)과 학습을 통해 얻은 추상적 요약의 결과를 비교한다."
   ]
  },
  {
   "cell_type": "code",
   "execution_count": 101,
   "id": "floppy-title",
   "metadata": {
    "scrolled": true
   },
   "outputs": [
    {
     "name": "stdout",
     "output_type": "stream",
     "text": [
      "원문 : the madhya pradesh education department has decided to replace marks with in the report cards of class 1 and 2 government school students the move aims to reduce stress caused by parents over marks students will be given one two or three depending on how well they have the subject reports said \n",
      "실제 Headline : to replace marks for class and kids in mp \n",
      "예측 Headline :  mp to introduce school for students in mp\n",
      "\n",
      "\n",
      "원문 : a drunk woman who was caught for rash driving started hugging and kissing a policeman after he approached her kolkata police said on thursday other policemen stopped her after seeking the help of another woman nearby the incident occurred around midnight and the accused in her late was taken to the police station with two other people accompanying her \n",
      "실제 Headline : kolkata woman caught for driving kisses policeman \n",
      "예측 Headline :  drunk woman denied drunk driving in up police station\n",
      "\n",
      "\n",
      "원문 : nearly 1 500 newspaper vendors have asked the authorities to stop the ongoing eviction drive against them which was started after 23 people were killed in a stampede at mumbai's elphinstone road railway station last month the vendors have also demanded the status of essential service providers as they are one of the communication channels between the government and people \n",
      "실제 Headline : mumbai newspaper seek protection from drive \n",
      "예측 Headline :  people use to stop food after stampede in stampede\n",
      "\n",
      "\n",
      "원문 : an anonymous person revealed on twitter that a singer was sexually harassed by lyricist and padma bhushan awardee the person revealed that the singer was asked to spend the night with and a producer at a hotel in chennai when she went to meet them after a recommendation the singer was promised an opportunity in the film \n",
      "실제 Headline : padma bhushan accused of sexually harassing singer \n",
      "예측 Headline :  was not sexually harassed by director\n",
      "\n",
      "\n",
      "원문 : of china has launched a campaign to train school and college students how to spot and catch foreign spies through easy to read books and lists of anti espionage techniques the books will reportedly have graphics comics and games like the earlier china encouraged citizens to join counter intelligence efforts by offering rewards of 10 000 to 500 000 yuan \n",
      "실제 Headline : china launches campaign to teach students how to catch spies \n",
      "예측 Headline :  china launches toilet students for students\n",
      "\n",
      "\n",
      "원문 : a mumbai court has ordered the sealing of fashion designer duo pradeep and neha apartment in bandra for defaulting on a ã¢ââ¹24 crore loan given by idbi bank as per a report the own the chain of fashion stores the 13 000 sq ft sealed property spread across five floors is worth at least ã¢ââ¹60 crore according to pradeep hirani \n",
      "실제 Headline : fashion designer duo default on crore idbi loan \n",
      "예측 Headline :  mumbai fashion designer unveiled at crore\n",
      "\n",
      "\n",
      "원문 : the centre is planning to withdraw its move to ban sale of cattle for slaughter in animal markets a senior official from the ministry of environment and forests said the official added that the order is being withdrawn due to several issues and will be revised this comes after the ministry reportedly sought feedback from states on the ban \n",
      "실제 Headline : govt plans to withdraw move to ban cattle sale for slaughter \n",
      "예측 Headline :  govt plans to ban sale of cattle sale in slaughter\n",
      "\n",
      "\n",
      "원문 : actress suri has alleged that director sajid khan sexually harassed her and asked her to strip in 2012 when he called her to his home for an audition for i'm the director i'll have to see your body suri quoted sajid as saying he put his finger on me and told me to show my she added \n",
      "실제 Headline : sajid asked me to strip during audition simran \n",
      "예측 Headline :  director slams weinstein for not making him\n",
      "\n",
      "\n",
      "원문 : the conflict between india and china in 1967 was triggered after china accused india of stealing sheep and from tibetan near the sikkim border india replied to the allegations saying the four had come to india for refuge and are free to go back to tibet at any time if they desire along with their animals \n",
      "실제 Headline : missing sheep and india china conflict \n",
      "예측 Headline :  india china slams india for failing to india\n",
      "\n",
      "\n",
      "원문 : iraq's supreme federal court ruled on monday that the constitution does not allow for the of any region or province from the country this comes after people in the kurdish region voted to from iraq in a referendum earlier this year iraq's central government had declared the independence bid illegal \n",
      "실제 Headline : iraq top court bans amid kurdish crisis \n",
      "예측 Headline :  no in india to be in us sc\n",
      "\n",
      "\n"
     ]
    }
   ],
   "source": [
    "for i in range(10):\n",
    "    print(\"원문 :\", seq2text(encoder_input_test[i]))\n",
    "    print(\"실제 Headline :\", seq2summary(decoder_input_test[i]))\n",
    "    print(\"예측 Headline :\", decode_sequence(encoder_input_test[i].reshape(1, text_max_len)))\n",
    "    print(\"\\n\")"
   ]
  },
  {
   "cell_type": "markdown",
   "id": "indirect-family",
   "metadata": {},
   "source": [
    "## 5. Summa을 이용해서 추출적 요약해보기\n",
    "\n",
    "추상적 요약은 추출적 요약과는 달리 문장의 표현력을 다양하게 가져갈 수 있지만, 추출적 요약에 비해서 난이도가 높다. 반대로 말하면 추출적 요약은 추상적 요약에 비해 난이도가 낮고 기존 문장에서 문장을 꺼내오는 것이므로 잘못된 요약이 나올 가능성이 낮다.\n",
    "\n",
    "Summa의 summarize()의 인자로 사용되는 값들에 대해서 알아본다.\n",
    "\n",
    "1. text (str) : 요약할 테스트.\n",
    "\n",
    "\n",
    "2. ratio (float, optional) – 요약문에서 원본에서 선택되는 문장 비율. 0~1 사이값\n",
    "\n",
    "\n",
    "3. words (int or None, optional) – 출력에 포함할 단어 수. 만약, ratio와 함께 두 파라미터가 모두 제공되는 경우 ratio는 무시한다.\n",
    "\n",
    "\n",
    "4. split (bool, optional) – True면 문장 list / False는 조인(join)된 문자열을 반환\n",
    "\n",
    "\n",
    "\n",
    "Summa의 summarize는 문장 토큰화를 별도로 하지 않더라도 내부적으로 문장 토큰화를 수행한다.. 그렇기 때문에 문장 구분이 되어있지 않은 원문을 바로 입력으로 넣을 수 있다. 비율을 적게 주어서 요약문으로 선택되는 문장의 개수를 줄여본다. 원문의 0.005%만을 출력하도록 설정했다."
   ]
  },
  {
   "cell_type": "code",
   "execution_count": 106,
   "id": "organizational-three",
   "metadata": {},
   "outputs": [],
   "source": [
    "\n",
    "import requests\n",
    "from summa.summarizer import summarize\n",
    "\n",
    "urllib.request.urlretrieve(\"https://raw.githubusercontent.com/sunnysai12345/News_Summary/master/news_summary_more.csv\", filename=\"news_summary_more.csv\")\n",
    "data = pd.read_csv('news_summary_more.csv', encoding='iso-8859-1')"
   ]
  },
  {
   "cell_type": "code",
   "execution_count": 107,
   "id": "sweet-compatibility",
   "metadata": {},
   "outputs": [
    {
     "name": "stdout",
     "output_type": "stream",
     "text": [
      "실제 HEADLINE :  upGrad learner switches to career in ML & Al with 90% salary hike\n",
      "추출적 요약 HEADLINE :  upGrad's Online Power Learning has powered 3 lakh+ careers.\n",
      "\n",
      "\n",
      "실제 HEADLINE :  Delhi techie wins free food from Swiggy for one year on CRED\n",
      "추출적 요약 HEADLINE :  Users get one CRED coin per rupee of bill paid, which can be used to avail rewards from brands like Ixigo, BookMyShow, UberEats, Cult.Fit and more.\n",
      "\n",
      "\n",
      "실제 HEADLINE :  New Zealand end Rohit Sharma-led India's 12-match winning streak\n",
      "추출적 요약 HEADLINE :  The match witnessed India getting all out for 92, their seventh lowest total in ODI cricket history.\n",
      "\n",
      "\n",
      "실제 HEADLINE :  Aegon life iTerm insurance plan helps customers save tax\n",
      "추출적 요약 HEADLINE :  Also, customers have options to insure against Critical Illnesses, Disability and Accidental Death Benefit Rider with a life cover up to the age of 80 years.\n",
      "\n",
      "\n",
      "실제 HEADLINE :  Have known Hirani for yrs, what if MeToo claims are not true: Sonam\n",
      "추출적 요약 HEADLINE :  Speaking about the sexual harassment allegations against Rajkumar Hirani, Sonam Kapoor said, \"I've known Hirani for many years...What if it's not true, the [#MeToo] movement will get derailed.\" \"In the #MeToo movement, I always believe a woman.\n",
      "\n",
      "\n",
      "실제 HEADLINE :  Rahat Fateh Ali Khan denies getting notice for smuggling currency\n",
      "추출적 요약 HEADLINE :  Pakistani singer Rahat Fateh Ali Khan has denied receiving any notice from the Enforcement Directorate over allegedly smuggling foreign currency out of India.\n",
      "\n",
      "\n",
      "실제 HEADLINE :  India get all out for 92, their lowest ODI total in New Zealand\n",
      "추출적 요약 HEADLINE :  India's previous lowest ODI total in New Zealand was 108.\n",
      "\n",
      "\n",
      "실제 HEADLINE :  Govt directs Alok Verma to join work 1 day before his retirement\n",
      "추출적 요약 HEADLINE :  Weeks after ex-CBI Director Alok Verma told the Department of Personnel and Training to consider him retired, the Home Ministry asked him to join work on the last day of his fixed tenure as Director on Thursday.\n",
      "\n",
      "\n",
      "실제 HEADLINE :  Called PM Modi 'sir' 10 times to satisfy his ego: Andhra CM\n",
      "추출적 요약 HEADLINE :  Andhra Pradesh CM N Chandrababu Naidu has said, \"When I met then US President Bill Clinton, I addressed him as Mr Clinton, not as 'sir'.\n",
      "\n",
      "\n",
      "실제 HEADLINE :  Cong wins Ramgarh bypoll in Rajasthan, takes total to 100 seats\n",
      "추출적 요약 HEADLINE :  Congress candidate Shafia Zubair won the Ramgarh Assembly seat in Rajasthan, by defeating BJP's Sukhwant Singh with a margin of 12,228 votes in the bypoll.\n",
      "\n",
      "\n"
     ]
    }
   ],
   "source": [
    "for i in range(10):\n",
    "    print(\"실제 HEADLINE : \", data['headlines'][i])\n",
    "    print(\"추출적 요약 HEADLINE : \", summarize(data['text'][i], ratio=0.5))\n",
    "    print(\"\\n\")"
   ]
  },
  {
   "cell_type": "code",
   "execution_count": null,
   "id": "reported-lawsuit",
   "metadata": {},
   "outputs": [],
   "source": []
  }
 ],
 "metadata": {
  "kernelspec": {
   "display_name": "Python 3",
   "language": "python",
   "name": "python3"
  },
  "language_info": {
   "codemirror_mode": {
    "name": "ipython",
    "version": 3
   },
   "file_extension": ".py",
   "mimetype": "text/x-python",
   "name": "python",
   "nbconvert_exporter": "python",
   "pygments_lexer": "ipython3",
   "version": "3.7.9"
  }
 },
 "nbformat": 4,
 "nbformat_minor": 5
}
